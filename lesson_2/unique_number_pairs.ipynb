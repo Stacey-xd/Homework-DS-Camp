{
 "cells": [
  {
   "cell_type": "code",
   "execution_count": null,
   "metadata": {},
   "outputs": [
    {
     "name": "stdout",
     "output_type": "stream",
     "text": [
      "Possible numbers:\n",
      "[2 | 6]\n",
      "[3 | 4]\n",
      "[4 | 6]\n",
      "[69 | 96]\n",
      "[77 | 96]\n",
      "[78 | 98]\n",
      "[80 | 90]\n",
      "[80 | 99]\n",
      "[84 | 88]\n",
      "[84 | 91]\n",
      "[88 | 90]\n"
     ]
    }
   ],
   "source": [
    "import numpy as np\n",
    "\n",
    "# Create all possible pairs of numbers (1 < a, b < 100)\n",
    "pairs = np.array([(a, b) for a in range(2, 100) for b in range(a + 1, 100)])\n",
    "\n",
    "# Compute all possible sums and products\n",
    "sums = pairs[:, 0] + pairs[:, 1]  \n",
    "products = pairs[:, 0] * pairs[:, 1]\n",
    "\n",
    "# Filter 1: Prod says \"I don't know the numbers\" (the product appears more than once)\n",
    "valid_products = {p for p, count in zip(*np.unique(products, return_counts=True)) if count > 1}\n",
    "valid_pairs = pairs[np.isin(products, list(valid_products))]\n",
    "\n",
    "# Filter 2: Sum says \"I know the numbers\" (the sum appears only once)\n",
    "valid_sums = {s for s, count in zip(*np.unique(valid_pairs[:, 0] + valid_pairs[:, 1], return_counts=True)) if count == 1}\n",
    "final_pairs = valid_pairs[np.isin(valid_pairs[:, 0] + valid_pairs[:, 1], list(valid_sums))]\n",
    "\n",
    "# Output results\n",
    "print(\"Possible numbers:\")\n",
    "for pair in final_pairs:\n",
    "    print(f\"[{pair[0]} | {pair[1]}]\")"
   ]
  },
  {
   "cell_type": "code",
   "execution_count": null,
   "metadata": {},
   "outputs": [],
   "source": []
  }
 ],
 "metadata": {
  "kernelspec": {
   "display_name": "Python 3 (ipykernel)",
   "language": "python",
   "name": "python3"
  }
 },
 "nbformat": 4,
 "nbformat_minor": 2
}
