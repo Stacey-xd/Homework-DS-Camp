{
 "cells": [
  {
   "cell_type": "code",
   "execution_count": 1,
   "metadata": {},
   "outputs": [
    {
     "name": "stdout",
     "output_type": "stream",
     "text": [
      "Unique pairing: [(4, 13)]\n"
     ]
    }
   ],
   "source": [
    "import numpy as np\n",
    "\n",
    "# Generate all valid pairs (a, b) where 1 < a <= b < 100\n",
    "a_vals = np.arange(2, 100)\n",
    "pairs = np.array([(a, b) for a in a_vals for b in range(a, 100)])\n",
    "\n",
    "# Find the sums and products for each pair\n",
    "sums = pairs[:, 0] + pairs[:, 1]\n",
    "prods = pairs[:, 0] * pairs[:, 1]\n",
    "\n",
    "# Find ambiguous products (those that appear more than once)\n",
    "unique_prods, counts = np.unique(prods, return_counts=True)\n",
    "ambiguous_products = unique_prods[counts > 1]\n",
    "\n",
    "# Find valid sums where all product values are ambiguous\n",
    "valid_sums = []\n",
    "for s in np.unique(sums):\n",
    "    mask = (sums == s)\n",
    "    if np.all(np.isin(prods[mask], ambiguous_products)):\n",
    "        valid_sums.append(s)\n",
    "\n",
    "# From ambiguous products, keep those with exactly one (a, b) that has a valid sum\n",
    "valid_pairs_after_prod = []\n",
    "for p in ambiguous_products:\n",
    "    mask = (prods == p)\n",
    "    matching_pairs = pairs[mask]\n",
    "    sums_of_matches = matching_pairs[:, 0] + matching_pairs[:, 1]\n",
    "    filtered = matching_pairs[np.isin(sums_of_matches, valid_sums)]\n",
    "    if len(filtered) == 1:\n",
    "        valid_pairs_after_prod.append(tuple(map(int, filtered[0])))  # Convert to plain int\n",
    "\n",
    "# From valid sums, keep those where only one pair remains\n",
    "final_pairs = []\n",
    "for s in valid_sums:\n",
    "    matches = [pair for pair in valid_pairs_after_prod if sum(pair) == s]\n",
    "    if len(matches) == 1:\n",
    "        final_pairs.append(matches[0])\n",
    "\n",
    "# Output the result\n",
    "print(\"Unique pairing:\", final_pairs)"
   ]
  }
 ],
 "metadata": {
  "kernelspec": {
   "display_name": "Python 3",
   "language": "python",
   "name": "python3"
  },
  "language_info": {
   "codemirror_mode": {
    "name": "ipython",
    "version": 3
   },
   "file_extension": ".py",
   "mimetype": "text/x-python",
   "name": "python",
   "nbconvert_exporter": "python",
   "pygments_lexer": "ipython3",
   "version": "3.12.1"
  }
 },
 "nbformat": 4,
 "nbformat_minor": 2
}
