{
 "cells": [
  {
   "cell_type": "markdown",
   "metadata": {},
   "source": [
    "## Problem:\n",
    "\n",
    "There is a building with `F` floors and `S` glass cups of equal durability. If you drop a cup from floor `N`:\n",
    "- from floor `N` or higher — it **breaks**,\n",
    "- from any lower floor — it **does not break**.\n",
    "\n",
    "**Task:** find `N` using **as few drops as possible** in the **worst-case scenario**"
   ]
  },
  {
   "cell_type": "markdown",
   "metadata": {},
   "source": [
    "## What is the \"worst-case scenario\"?\n",
    "This is the case when the cup:\n",
    "- breaks only on the highest tested floor,\n",
    "- or doesn't break for a long time,\n",
    "- or breaks very early, requiring a manual search.\n",
    "\n",
    "Goal: **minimize the maximum number of drops in any scenario**."
   ]
  },
  {
   "cell_type": "markdown",
   "metadata": {},
   "source": [
    "## Why is a fixed-step strategy ineffective?\n",
    "\n",
    "Let the step be 10 floors: 10 → 20 → 30 → 40 → 50 (it breaks :( )\n",
    "- from floor `50` or higher — it **breaks**, and now we have -1 cup\n",
    "- only 1 cup remains, we must be careful — no extra cups. We now check floors `41` - `49`\n",
    "That gives: 10, 20, 30, 40 (didn’t break), 41, 42, 43, 44, 45, 46, 47, 48, 49, 50 (breaks) = `14` drops for `2` cups — not bad.\n",
    "\n",
    "But this method ignores the worst-case where:\n",
    "- Suppose the cup breaks on floor `100`, and then the number of drops becomes `19`.\n",
    "\n",
    "**We are wasting too many unnecessary drops with the first cup:**\n",
    "\n",
    "- The first cup is a very valuable resource.\n",
    "And “10, 20, 30…” uses too many tries on large jumps, without considering how many are left.\n",
    "\n",
    "- The step doesn’t adapt to the remaining floors. When we reach the 90th floor, there are only 10 left. But the step is still 10.\n",
    "This is inefficient — the risk of breaking is high, but the gain is small.\n",
    "\n",
    "So: the fixed-step strategy (like “10, 20, 30…”) is not optimal,\n",
    "because it doesn’t guarantee the minimum number of drops in the worst-case\n",
    "and wastes the first cup. A much better option is to intelligently reduce the steps to balance speed and caution."
   ]
  },
  {
   "cell_type": "markdown",
   "metadata": {},
   "source": [
    "## So what strategy is optimal, considering all risks and using cups wisely?\n",
    "\n",
    "First cup — **optimized jump search**\n",
    "- We throw the cup in **large jumps**, for example: 14, 27, 39, 50...\n",
    "- Each next jump is **smaller** than the previous one (14, 13, 12, ...).\n",
    "- This is based on the triangular number:\n",
    "  $$\n",
    "  1 + 2 + 3 + \\dots + k = \\frac{k(k + 1)}{2} \\geq F\n",
    "  $$\n",
    "- We find the minimum `k` for which this sum >= `F` floors.\n",
    "\n",
    "This allows us to **narrow down the search range as much as possible**.\n",
    "\n",
    "Second cup — **linear search**\n",
    "Why not jump with it too?\n",
    "\n",
    "•\tOnly one cup remains.  \n",
    "•\tIf it breaks — we might never find the answer.\n",
    "\n",
    "- When the first cup breaks at floor `P`, the previous drop was at `Q`, so `N` is between `Q+1` and `P-1`.\n",
    "- We test **each floor in order using the second cup**, because we **can’t risk it**.\n",
    "\n",
    "Why is this the minimum?\n",
    "- The formula accounts for **all possible outcomes** (breaks/doesn't break).\n",
    "- Each drop **reduces the search range** in both directions.\n",
    "- We are looking for the minimum `k` such that **we cover all `F` floors**.\n",
    "\n",
    "So, no matter how bad the case is — we will **definitely find the answer in `k` drops**.\n"
   ]
  },
  {
   "cell_type": "markdown",
   "metadata": {},
   "source": [
    "## How to implement this in code:\n",
    "\n",
    "We’ll use a recurrence formula:\n",
    "\n",
    "$$\n",
    "f(k, s) = f(k - 1, s - 1) + f(k - 1, s) + 1\n",
    "$$\n",
    "\n",
    "This means:\n",
    "- If the cup breaks = fewer cups\n",
    "- If it doesn't break = same number of cups, fewer attempts\n",
    "- `+1` — the floor we're currently testing"
   ]
  },
  {
   "cell_type": "markdown",
   "metadata": {},
   "source": []
  },
  {
   "cell_type": "code",
   "execution_count": 1,
   "metadata": {},
   "outputs": [
    {
     "name": "stdout",
     "output_type": "stream",
     "text": [
      "Number of floors: 100\n",
      "Number of glasses: 2\n",
      "Minimum number of drops in the worst case: 14\n"
     ]
    }
   ],
   "source": [
    "import numpy as np\n",
    "\n",
    "def min_drops(floors, glasses):\n",
    "    # dp[g] — number of floors we can test with g glasses and current number of drops\n",
    "    dp = np.zeros(glasses + 1, dtype=int)\n",
    "    drops = 0\n",
    "\n",
    "    while dp[glasses] < floors:\n",
    "        drops += 1\n",
    "        for g in range(glasses, 0, -1):\n",
    "            dp[g] = dp[g] + dp[g - 1] + 1\n",
    "    return drops\n",
    "\n",
    "# Run the program\n",
    "if __name__ == \"__main__\":\n",
    "    floors = int(input(\"Enter the number of floors: \"))\n",
    "    glasses = int(input(\"Enter the number of glasses: \"))\n",
    "    result = min_drops(floors, glasses)\n",
    "    print(f\"Number of floors: {floors}\")\n",
    "    print(f\"Number of glasses: {glasses}\")\n",
    "    print(f\"Minimum number of drops in the worst case: {result}\")"
   ]
  },
  {
   "cell_type": "code",
   "execution_count": null,
   "metadata": {},
   "outputs": [
    {
     "data": {
      "application/vnd.jupyter.widget-view+json": {
       "model_id": "bffc8b334c144c62ad1219d5a2dd1ffa",
       "version_major": 2,
       "version_minor": 0
      },
      "text/plain": [
       "VBox(children=(Text(value='100', description='Floors (F):'), Text(value='2', description='Glasses (s):'), Butt…"
      ]
     },
     "metadata": {},
     "output_type": "display_data"
    }
   ],
   "source": [
    "import numpy as np\n",
    "import pandas as pd\n",
    "import matplotlib.pyplot as plt\n",
    "import ipywidgets as widgets\n",
    "from IPython.display import display, clear_output\n",
    "\n",
    "def generate_dp_table(floors, glasses):\n",
    "    \"\"\"\n",
    "    f(k, s) — the maximum number of floors we can check\n",
    "    using k drops and s glasses (dynamic programming).\n",
    "    \"\"\"\n",
    "    f = np.zeros(glasses + 1, dtype=int)  # f[s] = f(k, s)\n",
    "    history = []\n",
    "\n",
    "    drops = 0  # k — number of drops\n",
    "    while f[glasses] < floors:\n",
    "        drops += 1\n",
    "        for s in range(glasses, 0, -1):\n",
    "            f[s] = f[s] + f[s - 1] + 1  # f(k, s) = f(k-1, s-1) + f(k-1, s) + 1\n",
    "        history.append(f.copy())\n",
    "\n",
    "    # Table with column names and index starting from 1\n",
    "    columns = [f\"{s} glass(es) (s={s})\" for s in reversed(range(len(f)))]\n",
    "    data = [row[::-1] for row in history]\n",
    "    table = pd.DataFrame(data, columns=columns)\n",
    "    table.index = np.arange(1, len(table) + 1)  # start from 1\n",
    "    table.index.name = \"Drop # (k)\"\n",
    "    return drops, table\n",
    "\n",
    "def plot_dp_graph(table, floors, glasses, drops):\n",
    "    plt.figure(figsize=(10, 6))\n",
    "    for s in range(glasses, 0, -1):\n",
    "        col = f\"{s} glass(es) (s={s})\"\n",
    "        plt.plot(table.index, table[col], marker='o', label=col)\n",
    "\n",
    "    plt.axhline(y=floors, color='red', linestyle='--', label=f\"Target: {floors} floors (F)\")\n",
    "    plt.title(f\"{glasses} glass(es) (s={glasses}), {floors} floors (F)\\nMinimum {drops} drops (k)\")\n",
    "    plt.xlabel(\"Drop # (k)\")\n",
    "    plt.ylabel(\"f(k, s): Max tested floors\")\n",
    "    plt.grid(True)\n",
    "    plt.legend()\n",
    "    plt.tight_layout()\n",
    "    plt.show()\n",
    "\n",
    "# Interactive widgets\n",
    "floors_input = widgets.Text(value='100', description='Floors (F):')\n",
    "glasses_input = widgets.Text(value='2', description='Glasses (s):')\n",
    "run_button = widgets.Button(description=\"Calculate\", button_style='success')\n",
    "output = widgets.Output()\n",
    "\n",
    "def on_button_clicked(b):\n",
    "    with output:\n",
    "        clear_output()\n",
    "        try:\n",
    "            floors = int(floors_input.value)\n",
    "            glasses = int(glasses_input.value)\n",
    "\n",
    "            if floors <= 0 or glasses <= 0:\n",
    "                print(\"Please enter positive integers.\")\n",
    "                return\n",
    "\n",
    "            drops, table = generate_dp_table(floors, glasses)\n",
    "            print(f\"Minimum number of drops (k): {drops}\")\n",
    "            display(table)\n",
    "            plot_dp_graph(table, floors, glasses, drops)\n",
    "\n",
    "        except ValueError:\n",
    "            print(\"Please enter valid integers.\")\n",
    "\n",
    "run_button.on_click(on_button_clicked)\n",
    "\n",
    "# UI display\n",
    "display(widgets.VBox([floors_input, glasses_input, run_button, output]))"
   ]
  },
  {
   "cell_type": "code",
   "execution_count": null,
   "metadata": {},
   "outputs": [],
   "source": []
  }
 ],
 "metadata": {
  "kernelspec": {
   "display_name": "Python 3 (ipykernel)",
   "language": "python",
   "name": "python3"
  },
  "language_info": {
   "codemirror_mode": {
    "name": "ipython",
    "version": 3
   },
   "file_extension": ".py",
   "mimetype": "text/x-python",
   "name": "python",
   "nbconvert_exporter": "python",
   "pygments_lexer": "ipython3",
   "version": "3.13.2"
  }
 },
 "nbformat": 4,
 "nbformat_minor": 2
}
