{
 "cells": [
  {
   "cell_type": "markdown",
   "metadata": {},
   "source": [
    "## Problem:\n",
    "\n",
    "There is a building with `F` floors and `S` glasses of equal durability. If you drop a glass from floor `N`:\n",
    "- from floor `N` or higher — it **breaks**,\n",
    "- from any lower floor — it **does not break**.\n",
    "\n",
    "**Task:** find `N` using **as few drops as possible** in the **worst-case scenario**"
   ]
  },
  {
   "cell_type": "markdown",
   "metadata": {},
   "source": [
    "## What is the \"worst-case scenario\"?\n",
    "This is the case when the glass:\n",
    "- breaks only on the highest tested floor,\n",
    "- or doesn't break for a long time,\n",
    "- or breaks very early, requiring a manual search.\n",
    "\n",
    "Goal: **minimize the maximum number of drops in any scenario**."
   ]
  },
  {
   "cell_type": "markdown",
   "metadata": {},
   "source": [
    "## Why is a fixed-step strategy ineffective?\n",
    "\n",
    "Let the step be 10 floors: 10 → 20 → 30 → 40 → 50 (it breaks :( )\n",
    "- from floor `50` or higher — it **breaks**, and now we have -1 glass\n",
    "- only 1 glass remains, we must be careful — no extra glasses. We now check floors `41` - `49`\n",
    "That gives: 10, 20, 30, 40 (didn't break), 41, 42, 43, 44, 45, 46, 47, 48, 49, 50 (breaks) = `14` drops for `2` glasses — not bad.\n",
    "\n",
    "But this method ignores the worst-case where:\n",
    "- Suppose the glass breaks on floor `100`, and then the number of drops becomes `19`.\n",
    "\n",
    "**We are wasting too many unnecessary drops with the first glass:**\n",
    "\n",
    "- The first glass is a very valuable resource.\n",
    "- And “10, 20, 30…” uses too many tries on large jumps, without considering how many are left.\n",
    "\n",
    "- The step doesn’t adapt to the remaining floors. When we reach the 90th floor, there are only 10 left. But the step is still 10.\n",
    "This is inefficient — the risk of breaking is high, but the gain is small.\n",
    "\n",
    "So: the fixed-step strategy (like “10, 20, 30…”) is not optimal,\n",
    "because it doesn’t guarantee the minimum number of drops in the worst-case\n",
    "and wastes the first glass. A much better option is to intelligently reduce the steps to balance speed and caution."
   ]
  },
  {
   "cell_type": "markdown",
   "metadata": {},
   "source": [
    "## So what strategy is optimal, considering all risks and using glasses wisely?\n",
    "\n",
    "First glass — **optimized jump search**\n",
    "- We throw the glass in **large jumps**, for example: 14, 27, 39, 50...\n",
    "- Each next jump is **smaller** than the previous one (14, 13, 12, ...).\n",
    "- This is based on the triangular number:\n",
    "  $$\n",
    "  1 + 2 + 3 + \\dots + k = \\frac{k(k + 1)}{2} \\geq F\n",
    "  $$\n",
    "- We find the minimum `k` for which this sum >= `F` floors.\n",
    "\n",
    "This allows us to **narrow down the search range as much as possible**.\n",
    "\n",
    "Second glass — **linear search**\n",
    "Why not jump with it too?\n",
    "\n",
    "•   Only one glass remains.  \n",
    "•   If it breaks — we might never find the answer.\n",
    "\n",
    "- When the first glass breaks at floor `P`, the previous drop was at `Q`, so `N` is between `Q+1` and `P-1`.\n",
    "- We test **each floor in order using the second glass**, because we **can’t risk it**.\n",
    "\n",
    "Why is this the minimum?\n",
    "- The formula accounts for **all possible outcomes** (breaks/doesn't break).\n",
    "- Each drop **reduces the search range** in both directions.\n",
    "- We are looking for the minimum `k` such that **we cover all `F` floors**.\n",
    "\n",
    "So, no matter how bad the case is — we will **definitely find the answer in `k` drops**."
   ]
  },
  {
   "cell_type": "markdown",
   "metadata": {},
   "source": [
    "## How to implement this in code:\n",
    "\n",
    "We’ll use a recurrence formula:\n",
    "\n",
    "$$\n",
    "f(k, s) = f(k - 1, s - 1) + f(k - 1, s) + 1\n",
    "$$\n",
    "\n",
    "This means:\n",
    "- If the glass breaks = fewer glasses\n",
    "- If it doesn't break = same number of glasses, fewer attempts\n",
    "- `+1` — the floor we're currently testing"
   ]
  },
  {
   "cell_type": "markdown",
   "metadata": {},
   "source": []
  },
  {
   "cell_type": "code",
   "execution_count": null,
   "metadata": {},
   "outputs": [
    {
     "name": "stdout",
     "output_type": "stream",
     "text": [
      "\n",
      "Input: Floors = 10, Glasses = 2\n",
      "\n",
      "Minimum drops (k): 4\n",
      "\n",
      "Dynamic programming table:\n"
     ]
    },
    {
     "data": {
      "application/vnd.microsoft.datawrangler.viewer.v0+json": {
       "columns": [
        {
         "name": "Drop # (k)",
         "rawType": "int64",
         "type": "integer"
        },
        {
         "name": "2 glass(es) (s=2)",
         "rawType": "int64",
         "type": "integer"
        },
        {
         "name": "1 glass(es) (s=1)",
         "rawType": "int64",
         "type": "integer"
        },
        {
         "name": "0 glass(es) (s=0)",
         "rawType": "int64",
         "type": "integer"
        }
       ],
       "conversionMethod": "pd.DataFrame",
       "ref": "59dfb506-5fad-4e9d-bcc8-8c233d6b1c6a",
       "rows": [
        [
         "1",
         "1",
         "1",
         "0"
        ],
        [
         "2",
         "3",
         "2",
         "0"
        ],
        [
         "3",
         "6",
         "3",
         "0"
        ],
        [
         "4",
         "10",
         "4",
         "0"
        ]
       ],
       "shape": {
        "columns": 3,
        "rows": 4
       }
      },
      "text/html": [
       "<div>\n",
       "<style scoped>\n",
       "    .dataframe tbody tr th:only-of-type {\n",
       "        vertical-align: middle;\n",
       "    }\n",
       "\n",
       "    .dataframe tbody tr th {\n",
       "        vertical-align: top;\n",
       "    }\n",
       "\n",
       "    .dataframe thead th {\n",
       "        text-align: right;\n",
       "    }\n",
       "</style>\n",
       "<table border=\"1\" class=\"dataframe\">\n",
       "  <thead>\n",
       "    <tr style=\"text-align: right;\">\n",
       "      <th></th>\n",
       "      <th>2 glass(es) (s=2)</th>\n",
       "      <th>1 glass(es) (s=1)</th>\n",
       "      <th>0 glass(es) (s=0)</th>\n",
       "    </tr>\n",
       "    <tr>\n",
       "      <th>Drop # (k)</th>\n",
       "      <th></th>\n",
       "      <th></th>\n",
       "      <th></th>\n",
       "    </tr>\n",
       "  </thead>\n",
       "  <tbody>\n",
       "    <tr>\n",
       "      <th>1</th>\n",
       "      <td>1</td>\n",
       "      <td>1</td>\n",
       "      <td>0</td>\n",
       "    </tr>\n",
       "    <tr>\n",
       "      <th>2</th>\n",
       "      <td>3</td>\n",
       "      <td>2</td>\n",
       "      <td>0</td>\n",
       "    </tr>\n",
       "    <tr>\n",
       "      <th>3</th>\n",
       "      <td>6</td>\n",
       "      <td>3</td>\n",
       "      <td>0</td>\n",
       "    </tr>\n",
       "    <tr>\n",
       "      <th>4</th>\n",
       "      <td>10</td>\n",
       "      <td>4</td>\n",
       "      <td>0</td>\n",
       "    </tr>\n",
       "  </tbody>\n",
       "</table>\n",
       "</div>"
      ],
      "text/plain": [
       "            2 glass(es) (s=2)  1 glass(es) (s=1)  0 glass(es) (s=0)\n",
       "Drop # (k)                                                         \n",
       "1                           1                  1                  0\n",
       "2                           3                  2                  0\n",
       "3                           6                  3                  0\n",
       "4                          10                  4                  0"
      ]
     },
     "metadata": {},
     "output_type": "display_data"
    },
    {
     "data": {
      "image/png": "[encoded data removed]",
      "text/plain": [
       "<Figure size 1000x600 with 1 Axes>"
      ]
     },
     "metadata": {},
     "output_type": "display_data"
    },
    {
     "name": "stdout",
     "output_type": "stream",
     "text": [
      "\n",
      "Input: Floors = 100, Glasses = 2\n",
      "\n",
      "Minimum drops (k): 14\n",
      "\n",
      "Dynamic programming table:\n"
     ]
    },
    {
     "data": {
      "application/vnd.microsoft.datawrangler.viewer.v0+json": {
       "columns": [
        {
         "name": "Drop # (k)",
         "rawType": "int64",
         "type": "integer"
        },
        {
         "name": "2 glass(es) (s=2)",
         "rawType": "int64",
         "type": "integer"
        },
        {
         "name": "1 glass(es) (s=1)",
         "rawType": "int64",
         "type": "integer"
        },
        {
         "name": "0 glass(es) (s=0)",
         "rawType": "int64",
         "type": "integer"
        }
       ],
       "conversionMethod": "pd.DataFrame",
       "ref": "3311c14b-f46a-4088-a7fc-57ccfe2b3f8e",
       "rows": [
        [
         "1",
         "1",
         "1",
         "0"
        ],
        [
         "2",
         "3",
         "2",
         "0"
        ],
        [
         "3",
         "6",
         "3",
         "0"
        ],
        [
         "4",
         "10",
         "4",
         "0"
        ],
        [
         "5",
         "15",
         "5",
         "0"
        ],
        [
         "6",
         "21",
         "6",
         "0"
        ],
        [
         "7",
         "28",
         "7",
         "0"
        ],
        [
         "8",
         "36",
         "8",
         "0"
        ],
        [
         "9",
         "45",
         "9",
         "0"
        ],
        [
         "10",
         "55",
         "10",
         "0"
        ],
        [
         "11",
         "66",
         "11",
         "0"
        ],
        [
         "12",
         "78",
         "12",
         "0"
        ],
        [
         "13",
         "91",
         "13",
         "0"
        ],
        [
         "14",
         "105",
         "14",
         "0"
        ]
       ],
       "shape": {
        "columns": 3,
        "rows": 14
       }
      },
      "text/html": [
       "<div>\n",
       "<style scoped>\n",
       "    .dataframe tbody tr th:only-of-type {\n",
       "        vertical-align: middle;\n",
       "    }\n",
       "\n",
       "    .dataframe tbody tr th {\n",
       "        vertical-align: top;\n",
       "    }\n",
       "\n",
       "    .dataframe thead th {\n",
       "        text-align: right;\n",
       "    }\n",
       "</style>\n",
       "<table border=\"1\" class=\"dataframe\">\n",
       "  <thead>\n",
       "    <tr style=\"text-align: right;\">\n",
       "      <th></th>\n",
       "      <th>2 glass(es) (s=2)</th>\n",
       "      <th>1 glass(es) (s=1)</th>\n",
       "      <th>0 glass(es) (s=0)</th>\n",
       "    </tr>\n",
       "    <tr>\n",
       "      <th>Drop # (k)</th>\n",
       "      <th></th>\n",
       "      <th></th>\n",
       "      <th></th>\n",
       "    </tr>\n",
       "  </thead>\n",
       "  <tbody>\n",
       "    <tr>\n",
       "      <th>1</th>\n",
       "      <td>1</td>\n",
       "      <td>1</td>\n",
       "      <td>0</td>\n",
       "    </tr>\n",
       "    <tr>\n",
       "      <th>2</th>\n",
       "      <td>3</td>\n",
       "      <td>2</td>\n",
       "      <td>0</td>\n",
       "    </tr>\n",
       "    <tr>\n",
       "      <th>3</th>\n",
       "      <td>6</td>\n",
       "      <td>3</td>\n",
       "      <td>0</td>\n",
       "    </tr>\n",
       "    <tr>\n",
       "      <th>4</th>\n",
       "      <td>10</td>\n",
       "      <td>4</td>\n",
       "      <td>0</td>\n",
       "    </tr>\n",
       "    <tr>\n",
       "      <th>5</th>\n",
       "      <td>15</td>\n",
       "      <td>5</td>\n",
       "      <td>0</td>\n",
       "    </tr>\n",
       "    <tr>\n",
       "      <th>6</th>\n",
       "      <td>21</td>\n",
       "      <td>6</td>\n",
       "      <td>0</td>\n",
       "    </tr>\n",
       "    <tr>\n",
       "      <th>7</th>\n",
       "      <td>28</td>\n",
       "      <td>7</td>\n",
       "      <td>0</td>\n",
       "    </tr>\n",
       "    <tr>\n",
       "      <th>8</th>\n",
       "      <td>36</td>\n",
       "      <td>8</td>\n",
       "      <td>0</td>\n",
       "    </tr>\n",
       "    <tr>\n",
       "      <th>9</th>\n",
       "      <td>45</td>\n",
       "      <td>9</td>\n",
       "      <td>0</td>\n",
       "    </tr>\n",
       "    <tr>\n",
       "      <th>10</th>\n",
       "      <td>55</td>\n",
       "      <td>10</td>\n",
       "      <td>0</td>\n",
       "    </tr>\n",
       "    <tr>\n",
       "      <th>11</th>\n",
       "      <td>66</td>\n",
       "      <td>11</td>\n",
       "      <td>0</td>\n",
       "    </tr>\n",
       "    <tr>\n",
       "      <th>12</th>\n",
       "      <td>78</td>\n",
       "      <td>12</td>\n",
       "      <td>0</td>\n",
       "    </tr>\n",
       "    <tr>\n",
       "      <th>13</th>\n",
       "      <td>91</td>\n",
       "      <td>13</td>\n",
       "      <td>0</td>\n",
       "    </tr>\n",
       "    <tr>\n",
       "      <th>14</th>\n",
       "      <td>105</td>\n",
       "      <td>14</td>\n",
       "      <td>0</td>\n",
       "    </tr>\n",
       "  </tbody>\n",
       "</table>\n",
       "</div>"
      ],
      "text/plain": [
       "            2 glass(es) (s=2)  1 glass(es) (s=1)  0 glass(es) (s=0)\n",
       "Drop # (k)                                                         \n",
       "1                           1                  1                  0\n",
       "2                           3                  2                  0\n",
       "3                           6                  3                  0\n",
       "4                          10                  4                  0\n",
       "5                          15                  5                  0\n",
       "6                          21                  6                  0\n",
       "7                          28                  7                  0\n",
       "8                          36                  8                  0\n",
       "9                          45                  9                  0\n",
       "10                         55                 10                  0\n",
       "11                         66                 11                  0\n",
       "12                         78                 12                  0\n",
       "13                         91                 13                  0\n",
       "14                        105                 14                  0"
      ]
     },
     "metadata": {},
     "output_type": "display_data"
    },
    {
     "data": {
      "image/png": "[encoded data removed]",
      "text/plain": [
       "<Figure size 1000x600 with 1 Axes>"
      ]
     },
     "metadata": {},
     "output_type": "display_data"
    },
    {
     "name": "stdout",
     "output_type": "stream",
     "text": [
      "\n",
      "Input: Floors = 100, Glasses = 3\n",
      "\n",
      "Minimum drops (k): 9\n",
      "\n",
      "Dynamic programming table:\n"
     ]
    },
    {
     "data": {
      "application/vnd.microsoft.datawrangler.viewer.v0+json": {
       "columns": [
        {
         "name": "Drop # (k)",
         "rawType": "int64",
         "type": "integer"
        },
        {
         "name": "3 glass(es) (s=3)",
         "rawType": "int64",
         "type": "integer"
        },
        {
         "name": "2 glass(es) (s=2)",
         "rawType": "int64",
         "type": "integer"
        },
        {
         "name": "1 glass(es) (s=1)",
         "rawType": "int64",
         "type": "integer"
        },
        {
         "name": "0 glass(es) (s=0)",
         "rawType": "int64",
         "type": "integer"
        }
       ],
       "conversionMethod": "pd.DataFrame",
       "ref": "efb38413-8445-4584-87ed-09521fda1034",
       "rows": [
        [
         "1",
         "1",
         "1",
         "1",
         "0"
        ],
        [
         "2",
         "3",
         "3",
         "2",
         "0"
        ],
        [
         "3",
         "7",
         "6",
         "3",
         "0"
        ],
        [
         "4",
         "14",
         "10",
         "4",
         "0"
        ],
        [
         "5",
         "25",
         "15",
         "5",
         "0"
        ],
        [
         "6",
         "41",
         "21",
         "6",
         "0"
        ],
        [
         "7",
         "63",
         "28",
         "7",
         "0"
        ],
        [
         "8",
         "92",
         "36",
         "8",
         "0"
        ],
        [
         "9",
         "129",
         "45",
         "9",
         "0"
        ]
       ],
       "shape": {
        "columns": 4,
        "rows": 9
       }
      },
      "text/html": [
       "<div>\n",
       "<style scoped>\n",
       "    .dataframe tbody tr th:only-of-type {\n",
       "        vertical-align: middle;\n",
       "    }\n",
       "\n",
       "    .dataframe tbody tr th {\n",
       "        vertical-align: top;\n",
       "    }\n",
       "\n",
       "    .dataframe thead th {\n",
       "        text-align: right;\n",
       "    }\n",
       "</style>\n",
       "<table border=\"1\" class=\"dataframe\">\n",
       "  <thead>\n",
       "    <tr style=\"text-align: right;\">\n",
       "      <th></th>\n",
       "      <th>3 glass(es) (s=3)</th>\n",
       "      <th>2 glass(es) (s=2)</th>\n",
       "      <th>1 glass(es) (s=1)</th>\n",
       "      <th>0 glass(es) (s=0)</th>\n",
       "    </tr>\n",
       "    <tr>\n",
       "      <th>Drop # (k)</th>\n",
       "      <th></th>\n",
       "      <th></th>\n",
       "      <th></th>\n",
       "      <th></th>\n",
       "    </tr>\n",
       "  </thead>\n",
       "  <tbody>\n",
       "    <tr>\n",
       "      <th>1</th>\n",
       "      <td>1</td>\n",
       "      <td>1</td>\n",
       "      <td>1</td>\n",
       "      <td>0</td>\n",
       "    </tr>\n",
       "    <tr>\n",
       "      <th>2</th>\n",
       "      <td>3</td>\n",
       "      <td>3</td>\n",
       "      <td>2</td>\n",
       "      <td>0</td>\n",
       "    </tr>\n",
       "    <tr>\n",
       "      <th>3</th>\n",
       "      <td>7</td>\n",
       "      <td>6</td>\n",
       "      <td>3</td>\n",
       "      <td>0</td>\n",
       "    </tr>\n",
       "    <tr>\n",
       "      <th>4</th>\n",
       "      <td>14</td>\n",
       "      <td>10</td>\n",
       "      <td>4</td>\n",
       "      <td>0</td>\n",
       "    </tr>\n",
       "    <tr>\n",
       "      <th>5</th>\n",
       "      <td>25</td>\n",
       "      <td>15</td>\n",
       "      <td>5</td>\n",
       "      <td>0</td>\n",
       "    </tr>\n",
       "    <tr>\n",
       "      <th>6</th>\n",
       "      <td>41</td>\n",
       "      <td>21</td>\n",
       "      <td>6</td>\n",
       "      <td>0</td>\n",
       "    </tr>\n",
       "    <tr>\n",
       "      <th>7</th>\n",
       "      <td>63</td>\n",
       "      <td>28</td>\n",
       "      <td>7</td>\n",
       "      <td>0</td>\n",
       "    </tr>\n",
       "    <tr>\n",
       "      <th>8</th>\n",
       "      <td>92</td>\n",
       "      <td>36</td>\n",
       "      <td>8</td>\n",
       "      <td>0</td>\n",
       "    </tr>\n",
       "    <tr>\n",
       "      <th>9</th>\n",
       "      <td>129</td>\n",
       "      <td>45</td>\n",
       "      <td>9</td>\n",
       "      <td>0</td>\n",
       "    </tr>\n",
       "  </tbody>\n",
       "</table>\n",
       "</div>"
      ],
      "text/plain": [
       "            3 glass(es) (s=3)  2 glass(es) (s=2)  1 glass(es) (s=1)  \\\n",
       "Drop # (k)                                                            \n",
       "1                           1                  1                  1   \n",
       "2                           3                  3                  2   \n",
       "3                           7                  6                  3   \n",
       "4                          14                 10                  4   \n",
       "5                          25                 15                  5   \n",
       "6                          41                 21                  6   \n",
       "7                          63                 28                  7   \n",
       "8                          92                 36                  8   \n",
       "9                         129                 45                  9   \n",
       "\n",
       "            0 glass(es) (s=0)  \n",
       "Drop # (k)                     \n",
       "1                           0  \n",
       "2                           0  \n",
       "3                           0  \n",
       "4                           0  \n",
       "5                           0  \n",
       "6                           0  \n",
       "7                           0  \n",
       "8                           0  \n",
       "9                           0  "
      ]
     },
     "metadata": {},
     "output_type": "display_data"
    },
    {
     "data": {
      "image/png": "[encoded data removed]",
      "text/plain": [
       "<Figure size 1000x600 with 1 Axes>"
      ]
     },
     "metadata": {},
     "output_type": "display_data"
    },
    {
     "name": "stdout",
     "output_type": "stream",
     "text": [
      "\n",
      "Input: Floors = 1000, Glasses = 2\n",
      "\n",
      "Minimum drops (k): 45\n",
      "\n",
      "Dynamic programming table:\n"
     ]
    },
    {
     "data": {
      "application/vnd.microsoft.datawrangler.viewer.v0+json": {
       "columns": [
        {
         "name": "Drop # (k)",
         "rawType": "int64",
         "type": "integer"
        },
        {
         "name": "2 glass(es) (s=2)",
         "rawType": "int64",
         "type": "integer"
        },
        {
         "name": "1 glass(es) (s=1)",
         "rawType": "int64",
         "type": "integer"
        },
        {
         "name": "0 glass(es) (s=0)",
         "rawType": "int64",
         "type": "integer"
        }
       ],
       "conversionMethod": "pd.DataFrame",
       "ref": "46d83949-cbff-449a-9ff8-c32174a9aca4",
       "rows": [
        [
         "1",
         "1",
         "1",
         "0"
        ],
        [
         "2",
         "3",
         "2",
         "0"
        ],
        [
         "3",
         "6",
         "3",
         "0"
        ],
        [
         "4",
         "10",
         "4",
         "0"
        ],
        [
         "5",
         "15",
         "5",
         "0"
        ],
        [
         "6",
         "21",
         "6",
         "0"
        ],
        [
         "7",
         "28",
         "7",
         "0"
        ],
        [
         "8",
         "36",
         "8",
         "0"
        ],
        [
         "9",
         "45",
         "9",
         "0"
        ],
        [
         "10",
         "55",
         "10",
         "0"
        ],
        [
         "11",
         "66",
         "11",
         "0"
        ],
        [
         "12",
         "78",
         "12",
         "0"
        ],
        [
         "13",
         "91",
         "13",
         "0"
        ],
        [
         "14",
         "105",
         "14",
         "0"
        ],
        [
         "15",
         "120",
         "15",
         "0"
        ],
        [
         "16",
         "136",
         "16",
         "0"
        ],
        [
         "17",
         "153",
         "17",
         "0"
        ],
        [
         "18",
         "171",
         "18",
         "0"
        ],
        [
         "19",
         "190",
         "19",
         "0"
        ],
        [
         "20",
         "210",
         "20",
         "0"
        ],
        [
         "21",
         "231",
         "21",
         "0"
        ],
        [
         "22",
         "253",
         "22",
         "0"
        ],
        [
         "23",
         "276",
         "23",
         "0"
        ],
        [
         "24",
         "300",
         "24",
         "0"
        ],
        [
         "25",
         "325",
         "25",
         "0"
        ],
        [
         "26",
         "351",
         "26",
         "0"
        ],
        [
         "27",
         "378",
         "27",
         "0"
        ],
        [
         "28",
         "406",
         "28",
         "0"
        ],
        [
         "29",
         "435",
         "29",
         "0"
        ],
        [
         "30",
         "465",
         "30",
         "0"
        ],
        [
         "31",
         "496",
         "31",
         "0"
        ],
        [
         "32",
         "528",
         "32",
         "0"
        ],
        [
         "33",
         "561",
         "33",
         "0"
        ],
        [
         "34",
         "595",
         "34",
         "0"
        ],
        [
         "35",
         "630",
         "35",
         "0"
        ],
        [
         "36",
         "666",
         "36",
         "0"
        ],
        [
         "37",
         "703",
         "37",
         "0"
        ],
        [
         "38",
         "741",
         "38",
         "0"
        ],
        [
         "39",
         "780",
         "39",
         "0"
        ],
        [
         "40",
         "820",
         "40",
         "0"
        ],
        [
         "41",
         "861",
         "41",
         "0"
        ],
        [
         "42",
         "903",
         "42",
         "0"
        ],
        [
         "43",
         "946",
         "43",
         "0"
        ],
        [
         "44",
         "990",
         "44",
         "0"
        ],
        [
         "45",
         "1035",
         "45",
         "0"
        ]
       ],
       "shape": {
        "columns": 3,
        "rows": 45
       }
      },
      "text/html": [
       "<div>\n",
       "<style scoped>\n",
       "    .dataframe tbody tr th:only-of-type {\n",
       "        vertical-align: middle;\n",
       "    }\n",
       "\n",
       "    .dataframe tbody tr th {\n",
       "        vertical-align: top;\n",
       "    }\n",
       "\n",
       "    .dataframe thead th {\n",
       "        text-align: right;\n",
       "    }\n",
       "</style>\n",
       "<table border=\"1\" class=\"dataframe\">\n",
       "  <thead>\n",
       "    <tr style=\"text-align: right;\">\n",
       "      <th></th>\n",
       "      <th>2 glass(es) (s=2)</th>\n",
       "      <th>1 glass(es) (s=1)</th>\n",
       "      <th>0 glass(es) (s=0)</th>\n",
       "    </tr>\n",
       "    <tr>\n",
       "      <th>Drop # (k)</th>\n",
       "      <th></th>\n",
       "      <th></th>\n",
       "      <th></th>\n",
       "    </tr>\n",
       "  </thead>\n",
       "  <tbody>\n",
       "    <tr>\n",
       "      <th>1</th>\n",
       "      <td>1</td>\n",
       "      <td>1</td>\n",
       "      <td>0</td>\n",
       "    </tr>\n",
       "    <tr>\n",
       "      <th>2</th>\n",
       "      <td>3</td>\n",
       "      <td>2</td>\n",
       "      <td>0</td>\n",
       "    </tr>\n",
       "    <tr>\n",
       "      <th>3</th>\n",
       "      <td>6</td>\n",
       "      <td>3</td>\n",
       "      <td>0</td>\n",
       "    </tr>\n",
       "    <tr>\n",
       "      <th>4</th>\n",
       "      <td>10</td>\n",
       "      <td>4</td>\n",
       "      <td>0</td>\n",
       "    </tr>\n",
       "    <tr>\n",
       "      <th>5</th>\n",
       "      <td>15</td>\n",
       "      <td>5</td>\n",
       "      <td>0</td>\n",
       "    </tr>\n",
       "    <tr>\n",
       "      <th>6</th>\n",
       "      <td>21</td>\n",
       "      <td>6</td>\n",
       "      <td>0</td>\n",
       "    </tr>\n",
       "    <tr>\n",
       "      <th>7</th>\n",
       "      <td>28</td>\n",
       "      <td>7</td>\n",
       "      <td>0</td>\n",
       "    </tr>\n",
       "    <tr>\n",
       "      <th>8</th>\n",
       "      <td>36</td>\n",
       "      <td>8</td>\n",
       "      <td>0</td>\n",
       "    </tr>\n",
       "    <tr>\n",
       "      <th>9</th>\n",
       "      <td>45</td>\n",
       "      <td>9</td>\n",
       "      <td>0</td>\n",
       "    </tr>\n",
       "    <tr>\n",
       "      <th>10</th>\n",
       "      <td>55</td>\n",
       "      <td>10</td>\n",
       "      <td>0</td>\n",
       "    </tr>\n",
       "    <tr>\n",
       "      <th>11</th>\n",
       "      <td>66</td>\n",
       "      <td>11</td>\n",
       "      <td>0</td>\n",
       "    </tr>\n",
       "    <tr>\n",
       "      <th>12</th>\n",
       "      <td>78</td>\n",
       "      <td>12</td>\n",
       "      <td>0</td>\n",
       "    </tr>\n",
       "    <tr>\n",
       "      <th>13</th>\n",
       "      <td>91</td>\n",
       "      <td>13</td>\n",
       "      <td>0</td>\n",
       "    </tr>\n",
       "    <tr>\n",
       "      <th>14</th>\n",
       "      <td>105</td>\n",
       "      <td>14</td>\n",
       "      <td>0</td>\n",
       "    </tr>\n",
       "    <tr>\n",
       "      <th>15</th>\n",
       "      <td>120</td>\n",
       "      <td>15</td>\n",
       "      <td>0</td>\n",
       "    </tr>\n",
       "    <tr>\n",
       "      <th>16</th>\n",
       "      <td>136</td>\n",
       "      <td>16</td>\n",
       "      <td>0</td>\n",
       "    </tr>\n",
       "    <tr>\n",
       "      <th>17</th>\n",
       "      <td>153</td>\n",
       "      <td>17</td>\n",
       "      <td>0</td>\n",
       "    </tr>\n",
       "    <tr>\n",
       "      <th>18</th>\n",
       "      <td>171</td>\n",
       "      <td>18</td>\n",
       "      <td>0</td>\n",
       "    </tr>\n",
       "    <tr>\n",
       "      <th>19</th>\n",
       "      <td>190</td>\n",
       "      <td>19</td>\n",
       "      <td>0</td>\n",
       "    </tr>\n",
       "    <tr>\n",
       "      <th>20</th>\n",
       "      <td>210</td>\n",
       "      <td>20</td>\n",
       "      <td>0</td>\n",
       "    </tr>\n",
       "    <tr>\n",
       "      <th>21</th>\n",
       "      <td>231</td>\n",
       "      <td>21</td>\n",
       "      <td>0</td>\n",
       "    </tr>\n",
       "    <tr>\n",
       "      <th>22</th>\n",
       "      <td>253</td>\n",
       "      <td>22</td>\n",
       "      <td>0</td>\n",
       "    </tr>\n",
       "    <tr>\n",
       "      <th>23</th>\n",
       "      <td>276</td>\n",
       "      <td>23</td>\n",
       "      <td>0</td>\n",
       "    </tr>\n",
       "    <tr>\n",
       "      <th>24</th>\n",
       "      <td>300</td>\n",
       "      <td>24</td>\n",
       "      <td>0</td>\n",
       "    </tr>\n",
       "    <tr>\n",
       "      <th>25</th>\n",
       "      <td>325</td>\n",
       "      <td>25</td>\n",
       "      <td>0</td>\n",
       "    </tr>\n",
       "    <tr>\n",
       "      <th>26</th>\n",
       "      <td>351</td>\n",
       "      <td>26</td>\n",
       "      <td>0</td>\n",
       "    </tr>\n",
       "    <tr>\n",
       "      <th>27</th>\n",
       "      <td>378</td>\n",
       "      <td>27</td>\n",
       "      <td>0</td>\n",
       "    </tr>\n",
       "    <tr>\n",
       "      <th>28</th>\n",
       "      <td>406</td>\n",
       "      <td>28</td>\n",
       "      <td>0</td>\n",
       "    </tr>\n",
       "    <tr>\n",
       "      <th>29</th>\n",
       "      <td>435</td>\n",
       "      <td>29</td>\n",
       "      <td>0</td>\n",
       "    </tr>\n",
       "    <tr>\n",
       "      <th>30</th>\n",
       "      <td>465</td>\n",
       "      <td>30</td>\n",
       "      <td>0</td>\n",
       "    </tr>\n",
       "    <tr>\n",
       "      <th>31</th>\n",
       "      <td>496</td>\n",
       "      <td>31</td>\n",
       "      <td>0</td>\n",
       "    </tr>\n",
       "    <tr>\n",
       "      <th>32</th>\n",
       "      <td>528</td>\n",
       "      <td>32</td>\n",
       "      <td>0</td>\n",
       "    </tr>\n",
       "    <tr>\n",
       "      <th>33</th>\n",
       "      <td>561</td>\n",
       "      <td>33</td>\n",
       "      <td>0</td>\n",
       "    </tr>\n",
       "    <tr>\n",
       "      <th>34</th>\n",
       "      <td>595</td>\n",
       "      <td>34</td>\n",
       "      <td>0</td>\n",
       "    </tr>\n",
       "    <tr>\n",
       "      <th>35</th>\n",
       "      <td>630</td>\n",
       "      <td>35</td>\n",
       "      <td>0</td>\n",
       "    </tr>\n",
       "    <tr>\n",
       "      <th>36</th>\n",
       "      <td>666</td>\n",
       "      <td>36</td>\n",
       "      <td>0</td>\n",
       "    </tr>\n",
       "    <tr>\n",
       "      <th>37</th>\n",
       "      <td>703</td>\n",
       "      <td>37</td>\n",
       "      <td>0</td>\n",
       "    </tr>\n",
       "    <tr>\n",
       "      <th>38</th>\n",
       "      <td>741</td>\n",
       "      <td>38</td>\n",
       "      <td>0</td>\n",
       "    </tr>\n",
       "    <tr>\n",
       "      <th>39</th>\n",
       "      <td>780</td>\n",
       "      <td>39</td>\n",
       "      <td>0</td>\n",
       "    </tr>\n",
       "    <tr>\n",
       "      <th>40</th>\n",
       "      <td>820</td>\n",
       "      <td>40</td>\n",
       "      <td>0</td>\n",
       "    </tr>\n",
       "    <tr>\n",
       "      <th>41</th>\n",
       "      <td>861</td>\n",
       "      <td>41</td>\n",
       "      <td>0</td>\n",
       "    </tr>\n",
       "    <tr>\n",
       "      <th>42</th>\n",
       "      <td>903</td>\n",
       "      <td>42</td>\n",
       "      <td>0</td>\n",
       "    </tr>\n",
       "    <tr>\n",
       "      <th>43</th>\n",
       "      <td>946</td>\n",
       "      <td>43</td>\n",
       "      <td>0</td>\n",
       "    </tr>\n",
       "    <tr>\n",
       "      <th>44</th>\n",
       "      <td>990</td>\n",
       "      <td>44</td>\n",
       "      <td>0</td>\n",
       "    </tr>\n",
       "    <tr>\n",
       "      <th>45</th>\n",
       "      <td>1035</td>\n",
       "      <td>45</td>\n",
       "      <td>0</td>\n",
       "    </tr>\n",
       "  </tbody>\n",
       "</table>\n",
       "</div>"
      ],
      "text/plain": [
       "            2 glass(es) (s=2)  1 glass(es) (s=1)  0 glass(es) (s=0)\n",
       "Drop # (k)                                                         \n",
       "1                           1                  1                  0\n",
       "2                           3                  2                  0\n",
       "3                           6                  3                  0\n",
       "4                          10                  4                  0\n",
       "5                          15                  5                  0\n",
       "6                          21                  6                  0\n",
       "7                          28                  7                  0\n",
       "8                          36                  8                  0\n",
       "9                          45                  9                  0\n",
       "10                         55                 10                  0\n",
       "11                         66                 11                  0\n",
       "12                         78                 12                  0\n",
       "13                         91                 13                  0\n",
       "14                        105                 14                  0\n",
       "15                        120                 15                  0\n",
       "16                        136                 16                  0\n",
       "17                        153                 17                  0\n",
       "18                        171                 18                  0\n",
       "19                        190                 19                  0\n",
       "20                        210                 20                  0\n",
       "21                        231                 21                  0\n",
       "22                        253                 22                  0\n",
       "23                        276                 23                  0\n",
       "24                        300                 24                  0\n",
       "25                        325                 25                  0\n",
       "26                        351                 26                  0\n",
       "27                        378                 27                  0\n",
       "28                        406                 28                  0\n",
       "29                        435                 29                  0\n",
       "30                        465                 30                  0\n",
       "31                        496                 31                  0\n",
       "32                        528                 32                  0\n",
       "33                        561                 33                  0\n",
       "34                        595                 34                  0\n",
       "35                        630                 35                  0\n",
       "36                        666                 36                  0\n",
       "37                        703                 37                  0\n",
       "38                        741                 38                  0\n",
       "39                        780                 39                  0\n",
       "40                        820                 40                  0\n",
       "41                        861                 41                  0\n",
       "42                        903                 42                  0\n",
       "43                        946                 43                  0\n",
       "44                        990                 44                  0\n",
       "45                       1035                 45                  0"
      ]
     },
     "metadata": {},
     "output_type": "display_data"
    },
    {
     "data": {
      "image/png": "[encoded data removed]",
      "text/plain": [
       "<Figure size 1000x600 with 1 Axes>"
      ]
     },
     "metadata": {},
     "output_type": "display_data"
    },
    {
     "name": "stdout",
     "output_type": "stream",
     "text": [
      "\n",
      "Input: Floors = 1000, Glasses = 3\n",
      "\n",
      "Minimum drops (k): 19\n",
      "\n",
      "Dynamic programming table:\n"
     ]
    },
    {
     "data": {
      "application/vnd.microsoft.datawrangler.viewer.v0+json": {
       "columns": [
        {
         "name": "Drop # (k)",
         "rawType": "int64",
         "type": "integer"
        },
        {
         "name": "3 glass(es) (s=3)",
         "rawType": "int64",
         "type": "integer"
        },
        {
         "name": "2 glass(es) (s=2)",
         "rawType": "int64",
         "type": "integer"
        },
        {
         "name": "1 glass(es) (s=1)",
         "rawType": "int64",
         "type": "integer"
        },
        {
         "name": "0 glass(es) (s=0)",
         "rawType": "int64",
         "type": "integer"
        }
       ],
       "conversionMethod": "pd.DataFrame",
       "ref": "c1cf9dab-37ad-4f13-9860-bd8aa559a7b2",
       "rows": [
        [
         "1",
         "1",
         "1",
         "1",
         "0"
        ],
        [
         "2",
         "3",
         "3",
         "2",
         "0"
        ],
        [
         "3",
         "7",
         "6",
         "3",
         "0"
        ],
        [
         "4",
         "14",
         "10",
         "4",
         "0"
        ],
        [
         "5",
         "25",
         "15",
         "5",
         "0"
        ],
        [
         "6",
         "41",
         "21",
         "6",
         "0"
        ],
        [
         "7",
         "63",
         "28",
         "7",
         "0"
        ],
        [
         "8",
         "92",
         "36",
         "8",
         "0"
        ],
        [
         "9",
         "129",
         "45",
         "9",
         "0"
        ],
        [
         "10",
         "175",
         "55",
         "10",
         "0"
        ],
        [
         "11",
         "231",
         "66",
         "11",
         "0"
        ],
        [
         "12",
         "298",
         "78",
         "12",
         "0"
        ],
        [
         "13",
         "377",
         "91",
         "13",
         "0"
        ],
        [
         "14",
         "469",
         "105",
         "14",
         "0"
        ],
        [
         "15",
         "575",
         "120",
         "15",
         "0"
        ],
        [
         "16",
         "696",
         "136",
         "16",
         "0"
        ],
        [
         "17",
         "833",
         "153",
         "17",
         "0"
        ],
        [
         "18",
         "987",
         "171",
         "18",
         "0"
        ],
        [
         "19",
         "1159",
         "190",
         "19",
         "0"
        ]
       ],
       "shape": {
        "columns": 4,
        "rows": 19
       }
      },
      "text/html": [
       "<div>\n",
       "<style scoped>\n",
       "    .dataframe tbody tr th:only-of-type {\n",
       "        vertical-align: middle;\n",
       "    }\n",
       "\n",
       "    .dataframe tbody tr th {\n",
       "        vertical-align: top;\n",
       "    }\n",
       "\n",
       "    .dataframe thead th {\n",
       "        text-align: right;\n",
       "    }\n",
       "</style>\n",
       "<table border=\"1\" class=\"dataframe\">\n",
       "  <thead>\n",
       "    <tr style=\"text-align: right;\">\n",
       "      <th></th>\n",
       "      <th>3 glass(es) (s=3)</th>\n",
       "      <th>2 glass(es) (s=2)</th>\n",
       "      <th>1 glass(es) (s=1)</th>\n",
       "      <th>0 glass(es) (s=0)</th>\n",
       "    </tr>\n",
       "    <tr>\n",
       "      <th>Drop # (k)</th>\n",
       "      <th></th>\n",
       "      <th></th>\n",
       "      <th></th>\n",
       "      <th></th>\n",
       "    </tr>\n",
       "  </thead>\n",
       "  <tbody>\n",
       "    <tr>\n",
       "      <th>1</th>\n",
       "      <td>1</td>\n",
       "      <td>1</td>\n",
       "      <td>1</td>\n",
       "      <td>0</td>\n",
       "    </tr>\n",
       "    <tr>\n",
       "      <th>2</th>\n",
       "      <td>3</td>\n",
       "      <td>3</td>\n",
       "      <td>2</td>\n",
       "      <td>0</td>\n",
       "    </tr>\n",
       "    <tr>\n",
       "      <th>3</th>\n",
       "      <td>7</td>\n",
       "      <td>6</td>\n",
       "      <td>3</td>\n",
       "      <td>0</td>\n",
       "    </tr>\n",
       "    <tr>\n",
       "      <th>4</th>\n",
       "      <td>14</td>\n",
       "      <td>10</td>\n",
       "      <td>4</td>\n",
       "      <td>0</td>\n",
       "    </tr>\n",
       "    <tr>\n",
       "      <th>5</th>\n",
       "      <td>25</td>\n",
       "      <td>15</td>\n",
       "      <td>5</td>\n",
       "      <td>0</td>\n",
       "    </tr>\n",
       "    <tr>\n",
       "      <th>6</th>\n",
       "      <td>41</td>\n",
       "      <td>21</td>\n",
       "      <td>6</td>\n",
       "      <td>0</td>\n",
       "    </tr>\n",
       "    <tr>\n",
       "      <th>7</th>\n",
       "      <td>63</td>\n",
       "      <td>28</td>\n",
       "      <td>7</td>\n",
       "      <td>0</td>\n",
       "    </tr>\n",
       "    <tr>\n",
       "      <th>8</th>\n",
       "      <td>92</td>\n",
       "      <td>36</td>\n",
       "      <td>8</td>\n",
       "      <td>0</td>\n",
       "    </tr>\n",
       "    <tr>\n",
       "      <th>9</th>\n",
       "      <td>129</td>\n",
       "      <td>45</td>\n",
       "      <td>9</td>\n",
       "      <td>0</td>\n",
       "    </tr>\n",
       "    <tr>\n",
       "      <th>10</th>\n",
       "      <td>175</td>\n",
       "      <td>55</td>\n",
       "      <td>10</td>\n",
       "      <td>0</td>\n",
       "    </tr>\n",
       "    <tr>\n",
       "      <th>11</th>\n",
       "      <td>231</td>\n",
       "      <td>66</td>\n",
       "      <td>11</td>\n",
       "      <td>0</td>\n",
       "    </tr>\n",
       "    <tr>\n",
       "      <th>12</th>\n",
       "      <td>298</td>\n",
       "      <td>78</td>\n",
       "      <td>12</td>\n",
       "      <td>0</td>\n",
       "    </tr>\n",
       "    <tr>\n",
       "      <th>13</th>\n",
       "      <td>377</td>\n",
       "      <td>91</td>\n",
       "      <td>13</td>\n",
       "      <td>0</td>\n",
       "    </tr>\n",
       "    <tr>\n",
       "      <th>14</th>\n",
       "      <td>469</td>\n",
       "      <td>105</td>\n",
       "      <td>14</td>\n",
       "      <td>0</td>\n",
       "    </tr>\n",
       "    <tr>\n",
       "      <th>15</th>\n",
       "      <td>575</td>\n",
       "      <td>120</td>\n",
       "      <td>15</td>\n",
       "      <td>0</td>\n",
       "    </tr>\n",
       "    <tr>\n",
       "      <th>16</th>\n",
       "      <td>696</td>\n",
       "      <td>136</td>\n",
       "      <td>16</td>\n",
       "      <td>0</td>\n",
       "    </tr>\n",
       "    <tr>\n",
       "      <th>17</th>\n",
       "      <td>833</td>\n",
       "      <td>153</td>\n",
       "      <td>17</td>\n",
       "      <td>0</td>\n",
       "    </tr>\n",
       "    <tr>\n",
       "      <th>18</th>\n",
       "      <td>987</td>\n",
       "      <td>171</td>\n",
       "      <td>18</td>\n",
       "      <td>0</td>\n",
       "    </tr>\n",
       "    <tr>\n",
       "      <th>19</th>\n",
       "      <td>1159</td>\n",
       "      <td>190</td>\n",
       "      <td>19</td>\n",
       "      <td>0</td>\n",
       "    </tr>\n",
       "  </tbody>\n",
       "</table>\n",
       "</div>"
      ],
      "text/plain": [
       "            3 glass(es) (s=3)  2 glass(es) (s=2)  1 glass(es) (s=1)  \\\n",
       "Drop # (k)                                                            \n",
       "1                           1                  1                  1   \n",
       "2                           3                  3                  2   \n",
       "3                           7                  6                  3   \n",
       "4                          14                 10                  4   \n",
       "5                          25                 15                  5   \n",
       "6                          41                 21                  6   \n",
       "7                          63                 28                  7   \n",
       "8                          92                 36                  8   \n",
       "9                         129                 45                  9   \n",
       "10                        175                 55                 10   \n",
       "11                        231                 66                 11   \n",
       "12                        298                 78                 12   \n",
       "13                        377                 91                 13   \n",
       "14                        469                105                 14   \n",
       "15                        575                120                 15   \n",
       "16                        696                136                 16   \n",
       "17                        833                153                 17   \n",
       "18                        987                171                 18   \n",
       "19                       1159                190                 19   \n",
       "\n",
       "            0 glass(es) (s=0)  \n",
       "Drop # (k)                     \n",
       "1                           0  \n",
       "2                           0  \n",
       "3                           0  \n",
       "4                           0  \n",
       "5                           0  \n",
       "6                           0  \n",
       "7                           0  \n",
       "8                           0  \n",
       "9                           0  \n",
       "10                          0  \n",
       "11                          0  \n",
       "12                          0  \n",
       "13                          0  \n",
       "14                          0  \n",
       "15                          0  \n",
       "16                          0  \n",
       "17                          0  \n",
       "18                          0  \n",
       "19                          0  "
      ]
     },
     "metadata": {},
     "output_type": "display_data"
    },
    {
     "data": {
      "image/png": "[encoded data removed]",
      "text/plain": [
       "<Figure size 1000x600 with 1 Axes>"
      ]
     },
     "metadata": {},
     "output_type": "display_data"
    },
    {
     "name": "stdout",
     "output_type": "stream",
     "text": [
      "Non-digit input detected. Exiting program.\n"
     ]
    }
   ],
   "source": [
    "import numpy as np\n",
    "import pandas as pd\n",
    "import matplotlib.pyplot as plt\n",
    "from IPython.display import display\n",
    "\n",
    "def generate_dp_table(floors, glasses):\n",
    "    \"\"\"\n",
    "    Calculate f(k, s): maximum number of floors that can be tested \n",
    "    using k drops and s glasses.\n",
    "    \"\"\"\n",
    "    f = np.zeros(glasses + 1, dtype=int)  # f[s] = f(k, s)\n",
    "    history = []\n",
    "    drops = 0\n",
    "    while f[glasses] < floors:\n",
    "        drops += 1\n",
    "        for s in range(glasses, 0, -1):\n",
    "            f[s] = f[s] + f[s - 1] + 1  # f(k, s) = f(k-1, s-1) + f(k-1, s) + 1\n",
    "        history.append(f.copy())\n",
    "\n",
    "    # Table: floors to glasses\n",
    "    columns = [f\"{s} glass(es) (s={s})\" for s in reversed(range(len(f)))]\n",
    "    data = [row[::-1] for row in history]\n",
    "    table = pd.DataFrame(data, columns=columns)\n",
    "    table.index = np.arange(1, len(table) + 1)\n",
    "    table.index.name = \"Drop # (k)\"\n",
    "    return drops, table\n",
    "\n",
    "def plot_dp_graph(table, floors, glasses, drops):\n",
    "    plt.figure(figsize=(10, 6))\n",
    "    for s in range(glasses, 0, -1):\n",
    "        col = f\"{s} glass(es) (s={s})\"\n",
    "        plt.plot(table.index, table[col], marker='o', label=col)\n",
    "\n",
    "    plt.axhline(y=floors, color='red', linestyle='--', label=f\"Target: {floors} floors (F)\")\n",
    "    plt.title(f\"{glasses} glass(es) (s={glasses}), {floors} floors (F)\\nMinimum {drops} drops (k)\")\n",
    "    plt.xlabel(\"Drop # (k)\")\n",
    "    plt.ylabel(\"f(k, s): Maximum tested floors\")\n",
    "    plt.grid(True)\n",
    "    plt.legend()\n",
    "    plt.tight_layout()\n",
    "    plt.show()\n",
    "\n",
    "# The cycle: if you enter non-digit input, the program exits.\n",
    "while True:\n",
    "    floors_input = input(\"\\nEnter number of floors (F) (or any non-digit to exit): \")\n",
    "    if not floors_input.isdigit():\n",
    "        print(\"Non-digit input detected. Exiting program.\")\n",
    "        break\n",
    "    floors = int(floors_input)\n",
    "    \n",
    "    glasses_input = input(\"Enter number of glasses (s) (or any non-digit to exit): \")\n",
    "    if not glasses_input.isdigit():\n",
    "        print(\"Non-digit input detected. Exiting program.\")\n",
    "        break\n",
    "    glasses = int(glasses_input)\n",
    "\n",
    "    if floors <= 0 or glasses <= 0:\n",
    "        print(\"Please enter positive integers.\")\n",
    "        continue\n",
    "\n",
    "    print(f\"\\nInput: Floors = {floors}, Glasses = {glasses}\")\n",
    "    drops, table = generate_dp_table(floors, glasses)\n",
    "    print(f\"\\nMinimum drops (k): {drops}\\n\")\n",
    "    print(\"Dynamic programming table:\")\n",
    "    display(table)\n",
    "\n",
    "    plot_dp_graph(table, floors, glasses, drops)\n"
   ]
  },
  {
   "cell_type": "code",
   "execution_count": null,
   "metadata": {},
   "outputs": [],
   "source": []
  }
 ],
 "metadata": {
  "kernelspec": {
   "display_name": "Python 3 (ipykernel)",
   "language": "python",
   "name": "python3"
  },
  "language_info": {
   "codemirror_mode": {
    "name": "ipython",
    "version": 3
   },
   "file_extension": ".py",
   "mimetype": "text/x-python",
   "name": "python",
   "nbconvert_exporter": "python",
   "pygments_lexer": "ipython3",
   "version": "3.13.2"
  }
 },
 "nbformat": 4,
 "nbformat_minor": 2
}
