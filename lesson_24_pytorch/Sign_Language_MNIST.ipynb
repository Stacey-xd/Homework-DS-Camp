{
 "cells": [
  {
   "cell_type": "code",
   "execution_count": 2,
   "metadata": {
    "colab": {
     "base_uri": "https://localhost:8080/",
     "height": 290
    },
    "id": "nlPA2hiRJonN",
    "outputId": "52e00f45-f907-4e14-8646-615993699c02"
   },
   "outputs": [
    {
     "name": "stdout",
     "output_type": "stream",
     "text": [
      "Train shape: (27455, 785)\n",
      "Test shape: (7172, 785)\n"
     ]
    },
    {
     "data": {
      "application/vnd.microsoft.datawrangler.viewer.v0+json": {
       "columns": [
        {
         "name": "index",
         "rawType": "int64",
         "type": "integer"
        },
        {
         "name": "label",
         "rawType": "int64",
         "type": "integer"
        },
        {
         "name": "pixel1",
         "rawType": "int64",
         "type": "integer"
        },
        {
         "name": "pixel2",
         "rawType": "int64",
         "type": "integer"
        },
        {
         "name": "pixel3",
         "rawType": "int64",
         "type": "integer"
        },
        {
         "name": "pixel4",
         "rawType": "int64",
         "type": "integer"
        },
        {
         "name": "pixel5",
         "rawType": "int64",
         "type": "integer"
        },
        {
         "name": "pixel6",
         "rawType": "int64",
         "type": "integer"
        },
        {
         "name": "pixel7",
         "rawType": "int64",
         "type": "integer"
        },
        {
         "name": "pixel8",
         "rawType": "int64",
         "type": "integer"
        },
        {
         "name": "pixel9",
         "rawType": "int64",
         "type": "integer"
        },
        {
         "name": "pixel10",
         "rawType": "int64",
         "type": "integer"
        },
        {
         "name": "pixel11",
         "rawType": "int64",
         "type": "integer"
        },
        {
         "name": "pixel12",
         "rawType": "int64",
         "type": "integer"
        },
        {
         "name": "pixel13",
         "rawType": "int64",
         "type": "integer"
        },
        {
         "name": "pixel14",
         "rawType": "int64",
         "type": "integer"
        },
        {
         "name": "pixel15",
         "rawType": "int64",
         "type": "integer"
        },
        {
         "name": "pixel16",
         "rawType": "int64",
         "type": "integer"
        },
        {
         "name": "pixel17",
         "rawType": "int64",
         "type": "integer"
        },
        {
         "name": "pixel18",
         "rawType": "int64",
         "type": "integer"
        },
        {
         "name": "pixel19",
         "rawType": "int64",
         "type": "integer"
        },
        {
         "name": "pixel20",
         "rawType": "int64",
         "type": "integer"
        },
        {
         "name": "pixel21",
         "rawType": "int64",
         "type": "integer"
        },
        {
         "name": "pixel22",
         "rawType": "int64",
         "type": "integer"
        },
        {
         "name": "pixel23",
         "rawType": "int64",
         "type": "integer"
        },
        {
         "name": "pixel24",
         "rawType": "int64",
         "type": "integer"
        },
        {
         "name": "pixel25",
         "rawType": "int64",
         "type": "integer"
        },
        {
         "name": "pixel26",
         "rawType": "int64",
         "type": "integer"
        },
        {
         "name": "pixel27",
         "rawType": "int64",
         "type": "integer"
        },
        {
         "name": "pixel28",
         "rawType": "int64",
         "type": "integer"
        },
        {
         "name": "pixel29",
         "rawType": "int64",
         "type": "integer"
        },
        {
         "name": "pixel30",
         "rawType": "int64",
         "type": "integer"
        },
        {
         "name": "pixel31",
         "rawType": "int64",
         "type": "integer"
        },
        {
         "name": "pixel32",
         "rawType": "int64",
         "type": "integer"
        },
        {
         "name": "pixel33",
         "rawType": "int64",
         "type": "integer"
        },
        {
         "name": "pixel34",
         "rawType": "int64",
         "type": "integer"
        },
        {
         "name": "pixel35",
         "rawType": "int64",
         "type": "integer"
        },
        {
         "name": "pixel36",
         "rawType": "int64",
         "type": "integer"
        },
        {
         "name": "pixel37",
         "rawType": "int64",
         "type": "integer"
        },
        {
         "name": "pixel38",
         "rawType": "int64",
         "type": "integer"
        },
        {
         "name": "pixel39",
         "rawType": "int64",
         "type": "integer"
        },
        {
         "name": "pixel40",
         "rawType": "int64",
         "type": "integer"
        },
        {
         "name": "pixel41",
         "rawType": "int64",
         "type": "integer"
        },
        {
         "name": "pixel42",
         "rawType": "int64",
         "type": "integer"
        },
        {
         "name": "pixel43",
         "rawType": "int64",
         "type": "integer"
        },
        {
         "name": "pixel44",
         "rawType": "int64",
         "type": "integer"
        },
        {
         "name": "pixel45",
         "rawType": "int64",
         "type": "integer"
        },
        {
         "name": "pixel46",
         "rawType": "int64",
         "type": "integer"
        },
        {
         "name": "pixel47",
         "rawType": "int64",
         "type": "integer"
        },
        {
         "name": "pixel48",
         "rawType": "int64",
         "type": "integer"
        },
        {
         "name": "pixel49",
         "rawType": "int64",
         "type": "integer"
        },
        {
         "name": "pixel50",
         "rawType": "int64",
         "type": "integer"
        },
        {
         "name": "pixel51",
         "rawType": "int64",
         "type": "integer"
        },
        {
         "name": "pixel52",
         "rawType": "int64",
         "type": "integer"
        },
        {
         "name": "pixel53",
         "rawType": "int64",
         "type": "integer"
        },
        {
         "name": "pixel54",
         "rawType": "int64",
         "type": "integer"
        },
        {
         "name": "pixel55",
         "rawType": "int64",
         "type": "integer"
        },
        {
         "name": "pixel56",
         "rawType": "int64",
         "type": "integer"
        },
        {
         "name": "pixel57",
         "rawType": "int64",
         "type": "integer"
        },
        {
         "name": "pixel58",
         "rawType": "int64",
         "type": "integer"
        },
        {
         "name": "pixel59",
         "rawType": "int64",
         "type": "integer"
        },
        {
         "name": "pixel60",
         "rawType": "int64",
         "type": "integer"
        },
        {
         "name": "pixel61",
         "rawType": "int64",
         "type": "integer"
        },
        {
         "name": "pixel62",
         "rawType": "int64",
         "type": "integer"
        },
        {
         "name": "pixel63",
         "rawType": "int64",
         "type": "integer"
        },
        {
         "name": "pixel64",
         "rawType": "int64",
         "type": "integer"
        },
        {
         "name": "pixel65",
         "rawType": "int64",
         "type": "integer"
        },
        {
         "name": "pixel66",
         "rawType": "int64",
         "type": "integer"
        },
        {
         "name": "pixel67",
         "rawType": "int64",
         "type": "integer"
        },
        {
         "name": "pixel68",
         "rawType": "int64",
         "type": "integer"
        },
        {
         "name": "pixel69",
         "rawType": "int64",
         "type": "integer"
        },
        {
         "name": "pixel70",
         "rawType": "int64",
         "type": "integer"
        },
        {
         "name": "pixel71",
         "rawType": "int64",
         "type": "integer"
        },
        {
         "name": "pixel72",
         "rawType": "int64",
         "type": "integer"
        },
        {
         "name": "pixel73",
         "rawType": "int64",
         "type": "integer"
        },
        {
         "name": "pixel74",
         "rawType": "int64",
         "type": "integer"
        },
        {
         "name": "pixel75",
         "rawType": "int64",
         "type": "integer"
        },
        {
         "name": "pixel76",
         "rawType": "int64",
         "type": "integer"
        },
        {
         "name": "pixel77",
         "rawType": "int64",
         "type": "integer"
        },
        {
         "name": "pixel78",
         "rawType": "int64",
         "type": "integer"
        },
        {
         "name": "pixel79",
         "rawType": "int64",
         "type": "integer"
        },
        {
         "name": "pixel80",
         "rawType": "int64",
         "type": "integer"
        },
        {
         "name": "pixel81",
         "rawType": "int64",
         "type": "integer"
        },
        {
         "name": "pixel82",
         "rawType": "int64",
         "type": "integer"
        },
        {
         "name": "pixel83",
         "rawType": "int64",
         "type": "integer"
        },
        {
         "name": "pixel84",
         "rawType": "int64",
         "type": "integer"
        },
        {
         "name": "pixel85",
         "rawType": "int64",
         "type": "integer"
        },
        {
         "name": "pixel86",
         "rawType": "int64",
         "type": "integer"
        },
        {
         "name": "pixel87",
         "rawType": "int64",
         "type": "integer"
        },
        {
         "name": "pixel88",
         "rawType": "int64",
         "type": "integer"
        },
        {
         "name": "pixel89",
         "rawType": "int64",
         "type": "integer"
        },
        {
         "name": "pixel90",
         "rawType": "int64",
         "type": "integer"
        },
        {
         "name": "pixel91",
         "rawType": "int64",
         "type": "integer"
        },
        {
         "name": "pixel92",
         "rawType": "int64",
         "type": "integer"
        },
        {
         "name": "pixel93",
         "rawType": "int64",
         "type": "integer"
        },
        {
         "name": "pixel94",
         "rawType": "int64",
         "type": "integer"
        },
        {
         "name": "pixel95",
         "rawType": "int64",
         "type": "integer"
        },
        {
         "name": "pixel96",
         "rawType": "int64",
         "type": "integer"
        },
        {
         "name": "pixel97",
         "rawType": "int64",
         "type": "integer"
        },
        {
         "name": "pixel98",
         "rawType": "int64",
         "type": "integer"
        },
        {
         "name": "pixel99",
         "rawType": "int64",
         "type": "integer"
        },
        {
         "name": "pixel100",
         "rawType": "int64",
         "type": "integer"
        },
        {
         "name": "pixel101",
         "rawType": "int64",
         "type": "integer"
        },
        {
         "name": "pixel102",
         "rawType": "int64",
         "type": "integer"
        },
        {
         "name": "pixel103",
         "rawType": "int64",
         "type": "integer"
        },
        {
         "name": "pixel104",
         "rawType": "int64",
         "type": "integer"
        },
        {
         "name": "pixel105",
         "rawType": "int64",
         "type": "integer"
        },
        {
         "name": "pixel106",
         "rawType": "int64",
         "type": "integer"
        },
        {
         "name": "pixel107",
         "rawType": "int64",
         "type": "integer"
        },
        {
         "name": "pixel108",
         "rawType": "int64",
         "type": "integer"
        },
        {
         "name": "pixel109",
         "rawType": "int64",
         "type": "integer"
        },
        {
         "name": "pixel110",
         "rawType": "int64",
         "type": "integer"
        },
        {
         "name": "pixel111",
         "rawType": "int64",
         "type": "integer"
        },
        {
         "name": "pixel112",
         "rawType": "int64",
         "type": "integer"
        },
        {
         "name": "pixel113",
         "rawType": "int64",
         "type": "integer"
        },
        {
         "name": "pixel114",
         "rawType": "int64",
         "type": "integer"
        },
        {
         "name": "pixel115",
         "rawType": "int64",
         "type": "integer"
        },
        {
         "name": "pixel116",
         "rawType": "int64",
         "type": "integer"
        },
        {
         "name": "pixel117",
         "rawType": "int64",
         "type": "integer"
        },
        {
         "name": "pixel118",
         "rawType": "int64",
         "type": "integer"
        },
        {
         "name": "pixel119",
         "rawType": "int64",
         "type": "integer"
        },
        {
         "name": "pixel120",
         "rawType": "int64",
         "type": "integer"
        },
        {
         "name": "pixel121",
         "rawType": "int64",
         "type": "integer"
        },
        {
         "name": "pixel122",
         "rawType": "int64",
         "type": "integer"
        },
        {
         "name": "pixel123",
         "rawType": "int64",
         "type": "integer"
        },
        {
         "name": "pixel124",
         "rawType": "int64",
         "type": "integer"
        },
        {
         "name": "pixel125",
         "rawType": "int64",
         "type": "integer"
        },
        {
         "name": "pixel126",
         "rawType": "int64",
         "type": "integer"
        },
        {
         "name": "pixel127",
         "rawType": "int64",
         "type": "integer"
        },
        {
         "name": "pixel128",
         "rawType": "int64",
         "type": "integer"
        },
        {
         "name": "pixel129",
         "rawType": "int64",
         "type": "integer"
        },
        {
         "name": "pixel130",
         "rawType": "int64",
         "type": "integer"
        },
        {
         "name": "pixel131",
         "rawType": "int64",
         "type": "integer"
        },
        {
         "name": "pixel132",
         "rawType": "int64",
         "type": "integer"
        },
        {
         "name": "pixel133",
         "rawType": "int64",
         "type": "integer"
        },
        {
         "name": "pixel134",
         "rawType": "int64",
         "type": "integer"
        },
        {
         "name": "pixel135",
         "rawType": "int64",
         "type": "integer"
        },
        {
         "name": "pixel136",
         "rawType": "int64",
         "type": "integer"
        },
        {
         "name": "pixel137",
         "rawType": "int64",
         "type": "integer"
        },
        {
         "name": "pixel138",
         "rawType": "int64",
         "type": "integer"
        },
        {
         "name": "pixel139",
         "rawType": "int64",
         "type": "integer"
        },
        {
         "name": "pixel140",
         "rawType": "int64",
         "type": "integer"
        },
        {
         "name": "pixel141",
         "rawType": "int64",
         "type": "integer"
        },
        {
         "name": "pixel142",
         "rawType": "int64",
         "type": "integer"
        },
        {
         "name": "pixel143",
         "rawType": "int64",
         "type": "integer"
        },
        {
         "name": "pixel144",
         "rawType": "int64",
         "type": "integer"
        },
        {
         "name": "pixel145",
         "rawType": "int64",
         "type": "integer"
        },
        {
         "name": "pixel146",
         "rawType": "int64",
         "type": "integer"
        },
        {
         "name": "pixel147",
         "rawType": "int64",
         "type": "integer"
        },
        {
         "name": "pixel148",
         "rawType": "int64",
         "type": "integer"
        },
        {
         "name": "pixel149",
         "rawType": "int64",
         "type": "integer"
        },
        {
         "name": "pixel150",
         "rawType": "int64",
         "type": "integer"
        },
        {
         "name": "pixel151",
         "rawType": "int64",
         "type": "integer"
        },
        {
         "name": "pixel152",
         "rawType": "int64",
         "type": "integer"
        },
        {
         "name": "pixel153",
         "rawType": "int64",
         "type": "integer"
        },
        {
         "name": "pixel154",
         "rawType": "int64",
         "type": "integer"
        },
        {
         "name": "pixel155",
         "rawType": "int64",
         "type": "integer"
        },
        {
         "name": "pixel156",
         "rawType": "int64",
         "type": "integer"
        },
        {
         "name": "pixel157",
         "rawType": "int64",
         "type": "integer"
        },
        {
         "name": "pixel158",
         "rawType": "int64",
         "type": "integer"
        },
        {
         "name": "pixel159",
         "rawType": "int64",
         "type": "integer"
        },
        {
         "name": "pixel160",
         "rawType": "int64",
         "type": "integer"
        },
        {
         "name": "pixel161",
         "rawType": "int64",
         "type": "integer"
        },
        {
         "name": "pixel162",
         "rawType": "int64",
         "type": "integer"
        },
        {
         "name": "pixel163",
         "rawType": "int64",
         "type": "integer"
        },
        {
         "name": "pixel164",
         "rawType": "int64",
         "type": "integer"
        },
        {
         "name": "pixel165",
         "rawType": "int64",
         "type": "integer"
        },
        {
         "name": "pixel166",
         "rawType": "int64",
         "type": "integer"
        },
        {
         "name": "pixel167",
         "rawType": "int64",
         "type": "integer"
        },
        {
         "name": "pixel168",
         "rawType": "int64",
         "type": "integer"
        },
        {
         "name": "pixel169",
         "rawType": "int64",
         "type": "integer"
        },
        {
         "name": "pixel170",
         "rawType": "int64",
         "type": "integer"
        },
        {
         "name": "pixel171",
         "rawType": "int64",
         "type": "integer"
        },
        {
         "name": "pixel172",
         "rawType": "int64",
         "type": "integer"
        },
        {
         "name": "pixel173",
         "rawType": "int64",
         "type": "integer"
        },
        {
         "name": "pixel174",
         "rawType": "int64",
         "type": "integer"
        },
        {
         "name": "pixel175",
         "rawType": "int64",
         "type": "integer"
        },
        {
         "name": "pixel176",
         "rawType": "int64",
         "type": "integer"
        },
        {
         "name": "pixel177",
         "rawType": "int64",
         "type": "integer"
        },
        {
         "name": "pixel178",
         "rawType": "int64",
         "type": "integer"
        },
        {
         "name": "pixel179",
         "rawType": "int64",
         "type": "integer"
        },
        {
         "name": "pixel180",
         "rawType": "int64",
         "type": "integer"
        },
        {
         "name": "pixel181",
         "rawType": "int64",
         "type": "integer"
        },
        {
         "name": "pixel182",
         "rawType": "int64",
         "type": "integer"
        },
        {
         "name": "pixel183",
         "rawType": "int64",
         "type": "integer"
        },
        {
         "name": "pixel184",
         "rawType": "int64",
         "type": "integer"
        },
        {
         "name": "pixel185",
         "rawType": "int64",
         "type": "integer"
        },
        {
         "name": "pixel186",
         "rawType": "int64",
         "type": "integer"
        },
        {
         "name": "pixel187",
         "rawType": "int64",
         "type": "integer"
        },
        {
         "name": "pixel188",
         "rawType": "int64",
         "type": "integer"
        },
        {
         "name": "pixel189",
         "rawType": "int64",
         "type": "integer"
        },
        {
         "name": "pixel190",
         "rawType": "int64",
         "type": "integer"
        },
        {
         "name": "pixel191",
         "rawType": "int64",
         "type": "integer"
        },
        {
         "name": "pixel192",
         "rawType": "int64",
         "type": "integer"
        },
        {
         "name": "pixel193",
         "rawType": "int64",
         "type": "integer"
        },
        {
         "name": "pixel194",
         "rawType": "int64",
         "type": "integer"
        },
        {
         "name": "pixel195",
         "rawType": "int64",
         "type": "integer"
        },
        {
         "name": "pixel196",
         "rawType": "int64",
         "type": "integer"
        },
        {
         "name": "pixel197",
         "rawType": "int64",
         "type": "integer"
        },
        {
         "name": "pixel198",
         "rawType": "int64",
         "type": "integer"
        },
        {
         "name": "pixel199",
         "rawType": "int64",
         "type": "integer"
        },
        {
         "name": "pixel200",
         "rawType": "int64",
         "type": "integer"
        },
        {
         "name": "pixel201",
         "rawType": "int64",
         "type": "integer"
        },
        {
         "name": "pixel202",
         "rawType": "int64",
         "type": "integer"
        },
        {
         "name": "pixel203",
         "rawType": "int64",
         "type": "integer"
        },
        {
         "name": "pixel204",
         "rawType": "int64",
         "type": "integer"
        },
        {
         "name": "pixel205",
         "rawType": "int64",
         "type": "integer"
        },
        {
         "name": "pixel206",
         "rawType": "int64",
         "type": "integer"
        },
        {
         "name": "pixel207",
         "rawType": "int64",
         "type": "integer"
        },
        {
         "name": "pixel208",
         "rawType": "int64",
         "type": "integer"
        },
        {
         "name": "pixel209",
         "rawType": "int64",
         "type": "integer"
        },
        {
         "name": "pixel210",
         "rawType": "int64",
         "type": "integer"
        },
        {
         "name": "pixel211",
         "rawType": "int64",
         "type": "integer"
        },
        {
         "name": "pixel212",
         "rawType": "int64",
         "type": "integer"
        },
        {
         "name": "pixel213",
         "rawType": "int64",
         "type": "integer"
        },
        {
         "name": "pixel214",
         "rawType": "int64",
         "type": "integer"
        },
        {
         "name": "pixel215",
         "rawType": "int64",
         "type": "integer"
        },
        {
         "name": "pixel216",
         "rawType": "int64",
         "type": "integer"
        },
        {
         "name": "pixel217",
         "rawType": "int64",
         "type": "integer"
        },
        {
         "name": "pixel218",
         "rawType": "int64",
         "type": "integer"
        },
        {
         "name": "pixel219",
         "rawType": "int64",
         "type": "integer"
        },
        {
         "name": "pixel220",
         "rawType": "int64",
         "type": "integer"
        },
        {
         "name": "pixel221",
         "rawType": "int64",
         "type": "integer"
        },
        {
         "name": "pixel222",
         "rawType": "int64",
         "type": "integer"
        },
        {
         "name": "pixel223",
         "rawType": "int64",
         "type": "integer"
        },
        {
         "name": "pixel224",
         "rawType": "int64",
         "type": "integer"
        },
        {
         "name": "pixel225",
         "rawType": "int64",
         "type": "integer"
        },
        {
         "name": "pixel226",
         "rawType": "int64",
         "type": "integer"
        },
        {
         "name": "pixel227",
         "rawType": "int64",
         "type": "integer"
        },
        {
         "name": "pixel228",
         "rawType": "int64",
         "type": "integer"
        },
        {
         "name": "pixel229",
         "rawType": "int64",
         "type": "integer"
        },
        {
         "name": "pixel230",
         "rawType": "int64",
         "type": "integer"
        },
        {
         "name": "pixel231",
         "rawType": "int64",
         "type": "integer"
        },
        {
         "name": "pixel232",
         "rawType": "int64",
         "type": "integer"
        },
        {
         "name": "pixel233",
         "rawType": "int64",
         "type": "integer"
        },
        {
         "name": "pixel234",
         "rawType": "int64",
         "type": "integer"
        },
        {
         "name": "pixel235",
         "rawType": "int64",
         "type": "integer"
        },
        {
         "name": "pixel236",
         "rawType": "int64",
         "type": "integer"
        },
        {
         "name": "pixel237",
         "rawType": "int64",
         "type": "integer"
        },
        {
         "name": "pixel238",
         "rawType": "int64",
         "type": "integer"
        },
        {
         "name": "pixel239",
         "rawType": "int64",
         "type": "integer"
        },
        {
         "name": "pixel240",
         "rawType": "int64",
         "type": "integer"
        },
        {
         "name": "pixel241",
         "rawType": "int64",
         "type": "integer"
        },
        {
         "name": "pixel242",
         "rawType": "int64",
         "type": "integer"
        },
        {
         "name": "pixel243",
         "rawType": "int64",
         "type": "integer"
        },
        {
         "name": "pixel244",
         "rawType": "int64",
         "type": "integer"
        },
        {
         "name": "pixel245",
         "rawType": "int64",
         "type": "integer"
        },
        {
         "name": "pixel246",
         "rawType": "int64",
         "type": "integer"
        },
        {
         "name": "pixel247",
         "rawType": "int64",
         "type": "integer"
        },
        {
         "name": "pixel248",
         "rawType": "int64",
         "type": "integer"
        },
        {
         "name": "pixel249",
         "rawType": "int64",
         "type": "integer"
        },
        {
         "name": "pixel250",
         "rawType": "int64",
         "type": "integer"
        },
        {
         "name": "pixel251",
         "rawType": "int64",
         "type": "integer"
        },
        {
         "name": "pixel252",
         "rawType": "int64",
         "type": "integer"
        },
        {
         "name": "pixel253",
         "rawType": "int64",
         "type": "integer"
        },
        {
         "name": "pixel254",
         "rawType": "int64",
         "type": "integer"
        },
        {
         "name": "pixel255",
         "rawType": "int64",
         "type": "integer"
        },
        {
         "name": "pixel256",
         "rawType": "int64",
         "type": "integer"
        },
        {
         "name": "pixel257",
         "rawType": "int64",
         "type": "integer"
        },
        {
         "name": "pixel258",
         "rawType": "int64",
         "type": "integer"
        },
        {
         "name": "pixel259",
         "rawType": "int64",
         "type": "integer"
        },
        {
         "name": "pixel260",
         "rawType": "int64",
         "type": "integer"
        },
        {
         "name": "pixel261",
         "rawType": "int64",
         "type": "integer"
        },
        {
         "name": "pixel262",
         "rawType": "int64",
         "type": "integer"
        },
        {
         "name": "pixel263",
         "rawType": "int64",
         "type": "integer"
        },
        {
         "name": "pixel264",
         "rawType": "int64",
         "type": "integer"
        },
        {
         "name": "pixel265",
         "rawType": "int64",
         "type": "integer"
        },
        {
         "name": "pixel266",
         "rawType": "int64",
         "type": "integer"
        },
        {
         "name": "pixel267",
         "rawType": "int64",
         "type": "integer"
        },
        {
         "name": "pixel268",
         "rawType": "int64",
         "type": "integer"
        },
        {
         "name": "pixel269",
         "rawType": "int64",
         "type": "integer"
        },
        {
         "name": "pixel270",
         "rawType": "int64",
         "type": "integer"
        },
        {
         "name": "pixel271",
         "rawType": "int64",
         "type": "integer"
        },
        {
         "name": "pixel272",
         "rawType": "int64",
         "type": "integer"
        },
        {
         "name": "pixel273",
         "rawType": "int64",
         "type": "integer"
        },
        {
         "name": "pixel274",
         "rawType": "int64",
         "type": "integer"
        },
        {
         "name": "pixel275",
         "rawType": "int64",
         "type": "integer"
        },
        {
         "name": "pixel276",
         "rawType": "int64",
         "type": "integer"
        },
        {
         "name": "pixel277",
         "rawType": "int64",
         "type": "integer"
        },
        {
         "name": "pixel278",
         "rawType": "int64",
         "type": "integer"
        },
        {
         "name": "pixel279",
         "rawType": "int64",
         "type": "integer"
        },
        {
         "name": "pixel280",
         "rawType": "int64",
         "type": "integer"
        },
        {
         "name": "pixel281",
         "rawType": "int64",
         "type": "integer"
        },
        {
         "name": "pixel282",
         "rawType": "int64",
         "type": "integer"
        },
        {
         "name": "pixel283",
         "rawType": "int64",
         "type": "integer"
        },
        {
         "name": "pixel284",
         "rawType": "int64",
         "type": "integer"
        },
        {
         "name": "pixel285",
         "rawType": "int64",
         "type": "integer"
        },
        {
         "name": "pixel286",
         "rawType": "int64",
         "type": "integer"
        },
        {
         "name": "pixel287",
         "rawType": "int64",
         "type": "integer"
        },
        {
         "name": "pixel288",
         "rawType": "int64",
         "type": "integer"
        },
        {
         "name": "pixel289",
         "rawType": "int64",
         "type": "integer"
        },
        {
         "name": "pixel290",
         "rawType": "int64",
         "type": "integer"
        },
        {
         "name": "pixel291",
         "rawType": "int64",
         "type": "integer"
        },
        {
         "name": "pixel292",
         "rawType": "int64",
         "type": "integer"
        },
        {
         "name": "pixel293",
         "rawType": "int64",
         "type": "integer"
        },
        {
         "name": "pixel294",
         "rawType": "int64",
         "type": "integer"
        },
        {
         "name": "pixel295",
         "rawType": "int64",
         "type": "integer"
        },
        {
         "name": "pixel296",
         "rawType": "int64",
         "type": "integer"
        },
        {
         "name": "pixel297",
         "rawType": "int64",
         "type": "integer"
        },
        {
         "name": "pixel298",
         "rawType": "int64",
         "type": "integer"
        },
        {
         "name": "pixel299",
         "rawType": "int64",
         "type": "integer"
        },
        {
         "name": "pixel300",
         "rawType": "int64",
         "type": "integer"
        },
        {
         "name": "pixel301",
         "rawType": "int64",
         "type": "integer"
        },
        {
         "name": "pixel302",
         "rawType": "int64",
         "type": "integer"
        },
        {
         "name": "pixel303",
         "rawType": "int64",
         "type": "integer"
        },
        {
         "name": "pixel304",
         "rawType": "int64",
         "type": "integer"
        },
        {
         "name": "pixel305",
         "rawType": "int64",
         "type": "integer"
        },
        {
         "name": "pixel306",
         "rawType": "int64",
         "type": "integer"
        },
        {
         "name": "pixel307",
         "rawType": "int64",
         "type": "integer"
        },
        {
         "name": "pixel308",
         "rawType": "int64",
         "type": "integer"
        },
        {
         "name": "pixel309",
         "rawType": "int64",
         "type": "integer"
        },
        {
         "name": "pixel310",
         "rawType": "int64",
         "type": "integer"
        },
        {
         "name": "pixel311",
         "rawType": "int64",
         "type": "integer"
        },
        {
         "name": "pixel312",
         "rawType": "int64",
         "type": "integer"
        },
        {
         "name": "pixel313",
         "rawType": "int64",
         "type": "integer"
        },
        {
         "name": "pixel314",
         "rawType": "int64",
         "type": "integer"
        },
        {
         "name": "pixel315",
         "rawType": "int64",
         "type": "integer"
        },
        {
         "name": "pixel316",
         "rawType": "int64",
         "type": "integer"
        },
        {
         "name": "pixel317",
         "rawType": "int64",
         "type": "integer"
        },
        {
         "name": "pixel318",
         "rawType": "int64",
         "type": "integer"
        },
        {
         "name": "pixel319",
         "rawType": "int64",
         "type": "integer"
        },
        {
         "name": "pixel320",
         "rawType": "int64",
         "type": "integer"
        },
        {
         "name": "pixel321",
         "rawType": "int64",
         "type": "integer"
        },
        {
         "name": "pixel322",
         "rawType": "int64",
         "type": "integer"
        },
        {
         "name": "pixel323",
         "rawType": "int64",
         "type": "integer"
        },
        {
         "name": "pixel324",
         "rawType": "int64",
         "type": "integer"
        },
        {
         "name": "pixel325",
         "rawType": "int64",
         "type": "integer"
        },
        {
         "name": "pixel326",
         "rawType": "int64",
         "type": "integer"
        },
        {
         "name": "pixel327",
         "rawType": "int64",
         "type": "integer"
        },
        {
         "name": "pixel328",
         "rawType": "int64",
         "type": "integer"
        },
        {
         "name": "pixel329",
         "rawType": "int64",
         "type": "integer"
        },
        {
         "name": "pixel330",
         "rawType": "int64",
         "type": "integer"
        },
        {
         "name": "pixel331",
         "rawType": "int64",
         "type": "integer"
        },
        {
         "name": "pixel332",
         "rawType": "int64",
         "type": "integer"
        },
        {
         "name": "pixel333",
         "rawType": "int64",
         "type": "integer"
        },
        {
         "name": "pixel334",
         "rawType": "int64",
         "type": "integer"
        },
        {
         "name": "pixel335",
         "rawType": "int64",
         "type": "integer"
        },
        {
         "name": "pixel336",
         "rawType": "int64",
         "type": "integer"
        },
        {
         "name": "pixel337",
         "rawType": "int64",
         "type": "integer"
        },
        {
         "name": "pixel338",
         "rawType": "int64",
         "type": "integer"
        },
        {
         "name": "pixel339",
         "rawType": "int64",
         "type": "integer"
        },
        {
         "name": "pixel340",
         "rawType": "int64",
         "type": "integer"
        },
        {
         "name": "pixel341",
         "rawType": "int64",
         "type": "integer"
        },
        {
         "name": "pixel342",
         "rawType": "int64",
         "type": "integer"
        },
        {
         "name": "pixel343",
         "rawType": "int64",
         "type": "integer"
        },
        {
         "name": "pixel344",
         "rawType": "int64",
         "type": "integer"
        },
        {
         "name": "pixel345",
         "rawType": "int64",
         "type": "integer"
        },
        {
         "name": "pixel346",
         "rawType": "int64",
         "type": "integer"
        },
        {
         "name": "pixel347",
         "rawType": "int64",
         "type": "integer"
        },
        {
         "name": "pixel348",
         "rawType": "int64",
         "type": "integer"
        },
        {
         "name": "pixel349",
         "rawType": "int64",
         "type": "integer"
        },
        {
         "name": "pixel350",
         "rawType": "int64",
         "type": "integer"
        },
        {
         "name": "pixel351",
         "rawType": "int64",
         "type": "integer"
        },
        {
         "name": "pixel352",
         "rawType": "int64",
         "type": "integer"
        },
        {
         "name": "pixel353",
         "rawType": "int64",
         "type": "integer"
        },
        {
         "name": "pixel354",
         "rawType": "int64",
         "type": "integer"
        },
        {
         "name": "pixel355",
         "rawType": "int64",
         "type": "integer"
        },
        {
         "name": "pixel356",
         "rawType": "int64",
         "type": "integer"
        },
        {
         "name": "pixel357",
         "rawType": "int64",
         "type": "integer"
        },
        {
         "name": "pixel358",
         "rawType": "int64",
         "type": "integer"
        },
        {
         "name": "pixel359",
         "rawType": "int64",
         "type": "integer"
        },
        {
         "name": "pixel360",
         "rawType": "int64",
         "type": "integer"
        },
        {
         "name": "pixel361",
         "rawType": "int64",
         "type": "integer"
        },
        {
         "name": "pixel362",
         "rawType": "int64",
         "type": "integer"
        },
        {
         "name": "pixel363",
         "rawType": "int64",
         "type": "integer"
        },
        {
         "name": "pixel364",
         "rawType": "int64",
         "type": "integer"
        },
        {
         "name": "pixel365",
         "rawType": "int64",
         "type": "integer"
        },
        {
         "name": "pixel366",
         "rawType": "int64",
         "type": "integer"
        },
        {
         "name": "pixel367",
         "rawType": "int64",
         "type": "integer"
        },
        {
         "name": "pixel368",
         "rawType": "int64",
         "type": "integer"
        },
        {
         "name": "pixel369",
         "rawType": "int64",
         "type": "integer"
        },
        {
         "name": "pixel370",
         "rawType": "int64",
         "type": "integer"
        },
        {
         "name": "pixel371",
         "rawType": "int64",
         "type": "integer"
        },
        {
         "name": "pixel372",
         "rawType": "int64",
         "type": "integer"
        },
        {
         "name": "pixel373",
         "rawType": "int64",
         "type": "integer"
        },
        {
         "name": "pixel374",
         "rawType": "int64",
         "type": "integer"
        },
        {
         "name": "pixel375",
         "rawType": "int64",
         "type": "integer"
        },
        {
         "name": "pixel376",
         "rawType": "int64",
         "type": "integer"
        },
        {
         "name": "pixel377",
         "rawType": "int64",
         "type": "integer"
        },
        {
         "name": "pixel378",
         "rawType": "int64",
         "type": "integer"
        },
        {
         "name": "pixel379",
         "rawType": "int64",
         "type": "integer"
        },
        {
         "name": "pixel380",
         "rawType": "int64",
         "type": "integer"
        },
        {
         "name": "pixel381",
         "rawType": "int64",
         "type": "integer"
        },
        {
         "name": "pixel382",
         "rawType": "int64",
         "type": "integer"
        },
        {
         "name": "pixel383",
         "rawType": "int64",
         "type": "integer"
        },
        {
         "name": "pixel384",
         "rawType": "int64",
         "type": "integer"
        },
        {
         "name": "pixel385",
         "rawType": "int64",
         "type": "integer"
        },
        {
         "name": "pixel386",
         "rawType": "int64",
         "type": "integer"
        },
        {
         "name": "pixel387",
         "rawType": "int64",
         "type": "integer"
        },
        {
         "name": "pixel388",
         "rawType": "int64",
         "type": "integer"
        },
        {
         "name": "pixel389",
         "rawType": "int64",
         "type": "integer"
        },
        {
         "name": "pixel390",
         "rawType": "int64",
         "type": "integer"
        },
        {
         "name": "pixel391",
         "rawType": "int64",
         "type": "integer"
        },
        {
         "name": "pixel392",
         "rawType": "int64",
         "type": "integer"
        },
        {
         "name": "pixel393",
         "rawType": "int64",
         "type": "integer"
        },
        {
         "name": "pixel394",
         "rawType": "int64",
         "type": "integer"
        },
        {
         "name": "pixel395",
         "rawType": "int64",
         "type": "integer"
        },
        {
         "name": "pixel396",
         "rawType": "int64",
         "type": "integer"
        },
        {
         "name": "pixel397",
         "rawType": "int64",
         "type": "integer"
        },
        {
         "name": "pixel398",
         "rawType": "int64",
         "type": "integer"
        },
        {
         "name": "pixel399",
         "rawType": "int64",
         "type": "integer"
        },
        {
         "name": "pixel400",
         "rawType": "int64",
         "type": "integer"
        },
        {
         "name": "pixel401",
         "rawType": "int64",
         "type": "integer"
        },
        {
         "name": "pixel402",
         "rawType": "int64",
         "type": "integer"
        },
        {
         "name": "pixel403",
         "rawType": "int64",
         "type": "integer"
        },
        {
         "name": "pixel404",
         "rawType": "int64",
         "type": "integer"
        },
        {
         "name": "pixel405",
         "rawType": "int64",
         "type": "integer"
        },
        {
         "name": "pixel406",
         "rawType": "int64",
         "type": "integer"
        },
        {
         "name": "pixel407",
         "rawType": "int64",
         "type": "integer"
        },
        {
         "name": "pixel408",
         "rawType": "int64",
         "type": "integer"
        },
        {
         "name": "pixel409",
         "rawType": "int64",
         "type": "integer"
        },
        {
         "name": "pixel410",
         "rawType": "int64",
         "type": "integer"
        },
        {
         "name": "pixel411",
         "rawType": "int64",
         "type": "integer"
        },
        {
         "name": "pixel412",
         "rawType": "int64",
         "type": "integer"
        },
        {
         "name": "pixel413",
         "rawType": "int64",
         "type": "integer"
        },
        {
         "name": "pixel414",
         "rawType": "int64",
         "type": "integer"
        },
        {
         "name": "pixel415",
         "rawType": "int64",
         "type": "integer"
        },
        {
         "name": "pixel416",
         "rawType": "int64",
         "type": "integer"
        },
        {
         "name": "pixel417",
         "rawType": "int64",
         "type": "integer"
        },
        {
         "name": "pixel418",
         "rawType": "int64",
         "type": "integer"
        },
        {
         "name": "pixel419",
         "rawType": "int64",
         "type": "integer"
        },
        {
         "name": "pixel420",
         "rawType": "int64",
         "type": "integer"
        },
        {
         "name": "pixel421",
         "rawType": "int64",
         "type": "integer"
        },
        {
         "name": "pixel422",
         "rawType": "int64",
         "type": "integer"
        },
        {
         "name": "pixel423",
         "rawType": "int64",
         "type": "integer"
        },
        {
         "name": "pixel424",
         "rawType": "int64",
         "type": "integer"
        },
        {
         "name": "pixel425",
         "rawType": "int64",
         "type": "integer"
        },
        {
         "name": "pixel426",
         "rawType": "int64",
         "type": "integer"
        },
        {
         "name": "pixel427",
         "rawType": "int64",
         "type": "integer"
        },
        {
         "name": "pixel428",
         "rawType": "int64",
         "type": "integer"
        },
        {
         "name": "pixel429",
         "rawType": "int64",
         "type": "integer"
        },
        {
         "name": "pixel430",
         "rawType": "int64",
         "type": "integer"
        },
        {
         "name": "pixel431",
         "rawType": "int64",
         "type": "integer"
        },
        {
         "name": "pixel432",
         "rawType": "int64",
         "type": "integer"
        },
        {
         "name": "pixel433",
         "rawType": "int64",
         "type": "integer"
        },
        {
         "name": "pixel434",
         "rawType": "int64",
         "type": "integer"
        },
        {
         "name": "pixel435",
         "rawType": "int64",
         "type": "integer"
        },
        {
         "name": "pixel436",
         "rawType": "int64",
         "type": "integer"
        },
        {
         "name": "pixel437",
         "rawType": "int64",
         "type": "integer"
        },
        {
         "name": "pixel438",
         "rawType": "int64",
         "type": "integer"
        },
        {
         "name": "pixel439",
         "rawType": "int64",
         "type": "integer"
        },
        {
         "name": "pixel440",
         "rawType": "int64",
         "type": "integer"
        },
        {
         "name": "pixel441",
         "rawType": "int64",
         "type": "integer"
        },
        {
         "name": "pixel442",
         "rawType": "int64",
         "type": "integer"
        },
        {
         "name": "pixel443",
         "rawType": "int64",
         "type": "integer"
        },
        {
         "name": "pixel444",
         "rawType": "int64",
         "type": "integer"
        },
        {
         "name": "pixel445",
         "rawType": "int64",
         "type": "integer"
        },
        {
         "name": "pixel446",
         "rawType": "int64",
         "type": "integer"
        },
        {
         "name": "pixel447",
         "rawType": "int64",
         "type": "integer"
        },
        {
         "name": "pixel448",
         "rawType": "int64",
         "type": "integer"
        },
        {
         "name": "pixel449",
         "rawType": "int64",
         "type": "integer"
        },
        {
         "name": "pixel450",
         "rawType": "int64",
         "type": "integer"
        },
        {
         "name": "pixel451",
         "rawType": "int64",
         "type": "integer"
        },
        {
         "name": "pixel452",
         "rawType": "int64",
         "type": "integer"
        },
        {
         "name": "pixel453",
         "rawType": "int64",
         "type": "integer"
        },
        {
         "name": "pixel454",
         "rawType": "int64",
         "type": "integer"
        },
        {
         "name": "pixel455",
         "rawType": "int64",
         "type": "integer"
        },
        {
         "name": "pixel456",
         "rawType": "int64",
         "type": "integer"
        },
        {
         "name": "pixel457",
         "rawType": "int64",
         "type": "integer"
        },
        {
         "name": "pixel458",
         "rawType": "int64",
         "type": "integer"
        },
        {
         "name": "pixel459",
         "rawType": "int64",
         "type": "integer"
        },
        {
         "name": "pixel460",
         "rawType": "int64",
         "type": "integer"
        },
        {
         "name": "pixel461",
         "rawType": "int64",
         "type": "integer"
        },
        {
         "name": "pixel462",
         "rawType": "int64",
         "type": "integer"
        },
        {
         "name": "pixel463",
         "rawType": "int64",
         "type": "integer"
        },
        {
         "name": "pixel464",
         "rawType": "int64",
         "type": "integer"
        },
        {
         "name": "pixel465",
         "rawType": "int64",
         "type": "integer"
        },
        {
         "name": "pixel466",
         "rawType": "int64",
         "type": "integer"
        },
        {
         "name": "pixel467",
         "rawType": "int64",
         "type": "integer"
        },
        {
         "name": "pixel468",
         "rawType": "int64",
         "type": "integer"
        },
        {
         "name": "pixel469",
         "rawType": "int64",
         "type": "integer"
        },
        {
         "name": "pixel470",
         "rawType": "int64",
         "type": "integer"
        },
        {
         "name": "pixel471",
         "rawType": "int64",
         "type": "integer"
        },
        {
         "name": "pixel472",
         "rawType": "int64",
         "type": "integer"
        },
        {
         "name": "pixel473",
         "rawType": "int64",
         "type": "integer"
        },
        {
         "name": "pixel474",
         "rawType": "int64",
         "type": "integer"
        },
        {
         "name": "pixel475",
         "rawType": "int64",
         "type": "integer"
        },
        {
         "name": "pixel476",
         "rawType": "int64",
         "type": "integer"
        },
        {
         "name": "pixel477",
         "rawType": "int64",
         "type": "integer"
        },
        {
         "name": "pixel478",
         "rawType": "int64",
         "type": "integer"
        },
        {
         "name": "pixel479",
         "rawType": "int64",
         "type": "integer"
        },
        {
         "name": "pixel480",
         "rawType": "int64",
         "type": "integer"
        },
        {
         "name": "pixel481",
         "rawType": "int64",
         "type": "integer"
        },
        {
         "name": "pixel482",
         "rawType": "int64",
         "type": "integer"
        },
        {
         "name": "pixel483",
         "rawType": "int64",
         "type": "integer"
        },
        {
         "name": "pixel484",
         "rawType": "int64",
         "type": "integer"
        },
        {
         "name": "pixel485",
         "rawType": "int64",
         "type": "integer"
        },
        {
         "name": "pixel486",
         "rawType": "int64",
         "type": "integer"
        },
        {
         "name": "pixel487",
         "rawType": "int64",
         "type": "integer"
        },
        {
         "name": "pixel488",
         "rawType": "int64",
         "type": "integer"
        },
        {
         "name": "pixel489",
         "rawType": "int64",
         "type": "integer"
        },
        {
         "name": "pixel490",
         "rawType": "int64",
         "type": "integer"
        },
        {
         "name": "pixel491",
         "rawType": "int64",
         "type": "integer"
        },
        {
         "name": "pixel492",
         "rawType": "int64",
         "type": "integer"
        },
        {
         "name": "pixel493",
         "rawType": "int64",
         "type": "integer"
        },
        {
         "name": "pixel494",
         "rawType": "int64",
         "type": "integer"
        },
        {
         "name": "pixel495",
         "rawType": "int64",
         "type": "integer"
        },
        {
         "name": "pixel496",
         "rawType": "int64",
         "type": "integer"
        },
        {
         "name": "pixel497",
         "rawType": "int64",
         "type": "integer"
        },
        {
         "name": "pixel498",
         "rawType": "int64",
         "type": "integer"
        },
        {
         "name": "pixel499",
         "rawType": "int64",
         "type": "integer"
        },
        {
         "name": "pixel500",
         "rawType": "int64",
         "type": "integer"
        },
        {
         "name": "pixel501",
         "rawType": "int64",
         "type": "integer"
        },
        {
         "name": "pixel502",
         "rawType": "int64",
         "type": "integer"
        },
        {
         "name": "pixel503",
         "rawType": "int64",
         "type": "integer"
        },
        {
         "name": "pixel504",
         "rawType": "int64",
         "type": "integer"
        },
        {
         "name": "pixel505",
         "rawType": "int64",
         "type": "integer"
        },
        {
         "name": "pixel506",
         "rawType": "int64",
         "type": "integer"
        },
        {
         "name": "pixel507",
         "rawType": "int64",
         "type": "integer"
        },
        {
         "name": "pixel508",
         "rawType": "int64",
         "type": "integer"
        },
        {
         "name": "pixel509",
         "rawType": "int64",
         "type": "integer"
        },
        {
         "name": "pixel510",
         "rawType": "int64",
         "type": "integer"
        },
        {
         "name": "pixel511",
         "rawType": "int64",
         "type": "integer"
        },
        {
         "name": "pixel512",
         "rawType": "int64",
         "type": "integer"
        },
        {
         "name": "pixel513",
         "rawType": "int64",
         "type": "integer"
        },
        {
         "name": "pixel514",
         "rawType": "int64",
         "type": "integer"
        },
        {
         "name": "pixel515",
         "rawType": "int64",
         "type": "integer"
        },
        {
         "name": "pixel516",
         "rawType": "int64",
         "type": "integer"
        },
        {
         "name": "pixel517",
         "rawType": "int64",
         "type": "integer"
        },
        {
         "name": "pixel518",
         "rawType": "int64",
         "type": "integer"
        },
        {
         "name": "pixel519",
         "rawType": "int64",
         "type": "integer"
        },
        {
         "name": "pixel520",
         "rawType": "int64",
         "type": "integer"
        },
        {
         "name": "pixel521",
         "rawType": "int64",
         "type": "integer"
        },
        {
         "name": "pixel522",
         "rawType": "int64",
         "type": "integer"
        },
        {
         "name": "pixel523",
         "rawType": "int64",
         "type": "integer"
        },
        {
         "name": "pixel524",
         "rawType": "int64",
         "type": "integer"
        },
        {
         "name": "pixel525",
         "rawType": "int64",
         "type": "integer"
        },
        {
         "name": "pixel526",
         "rawType": "int64",
         "type": "integer"
        },
        {
         "name": "pixel527",
         "rawType": "int64",
         "type": "integer"
        },
        {
         "name": "pixel528",
         "rawType": "int64",
         "type": "integer"
        },
        {
         "name": "pixel529",
         "rawType": "int64",
         "type": "integer"
        },
        {
         "name": "pixel530",
         "rawType": "int64",
         "type": "integer"
        },
        {
         "name": "pixel531",
         "rawType": "int64",
         "type": "integer"
        },
        {
         "name": "pixel532",
         "rawType": "int64",
         "type": "integer"
        },
        {
         "name": "pixel533",
         "rawType": "int64",
         "type": "integer"
        },
        {
         "name": "pixel534",
         "rawType": "int64",
         "type": "integer"
        },
        {
         "name": "pixel535",
         "rawType": "int64",
         "type": "integer"
        },
        {
         "name": "pixel536",
         "rawType": "int64",
         "type": "integer"
        },
        {
         "name": "pixel537",
         "rawType": "int64",
         "type": "integer"
        },
        {
         "name": "pixel538",
         "rawType": "int64",
         "type": "integer"
        },
        {
         "name": "pixel539",
         "rawType": "int64",
         "type": "integer"
        },
        {
         "name": "pixel540",
         "rawType": "int64",
         "type": "integer"
        },
        {
         "name": "pixel541",
         "rawType": "int64",
         "type": "integer"
        },
        {
         "name": "pixel542",
         "rawType": "int64",
         "type": "integer"
        },
        {
         "name": "pixel543",
         "rawType": "int64",
         "type": "integer"
        },
        {
         "name": "pixel544",
         "rawType": "int64",
         "type": "integer"
        },
        {
         "name": "pixel545",
         "rawType": "int64",
         "type": "integer"
        },
        {
         "name": "pixel546",
         "rawType": "int64",
         "type": "integer"
        },
        {
         "name": "pixel547",
         "rawType": "int64",
         "type": "integer"
        },
        {
         "name": "pixel548",
         "rawType": "int64",
         "type": "integer"
        },
        {
         "name": "pixel549",
         "rawType": "int64",
         "type": "integer"
        },
        {
         "name": "pixel550",
         "rawType": "int64",
         "type": "integer"
        },
        {
         "name": "pixel551",
         "rawType": "int64",
         "type": "integer"
        },
        {
         "name": "pixel552",
         "rawType": "int64",
         "type": "integer"
        },
        {
         "name": "pixel553",
         "rawType": "int64",
         "type": "integer"
        },
        {
         "name": "pixel554",
         "rawType": "int64",
         "type": "integer"
        },
        {
         "name": "pixel555",
         "rawType": "int64",
         "type": "integer"
        },
        {
         "name": "pixel556",
         "rawType": "int64",
         "type": "integer"
        },
        {
         "name": "pixel557",
         "rawType": "int64",
         "type": "integer"
        },
        {
         "name": "pixel558",
         "rawType": "int64",
         "type": "integer"
        },
        {
         "name": "pixel559",
         "rawType": "int64",
         "type": "integer"
        },
        {
         "name": "pixel560",
         "rawType": "int64",
         "type": "integer"
        },
        {
         "name": "pixel561",
         "rawType": "int64",
         "type": "integer"
        },
        {
         "name": "pixel562",
         "rawType": "int64",
         "type": "integer"
        },
        {
         "name": "pixel563",
         "rawType": "int64",
         "type": "integer"
        },
        {
         "name": "pixel564",
         "rawType": "int64",
         "type": "integer"
        },
        {
         "name": "pixel565",
         "rawType": "int64",
         "type": "integer"
        },
        {
         "name": "pixel566",
         "rawType": "int64",
         "type": "integer"
        },
        {
         "name": "pixel567",
         "rawType": "int64",
         "type": "integer"
        },
        {
         "name": "pixel568",
         "rawType": "int64",
         "type": "integer"
        },
        {
         "name": "pixel569",
         "rawType": "int64",
         "type": "integer"
        },
        {
         "name": "pixel570",
         "rawType": "int64",
         "type": "integer"
        },
        {
         "name": "pixel571",
         "rawType": "int64",
         "type": "integer"
        },
        {
         "name": "pixel572",
         "rawType": "int64",
         "type": "integer"
        },
        {
         "name": "pixel573",
         "rawType": "int64",
         "type": "integer"
        },
        {
         "name": "pixel574",
         "rawType": "int64",
         "type": "integer"
        },
        {
         "name": "pixel575",
         "rawType": "int64",
         "type": "integer"
        },
        {
         "name": "pixel576",
         "rawType": "int64",
         "type": "integer"
        },
        {
         "name": "pixel577",
         "rawType": "int64",
         "type": "integer"
        },
        {
         "name": "pixel578",
         "rawType": "int64",
         "type": "integer"
        },
        {
         "name": "pixel579",
         "rawType": "int64",
         "type": "integer"
        },
        {
         "name": "pixel580",
         "rawType": "int64",
         "type": "integer"
        },
        {
         "name": "pixel581",
         "rawType": "int64",
         "type": "integer"
        },
        {
         "name": "pixel582",
         "rawType": "int64",
         "type": "integer"
        },
        {
         "name": "pixel583",
         "rawType": "int64",
         "type": "integer"
        },
        {
         "name": "pixel584",
         "rawType": "int64",
         "type": "integer"
        },
        {
         "name": "pixel585",
         "rawType": "int64",
         "type": "integer"
        },
        {
         "name": "pixel586",
         "rawType": "int64",
         "type": "integer"
        },
        {
         "name": "pixel587",
         "rawType": "int64",
         "type": "integer"
        },
        {
         "name": "pixel588",
         "rawType": "int64",
         "type": "integer"
        },
        {
         "name": "pixel589",
         "rawType": "int64",
         "type": "integer"
        },
        {
         "name": "pixel590",
         "rawType": "int64",
         "type": "integer"
        },
        {
         "name": "pixel591",
         "rawType": "int64",
         "type": "integer"
        },
        {
         "name": "pixel592",
         "rawType": "int64",
         "type": "integer"
        },
        {
         "name": "pixel593",
         "rawType": "int64",
         "type": "integer"
        },
        {
         "name": "pixel594",
         "rawType": "int64",
         "type": "integer"
        },
        {
         "name": "pixel595",
         "rawType": "int64",
         "type": "integer"
        },
        {
         "name": "pixel596",
         "rawType": "int64",
         "type": "integer"
        },
        {
         "name": "pixel597",
         "rawType": "int64",
         "type": "integer"
        },
        {
         "name": "pixel598",
         "rawType": "int64",
         "type": "integer"
        },
        {
         "name": "pixel599",
         "rawType": "int64",
         "type": "integer"
        },
        {
         "name": "pixel600",
         "rawType": "int64",
         "type": "integer"
        },
        {
         "name": "pixel601",
         "rawType": "int64",
         "type": "integer"
        },
        {
         "name": "pixel602",
         "rawType": "int64",
         "type": "integer"
        },
        {
         "name": "pixel603",
         "rawType": "int64",
         "type": "integer"
        },
        {
         "name": "pixel604",
         "rawType": "int64",
         "type": "integer"
        },
        {
         "name": "pixel605",
         "rawType": "int64",
         "type": "integer"
        },
        {
         "name": "pixel606",
         "rawType": "int64",
         "type": "integer"
        },
        {
         "name": "pixel607",
         "rawType": "int64",
         "type": "integer"
        },
        {
         "name": "pixel608",
         "rawType": "int64",
         "type": "integer"
        },
        {
         "name": "pixel609",
         "rawType": "int64",
         "type": "integer"
        },
        {
         "name": "pixel610",
         "rawType": "int64",
         "type": "integer"
        },
        {
         "name": "pixel611",
         "rawType": "int64",
         "type": "integer"
        },
        {
         "name": "pixel612",
         "rawType": "int64",
         "type": "integer"
        },
        {
         "name": "pixel613",
         "rawType": "int64",
         "type": "integer"
        },
        {
         "name": "pixel614",
         "rawType": "int64",
         "type": "integer"
        },
        {
         "name": "pixel615",
         "rawType": "int64",
         "type": "integer"
        },
        {
         "name": "pixel616",
         "rawType": "int64",
         "type": "integer"
        },
        {
         "name": "pixel617",
         "rawType": "int64",
         "type": "integer"
        },
        {
         "name": "pixel618",
         "rawType": "int64",
         "type": "integer"
        },
        {
         "name": "pixel619",
         "rawType": "int64",
         "type": "integer"
        },
        {
         "name": "pixel620",
         "rawType": "int64",
         "type": "integer"
        },
        {
         "name": "pixel621",
         "rawType": "int64",
         "type": "integer"
        },
        {
         "name": "pixel622",
         "rawType": "int64",
         "type": "integer"
        },
        {
         "name": "pixel623",
         "rawType": "int64",
         "type": "integer"
        },
        {
         "name": "pixel624",
         "rawType": "int64",
         "type": "integer"
        },
        {
         "name": "pixel625",
         "rawType": "int64",
         "type": "integer"
        },
        {
         "name": "pixel626",
         "rawType": "int64",
         "type": "integer"
        },
        {
         "name": "pixel627",
         "rawType": "int64",
         "type": "integer"
        },
        {
         "name": "pixel628",
         "rawType": "int64",
         "type": "integer"
        },
        {
         "name": "pixel629",
         "rawType": "int64",
         "type": "integer"
        },
        {
         "name": "pixel630",
         "rawType": "int64",
         "type": "integer"
        },
        {
         "name": "pixel631",
         "rawType": "int64",
         "type": "integer"
        },
        {
         "name": "pixel632",
         "rawType": "int64",
         "type": "integer"
        },
        {
         "name": "pixel633",
         "rawType": "int64",
         "type": "integer"
        },
        {
         "name": "pixel634",
         "rawType": "int64",
         "type": "integer"
        },
        {
         "name": "pixel635",
         "rawType": "int64",
         "type": "integer"
        },
        {
         "name": "pixel636",
         "rawType": "int64",
         "type": "integer"
        },
        {
         "name": "pixel637",
         "rawType": "int64",
         "type": "integer"
        },
        {
         "name": "pixel638",
         "rawType": "int64",
         "type": "integer"
        },
        {
         "name": "pixel639",
         "rawType": "int64",
         "type": "integer"
        },
        {
         "name": "pixel640",
         "rawType": "int64",
         "type": "integer"
        },
        {
         "name": "pixel641",
         "rawType": "int64",
         "type": "integer"
        },
        {
         "name": "pixel642",
         "rawType": "int64",
         "type": "integer"
        },
        {
         "name": "pixel643",
         "rawType": "int64",
         "type": "integer"
        },
        {
         "name": "pixel644",
         "rawType": "int64",
         "type": "integer"
        },
        {
         "name": "pixel645",
         "rawType": "int64",
         "type": "integer"
        },
        {
         "name": "pixel646",
         "rawType": "int64",
         "type": "integer"
        },
        {
         "name": "pixel647",
         "rawType": "int64",
         "type": "integer"
        },
        {
         "name": "pixel648",
         "rawType": "int64",
         "type": "integer"
        },
        {
         "name": "pixel649",
         "rawType": "int64",
         "type": "integer"
        },
        {
         "name": "pixel650",
         "rawType": "int64",
         "type": "integer"
        },
        {
         "name": "pixel651",
         "rawType": "int64",
         "type": "integer"
        },
        {
         "name": "pixel652",
         "rawType": "int64",
         "type": "integer"
        },
        {
         "name": "pixel653",
         "rawType": "int64",
         "type": "integer"
        },
        {
         "name": "pixel654",
         "rawType": "int64",
         "type": "integer"
        },
        {
         "name": "pixel655",
         "rawType": "int64",
         "type": "integer"
        },
        {
         "name": "pixel656",
         "rawType": "int64",
         "type": "integer"
        },
        {
         "name": "pixel657",
         "rawType": "int64",
         "type": "integer"
        },
        {
         "name": "pixel658",
         "rawType": "int64",
         "type": "integer"
        },
        {
         "name": "pixel659",
         "rawType": "int64",
         "type": "integer"
        },
        {
         "name": "pixel660",
         "rawType": "int64",
         "type": "integer"
        },
        {
         "name": "pixel661",
         "rawType": "int64",
         "type": "integer"
        },
        {
         "name": "pixel662",
         "rawType": "int64",
         "type": "integer"
        },
        {
         "name": "pixel663",
         "rawType": "int64",
         "type": "integer"
        },
        {
         "name": "pixel664",
         "rawType": "int64",
         "type": "integer"
        },
        {
         "name": "pixel665",
         "rawType": "int64",
         "type": "integer"
        },
        {
         "name": "pixel666",
         "rawType": "int64",
         "type": "integer"
        },
        {
         "name": "pixel667",
         "rawType": "int64",
         "type": "integer"
        },
        {
         "name": "pixel668",
         "rawType": "int64",
         "type": "integer"
        },
        {
         "name": "pixel669",
         "rawType": "int64",
         "type": "integer"
        },
        {
         "name": "pixel670",
         "rawType": "int64",
         "type": "integer"
        },
        {
         "name": "pixel671",
         "rawType": "int64",
         "type": "integer"
        },
        {
         "name": "pixel672",
         "rawType": "int64",
         "type": "integer"
        },
        {
         "name": "pixel673",
         "rawType": "int64",
         "type": "integer"
        },
        {
         "name": "pixel674",
         "rawType": "int64",
         "type": "integer"
        },
        {
         "name": "pixel675",
         "rawType": "int64",
         "type": "integer"
        },
        {
         "name": "pixel676",
         "rawType": "int64",
         "type": "integer"
        },
        {
         "name": "pixel677",
         "rawType": "int64",
         "type": "integer"
        },
        {
         "name": "pixel678",
         "rawType": "int64",
         "type": "integer"
        },
        {
         "name": "pixel679",
         "rawType": "int64",
         "type": "integer"
        },
        {
         "name": "pixel680",
         "rawType": "int64",
         "type": "integer"
        },
        {
         "name": "pixel681",
         "rawType": "int64",
         "type": "integer"
        },
        {
         "name": "pixel682",
         "rawType": "int64",
         "type": "integer"
        },
        {
         "name": "pixel683",
         "rawType": "int64",
         "type": "integer"
        },
        {
         "name": "pixel684",
         "rawType": "int64",
         "type": "integer"
        },
        {
         "name": "pixel685",
         "rawType": "int64",
         "type": "integer"
        },
        {
         "name": "pixel686",
         "rawType": "int64",
         "type": "integer"
        },
        {
         "name": "pixel687",
         "rawType": "int64",
         "type": "integer"
        },
        {
         "name": "pixel688",
         "rawType": "int64",
         "type": "integer"
        },
        {
         "name": "pixel689",
         "rawType": "int64",
         "type": "integer"
        },
        {
         "name": "pixel690",
         "rawType": "int64",
         "type": "integer"
        },
        {
         "name": "pixel691",
         "rawType": "int64",
         "type": "integer"
        },
        {
         "name": "pixel692",
         "rawType": "int64",
         "type": "integer"
        },
        {
         "name": "pixel693",
         "rawType": "int64",
         "type": "integer"
        },
        {
         "name": "pixel694",
         "rawType": "int64",
         "type": "integer"
        },
        {
         "name": "pixel695",
         "rawType": "int64",
         "type": "integer"
        },
        {
         "name": "pixel696",
         "rawType": "int64",
         "type": "integer"
        },
        {
         "name": "pixel697",
         "rawType": "int64",
         "type": "integer"
        },
        {
         "name": "pixel698",
         "rawType": "int64",
         "type": "integer"
        },
        {
         "name": "pixel699",
         "rawType": "int64",
         "type": "integer"
        },
        {
         "name": "pixel700",
         "rawType": "int64",
         "type": "integer"
        },
        {
         "name": "pixel701",
         "rawType": "int64",
         "type": "integer"
        },
        {
         "name": "pixel702",
         "rawType": "int64",
         "type": "integer"
        },
        {
         "name": "pixel703",
         "rawType": "int64",
         "type": "integer"
        },
        {
         "name": "pixel704",
         "rawType": "int64",
         "type": "integer"
        },
        {
         "name": "pixel705",
         "rawType": "int64",
         "type": "integer"
        },
        {
         "name": "pixel706",
         "rawType": "int64",
         "type": "integer"
        },
        {
         "name": "pixel707",
         "rawType": "int64",
         "type": "integer"
        },
        {
         "name": "pixel708",
         "rawType": "int64",
         "type": "integer"
        },
        {
         "name": "pixel709",
         "rawType": "int64",
         "type": "integer"
        },
        {
         "name": "pixel710",
         "rawType": "int64",
         "type": "integer"
        },
        {
         "name": "pixel711",
         "rawType": "int64",
         "type": "integer"
        },
        {
         "name": "pixel712",
         "rawType": "int64",
         "type": "integer"
        },
        {
         "name": "pixel713",
         "rawType": "int64",
         "type": "integer"
        },
        {
         "name": "pixel714",
         "rawType": "int64",
         "type": "integer"
        },
        {
         "name": "pixel715",
         "rawType": "int64",
         "type": "integer"
        },
        {
         "name": "pixel716",
         "rawType": "int64",
         "type": "integer"
        },
        {
         "name": "pixel717",
         "rawType": "int64",
         "type": "integer"
        },
        {
         "name": "pixel718",
         "rawType": "int64",
         "type": "integer"
        },
        {
         "name": "pixel719",
         "rawType": "int64",
         "type": "integer"
        },
        {
         "name": "pixel720",
         "rawType": "int64",
         "type": "integer"
        },
        {
         "name": "pixel721",
         "rawType": "int64",
         "type": "integer"
        },
        {
         "name": "pixel722",
         "rawType": "int64",
         "type": "integer"
        },
        {
         "name": "pixel723",
         "rawType": "int64",
         "type": "integer"
        },
        {
         "name": "pixel724",
         "rawType": "int64",
         "type": "integer"
        },
        {
         "name": "pixel725",
         "rawType": "int64",
         "type": "integer"
        },
        {
         "name": "pixel726",
         "rawType": "int64",
         "type": "integer"
        },
        {
         "name": "pixel727",
         "rawType": "int64",
         "type": "integer"
        },
        {
         "name": "pixel728",
         "rawType": "int64",
         "type": "integer"
        },
        {
         "name": "pixel729",
         "rawType": "int64",
         "type": "integer"
        },
        {
         "name": "pixel730",
         "rawType": "int64",
         "type": "integer"
        },
        {
         "name": "pixel731",
         "rawType": "int64",
         "type": "integer"
        },
        {
         "name": "pixel732",
         "rawType": "int64",
         "type": "integer"
        },
        {
         "name": "pixel733",
         "rawType": "int64",
         "type": "integer"
        },
        {
         "name": "pixel734",
         "rawType": "int64",
         "type": "integer"
        },
        {
         "name": "pixel735",
         "rawType": "int64",
         "type": "integer"
        },
        {
         "name": "pixel736",
         "rawType": "int64",
         "type": "integer"
        },
        {
         "name": "pixel737",
         "rawType": "int64",
         "type": "integer"
        },
        {
         "name": "pixel738",
         "rawType": "int64",
         "type": "integer"
        },
        {
         "name": "pixel739",
         "rawType": "int64",
         "type": "integer"
        },
        {
         "name": "pixel740",
         "rawType": "int64",
         "type": "integer"
        },
        {
         "name": "pixel741",
         "rawType": "int64",
         "type": "integer"
        },
        {
         "name": "pixel742",
         "rawType": "int64",
         "type": "integer"
        },
        {
         "name": "pixel743",
         "rawType": "int64",
         "type": "integer"
        },
        {
         "name": "pixel744",
         "rawType": "int64",
         "type": "integer"
        },
        {
         "name": "pixel745",
         "rawType": "int64",
         "type": "integer"
        },
        {
         "name": "pixel746",
         "rawType": "int64",
         "type": "integer"
        },
        {
         "name": "pixel747",
         "rawType": "int64",
         "type": "integer"
        },
        {
         "name": "pixel748",
         "rawType": "int64",
         "type": "integer"
        },
        {
         "name": "pixel749",
         "rawType": "int64",
         "type": "integer"
        },
        {
         "name": "pixel750",
         "rawType": "int64",
         "type": "integer"
        },
        {
         "name": "pixel751",
         "rawType": "int64",
         "type": "integer"
        },
        {
         "name": "pixel752",
         "rawType": "int64",
         "type": "integer"
        },
        {
         "name": "pixel753",
         "rawType": "int64",
         "type": "integer"
        },
        {
         "name": "pixel754",
         "rawType": "int64",
         "type": "integer"
        },
        {
         "name": "pixel755",
         "rawType": "int64",
         "type": "integer"
        },
        {
         "name": "pixel756",
         "rawType": "int64",
         "type": "integer"
        },
        {
         "name": "pixel757",
         "rawType": "int64",
         "type": "integer"
        },
        {
         "name": "pixel758",
         "rawType": "int64",
         "type": "integer"
        },
        {
         "name": "pixel759",
         "rawType": "int64",
         "type": "integer"
        },
        {
         "name": "pixel760",
         "rawType": "int64",
         "type": "integer"
        },
        {
         "name": "pixel761",
         "rawType": "int64",
         "type": "integer"
        },
        {
         "name": "pixel762",
         "rawType": "int64",
         "type": "integer"
        },
        {
         "name": "pixel763",
         "rawType": "int64",
         "type": "integer"
        },
        {
         "name": "pixel764",
         "rawType": "int64",
         "type": "integer"
        },
        {
         "name": "pixel765",
         "rawType": "int64",
         "type": "integer"
        },
        {
         "name": "pixel766",
         "rawType": "int64",
         "type": "integer"
        },
        {
         "name": "pixel767",
         "rawType": "int64",
         "type": "integer"
        },
        {
         "name": "pixel768",
         "rawType": "int64",
         "type": "integer"
        },
        {
         "name": "pixel769",
         "rawType": "int64",
         "type": "integer"
        },
        {
         "name": "pixel770",
         "rawType": "int64",
         "type": "integer"
        },
        {
         "name": "pixel771",
         "rawType": "int64",
         "type": "integer"
        },
        {
         "name": "pixel772",
         "rawType": "int64",
         "type": "integer"
        },
        {
         "name": "pixel773",
         "rawType": "int64",
         "type": "integer"
        },
        {
         "name": "pixel774",
         "rawType": "int64",
         "type": "integer"
        },
        {
         "name": "pixel775",
         "rawType": "int64",
         "type": "integer"
        },
        {
         "name": "pixel776",
         "rawType": "int64",
         "type": "integer"
        },
        {
         "name": "pixel777",
         "rawType": "int64",
         "type": "integer"
        },
        {
         "name": "pixel778",
         "rawType": "int64",
         "type": "integer"
        },
        {
         "name": "pixel779",
         "rawType": "int64",
         "type": "integer"
        },
        {
         "name": "pixel780",
         "rawType": "int64",
         "type": "integer"
        },
        {
         "name": "pixel781",
         "rawType": "int64",
         "type": "integer"
        },
        {
         "name": "pixel782",
         "rawType": "int64",
         "type": "integer"
        },
        {
         "name": "pixel783",
         "rawType": "int64",
         "type": "integer"
        },
        {
         "name": "pixel784",
         "rawType": "int64",
         "type": "integer"
        }
       ],
       "ref": "c5748d84-8ce6-4aac-9a17-6fb8d5dd4fc1",
       "rows": [
        [
         "0",
         "3",
         "107",
         "118",
         "127",
         "134",
         "139",
         "143",
         "146",
         "150",
         "153",
         "156",
         "158",
         "160",
         "163",
         "165",
         "159",
         "166",
         "168",
         "170",
         "170",
         "171",
         "171",
         "171",
         "172",
         "171",
         "171",
         "170",
         "170",
         "169",
         "111",
         "121",
         "129",
         "135",
         "141",
         "144",
         "148",
         "151",
         "154",
         "157",
         "160",
         "163",
         "164",
         "170",
         "119",
         "152",
         "171",
         "171",
         "170",
         "171",
         "172",
         "172",
         "172",
         "172",
         "172",
         "171",
         "171",
         "170",
         "113",
         "123",
         "131",
         "137",
         "142",
         "145",
         "150",
         "152",
         "155",
         "158",
         "161",
         "163",
         "164",
         "172",
         "105",
         "142",
         "170",
         "171",
         "171",
         "171",
         "172",
         "172",
         "173",
         "173",
         "172",
         "171",
         "171",
         "171",
         "116",
         "125",
         "133",
         "139",
         "143",
         "146",
         "151",
         "153",
         "156",
         "159",
         "162",
         "163",
         "167",
         "167",
         "95",
         "144",
         "171",
         "172",
         "172",
         "172",
         "172",
         "172",
         "173",
         "173",
         "173",
         "172",
         "172",
         "171",
         "117",
         "126",
         "134",
         "140",
         "145",
         "149",
         "153",
         "156",
         "158",
         "161",
         "163",
         "164",
         "175",
         "156",
         "87",
         "154",
         "172",
         "173",
         "173",
         "173",
         "173",
         "173",
         "174",
         "174",
         "174",
         "173",
         "172",
         "172",
         "119",
         "128",
         "136",
         "142",
         "146",
         "150",
         "153",
         "156",
         "159",
         "163",
         "165",
         "164",
         "184",
         "148",
         "89",
         "164",
         "172",
         "174",
         "174",
         "174",
         "174",
         "175",
         "175",
         "174",
         "175",
         "174",
         "173",
         "173",
         "122",
         "130",
         "138",
         "143",
         "147",
         "150",
         "154",
         "158",
         "162",
         "165",
         "166",
         "172",
         "181",
         "128",
         "94",
         "170",
         "173",
         "175",
         "174",
         "175",
         "176",
         "177",
         "177",
         "177",
         "177",
         "175",
         "175",
         "174",
         "122",
         "132",
         "139",
         "145",
         "149",
         "152",
         "156",
         "160",
         "163",
         "165",
         "166",
         "181",
         "172",
         "103",
         "113",
         "175",
         "176",
         "178",
         "178",
         "179",
         "179",
         "179",
         "179",
         "178",
         "179",
         "177",
         "175",
         "174",
         "125",
         "134",
         "141",
         "147",
         "150",
         "153",
         "157",
         "161",
         "164",
         "167",
         "168",
         "184",
         "179",
         "116",
         "126",
         "165",
         "176",
         "179",
         "180",
         "180",
         "181",
         "180",
         "180",
         "180",
         "179",
         "178",
         "177",
         "176",
         "128",
         "135",
         "142",
         "148",
         "152",
         "154",
         "158",
         "162",
         "165",
         "168",
         "170",
         "187",
         "180",
         "156",
         "161",
         "124",
         "143",
         "179",
         "178",
         "178",
         "181",
         "182",
         "181",
         "180",
         "181",
         "180",
         "179",
         "179",
         "129",
         "136",
         "144",
         "150",
         "153",
         "155",
         "159",
         "163",
         "166",
         "169",
         "172",
         "187",
         "184",
         "153",
         "102",
         "117",
         "110",
         "175",
         "169",
         "154",
         "182",
         "183",
         "183",
         "182",
         "182",
         "181",
         "181",
         "179",
         "131",
         "138",
         "145",
         "150",
         "155",
         "157",
         "161",
         "165",
         "168",
         "174",
         "190",
         "189",
         "175",
         "146",
         "94",
         "97",
         "113",
         "151",
         "158",
         "129",
         "184",
         "184",
         "184",
         "184",
         "183",
         "183",
         "182",
         "180",
         "131",
         "139",
         "146",
         "151",
         "155",
         "159",
         "163",
         "167",
         "175",
         "182",
         "179",
         "171",
         "159",
         "114",
         "102",
         "89",
         "121",
         "136",
         "136",
         "96",
         "172",
         "186",
         "186",
         "185",
         "185",
         "184",
         "182",
         "181",
         "131",
         "140",
         "147",
         "154",
         "157",
         "160",
         "164",
         "179",
         "186",
         "191",
         "187",
         "180",
         "157",
         "100",
         "88",
         "84",
         "108",
         "111",
         "126",
         "90",
         "120",
         "186",
         "187",
         "187",
         "186",
         "185",
         "184",
         "182",
         "133",
         "141",
         "149",
         "155",
         "158",
         "160",
         "174",
         "201",
         "189",
         "165",
         "151",
         "143",
         "146",
         "120",
         "87",
         "78",
         "87",
         "76",
         "108",
         "98",
         "96",
         "181",
         "188",
         "187",
         "186",
         "186",
         "185",
         "183",
         "133",
         "141",
         "150",
         "156",
         "160",
         "161",
         "179",
         "197",
         "174",
         "135",
         "99",
         "72",
         "95",
         "134",
         "97",
         "72",
         "74",
         "68",
         "116",
         "105",
         "108",
         "187",
         "189",
         "187",
         "187",
         "186",
         "186",
         "185",
         "134",
         "143",
         "151",
         "156",
         "161",
         "163",
         "179",
         "194",
         "156",
         "110",
         "74",
         "42",
         "52",
         "139",
         "94",
         "67",
         "75",
         "75",
         "118",
         "106",
         "129",
         "189",
         "191",
         "190",
         "188",
         "188",
         "187",
         "186",
         "135",
         "144",
         "152",
         "158",
         "163",
         "163",
         "177",
         "193",
         "161",
         "122",
         "84",
         "43",
         "71",
         "134",
         "81",
         "57",
         "71",
         "88",
         "112",
         "98",
         "157",
         "193",
         "193",
         "192",
         "190",
         "190",
         "189",
         "188",
         "136",
         "144",
         "152",
         "158",
         "162",
         "163",
         "176",
         "192",
         "164",
         "128",
         "98",
         "62",
         "60",
         "100",
         "71",
         "76",
         "96",
         "101",
         "105",
         "95",
         "174",
         "195",
         "194",
         "194",
         "194",
         "193",
         "191",
         "190",
         "137",
         "145",
         "152",
         "159",
         "164",
         "165",
         "178",
         "191",
         "164",
         "135",
         "113",
         "82",
         "59",
         "87",
         "98",
         "111",
         "120",
         "108",
         "97",
         "108",
         "190",
         "196",
         "195",
         "195",
         "194",
         "193",
         "193",
         "192",
         "139",
         "146",
         "154",
         "160",
         "164",
         "165",
         "175",
         "186",
         "163",
         "139",
         "112",
         "85",
         "67",
         "102",
         "126",
         "133",
         "126",
         "105",
         "104",
         "176",
         "197",
         "198",
         "197",
         "196",
         "195",
         "195",
         "194",
         "193",
         "138",
         "147",
         "155",
         "161",
         "165",
         "167",
         "172",
         "186",
         "163",
         "137",
         "107",
         "87",
         "76",
         "106",
         "122",
         "125",
         "117",
         "96",
         "156",
         "199",
         "199",
         "200",
         "198",
         "196",
         "196",
         "195",
         "195",
         "194",
         "139",
         "148",
         "156",
         "163",
         "166",
         "168",
         "172",
         "180",
         "158",
         "131",
         "108",
         "99",
         "86",
         "108",
         "118",
         "116",
         "103",
         "107",
         "191",
         "202",
         "201",
         "200",
         "200",
         "200",
         "199",
         "197",
         "198",
         "196",
         "140",
         "149",
         "157",
         "164",
         "168",
         "167",
         "177",
         "178",
         "155",
         "131",
         "118",
         "105",
         "87",
         "100",
         "106",
         "100",
         "96",
         "164",
         "202",
         "202",
         "202",
         "202",
         "202",
         "201",
         "200",
         "199",
         "199",
         "198",
         "140",
         "150",
         "157",
         "165",
         "167",
         "170",
         "181",
         "175",
         "152",
         "130",
         "115",
         "98",
         "82",
         "85",
         "90",
         "99",
         "165",
         "202",
         "203",
         "204",
         "203",
         "203",
         "202",
         "202",
         "201",
         "201",
         "200",
         "200",
         "142",
         "150",
         "159",
         "165",
         "170",
         "191",
         "173",
         "157",
         "144",
         "119",
         "97",
         "84",
         "79",
         "79",
         "91",
         "172",
         "202",
         "203",
         "203",
         "205",
         "204",
         "204",
         "204",
         "203",
         "202",
         "202",
         "201",
         "200",
         "142",
         "151",
         "160",
         "165",
         "188",
         "190",
         "187",
         "150",
         "119",
         "109",
         "85",
         "79",
         "79",
         "78",
         "137",
         "203",
         "205",
         "206",
         "206",
         "207",
         "207",
         "206",
         "206",
         "204",
         "205",
         "204",
         "203",
         "202",
         "142",
         "151",
         "160",
         "172",
         "196",
         "188",
         "188",
         "190",
         "135",
         "96",
         "86",
         "77",
         "77",
         "79",
         "176",
         "205",
         "207",
         "207",
         "207",
         "207",
         "207",
         "207",
         "206",
         "206",
         "206",
         "204",
         "203",
         "202"
        ],
        [
         "1",
         "6",
         "155",
         "157",
         "156",
         "156",
         "156",
         "157",
         "156",
         "158",
         "158",
         "157",
         "158",
         "156",
         "154",
         "154",
         "153",
         "152",
         "151",
         "149",
         "149",
         "148",
         "147",
         "146",
         "144",
         "142",
         "143",
         "138",
         "92",
         "108",
         "158",
         "159",
         "159",
         "159",
         "160",
         "160",
         "160",
         "160",
         "160",
         "160",
         "160",
         "159",
         "158",
         "157",
         "155",
         "154",
         "153",
         "152",
         "151",
         "150",
         "149",
         "149",
         "147",
         "147",
         "146",
         "142",
         "116",
         "143",
         "161",
         "161",
         "161",
         "161",
         "162",
         "161",
         "162",
         "162",
         "162",
         "162",
         "161",
         "161",
         "161",
         "160",
         "159",
         "158",
         "156",
         "155",
         "154",
         "153",
         "152",
         "152",
         "151",
         "150",
         "147",
         "147",
         "125",
         "140",
         "165",
         "164",
         "164",
         "165",
         "165",
         "165",
         "165",
         "165",
         "164",
         "164",
         "164",
         "165",
         "163",
         "163",
         "162",
         "161",
         "159",
         "159",
         "158",
         "156",
         "156",
         "155",
         "152",
         "153",
         "154",
         "151",
         "124",
         "126",
         "166",
         "167",
         "166",
         "167",
         "167",
         "166",
         "167",
         "167",
         "167",
         "167",
         "166",
         "167",
         "165",
         "165",
         "164",
         "163",
         "162",
         "162",
         "161",
         "160",
         "156",
         "151",
         "154",
         "176",
         "145",
         "122",
         "144",
         "100",
         "168",
         "169",
         "168",
         "169",
         "169",
         "168",
         "169",
         "170",
         "170",
         "170",
         "169",
         "168",
         "167",
         "166",
         "167",
         "165",
         "162",
         "159",
         "159",
         "156",
         "151",
         "165",
         "171",
         "146",
         "94",
         "130",
         "159",
         "111",
         "171",
         "171",
         "170",
         "171",
         "171",
         "171",
         "172",
         "171",
         "171",
         "171",
         "172",
         "169",
         "169",
         "170",
         "166",
         "165",
         "160",
         "157",
         "170",
         "177",
         "171",
         "153",
         "124",
         "96",
         "125",
         "157",
         "155",
         "146",
         "172",
         "172",
         "172",
         "173",
         "173",
         "173",
         "173",
         "173",
         "173",
         "173",
         "174",
         "174",
         "171",
         "167",
         "169",
         "175",
         "171",
         "164",
         "165",
         "157",
         "129",
         "112",
         "121",
         "148",
         "164",
         "158",
         "155",
         "152",
         "175",
         "174",
         "174",
         "174",
         "175",
         "174",
         "174",
         "174",
         "174",
         "177",
         "178",
         "174",
         "170",
         "178",
         "182",
         "171",
         "154",
         "127",
         "120",
         "126",
         "138",
         "159",
         "168",
         "165",
         "162",
         "161",
         "158",
         "157",
         "176",
         "176",
         "176",
         "176",
         "177",
         "176",
         "176",
         "177",
         "177",
         "175",
         "169",
         "170",
         "178",
         "169",
         "158",
         "163",
         "139",
         "119",
         "155",
         "171",
         "172",
         "168",
         "165",
         "165",
         "163",
         "162",
         "160",
         "158",
         "177",
         "177",
         "177",
         "178",
         "177",
         "178",
         "178",
         "177",
         "171",
         "159",
         "167",
         "173",
         "157",
         "142",
         "163",
         "152",
         "133",
         "167",
         "177",
         "171",
         "170",
         "170",
         "168",
         "167",
         "166",
         "164",
         "161",
         "159",
         "178",
         "178",
         "179",
         "179",
         "180",
         "178",
         "164",
         "141",
         "137",
         "145",
         "150",
         "141",
         "134",
         "150",
         "154",
         "151",
         "177",
         "181",
         "175",
         "172",
         "173",
         "172",
         "170",
         "167",
         "167",
         "165",
         "163",
         "161",
         "180",
         "179",
         "180",
         "182",
         "180",
         "180",
         "170",
         "156",
         "151",
         "148",
         "151",
         "154",
         "153",
         "153",
         "148",
         "153",
         "147",
         "140",
         "171",
         "176",
         "173",
         "173",
         "171",
         "170",
         "168",
         "167",
         "165",
         "163",
         "182",
         "181",
         "181",
         "182",
         "179",
         "164",
         "149",
         "156",
         "159",
         "153",
         "153",
         "166",
         "173",
         "169",
         "169",
         "163",
         "151",
         "105",
         "141",
         "182",
         "174",
         "175",
         "173",
         "171",
         "171",
         "168",
         "166",
         "165",
         "183",
         "183",
         "183",
         "182",
         "171",
         "159",
         "130",
         "125",
         "135",
         "134",
         "130",
         "137",
         "146",
         "147",
         "164",
         "165",
         "147",
         "103",
         "151",
         "182",
         "176",
         "176",
         "175",
         "173",
         "172",
         "170",
         "167",
         "166",
         "184",
         "185",
         "185",
         "176",
         "174",
         "163",
         "147",
         "145",
         "142",
         "141",
         "141",
         "133",
         "125",
         "125",
         "135",
         "135",
         "112",
         "105",
         "181",
         "179",
         "176",
         "177",
         "175",
         "174",
         "173",
         "171",
         "169",
         "166",
         "185",
         "186",
         "182",
         "170",
         "161",
         "132",
         "125",
         "134",
         "130",
         "144",
         "157",
         "159",
         "152",
         "141",
         "132",
         "121",
         "72",
         "142",
         "176",
         "175",
         "182",
         "177",
         "177",
         "177",
         "175",
         "172",
         "169",
         "168",
         "186",
         "186",
         "173",
         "168",
         "159",
         "128",
         "115",
         "119",
         "109",
         "111",
         "140",
         "154",
         "156",
         "153",
         "140",
         "118",
         "64",
         "67",
         "121",
         "148",
         "160",
         "181",
         "177",
         "177",
         "176",
         "173",
         "169",
         "177",
         "189",
         "178",
         "165",
         "173",
         "163",
         "138",
         "128",
         "128",
         "124",
         "117",
         "111",
         "106",
         "118",
         "139",
         "133",
         "93",
         "40",
         "53",
         "109",
         "146",
         "119",
         "174",
         "179",
         "176",
         "175",
         "174",
         "177",
         "168",
         "186",
         "168",
         "169",
         "169",
         "155",
         "151",
         "145",
         "139",
         "135",
         "130",
         "121",
         "112",
         "104",
         "95",
         "101",
         "61",
         "39",
         "71",
         "99",
         "114",
         "103",
         "177",
         "180",
         "178",
         "178",
         "176",
         "130",
         "171",
         "168",
         "166",
         "163",
         "163",
         "158",
         "149",
         "139",
         "137",
         "138",
         "132",
         "122",
         "116",
         "107",
         "72",
         "66",
         "57",
         "55",
         "63",
         "77",
         "95",
         "155",
         "189",
         "186",
         "177",
         "158",
         "115",
         "86",
         "159",
         "162",
         "162",
         "159",
         "168",
         "170",
         "135",
         "106",
         "97",
         "82",
         "83",
         "103",
         "111",
         "87",
         "68",
         "65",
         "54",
         "89",
         "144",
         "155",
         "173",
         "182",
         "157",
         "165",
         "147",
         "109",
         "134",
         "153",
         "145",
         "165",
         "156",
         "162",
         "169",
         "151",
         "101",
         "73",
         "55",
         "54",
         "65",
         "94",
         "98",
         "71",
         "64",
         "53",
         "114",
         "189",
         "183",
         "177",
         "159",
         "147",
         "142",
         "149",
         "126",
         "160",
         "172",
         "130",
         "92",
         "164",
         "169",
         "171",
         "155",
         "114",
         "82",
         "69",
         "52",
         "62",
         "75",
         "91",
         "82",
         "69",
         "62",
         "139",
         "191",
         "154",
         "120",
         "118",
         "137",
         "147",
         "163",
         "145",
         "159",
         "180",
         "126",
         "87",
         "88",
         "162",
         "170",
         "162",
         "135",
         "98",
         "79",
         "66",
         "58",
         "67",
         "68",
         "66",
         "64",
         "79",
         "146",
         "189",
         "148",
         "132",
         "136",
         "133",
         "144",
         "154",
         "184",
         "139",
         "130",
         "121",
         "93",
         "102",
         "100",
         "162",
         "159",
         "145",
         "112",
         "85",
         "75",
         "68",
         "65",
         "64",
         "62",
         "79",
         "123",
         "192",
         "198",
         "183",
         "126",
         "81",
         "123",
         "137",
         "129",
         "154",
         "217",
         "133",
         "87",
         "87",
         "91",
         "101",
         "94",
         "153",
         "139",
         "115",
         "89",
         "77",
         "72",
         "65",
         "77",
         "106",
         "137",
         "174",
         "185",
         "146",
         "121",
         "111",
         "112",
         "100",
         "78",
         "120",
         "157",
         "168",
         "107",
         "99",
         "121",
         "133",
         "97",
         "95",
         "120",
         "135",
         "116",
         "95",
         "79",
         "69",
         "86",
         "139",
         "173",
         "200",
         "185",
         "175",
         "198",
         "124",
         "118",
         "94",
         "140",
         "133",
         "84",
         "69",
         "149",
         "128",
         "87",
         "94",
         "163",
         "175",
         "103",
         "135",
         "149"
        ],
        [
         "2",
         "2",
         "187",
         "188",
         "188",
         "187",
         "187",
         "186",
         "187",
         "188",
         "187",
         "186",
         "185",
         "185",
         "185",
         "184",
         "184",
         "184",
         "181",
         "181",
         "179",
         "179",
         "179",
         "178",
         "178",
         "109",
         "52",
         "66",
         "77",
         "83",
         "188",
         "189",
         "189",
         "188",
         "188",
         "189",
         "188",
         "188",
         "188",
         "188",
         "187",
         "185",
         "185",
         "187",
         "182",
         "177",
         "182",
         "182",
         "182",
         "180",
         "180",
         "179",
         "180",
         "135",
         "67",
         "73",
         "73",
         "71",
         "190",
         "190",
         "190",
         "191",
         "190",
         "190",
         "189",
         "189",
         "189",
         "188",
         "189",
         "188",
         "192",
         "184",
         "144",
         "103",
         "144",
         "142",
         "138",
         "186",
         "182",
         "180",
         "182",
         "163",
         "81",
         "74",
         "68",
         "61",
         "191",
         "193",
         "192",
         "192",
         "192",
         "191",
         "191",
         "191",
         "191",
         "195",
         "200",
         "189",
         "165",
         "127",
         "98",
         "71",
         "85",
         "94",
         "86",
         "165",
         "184",
         "182",
         "182",
         "175",
         "87",
         "61",
         "51",
         "56",
         "192",
         "193",
         "194",
         "193",
         "193",
         "193",
         "194",
         "191",
         "202",
         "208",
         "193",
         "130",
         "95",
         "78",
         "69",
         "62",
         "69",
         "72",
         "69",
         "83",
         "179",
         "184",
         "183",
         "184",
         "116",
         "43",
         "38",
         "56",
         "193",
         "193",
         "194",
         "195",
         "195",
         "195",
         "195",
         "196",
         "209",
         "193",
         "144",
         "83",
         "58",
         "61",
         "62",
         "52",
         "60",
         "65",
         "66",
         "70",
         "176",
         "187",
         "184",
         "185",
         "158",
         "45",
         "35",
         "45",
         "194",
         "194",
         "195",
         "196",
         "196",
         "197",
         "195",
         "208",
         "212",
         "133",
         "86",
         "67",
         "52",
         "52",
         "60",
         "61",
         "63",
         "73",
         "91",
         "150",
         "187",
         "187",
         "185",
         "183",
         "175",
         "112",
         "83",
         "55",
         "195",
         "196",
         "195",
         "198",
         "198",
         "198",
         "194",
         "219",
         "193",
         "106",
         "70",
         "68",
         "64",
         "60",
         "63",
         "71",
         "150",
         "174",
         "187",
         "191",
         "187",
         "186",
         "185",
         "185",
         "179",
         "122",
         "145",
         "140",
         "195",
         "197",
         "198",
         "199",
         "200",
         "198",
         "202",
         "224",
         "172",
         "103",
         "69",
         "68",
         "66",
         "60",
         "94",
         "163",
         "195",
         "193",
         "190",
         "190",
         "189",
         "189",
         "187",
         "189",
         "170",
         "89",
         "169",
         "171",
         "198",
         "200",
         "200",
         "200",
         "200",
         "199",
         "215",
         "210",
         "146",
         "84",
         "60",
         "60",
         "61",
         "66",
         "168",
         "201",
         "193",
         "192",
         "191",
         "190",
         "189",
         "189",
         "188",
         "189",
         "169",
         "110",
         "182",
         "143",
         "199",
         "200",
         "201",
         "201",
         "200",
         "203",
         "224",
         "197",
         "142",
         "93",
         "74",
         "68",
         "59",
         "70",
         "177",
         "199",
         "195",
         "194",
         "193",
         "192",
         "191",
         "189",
         "189",
         "189",
         "182",
         "152",
         "130",
         "102",
         "201",
         "201",
         "202",
         "202",
         "200",
         "215",
         "229",
         "186",
         "131",
         "93",
         "82",
         "80",
         "68",
         "81",
         "195",
         "196",
         "195",
         "195",
         "195",
         "193",
         "192",
         "192",
         "191",
         "189",
         "189",
         "183",
         "131",
         "130",
         "201",
         "202",
         "202",
         "203",
         "202",
         "230",
         "222",
         "168",
         "118",
         "87",
         "80",
         "78",
         "75",
         "110",
         "202",
         "197",
         "197",
         "196",
         "195",
         "194",
         "194",
         "193",
         "192",
         "191",
         "190",
         "185",
         "169",
         "161",
         "202",
         "202",
         "203",
         "202",
         "207",
         "237",
         "210",
         "158",
         "108",
         "81",
         "76",
         "76",
         "75",
         "116",
         "205",
         "197",
         "198",
         "198",
         "196",
         "195",
         "195",
         "194",
         "193",
         "191",
         "189",
         "186",
         "174",
         "182",
         "202",
         "203",
         "205",
         "200",
         "218",
         "238",
         "202",
         "151",
         "105",
         "82",
         "79",
         "80",
         "75",
         "129",
         "206",
         "198",
         "199",
         "198",
         "197",
         "196",
         "196",
         "194",
         "193",
         "192",
         "190",
         "189",
         "184",
         "166",
         "204",
         "204",
         "207",
         "202",
         "234",
         "228",
         "186",
         "141",
         "97",
         "80",
         "80",
         "79",
         "68",
         "136",
         "209",
         "198",
         "199",
         "199",
         "198",
         "197",
         "198",
         "197",
         "196",
         "192",
         "192",
         "191",
         "190",
         "158",
         "206",
         "206",
         "202",
         "215",
         "240",
         "217",
         "174",
         "130",
         "91",
         "78",
         "74",
         "71",
         "70",
         "83",
         "192",
         "203",
         "200",
         "200",
         "201",
         "200",
         "191",
         "177",
         "164",
         "151",
         "144",
         "164",
         "190",
         "187",
         "206",
         "207",
         "199",
         "229",
         "234",
         "204",
         "160",
         "119",
         "89",
         "75",
         "66",
         "69",
         "73",
         "69",
         "121",
         "212",
         "204",
         "203",
         "189",
         "164",
         "151",
         "151",
         "146",
         "138",
         "119",
         "91",
         "182",
         "191",
         "208",
         "205",
         "206",
         "238",
         "225",
         "190",
         "149",
         "113",
         "89",
         "70",
         "62",
         "68",
         "73",
         "75",
         "74",
         "156",
         "179",
         "161",
         "147",
         "147",
         "155",
         "151",
         "133",
         "112",
         "117",
         "123",
         "184",
         "189",
         "207",
         "198",
         "224",
         "237",
         "218",
         "181",
         "139",
         "107",
         "85",
         "63",
         "62",
         "75",
         "80",
         "82",
         "83",
         "80",
         "111",
         "136",
         "157",
         "158",
         "140",
         "109",
         "103",
         "154",
         "190",
         "192",
         "190",
         "190",
         "199",
         "209",
         "238",
         "232",
         "209",
         "173",
         "137",
         "100",
         "80",
         "58",
         "73",
         "90",
         "97",
         "102",
         "99",
         "100",
         "117",
         "139",
         "145",
         "122",
         "95",
         "94",
         "175",
         "199",
         "195",
         "193",
         "193",
         "190",
         "200",
         "233",
         "237",
         "224",
         "201",
         "167",
         "129",
         "96",
         "80",
         "61",
         "86",
         "98",
         "106",
         "112",
         "107",
         "107",
         "114",
         "115",
         "103",
         "115",
         "153",
         "187",
         "199",
         "195",
         "194",
         "192",
         "190",
         "190",
         "228",
         "236",
         "226",
         "214",
         "194",
         "160",
         "120",
         "92",
         "78",
         "70",
         "95",
         "104",
         "107",
         "111",
         "103",
         "94",
         "83",
         "100",
         "158",
         "197",
         "202",
         "200",
         "197",
         "195",
         "194",
         "192",
         "190",
         "189",
         "227",
         "228",
         "220",
         "206",
         "183",
         "148",
         "106",
         "90",
         "78",
         "83",
         "103",
         "110",
         "106",
         "95",
         "85",
         "77",
         "121",
         "189",
         "205",
         "202",
         "200",
         "201",
         "198",
         "196",
         "195",
         "192",
         "190",
         "190",
         "219",
         "216",
         "204",
         "182",
         "160",
         "127",
         "96",
         "87",
         "77",
         "89",
         "100",
         "104",
         "94",
         "72",
         "103",
         "174",
         "204",
         "205",
         "203",
         "201",
         "200",
         "201",
         "199",
         "197",
         "195",
         "193",
         "192",
         "191",
         "212",
         "198",
         "175",
         "158",
         "136",
         "103",
         "85",
         "76",
         "81",
         "89",
         "92",
         "88",
         "69",
         "108",
         "195",
         "208",
         "204",
         "203",
         "203",
         "201",
         "200",
         "200",
         "199",
         "196",
         "195",
         "195",
         "193",
         "192",
         "202",
         "179",
         "152",
         "140",
         "118",
         "85",
         "75",
         "78",
         "82",
         "77",
         "75",
         "87",
         "142",
         "203",
         "208",
         "205",
         "203",
         "204",
         "203",
         "201",
         "200",
         "200",
         "199",
         "198",
         "196",
         "195",
         "194",
         "193",
         "198",
         "166",
         "132",
         "114",
         "89",
         "74",
         "79",
         "77",
         "74",
         "78",
         "132",
         "188",
         "210",
         "209",
         "206",
         "205",
         "204",
         "203",
         "202",
         "201",
         "200",
         "199",
         "198",
         "199",
         "198",
         "195",
         "194",
         "195"
        ],
        [
         "3",
         "2",
         "211",
         "211",
         "212",
         "212",
         "211",
         "210",
         "211",
         "210",
         "210",
         "211",
         "209",
         "207",
         "208",
         "207",
         "206",
         "203",
         "202",
         "201",
         "200",
         "198",
         "197",
         "195",
         "192",
         "197",
         "171",
         "51",
         "52",
         "54",
         "212",
         "213",
         "215",
         "215",
         "212",
         "212",
         "213",
         "212",
         "212",
         "211",
         "211",
         "209",
         "208",
         "209",
         "206",
         "204",
         "203",
         "202",
         "201",
         "200",
         "199",
         "197",
         "193",
         "204",
         "149",
         "44",
         "49",
         "46",
         "215",
         "217",
         "218",
         "217",
         "216",
         "216",
         "217",
         "214",
         "213",
         "212",
         "212",
         "211",
         "210",
         "211",
         "208",
         "206",
         "206",
         "204",
         "204",
         "202",
         "202",
         "200",
         "194",
         "205",
         "120",
         "52",
         "41",
         "45",
         "218",
         "218",
         "218",
         "218",
         "218",
         "218",
         "218",
         "216",
         "216",
         "215",
         "213",
         "212",
         "213",
         "211",
         "209",
         "208",
         "209",
         "208",
         "208",
         "208",
         "207",
         "202",
         "198",
         "201",
         "90",
         "46",
         "44",
         "34",
         "219",
         "218",
         "220",
         "221",
         "220",
         "220",
         "218",
         "217",
         "219",
         "217",
         "215",
         "214",
         "214",
         "211",
         "201",
         "187",
         "186",
         "182",
         "179",
         "183",
         "192",
         "204",
         "204",
         "196",
         "63",
         "56",
         "49",
         "36",
         "221",
         "221",
         "221",
         "222",
         "222",
         "222",
         "220",
         "220",
         "219",
         "218",
         "217",
         "214",
         "213",
         "212",
         "198",
         "193",
         "186",
         "178",
         "164",
         "150",
         "144",
         "153",
         "192",
         "203",
         "79",
         "51",
         "35",
         "33",
         "224",
         "222",
         "223",
         "223",
         "223",
         "223",
         "220",
         "221",
         "220",
         "219",
         "218",
         "211",
         "208",
         "214",
         "197",
         "176",
         "200",
         "165",
         "145",
         "179",
         "155",
         "141",
         "136",
         "167",
         "93",
         "48",
         "33",
         "32",
         "225",
         "225",
         "225",
         "224",
         "223",
         "223",
         "223",
         "222",
         "221",
         "223",
         "217",
         "210",
         "210",
         "214",
         "155",
         "82",
         "119",
         "104",
         "81",
         "148",
         "158",
         "146",
         "100",
         "89",
         "69",
         "41",
         "38",
         "29",
         "225",
         "226",
         "226",
         "225",
         "226",
         "225",
         "224",
         "223",
         "223",
         "215",
         "216",
         "212",
         "175",
         "151",
         "110",
         "71",
         "63",
         "61",
         "61",
         "84",
         "110",
         "102",
         "80",
         "78",
         "74",
         "50",
         "48",
         "42",
         "226",
         "226",
         "226",
         "226",
         "226",
         "226",
         "226",
         "224",
         "219",
         "217",
         "228",
         "197",
         "126",
         "81",
         "71",
         "70",
         "62",
         "51",
         "60",
         "59",
         "68",
         "75",
         "68",
         "69",
         "91",
         "141",
         "135",
         "60",
         "227",
         "228",
         "228",
         "227",
         "227",
         "227",
         "228",
         "223",
         "222",
         "235",
         "223",
         "174",
         "127",
         "96",
         "60",
         "58",
         "65",
         "85",
         "137",
         "136",
         "185",
         "189",
         "154",
         "155",
         "161",
         "197",
         "182",
         "104",
         "228",
         "229",
         "229",
         "230",
         "228",
         "229",
         "222",
         "224",
         "228",
         "219",
         "183",
         "138",
         "109",
         "93",
         "69",
         "62",
         "60",
         "171",
         "233",
         "222",
         "217",
         "216",
         "219",
         "213",
         "170",
         "175",
         "120",
         "121",
         "230",
         "231",
         "231",
         "230",
         "232",
         "225",
         "223",
         "242",
         "225",
         "205",
         "167",
         "102",
         "82",
         "81",
         "73",
         "62",
         "143",
         "221",
         "215",
         "216",
         "215",
         "211",
         "211",
         "210",
         "185",
         "166",
         "108",
         "168",
         "231",
         "232",
         "232",
         "234",
         "227",
         "225",
         "248",
         "241",
         "213",
         "201",
         "164",
         "108",
         "68",
         "73",
         "72",
         "177",
         "229",
         "219",
         "218",
         "219",
         "218",
         "216",
         "215",
         "214",
         "198",
         "181",
         "156",
         "152",
         "233",
         "233",
         "235",
         "230",
         "226",
         "246",
         "243",
         "224",
         "208",
         "181",
         "132",
         "101",
         "82",
         "58",
         "131",
         "237",
         "219",
         "222",
         "222",
         "220",
         "217",
         "216",
         "216",
         "215",
         "208",
         "182",
         "184",
         "167",
         "235",
         "236",
         "234",
         "226",
         "250",
         "250",
         "230",
         "218",
         "201",
         "162",
         "124",
         "93",
         "62",
         "82",
         "214",
         "228",
         "223",
         "224",
         "225",
         "223",
         "219",
         "217",
         "216",
         "215",
         "214",
         "196",
         "174",
         "181",
         "235",
         "237",
         "233",
         "248",
         "255",
         "244",
         "222",
         "209",
         "182",
         "148",
         "116",
         "82",
         "50",
         "126",
         "246",
         "222",
         "226",
         "226",
         "226",
         "225",
         "219",
         "219",
         "222",
         "213",
         "213",
         "217",
         "180",
         "122",
         "237",
         "234",
         "245",
         "255",
         "252",
         "232",
         "212",
         "198",
         "171",
         "129",
         "98",
         "66",
         "66",
         "68",
         "202",
         "234",
         "224",
         "226",
         "226",
         "223",
         "226",
         "216",
         "182",
         "162",
         "151",
         "187",
         "218",
         "84",
         "233",
         "244",
         "255",
         "247",
         "238",
         "223",
         "202",
         "186",
         "155",
         "110",
         "84",
         "61",
         "73",
         "64",
         "85",
         "225",
         "227",
         "223",
         "228",
         "237",
         "206",
         "145",
         "144",
         "164",
         "111",
         "139",
         "227",
         "163",
         "241",
         "255",
         "252",
         "237",
         "225",
         "209",
         "190",
         "173",
         "135",
         "102",
         "77",
         "76",
         "88",
         "92",
         "67",
         "152",
         "245",
         "231",
         "206",
         "170",
         "130",
         "138",
         "160",
         "121",
         "128",
         "210",
         "211",
         "215",
         "228",
         "255",
         "249",
         "225",
         "216",
         "198",
         "185",
         "162",
         "123",
         "100",
         "82",
         "92",
         "100",
         "98",
         "94",
         "81",
         "147",
         "144",
         "106",
         "94",
         "104",
         "144",
         "114",
         "106",
         "220",
         "215",
         "213",
         "210",
         "90",
         "146",
         "207",
         "193",
         "183",
         "193",
         "175",
         "148",
         "120",
         "94",
         "83",
         "99",
         "102",
         "99",
         "97",
         "89",
         "78",
         "87",
         "98",
         "122",
         "111",
         "117",
         "61",
         "177",
         "226",
         "215",
         "215",
         "211",
         "74",
         "63",
         "80",
         "119",
         "134",
         "134",
         "136",
         "117",
         "90",
         "77",
         "82",
         "97",
         "97",
         "97",
         "93",
         "89",
         "86",
         "106",
         "109",
         "117",
         "102",
         "63",
         "91",
         "224",
         "218",
         "218",
         "215",
         "212",
         "71",
         "72",
         "65",
         "65",
         "65",
         "71",
         "75",
         "57",
         "54",
         "66",
         "70",
         "83",
         "88",
         "88",
         "84",
         "89",
         "90",
         "95",
         "87",
         "77",
         "89",
         "144",
         "210",
         "224",
         "219",
         "219",
         "217",
         "214",
         "67",
         "66",
         "63",
         "65",
         "58",
         "29",
         "34",
         "43",
         "46",
         "53",
         "52",
         "66",
         "79",
         "74",
         "67",
         "64",
         "57",
         "70",
         "115",
         "167",
         "216",
         "236",
         "228",
         "223",
         "221",
         "220",
         "219",
         "217",
         "65",
         "62",
         "58",
         "55",
         "63",
         "44",
         "11",
         "22",
         "24",
         "28",
         "34",
         "49",
         "46",
         "62",
         "95",
         "109",
         "141",
         "202",
         "237",
         "240",
         "231",
         "226",
         "226",
         "224",
         "222",
         "220",
         "219",
         "217",
         "63",
         "56",
         "52",
         "52",
         "59",
         "56",
         "17",
         "16",
         "20",
         "17",
         "17",
         "14",
         "120",
         "217",
         "237",
         "244",
         "247",
         "242",
         "233",
         "231",
         "230",
         "229",
         "227",
         "225",
         "223",
         "221",
         "220",
         "216",
         "58",
         "51",
         "49",
         "50",
         "57",
         "60",
         "17",
         "15",
         "18",
         "17",
         "19",
         "1",
         "159",
         "255",
         "237",
         "239",
         "237",
         "236",
         "235",
         "234",
         "233",
         "231",
         "230",
         "226",
         "225",
         "222",
         "229",
         "163"
        ],
        [
         "4",
         "13",
         "164",
         "167",
         "170",
         "172",
         "176",
         "179",
         "180",
         "184",
         "185",
         "186",
         "188",
         "189",
         "189",
         "190",
         "191",
         "189",
         "190",
         "190",
         "187",
         "190",
         "192",
         "193",
         "191",
         "191",
         "192",
         "192",
         "194",
         "194",
         "166",
         "169",
         "172",
         "174",
         "177",
         "180",
         "182",
         "185",
         "186",
         "187",
         "190",
         "191",
         "190",
         "191",
         "192",
         "192",
         "194",
         "182",
         "152",
         "146",
         "189",
         "195",
         "194",
         "193",
         "193",
         "194",
         "195",
         "195",
         "167",
         "170",
         "173",
         "176",
         "178",
         "181",
         "183",
         "186",
         "187",
         "188",
         "191",
         "193",
         "192",
         "191",
         "188",
         "193",
         "206",
         "182",
         "136",
         "92",
         "172",
         "196",
         "196",
         "197",
         "195",
         "197",
         "197",
         "196",
         "170",
         "172",
         "175",
         "177",
         "180",
         "184",
         "186",
         "188",
         "188",
         "191",
         "192",
         "193",
         "197",
         "183",
         "153",
         "153",
         "196",
         "178",
         "135",
         "82",
         "140",
         "142",
         "147",
         "176",
         "199",
         "200",
         "199",
         "197",
         "171",
         "173",
         "176",
         "179",
         "182",
         "185",
         "187",
         "189",
         "190",
         "193",
         "193",
         "195",
         "214",
         "190",
         "144",
         "117",
         "178",
         "173",
         "132",
         "77",
         "113",
         "136",
         "105",
         "104",
         "191",
         "201",
         "200",
         "199",
         "172",
         "174",
         "177",
         "181",
         "184",
         "187",
         "188",
         "190",
         "193",
         "193",
         "193",
         "182",
         "187",
         "191",
         "163",
         "121",
         "172",
         "166",
         "119",
         "80",
         "156",
         "159",
         "104",
         "76",
         "169",
         "203",
         "200",
         "200",
         "173",
         "175",
         "179",
         "182",
         "185",
         "188",
         "190",
         "192",
         "193",
         "195",
         "197",
         "158",
         "120",
         "132",
         "165",
         "118",
         "164",
         "183",
         "117",
         "106",
         "183",
         "154",
         "107",
         "74",
         "166",
         "205",
         "202",
         "202",
         "174",
         "177",
         "180",
         "183",
         "187",
         "189",
         "192",
         "193",
         "194",
         "203",
         "200",
         "163",
         "126",
         "97",
         "146",
         "116",
         "159",
         "191",
         "122",
         "123",
         "183",
         "150",
         "102",
         "76",
         "177",
         "204",
         "203",
         "203",
         "175",
         "179",
         "181",
         "185",
         "188",
         "190",
         "193",
         "193",
         "201",
         "193",
         "192",
         "177",
         "137",
         "95",
         "124",
         "125",
         "104",
         "119",
         "88",
         "120",
         "197",
         "160",
         "97",
         "84",
         "190",
         "204",
         "204",
         "205",
         "177",
         "180",
         "183",
         "187",
         "189",
         "192",
         "194",
         "196",
         "203",
         "176",
         "172",
         "175",
         "135",
         "92",
         "101",
         "129",
         "77",
         "27",
         "64",
         "133",
         "174",
         "133",
         "74",
         "98",
         "201",
         "206",
         "206",
         "206",
         "178",
         "182",
         "185",
         "187",
         "189",
         "192",
         "194",
         "201",
         "202",
         "178",
         "153",
         "166",
         "135",
         "87",
         "86",
         "121",
         "88",
         "27",
         "69",
         "154",
         "158",
         "114",
         "81",
         "132",
         "208",
         "207",
         "208",
         "208",
         "178",
         "181",
         "184",
         "187",
         "190",
         "194",
         "194",
         "208",
         "204",
         "176",
         "139",
         "165",
         "131",
         "88",
         "79",
         "112",
         "95",
         "63",
         "127",
         "162",
         "163",
         "147",
         "122",
         "115",
         "198",
         "208",
         "209",
         "209",
         "178",
         "181",
         "185",
         "188",
         "191",
         "195",
         "196",
         "210",
         "203",
         "172",
         "136",
         "150",
         "127",
         "89",
         "76",
         "131",
         "118",
         "118",
         "188",
         "177",
         "153",
         "133",
         "113",
         "88",
         "168",
         "212",
         "210",
         "210",
         "180",
         "182",
         "185",
         "189",
         "192",
         "195",
         "197",
         "213",
         "202",
         "173",
         "142",
         "135",
         "128",
         "109",
         "76",
         "151",
         "146",
         "168",
         "194",
         "179",
         "152",
         "119",
         "98",
         "84",
         "171",
         "212",
         "210",
         "211",
         "181",
         "182",
         "186",
         "189",
         "193",
         "196",
         "199",
         "213",
         "202",
         "180",
         "159",
         "133",
         "116",
         "111",
         "70",
         "149",
         "183",
         "204",
         "193",
         "170",
         "143",
         "110",
         "89",
         "93",
         "192",
         "213",
         "211",
         "211",
         "181",
         "184",
         "187",
         "190",
         "194",
         "196",
         "200",
         "214",
         "203",
         "183",
         "166",
         "149",
         "119",
         "104",
         "109",
         "188",
         "205",
         "209",
         "189",
         "160",
         "133",
         "102",
         "85",
         "108",
         "206",
         "213",
         "213",
         "212",
         "182",
         "185",
         "188",
         "191",
         "194",
         "196",
         "200",
         "211",
         "203",
         "185",
         "171",
         "164",
         "140",
         "122",
         "127",
         "187",
         "206",
         "201",
         "173",
         "142",
         "119",
         "95",
         "85",
         "147",
         "214",
         "214",
         "215",
         "214",
         "181",
         "185",
         "187",
         "190",
         "193",
         "196",
         "199",
         "204",
         "200",
         "190",
         "176",
         "169",
         "148",
         "127",
         "124",
         "183",
         "205",
         "189",
         "157",
         "128",
         "108",
         "89",
         "103",
         "196",
         "214",
         "214",
         "216",
         "215",
         "181",
         "184",
         "187",
         "191",
         "193",
         "196",
         "197",
         "200",
         "199",
         "192",
         "176",
         "171",
         "154",
         "131",
         "131",
         "173",
         "199",
         "174",
         "145",
         "119",
         "99",
         "82",
         "143",
         "214",
         "213",
         "214",
         "215",
         "214",
         "181",
         "184",
         "187",
         "191",
         "194",
         "196",
         "198",
         "200",
         "202",
         "194",
         "177",
         "167",
         "151",
         "131",
         "133",
         "168",
         "176",
         "153",
         "132",
         "109",
         "92",
         "89",
         "181",
         "213",
         "213",
         "213",
         "213",
         "214",
         "182",
         "185",
         "188",
         "192",
         "194",
         "196",
         "198",
         "200",
         "203",
         "191",
         "172",
         "162",
         "142",
         "124",
         "137",
         "161",
         "150",
         "137",
         "117",
         "98",
         "87",
         "123",
         "207",
         "213",
         "214",
         "214",
         "214",
         "214",
         "184",
         "186",
         "189",
         "192",
         "194",
         "196",
         "198",
         "197",
         "203",
         "182",
         "165",
         "151",
         "129",
         "123",
         "143",
         "151",
         "134",
         "127",
         "107",
         "92",
         "94",
         "177",
         "214",
         "214",
         "214",
         "214",
         "215",
         "215",
         "184",
         "185",
         "189",
         "192",
         "195",
         "197",
         "194",
         "201",
         "202",
         "178",
         "166",
         "147",
         "132",
         "134",
         "150",
         "145",
         "130",
         "116",
         "100",
         "88",
         "145",
         "209",
         "214",
         "214",
         "215",
         "215",
         "216",
         "216",
         "184",
         "186",
         "189",
         "193",
         "196",
         "198",
         "194",
         "209",
         "207",
         "184",
         "175",
         "148",
         "137",
         "148",
         "153",
         "133",
         "122",
         "100",
         "87",
         "110",
         "195",
         "215",
         "215",
         "214",
         "215",
         "215",
         "216",
         "216",
         "180",
         "184",
         "187",
         "191",
         "194",
         "196",
         "192",
         "206",
         "202",
         "186",
         "181",
         "152",
         "146",
         "155",
         "143",
         "121",
         "106",
         "88",
         "82",
         "161",
         "213",
         "214",
         "216",
         "215",
         "216",
         "216",
         "216",
         "217",
         "130",
         "134",
         "139",
         "143",
         "147",
         "146",
         "173",
         "200",
         "187",
         "178",
         "174",
         "150",
         "143",
         "149",
         "138",
         "108",
         "94",
         "81",
         "94",
         "178",
         "198",
         "201",
         "204",
         "206",
         "208",
         "209",
         "211",
         "211",
         "99",
         "101",
         "100",
         "100",
         "100",
         "97",
         "163",
         "200",
         "179",
         "161",
         "150",
         "138",
         "138",
         "151",
         "132",
         "97",
         "90",
         "77",
         "88",
         "117",
         "123",
         "127",
         "129",
         "134",
         "145",
         "152",
         "156",
         "179",
         "105",
         "106",
         "105",
         "104",
         "104",
         "104",
         "175",
         "199",
         "178",
         "152",
         "136",
         "130",
         "136",
         "150",
         "118",
         "92",
         "85",
         "76",
         "92",
         "105",
         "105",
         "108",
         "133",
         "163",
         "157",
         "163",
         "164",
         "179"
        ]
       ],
       "shape": {
        "columns": 785,
        "rows": 5
       }
      },
      "text/html": [
       "<div>\n",
       "<style scoped>\n",
       "    .dataframe tbody tr th:only-of-type {\n",
       "        vertical-align: middle;\n",
       "    }\n",
       "\n",
       "    .dataframe tbody tr th {\n",
       "        vertical-align: top;\n",
       "    }\n",
       "\n",
       "    .dataframe thead th {\n",
       "        text-align: right;\n",
       "    }\n",
       "</style>\n",
       "<table border=\"1\" class=\"dataframe\">\n",
       "  <thead>\n",
       "    <tr style=\"text-align: right;\">\n",
       "      <th></th>\n",
       "      <th>label</th>\n",
       "      <th>pixel1</th>\n",
       "      <th>pixel2</th>\n",
       "      <th>pixel3</th>\n",
       "      <th>pixel4</th>\n",
       "      <th>pixel5</th>\n",
       "      <th>pixel6</th>\n",
       "      <th>pixel7</th>\n",
       "      <th>pixel8</th>\n",
       "      <th>pixel9</th>\n",
       "      <th>...</th>\n",
       "      <th>pixel775</th>\n",
       "      <th>pixel776</th>\n",
       "      <th>pixel777</th>\n",
       "      <th>pixel778</th>\n",
       "      <th>pixel779</th>\n",
       "      <th>pixel780</th>\n",
       "      <th>pixel781</th>\n",
       "      <th>pixel782</th>\n",
       "      <th>pixel783</th>\n",
       "      <th>pixel784</th>\n",
       "    </tr>\n",
       "  </thead>\n",
       "  <tbody>\n",
       "    <tr>\n",
       "      <th>0</th>\n",
       "      <td>3</td>\n",
       "      <td>107</td>\n",
       "      <td>118</td>\n",
       "      <td>127</td>\n",
       "      <td>134</td>\n",
       "      <td>139</td>\n",
       "      <td>143</td>\n",
       "      <td>146</td>\n",
       "      <td>150</td>\n",
       "      <td>153</td>\n",
       "      <td>...</td>\n",
       "      <td>207</td>\n",
       "      <td>207</td>\n",
       "      <td>207</td>\n",
       "      <td>207</td>\n",
       "      <td>206</td>\n",
       "      <td>206</td>\n",
       "      <td>206</td>\n",
       "      <td>204</td>\n",
       "      <td>203</td>\n",
       "      <td>202</td>\n",
       "    </tr>\n",
       "    <tr>\n",
       "      <th>1</th>\n",
       "      <td>6</td>\n",
       "      <td>155</td>\n",
       "      <td>157</td>\n",
       "      <td>156</td>\n",
       "      <td>156</td>\n",
       "      <td>156</td>\n",
       "      <td>157</td>\n",
       "      <td>156</td>\n",
       "      <td>158</td>\n",
       "      <td>158</td>\n",
       "      <td>...</td>\n",
       "      <td>69</td>\n",
       "      <td>149</td>\n",
       "      <td>128</td>\n",
       "      <td>87</td>\n",
       "      <td>94</td>\n",
       "      <td>163</td>\n",
       "      <td>175</td>\n",
       "      <td>103</td>\n",
       "      <td>135</td>\n",
       "      <td>149</td>\n",
       "    </tr>\n",
       "    <tr>\n",
       "      <th>2</th>\n",
       "      <td>2</td>\n",
       "      <td>187</td>\n",
       "      <td>188</td>\n",
       "      <td>188</td>\n",
       "      <td>187</td>\n",
       "      <td>187</td>\n",
       "      <td>186</td>\n",
       "      <td>187</td>\n",
       "      <td>188</td>\n",
       "      <td>187</td>\n",
       "      <td>...</td>\n",
       "      <td>202</td>\n",
       "      <td>201</td>\n",
       "      <td>200</td>\n",
       "      <td>199</td>\n",
       "      <td>198</td>\n",
       "      <td>199</td>\n",
       "      <td>198</td>\n",
       "      <td>195</td>\n",
       "      <td>194</td>\n",
       "      <td>195</td>\n",
       "    </tr>\n",
       "    <tr>\n",
       "      <th>3</th>\n",
       "      <td>2</td>\n",
       "      <td>211</td>\n",
       "      <td>211</td>\n",
       "      <td>212</td>\n",
       "      <td>212</td>\n",
       "      <td>211</td>\n",
       "      <td>210</td>\n",
       "      <td>211</td>\n",
       "      <td>210</td>\n",
       "      <td>210</td>\n",
       "      <td>...</td>\n",
       "      <td>235</td>\n",
       "      <td>234</td>\n",
       "      <td>233</td>\n",
       "      <td>231</td>\n",
       "      <td>230</td>\n",
       "      <td>226</td>\n",
       "      <td>225</td>\n",
       "      <td>222</td>\n",
       "      <td>229</td>\n",
       "      <td>163</td>\n",
       "    </tr>\n",
       "    <tr>\n",
       "      <th>4</th>\n",
       "      <td>13</td>\n",
       "      <td>164</td>\n",
       "      <td>167</td>\n",
       "      <td>170</td>\n",
       "      <td>172</td>\n",
       "      <td>176</td>\n",
       "      <td>179</td>\n",
       "      <td>180</td>\n",
       "      <td>184</td>\n",
       "      <td>185</td>\n",
       "      <td>...</td>\n",
       "      <td>92</td>\n",
       "      <td>105</td>\n",
       "      <td>105</td>\n",
       "      <td>108</td>\n",
       "      <td>133</td>\n",
       "      <td>163</td>\n",
       "      <td>157</td>\n",
       "      <td>163</td>\n",
       "      <td>164</td>\n",
       "      <td>179</td>\n",
       "    </tr>\n",
       "  </tbody>\n",
       "</table>\n",
       "<p>5 rows × 785 columns</p>\n",
       "</div>"
      ],
      "text/plain": [
       "   label  pixel1  pixel2  pixel3  pixel4  pixel5  pixel6  pixel7  pixel8  \\\n",
       "0      3     107     118     127     134     139     143     146     150   \n",
       "1      6     155     157     156     156     156     157     156     158   \n",
       "2      2     187     188     188     187     187     186     187     188   \n",
       "3      2     211     211     212     212     211     210     211     210   \n",
       "4     13     164     167     170     172     176     179     180     184   \n",
       "\n",
       "   pixel9  ...  pixel775  pixel776  pixel777  pixel778  pixel779  pixel780  \\\n",
       "0     153  ...       207       207       207       207       206       206   \n",
       "1     158  ...        69       149       128        87        94       163   \n",
       "2     187  ...       202       201       200       199       198       199   \n",
       "3     210  ...       235       234       233       231       230       226   \n",
       "4     185  ...        92       105       105       108       133       163   \n",
       "\n",
       "   pixel781  pixel782  pixel783  pixel784  \n",
       "0       206       204       203       202  \n",
       "1       175       103       135       149  \n",
       "2       198       195       194       195  \n",
       "3       225       222       229       163  \n",
       "4       157       163       164       179  \n",
       "\n",
       "[5 rows x 785 columns]"
      ]
     },
     "execution_count": 2,
     "metadata": {},
     "output_type": "execute_result"
    }
   ],
   "source": [
    "import pandas as pd\n",
    "\n",
    "df_train = pd.read_csv(\"data/sign_mnist_train.csv\")\n",
    "df_test = pd.read_csv(\"data/sign_mnist_test.csv\")\n",
    "\n",
    "print(\"Train shape:\", df_train.shape)\n",
    "print(\"Test shape:\", df_test.shape)\n",
    "\n",
    "df_train.head()"
   ]
  },
  {
   "cell_type": "code",
   "execution_count": 7,
   "metadata": {
    "id": "N7hq5JKqJ7Vq"
   },
   "outputs": [],
   "source": [
    "import torch\n",
    "from torchvision import transforms\n",
    "from torch.utils.data import Dataset\n",
    "import pandas as pd\n",
    "import numpy as np\n",
    "from PIL import Image\n",
    "\n",
    "class SignLanguageDataset(Dataset):\n",
    "    def __init__(self, csv_file, transform=None):\n",
    "        self.data = pd.read_csv(csv_file)\n",
    "        self.labels = self.data['label'].values\n",
    "        self.images = self.data.drop('label', axis=1).values.reshape(-1, 28, 28).astype(np.uint8)\n",
    "        self.transform = transform\n",
    "\n",
    "    def __len__(self):\n",
    "        return len(self.labels)\n",
    "\n",
    "    def __getitem__(self, idx):\n",
    "        img = Image.fromarray(self.images[idx])\n",
    "        label = self.labels[idx]\n",
    "\n",
    "        if self.transform:\n",
    "            img = self.transform(img)\n",
    "\n",
    "        return img, label"
   ]
  },
  {
   "cell_type": "code",
   "execution_count": 14,
   "metadata": {
    "id": "pktmbOJQLpE_"
   },
   "outputs": [],
   "source": [
    "# Image transform: converts PIL to Tensor + normalises\n",
    "train_transform = transforms.Compose([\n",
    "    transforms.RandomRotation(10),  # random rotation ±10 degrees\n",
    "    transforms.RandomAffine(0, translate=(0.1, 0.1)),  # random offset by 10%\n",
    "    transforms.ToTensor(),\n",
    "    transforms.Normalize((0.5,), (0.5,))\n",
    "])\n",
    "\n",
    "train_dataset = SignLanguageDataset(\"data/sign_mnist_train/sign_mnist_train.csv\", transform=train_transform)\n",
    "test_dataset = SignLanguageDataset(\"data/sign_mnist_test/sign_mnist_test.csv\", transform=train_transform)"
   ]
  },
  {
   "cell_type": "code",
   "execution_count": 15,
   "metadata": {
    "colab": {
     "base_uri": "https://localhost:8080/",
     "height": 428
    },
    "id": "PjuP_zEOLwbX",
    "outputId": "eea8c13d-3f2d-4e63-ea7f-8eac4498e365"
   },
   "outputs": [
    {
     "data": {
      "image/png": "[encoded data removed]",
      "text/plain": [
       "<Figure size 640x480 with 1 Axes>"
      ]
     },
     "metadata": {},
     "output_type": "display_data"
    }
   ],
   "source": [
    "import matplotlib.pyplot as plt\n",
    "\n",
    "img, label = train_dataset[0]\n",
    "plt.imshow(img.squeeze(), cmap='gray')\n",
    "plt.title(f\"Label: {label}\")\n",
    "plt.axis('off')\n",
    "plt.show()"
   ]
  },
  {
   "cell_type": "code",
   "execution_count": 16,
   "metadata": {
    "id": "N6Cqq5pcMeOs"
   },
   "outputs": [],
   "source": [
    "from torch.utils.data import DataLoader"
   ]
  },
  {
   "cell_type": "code",
   "execution_count": 17,
   "metadata": {
    "id": "AiUhTsNpLx0l"
   },
   "outputs": [],
   "source": [
    "# Set batch size\n",
    "batch_size = 64\n",
    "\n",
    "# Create DataLoader for training\n",
    "train_loader = DataLoader(train_dataset, batch_size=batch_size, shuffle=True)\n",
    "\n",
    "# Create DataLoader for testing\n",
    "test_loader = DataLoader(test_dataset, batch_size=batch_size, shuffle=False)"
   ]
  },
  {
   "cell_type": "code",
   "execution_count": 18,
   "metadata": {
    "colab": {
     "base_uri": "https://localhost:8080/"
    },
    "id": "M-iijPCxMfr0",
    "outputId": "67bdb509-97f7-40b8-d95d-c05872c4a09b"
   },
   "outputs": [
    {
     "name": "stdout",
     "output_type": "stream",
     "text": [
      "Batch shape (images): torch.Size([64, 1, 28, 28])\n",
      "Batch shape (labels): torch.Size([64])\n"
     ]
    }
   ],
   "source": [
    "# Take one batch to inspect\n",
    "images, labels = next(iter(train_loader))\n",
    "\n",
    "print(\"Batch shape (images):\", images.shape)   # [64, 1, 28, 28]\n",
    "print(\"Batch shape (labels):\", labels.shape)   # [64]"
   ]
  },
  {
   "cell_type": "code",
   "execution_count": 19,
   "metadata": {
    "id": "RxNJbhFnMlT1"
   },
   "outputs": [],
   "source": [
    "import torch.nn as nn\n",
    "import torch.nn.functional as F\n",
    "\n",
    "class LinearNN(nn.Module):\n",
    "    def __init__(self):\n",
    "        super(LinearNN, self).__init__()\n",
    "        self.flatten = nn.Flatten()\n",
    "        self.fc1 = nn.Linear(28*28, 256)    # Input: 784 to Hidden: 256\n",
    "        self.fc2 = nn.Linear(256, 128)      # Hidden: 256 to 128\n",
    "        self.dropout = nn.Dropout(0.4)\n",
    "        self.fc3 = nn.Linear(128, 25)       # Output: 128 to 25 classes (A–Y excluding J)\n",
    "\n",
    "    def forward(self, x):\n",
    "        x = self.flatten(x)\n",
    "        x = F.relu(self.fc1(x))\n",
    "        x = self.dropout(x)\n",
    "        x = F.relu(self.fc2(x))\n",
    "        x = self.fc3(x)\n",
    "        return x"
   ]
  },
  {
   "cell_type": "code",
   "execution_count": 20,
   "metadata": {
    "id": "_WW2kvK1MtB-"
   },
   "outputs": [],
   "source": [
    "device = torch.device(\"cuda\" if torch.cuda.is_available() else \"cpu\")\n",
    "\n",
    "model = LinearNN().to(device)"
   ]
  },
  {
   "cell_type": "code",
   "execution_count": 21,
   "metadata": {
    "id": "5l2t_CwvMunl"
   },
   "outputs": [],
   "source": [
    "import torch.optim as optim\n",
    "\n",
    "criterion = nn.CrossEntropyLoss()\n",
    "optimizer = optim.Adam(model.parameters(), lr=0.001, weight_decay=1e-3)"
   ]
  },
  {
   "cell_type": "code",
   "execution_count": 22,
   "metadata": {
    "id": "Wnf3K2VUU1BJ"
   },
   "outputs": [],
   "source": [
    "import copy\n",
    "import time\n",
    "\n",
    "def train_and_evaluate(model, train_loader, test_loader, criterion, optimizer, epochs=10, patience=5):\n",
    "    train_losses, test_losses = [], []\n",
    "    train_accuracies, test_accuracies = [], []\n",
    "\n",
    "    best_loss = float('inf')\n",
    "    patience_counter = 0\n",
    "    best_model_state = copy.deepcopy(model.state_dict())\n",
    "\n",
    "    for epoch in range(epochs):\n",
    "        start_time = time.time()\n",
    "        model.train()\n",
    "        running_loss = 0.0\n",
    "        correct, total = 0, 0\n",
    "\n",
    "        for images, labels in train_loader:\n",
    "            images, labels = images.to(device), labels.to(device)\n",
    "\n",
    "            optimizer.zero_grad()\n",
    "            outputs = model(images)\n",
    "            loss = criterion(outputs, labels)\n",
    "            loss.backward()\n",
    "            optimizer.step()\n",
    "\n",
    "            running_loss += loss.item()\n",
    "            _, predicted = torch.max(outputs.data, 1)\n",
    "            total += labels.size(0)\n",
    "            correct += (predicted == labels).sum().item()\n",
    "\n",
    "        train_loss = running_loss / len(train_loader)\n",
    "        train_acc = correct / total\n",
    "\n",
    "        # Evaluation\n",
    "        model.eval()\n",
    "        test_loss = 0.0\n",
    "        correct_test, total_test = 0, 0\n",
    "\n",
    "        with torch.no_grad():\n",
    "            for images, labels in test_loader:\n",
    "                images, labels = images.to(device), labels.to(device)\n",
    "                outputs = model(images)\n",
    "                loss = criterion(outputs, labels)\n",
    "                test_loss += loss.item()\n",
    "\n",
    "                _, predicted = torch.max(outputs.data, 1)\n",
    "                total_test += labels.size(0)\n",
    "                correct_test += (predicted == labels).sum().item()\n",
    "\n",
    "        test_loss /= len(test_loader)\n",
    "        test_acc = correct_test / total_test\n",
    "\n",
    "        train_losses.append(train_loss)\n",
    "        test_losses.append(test_loss)\n",
    "        train_accuracies.append(train_acc)\n",
    "        test_accuracies.append(test_acc)\n",
    "\n",
    "        print(f\"Epoch {epoch+1}/{epochs} - \"\n",
    "              f\"Train loss: {train_loss:.4f}, acc: {train_acc:.4f} | \"\n",
    "              f\"Test loss: {test_loss:.4f}, acc: {test_acc:.4f} | \"\n",
    "              f\"Time: {time.time() - start_time:.1f}s\")\n",
    "\n",
    "        # Early Stopping\n",
    "        if test_loss < best_loss:\n",
    "            best_loss = test_loss\n",
    "            best_model_state = copy.deepcopy(model.state_dict())\n",
    "            patience_counter = 0\n",
    "        else:\n",
    "            patience_counter += 1\n",
    "            if patience_counter >= patience:\n",
    "                print(f\"Early stopping at epoch {epoch+1}\")\n",
    "                break\n",
    "\n",
    "    # Load best model\n",
    "    model.load_state_dict(best_model_state)\n",
    "\n",
    "    return train_losses, test_losses, train_accuracies, test_accuracies"
   ]
  },
  {
   "cell_type": "code",
   "execution_count": null,
   "metadata": {
    "colab": {
     "base_uri": "https://localhost:8080/"
    },
    "id": "85gpBpY9Y3La",
    "outputId": "46bf5732-62bf-48eb-b910-06e93393f599"
   },
   "outputs": [
    {
     "name": "stdout",
     "output_type": "stream",
     "text": [
      "Epoch 1/20 - Train loss: 2.0035, acc: 0.3703 | Test loss: 1.4808, acc: 0.5184 | Time: 4.7s\n",
      "Epoch 2/20 - Train loss: 1.2890, acc: 0.5743 | Test loss: 1.1441, acc: 0.6273 | Time: 4.5s\n",
      "Epoch 3/20 - Train loss: 1.0579, acc: 0.6487 | Test loss: 0.9614, acc: 0.6772 | Time: 4.5s\n",
      "Epoch 4/20 - Train loss: 0.9339, acc: 0.6840 | Test loss: 0.9032, acc: 0.6944 | Time: 4.5s\n",
      "Epoch 5/20 - Train loss: 0.8421, acc: 0.7186 | Test loss: 0.8326, acc: 0.7192 | Time: 4.4s\n",
      "Epoch 6/20 - Train loss: 0.7823, acc: 0.7414 | Test loss: 0.7507, acc: 0.7567 | Time: 4.9s\n",
      "Epoch 7/20 - Train loss: 0.7365, acc: 0.7507 | Test loss: 0.7487, acc: 0.7566 | Time: 4.5s\n",
      "Epoch 8/20 - Train loss: 0.7099, acc: 0.7626 | Test loss: 0.6940, acc: 0.7667 | Time: 4.4s\n",
      "Epoch 9/20 - Train loss: 0.6613, acc: 0.7772 | Test loss: 0.6836, acc: 0.7665 | Time: 4.6s\n",
      "Epoch 10/20 - Train loss: 0.6456, acc: 0.7855 | Test loss: 0.6652, acc: 0.7796 | Time: 4.5s\n",
      "Epoch 11/20 - Train loss: 0.6234, acc: 0.7922 | Test loss: 0.6435, acc: 0.7853 | Time: 4.5s\n",
      "Epoch 12/20 - Train loss: 0.6073, acc: 0.7976 | Test loss: 0.6022, acc: 0.8047 | Time: 4.6s\n",
      "Epoch 13/20 - Train loss: 0.5891, acc: 0.8035 | Test loss: 0.5660, acc: 0.8133 | Time: 4.5s\n",
      "Epoch 14/20 - Train loss: 0.5796, acc: 0.8072 | Test loss: 0.6077, acc: 0.7960 | Time: 4.4s\n",
      "Epoch 15/20 - Train loss: 0.5629, acc: 0.8087 | Test loss: 0.5929, acc: 0.7968 | Time: 4.5s\n",
      "Epoch 16/20 - Train loss: 0.5583, acc: 0.8119 | Test loss: 0.5678, acc: 0.8157 | Time: 4.6s\n",
      "Epoch 17/20 - Train loss: 0.5493, acc: 0.8152 | Test loss: 0.5645, acc: 0.8147 | Time: 4.5s\n",
      "Epoch 18/20 - Train loss: 0.5448, acc: 0.8170 | Test loss: 0.5450, acc: 0.8178 | Time: 4.5s\n",
      "Epoch 19/20 - Train loss: 0.5375, acc: 0.8221 | Test loss: 0.5541, acc: 0.8125 | Time: 4.6s\n",
      "Epoch 20/20 - Train loss: 0.5213, acc: 0.8254 | Test loss: 0.4933, acc: 0.8416 | Time: 4.6s\n"
     ]
    }
   ],
   "source": [
    "EPOCHS = 20\n",
    "train_losses, test_losses, train_accs, test_accs = train_and_evaluate(\n",
    "    model, train_loader, test_loader, criterion, optimizer,\n",
    "    epochs=EPOCHS, patience=5\n",
    ")"
   ]
  },
  {
   "cell_type": "code",
   "execution_count": 25,
   "metadata": {},
   "outputs": [
    {
     "name": "stdout",
     "output_type": "stream",
     "text": [
      "Epoch 1/50 - Train loss: 0.5193, acc: 0.8290 | Test loss: 0.5220, acc: 0.8305 | Time: 4.6s\n",
      "Epoch 2/50 - Train loss: 0.5128, acc: 0.8269 | Test loss: 0.5010, acc: 0.8328 | Time: 4.7s\n",
      "Epoch 3/50 - Train loss: 0.5011, acc: 0.8336 | Test loss: 0.5196, acc: 0.8338 | Time: 4.7s\n",
      "Epoch 4/50 - Train loss: 0.5001, acc: 0.8332 | Test loss: 0.5215, acc: 0.8271 | Time: 4.7s\n",
      "Epoch 5/50 - Train loss: 0.5045, acc: 0.8304 | Test loss: 0.4840, acc: 0.8458 | Time: 4.7s\n",
      "Epoch 6/50 - Train loss: 0.5005, acc: 0.8333 | Test loss: 0.4945, acc: 0.8447 | Time: 4.8s\n",
      "Epoch 7/50 - Train loss: 0.4926, acc: 0.8362 | Test loss: 0.5045, acc: 0.8335 | Time: 4.7s\n",
      "Epoch 8/50 - Train loss: 0.4834, acc: 0.8358 | Test loss: 0.4996, acc: 0.8413 | Time: 4.7s\n",
      "Epoch 9/50 - Train loss: 0.4801, acc: 0.8409 | Test loss: 0.5351, acc: 0.8281 | Time: 4.7s\n",
      "Epoch 10/50 - Train loss: 0.4848, acc: 0.8384 | Test loss: 0.4632, acc: 0.8546 | Time: 5.0s\n",
      "Epoch 11/50 - Train loss: 0.4860, acc: 0.8392 | Test loss: 0.4905, acc: 0.8394 | Time: 4.5s\n",
      "Epoch 12/50 - Train loss: 0.4787, acc: 0.8426 | Test loss: 0.4838, acc: 0.8364 | Time: 4.5s\n",
      "Epoch 13/50 - Train loss: 0.4744, acc: 0.8424 | Test loss: 0.5149, acc: 0.8274 | Time: 4.7s\n",
      "Epoch 14/50 - Train loss: 0.4731, acc: 0.8409 | Test loss: 0.4792, acc: 0.8444 | Time: 5.0s\n",
      "Epoch 15/50 - Train loss: 0.4674, acc: 0.8445 | Test loss: 0.4735, acc: 0.8465 | Time: 4.5s\n",
      "Early stopping at epoch 15\n"
     ]
    }
   ],
   "source": [
    "EPOCHS = 50\n",
    "train_losses, test_losses, train_accs, test_accs = train_and_evaluate(\n",
    "    model, train_loader, test_loader, criterion, optimizer,\n",
    "    epochs=EPOCHS, patience=5\n",
    ")"
   ]
  },
  {
   "cell_type": "code",
   "execution_count": 26,
   "metadata": {},
   "outputs": [
    {
     "name": "stdout",
     "output_type": "stream",
     "text": [
      "Model saved\n"
     ]
    }
   ],
   "source": [
    "torch.save(model.state_dict(), \"fmodel_15.pth\")\n",
    "print(\"Model saved\")"
   ]
  },
  {
   "cell_type": "code",
   "execution_count": null,
   "metadata": {
    "colab": {
     "base_uri": "https://localhost:8080/",
     "height": 803
    },
    "id": "7dUk7f4laKJ6",
    "outputId": "27fec1fe-35d0-471c-e8c9-ed113be14793"
   },
   "outputs": [
    {
     "data": {
      "image/png": "[encoded data removed]",
      "text/plain": [
       "<Figure size 1000x400 with 1 Axes>"
      ]
     },
     "metadata": {},
     "output_type": "display_data"
    },
    {
     "data": {
      "image/png": "[encoded data removed]",
      "text/plain": [
       "<Figure size 1000x400 with 1 Axes>"
      ]
     },
     "metadata": {},
     "output_type": "display_data"
    }
   ],
   "source": [
    "import matplotlib.pyplot as plt\n",
    "\n",
    "# Loss\n",
    "plt.figure(figsize=(10, 4))\n",
    "plt.plot(train_losses, label='Train Loss')\n",
    "plt.plot(test_losses, label='Test Loss')\n",
    "plt.title('Loss per Epoch')\n",
    "plt.xlabel('Epoch')\n",
    "plt.ylabel('Loss')\n",
    "plt.legend()\n",
    "plt.grid(True)\n",
    "plt.show()\n",
    "\n",
    "# Accuracy \n",
    "plt.figure(figsize=(10, 4))\n",
    "plt.plot(train_accs, label='Train Accuracy')\n",
    "plt.plot(test_accs, label='Test Accuracy')\n",
    "plt.title('Accuracy per Epoch')\n",
    "plt.xlabel('Epoch')\n",
    "plt.ylabel('Accuracy')\n",
    "plt.legend()\n",
    "plt.grid(True)\n",
    "plt.show()"
   ]
  },
  {
   "cell_type": "code",
   "execution_count": null,
   "metadata": {},
   "outputs": [],
   "source": [
    "# Define class labels (A–Y, without J)\n",
    "classes = [\n",
    "    'A', 'B', 'C', 'D', 'E', 'F', 'G', 'H', 'I',\n",
    "    'K', 'L', 'M', 'N', 'O', 'P', 'Q', 'R', 'S',\n",
    "    'T', 'U', 'V', 'W', 'X', 'Y', 'Z'\n",
    "]"
   ]
  },
  {
   "cell_type": "code",
   "execution_count": 31,
   "metadata": {
    "colab": {
     "base_uri": "https://localhost:8080/",
     "height": 471
    },
    "id": "EcCy80ArcN4p",
    "outputId": "54eaa38c-9386-4cbe-f790-43e3d772d0d6"
   },
   "outputs": [
    {
     "data": {
      "image/png": "[encoded data removed]",
      "text/plain": [
       "<Figure size 1500x500 with 10 Axes>"
      ]
     },
     "metadata": {},
     "output_type": "display_data"
    }
   ],
   "source": [
    "import random\n",
    "from collections import defaultdict\n",
    "\n",
    "# Get list of indices for each class\n",
    "label_to_indices = defaultdict(list)\n",
    "for idx in range(len(test_dataset)):\n",
    "    _, label = test_dataset[idx]\n",
    "    label_to_indices[label].append(idx)\n",
    "\n",
    "# Select one random example from 10 different classes\n",
    "selected_labels = random.sample(list(label_to_indices.keys()), 10)\n",
    "unique_samples = []\n",
    "\n",
    "for label in selected_labels:\n",
    "    idx = random.choice(label_to_indices[label])\n",
    "    img, _ = test_dataset[idx]\n",
    "    unique_samples.append((img, label))\n",
    "\n",
    "# Visualization\n",
    "plt.figure(figsize=(15, 5))\n",
    "\n",
    "for i, (img, true_label) in enumerate(unique_samples):\n",
    "    with torch.no_grad():\n",
    "        img_tensor = img.unsqueeze(0).to(device)\n",
    "        output = model(img_tensor)\n",
    "        predicted = output.argmax(1).item()\n",
    "\n",
    "    plt.subplot(2, 5, i + 1)\n",
    "    plt.imshow(img.squeeze(), cmap=\"gray\")\n",
    "    plt.title(f\"True: {classes[true_label]}\\nPred: {classes[predicted]}\")\n",
    "    plt.axis(\"off\")\n",
    "\n",
    "plt.tight_layout()\n",
    "plt.show()"
   ]
  },
  {
   "cell_type": "code",
   "execution_count": null,
   "metadata": {},
   "outputs": [
    {
     "data": {
      "image/png": "[encoded data removed]",
      "text/plain": [
       "<Figure size 2000x1000 with 24 Axes>"
      ]
     },
     "metadata": {},
     "output_type": "display_data"
    }
   ],
   "source": [
    "import random\n",
    "from collections import defaultdict\n",
    "import matplotlib.pyplot as plt\n",
    "import torch\n",
    "\n",
    "# Group indices of images by their label/class\n",
    "label_to_indices = defaultdict(list)\n",
    "for idx in range(len(test_dataset)):\n",
    "    _, label = test_dataset[idx]\n",
    "    label_to_indices[label].append(idx)\n",
    "\n",
    "# Determine number of classes and select up to 25 random classes to display\n",
    "num_classes = len(label_to_indices.keys())\n",
    "selected_labels = random.sample(list(label_to_indices.keys()), min(25, num_classes))\n",
    "\n",
    "# For each selected class, pick one random image\n",
    "unique_samples = []\n",
    "for label in selected_labels:\n",
    "    idx = random.choice(label_to_indices[label])\n",
    "    img, _ = test_dataset[idx]\n",
    "    unique_samples.append((img, label))\n",
    "\n",
    "# Prepare the figure with a 5x5 grid for visualization\n",
    "plt.figure(figsize=(20, 10))\n",
    "\n",
    "# Loop over selected images to display them with true and predicted labels\n",
    "for i, (img, true_label) in enumerate(unique_samples):\n",
    "    with torch.no_grad():\n",
    "        img_tensor = img.unsqueeze(0).to(device)\n",
    "        output = model(img_tensor)\n",
    "        predicted = output.argmax(1).item()\n",
    "     \n",
    "    # Plot each image with title showing true and predicted classes\n",
    "    plt.subplot(5, 5, i + 1)\n",
    "    plt.imshow(img.squeeze(), cmap=\"gray\")\n",
    "    plt.title(f\"True: {classes[true_label]}\\nPred: {classes[predicted]}\")\n",
    "    plt.axis(\"off\")\n",
    "\n",
    "plt.tight_layout()\n",
    "plt.show()"
   ]
  }
 ],
 "metadata": {
  "colab": {
   "provenance": []
  },
  "kernelspec": {
   "display_name": "tf-m1",
   "language": "python",
   "name": "python3"
  },
  "language_info": {
   "codemirror_mode": {
    "name": "ipython",
    "version": 3
   },
   "file_extension": ".py",
   "mimetype": "text/x-python",
   "name": "python",
   "nbconvert_exporter": "python",
   "pygments_lexer": "ipython3",
   "version": "3.9.22"
  }
 },
 "nbformat": 4,
 "nbformat_minor": 0
}
