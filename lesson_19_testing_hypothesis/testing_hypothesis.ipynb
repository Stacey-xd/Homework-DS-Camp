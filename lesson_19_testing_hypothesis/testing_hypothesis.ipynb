{
 "cells": [
  {
   "cell_type": "markdown",
   "metadata": {},
   "source": [
    "# Task 1\n",
    "\n",
    "Objective: Apply statistical hypothesis testing to evaluate the impact of different website themes on user engagement."
   ]
  },
  {
   "cell_type": "markdown",
   "metadata": {},
   "source": [
    "### Formulate Hypotheses:"
   ]
  },
  {
   "cell_type": "code",
   "execution_count": 12,
   "metadata": {},
   "outputs": [
    {
     "name": "stdout",
     "output_type": "stream",
     "text": [
      "<class 'pandas.core.frame.DataFrame'>\n",
      "RangeIndex: 1000 entries, 0 to 999\n",
      "Data columns (total 10 columns):\n",
      " #   Column              Non-Null Count  Dtype  \n",
      "---  ------              --------------  -----  \n",
      " 0   Theme               1000 non-null   object \n",
      " 1   Click Through Rate  1000 non-null   float64\n",
      " 2   Conversion Rate     1000 non-null   float64\n",
      " 3   Bounce Rate         1000 non-null   float64\n",
      " 4   Scroll_Depth        1000 non-null   float64\n",
      " 5   Age                 1000 non-null   int64  \n",
      " 6   Location            1000 non-null   object \n",
      " 7   Session_Duration    1000 non-null   int64  \n",
      " 8   Purchases           1000 non-null   object \n",
      " 9   Added_to_Cart       1000 non-null   object \n",
      "dtypes: float64(4), int64(2), object(4)\n",
      "memory usage: 78.3+ KB\n",
      "None\n",
      "         Theme  Click Through Rate  Conversion Rate  Bounce Rate  \\\n",
      "0  Light Theme            0.054920         0.282367     0.405085   \n",
      "1  Light Theme            0.113932         0.032973     0.732759   \n",
      "2   Dark Theme            0.323352         0.178763     0.296543   \n",
      "3  Light Theme            0.485836         0.325225     0.245001   \n",
      "4  Light Theme            0.034783         0.196766     0.765100   \n",
      "\n",
      "   Scroll_Depth  Age   Location  Session_Duration Purchases Added_to_Cart  \n",
      "0     72.489458   25    Chennai              1535        No           Yes  \n",
      "1     61.858568   19       Pune               303        No           Yes  \n",
      "2     45.737376   47    Chennai               563       Yes           Yes  \n",
      "3     76.305298   58       Pune               385       Yes            No  \n",
      "4     48.927407   25  New Delhi              1437        No            No  \n"
     ]
    }
   ],
   "source": [
    "# Import libraries\n",
    "import pandas as pd\n",
    "from scipy.stats import ttest_ind\n",
    "\n",
    "# Load dataset (relative path)\n",
    "df = pd.read_csv(\"data/website_ab_test.csv\")\n",
    "\n",
    "# Display basic info\n",
    "print(df.info())\n",
    "print(df.head())\n",
    "\n",
    "# H₀: μ₁ = μ₂ (mean conversion rates are equal)\n",
    "# H₁: μ₁ ≠ μ₂ (mean conversion rates are different)\n",
    "\n",
    "# Split data by theme\n",
    "light_theme = df[df['Theme'] == 'Light Theme']['Conversion Rate']\n",
    "dark_theme = df[df['Theme'] == 'Dark Theme']['Conversion Rate']"
   ]
  },
  {
   "cell_type": "markdown",
   "metadata": {},
   "source": [
    "### Statistical Testing:"
   ]
  },
  {
   "cell_type": "code",
   "execution_count": 13,
   "metadata": {},
   "outputs": [
    {
     "name": "stdout",
     "output_type": "stream",
     "text": [
      "T-statistic: 0.475\n",
      "P-value:     0.634998\n",
      "\n",
      "Fail to reject the null hypothesis: No statistically significant difference between the themes.\n"
     ]
    }
   ],
   "source": [
    "from scipy.stats import ttest_ind\n",
    "\n",
    "# Perform Welch's t-test (unequal variances)\n",
    "t_stat, p_value = ttest_ind(light_theme, dark_theme, equal_var=False)\n",
    "\n",
    "# Significance level\n",
    "alpha = 0.05\n",
    "\n",
    "# Output results\n",
    "print(f\"T-statistic: {t_stat:.3f}\")\n",
    "print(f\"P-value:     {p_value:.6f}\")\n",
    "\n",
    "# Hypothesis test decision\n",
    "if p_value < alpha:\n",
    "    print(\"\\nReject the null hypothesis: There is a statistically significant difference between the themes.\")\n",
    "else:\n",
    "    print(\"\\nFail to reject the null hypothesis: No statistically significant difference between the themes.\")\n",
    "        "
   ]
  },
  {
   "cell_type": "markdown",
   "metadata": {},
   "source": [
    "### Interpretation:"
   ]
  },
  {
   "cell_type": "markdown",
   "metadata": {},
   "source": [
    "Based on the two-sample t-test, the test statistic is **0.475** and the p-value is **0.635**.\n",
    "\n",
    "At a significance level of **0.05**, the p-value is greater than α. Therefore, we **fail to reject the null hypothesis**.\n",
    "\n",
    "This indicates that the data does **not provide sufficient statistical evidence** to conclude that the average conversion rates differ between the Light and Dark website themes.\n",
    "\n",
    "##### Practical Implications\n",
    "\n",
    "Since no statistically significant difference in conversion rate was observed, changing the website theme is **unlikely to produce a measurable impact on user conversion behavior**.\n",
    "\n",
    "Design decisions should therefore consider other factors such as:\n",
    "\n",
    "- user accessibility and readability,\n",
    "- overall user experience,\n",
    "- visual consistency with the brand identity,\n",
    "- and direct user feedback.\n",
    "\n",
    "Statistical testing suggests that theme choice alone does not justify implementation if the goal is to increase conversions."
   ]
  },
  {
   "cell_type": "markdown",
   "metadata": {},
   "source": []
  },
  {
   "cell_type": "markdown",
   "metadata": {},
   "source": [
    "# Task 2\n",
    "\n",
    "Objective: Perform EDA to understand the dataset's structure and identify any anomalies or outliers."
   ]
  },
  {
   "cell_type": "markdown",
   "metadata": {},
   "source": [
    "### Data Exploration:"
   ]
  },
  {
   "cell_type": "code",
   "execution_count": 65,
   "metadata": {},
   "outputs": [
    {
     "name": "stdout",
     "output_type": "stream",
     "text": [
      "First five rows:\n"
     ]
    },
    {
     "data": {
      "application/vnd.microsoft.datawrangler.viewer.v0+json": {
       "columns": [
        {
         "name": "index",
         "rawType": "int64",
         "type": "integer"
        },
        {
         "name": "age",
         "rawType": "int64",
         "type": "integer"
        },
        {
         "name": "sex",
         "rawType": "object",
         "type": "string"
        },
        {
         "name": "bmi",
         "rawType": "float64",
         "type": "float"
        },
        {
         "name": "children",
         "rawType": "int64",
         "type": "integer"
        },
        {
         "name": "smoker",
         "rawType": "object",
         "type": "string"
        },
        {
         "name": "region",
         "rawType": "object",
         "type": "string"
        },
        {
         "name": "charges",
         "rawType": "float64",
         "type": "float"
        }
       ],
       "ref": "2900eb87-e8fd-4d85-b234-f4157215d66e",
       "rows": [
        [
         "0",
         "19",
         "female",
         "27.9",
         "0",
         "yes",
         "southwest",
         "16884.924"
        ],
        [
         "1",
         "18",
         "male",
         "33.77",
         "1",
         "no",
         "southeast",
         "1725.5523"
        ],
        [
         "2",
         "28",
         "male",
         "33.0",
         "3",
         "no",
         "southeast",
         "4449.462"
        ],
        [
         "3",
         "33",
         "male",
         "22.705",
         "0",
         "no",
         "northwest",
         "21984.47061"
        ],
        [
         "4",
         "32",
         "male",
         "28.88",
         "0",
         "no",
         "northwest",
         "3866.8552"
        ]
       ],
       "shape": {
        "columns": 7,
        "rows": 5
       }
      },
      "text/html": [
       "<div>\n",
       "<style scoped>\n",
       "    .dataframe tbody tr th:only-of-type {\n",
       "        vertical-align: middle;\n",
       "    }\n",
       "\n",
       "    .dataframe tbody tr th {\n",
       "        vertical-align: top;\n",
       "    }\n",
       "\n",
       "    .dataframe thead th {\n",
       "        text-align: right;\n",
       "    }\n",
       "</style>\n",
       "<table border=\"1\" class=\"dataframe\">\n",
       "  <thead>\n",
       "    <tr style=\"text-align: right;\">\n",
       "      <th></th>\n",
       "      <th>age</th>\n",
       "      <th>sex</th>\n",
       "      <th>bmi</th>\n",
       "      <th>children</th>\n",
       "      <th>smoker</th>\n",
       "      <th>region</th>\n",
       "      <th>charges</th>\n",
       "    </tr>\n",
       "  </thead>\n",
       "  <tbody>\n",
       "    <tr>\n",
       "      <th>0</th>\n",
       "      <td>19</td>\n",
       "      <td>female</td>\n",
       "      <td>27.900</td>\n",
       "      <td>0</td>\n",
       "      <td>yes</td>\n",
       "      <td>southwest</td>\n",
       "      <td>16884.92400</td>\n",
       "    </tr>\n",
       "    <tr>\n",
       "      <th>1</th>\n",
       "      <td>18</td>\n",
       "      <td>male</td>\n",
       "      <td>33.770</td>\n",
       "      <td>1</td>\n",
       "      <td>no</td>\n",
       "      <td>southeast</td>\n",
       "      <td>1725.55230</td>\n",
       "    </tr>\n",
       "    <tr>\n",
       "      <th>2</th>\n",
       "      <td>28</td>\n",
       "      <td>male</td>\n",
       "      <td>33.000</td>\n",
       "      <td>3</td>\n",
       "      <td>no</td>\n",
       "      <td>southeast</td>\n",
       "      <td>4449.46200</td>\n",
       "    </tr>\n",
       "    <tr>\n",
       "      <th>3</th>\n",
       "      <td>33</td>\n",
       "      <td>male</td>\n",
       "      <td>22.705</td>\n",
       "      <td>0</td>\n",
       "      <td>no</td>\n",
       "      <td>northwest</td>\n",
       "      <td>21984.47061</td>\n",
       "    </tr>\n",
       "    <tr>\n",
       "      <th>4</th>\n",
       "      <td>32</td>\n",
       "      <td>male</td>\n",
       "      <td>28.880</td>\n",
       "      <td>0</td>\n",
       "      <td>no</td>\n",
       "      <td>northwest</td>\n",
       "      <td>3866.85520</td>\n",
       "    </tr>\n",
       "  </tbody>\n",
       "</table>\n",
       "</div>"
      ],
      "text/plain": [
       "   age     sex     bmi  children smoker     region      charges\n",
       "0   19  female  27.900         0    yes  southwest  16884.92400\n",
       "1   18    male  33.770         1     no  southeast   1725.55230\n",
       "2   28    male  33.000         3     no  southeast   4449.46200\n",
       "3   33    male  22.705         0     no  northwest  21984.47061\n",
       "4   32    male  28.880         0     no  northwest   3866.85520"
      ]
     },
     "metadata": {},
     "output_type": "display_data"
    },
    {
     "name": "stdout",
     "output_type": "stream",
     "text": [
      "\n",
      "Dataset info:\n",
      "<class 'pandas.core.frame.DataFrame'>\n",
      "RangeIndex: 1338 entries, 0 to 1337\n",
      "Data columns (total 7 columns):\n",
      " #   Column    Non-Null Count  Dtype  \n",
      "---  ------    --------------  -----  \n",
      " 0   age       1338 non-null   int64  \n",
      " 1   sex       1338 non-null   object \n",
      " 2   bmi       1338 non-null   float64\n",
      " 3   children  1338 non-null   int64  \n",
      " 4   smoker    1338 non-null   object \n",
      " 5   region    1338 non-null   object \n",
      " 6   charges   1338 non-null   float64\n",
      "dtypes: float64(2), int64(2), object(3)\n",
      "memory usage: 73.3+ KB\n"
     ]
    },
    {
     "data": {
      "text/plain": [
       "None"
      ]
     },
     "metadata": {},
     "output_type": "display_data"
    },
    {
     "name": "stdout",
     "output_type": "stream",
     "text": [
      "\n",
      "Descriptive statistics:\n"
     ]
    },
    {
     "data": {
      "application/vnd.microsoft.datawrangler.viewer.v0+json": {
       "columns": [
        {
         "name": "index",
         "rawType": "object",
         "type": "string"
        },
        {
         "name": "age",
         "rawType": "float64",
         "type": "float"
        },
        {
         "name": "bmi",
         "rawType": "float64",
         "type": "float"
        },
        {
         "name": "children",
         "rawType": "float64",
         "type": "float"
        },
        {
         "name": "charges",
         "rawType": "float64",
         "type": "float"
        }
       ],
       "ref": "15a1b0ba-83bd-493e-a7fc-2bfecc40012a",
       "rows": [
        [
         "count",
         "1338.0",
         "1338.0",
         "1338.0",
         "1338.0"
        ],
        [
         "mean",
         "39.20702541106129",
         "30.66339686098655",
         "1.0949177877429",
         "13270.422265141257"
        ],
        [
         "std",
         "14.049960379216154",
         "6.098186911679014",
         "1.205492739781914",
         "12110.011236694001"
        ],
        [
         "min",
         "18.0",
         "15.96",
         "0.0",
         "1121.8739"
        ],
        [
         "25%",
         "27.0",
         "26.29625",
         "0.0",
         "4740.28715"
        ],
        [
         "50%",
         "39.0",
         "30.4",
         "1.0",
         "9382.033"
        ],
        [
         "75%",
         "51.0",
         "34.69375",
         "2.0",
         "16639.912515"
        ],
        [
         "max",
         "64.0",
         "53.13",
         "5.0",
         "63770.42801"
        ]
       ],
       "shape": {
        "columns": 4,
        "rows": 8
       }
      },
      "text/html": [
       "<div>\n",
       "<style scoped>\n",
       "    .dataframe tbody tr th:only-of-type {\n",
       "        vertical-align: middle;\n",
       "    }\n",
       "\n",
       "    .dataframe tbody tr th {\n",
       "        vertical-align: top;\n",
       "    }\n",
       "\n",
       "    .dataframe thead th {\n",
       "        text-align: right;\n",
       "    }\n",
       "</style>\n",
       "<table border=\"1\" class=\"dataframe\">\n",
       "  <thead>\n",
       "    <tr style=\"text-align: right;\">\n",
       "      <th></th>\n",
       "      <th>age</th>\n",
       "      <th>bmi</th>\n",
       "      <th>children</th>\n",
       "      <th>charges</th>\n",
       "    </tr>\n",
       "  </thead>\n",
       "  <tbody>\n",
       "    <tr>\n",
       "      <th>count</th>\n",
       "      <td>1338.000000</td>\n",
       "      <td>1338.000000</td>\n",
       "      <td>1338.000000</td>\n",
       "      <td>1338.000000</td>\n",
       "    </tr>\n",
       "    <tr>\n",
       "      <th>mean</th>\n",
       "      <td>39.207025</td>\n",
       "      <td>30.663397</td>\n",
       "      <td>1.094918</td>\n",
       "      <td>13270.422265</td>\n",
       "    </tr>\n",
       "    <tr>\n",
       "      <th>std</th>\n",
       "      <td>14.049960</td>\n",
       "      <td>6.098187</td>\n",
       "      <td>1.205493</td>\n",
       "      <td>12110.011237</td>\n",
       "    </tr>\n",
       "    <tr>\n",
       "      <th>min</th>\n",
       "      <td>18.000000</td>\n",
       "      <td>15.960000</td>\n",
       "      <td>0.000000</td>\n",
       "      <td>1121.873900</td>\n",
       "    </tr>\n",
       "    <tr>\n",
       "      <th>25%</th>\n",
       "      <td>27.000000</td>\n",
       "      <td>26.296250</td>\n",
       "      <td>0.000000</td>\n",
       "      <td>4740.287150</td>\n",
       "    </tr>\n",
       "    <tr>\n",
       "      <th>50%</th>\n",
       "      <td>39.000000</td>\n",
       "      <td>30.400000</td>\n",
       "      <td>1.000000</td>\n",
       "      <td>9382.033000</td>\n",
       "    </tr>\n",
       "    <tr>\n",
       "      <th>75%</th>\n",
       "      <td>51.000000</td>\n",
       "      <td>34.693750</td>\n",
       "      <td>2.000000</td>\n",
       "      <td>16639.912515</td>\n",
       "    </tr>\n",
       "    <tr>\n",
       "      <th>max</th>\n",
       "      <td>64.000000</td>\n",
       "      <td>53.130000</td>\n",
       "      <td>5.000000</td>\n",
       "      <td>63770.428010</td>\n",
       "    </tr>\n",
       "  </tbody>\n",
       "</table>\n",
       "</div>"
      ],
      "text/plain": [
       "               age          bmi     children       charges\n",
       "count  1338.000000  1338.000000  1338.000000   1338.000000\n",
       "mean     39.207025    30.663397     1.094918  13270.422265\n",
       "std      14.049960     6.098187     1.205493  12110.011237\n",
       "min      18.000000    15.960000     0.000000   1121.873900\n",
       "25%      27.000000    26.296250     0.000000   4740.287150\n",
       "50%      39.000000    30.400000     1.000000   9382.033000\n",
       "75%      51.000000    34.693750     2.000000  16639.912515\n",
       "max      64.000000    53.130000     5.000000  63770.428010"
      ]
     },
     "metadata": {},
     "output_type": "display_data"
    }
   ],
   "source": [
    "# Imports\n",
    "import pandas as pd\n",
    "import numpy as np\n",
    "import seaborn as sns\n",
    "import matplotlib.pyplot as plt\n",
    "from scipy.stats import shapiro\n",
    "import scipy.stats as stats\n",
    "from IPython.display import display\n",
    "\n",
    "# Load and inspect data\n",
    "df = pd.read_csv(\"data/insurance.csv\")\n",
    "\n",
    "print(\"First five rows:\")\n",
    "display(df.head())\n",
    "\n",
    "print(\"\\nDataset info:\")\n",
    "display(df.info())\n",
    "\n",
    "print(\"\\nDescriptive statistics:\")\n",
    "display(df.describe())"
   ]
  },
  {
   "cell_type": "markdown",
   "metadata": {},
   "source": [
    "### Outlier Detection:"
   ]
  },
  {
   "cell_type": "code",
   "execution_count": 66,
   "metadata": {},
   "outputs": [
    {
     "name": "stdout",
     "output_type": "stream",
     "text": [
      "\n",
      "Outlier counts per column:\n",
      "{'age': 0, 'bmi': 9, 'children': 0, 'charges': 139}\n",
      "\n",
      "Missing values per column:\n",
      "age         0\n",
      "sex         0\n",
      "bmi         0\n",
      "children    0\n",
      "smoker      0\n",
      "region      0\n",
      "charges     0\n",
      "dtype: int64\n"
     ]
    }
   ],
   "source": [
    "# Outlier Detection (IQR method)\n",
    "def get_iqr_bounds(series):\n",
    "    Q1, Q3 = series.quantile(0.25), series.quantile(0.75)\n",
    "    IQR = Q3 - Q1\n",
    "    return Q1 - 1.5 * IQR, Q3 + 1.5 * IQR\n",
    "\n",
    "numerical_cols = ['age', 'bmi', 'children', 'charges']\n",
    "bounds = {col: get_iqr_bounds(df[col]) for col in numerical_cols}\n",
    "outlier_counts = {\n",
    "    col: df[~df[col].between(*bounds[col])].shape[0]\n",
    "    for col in numerical_cols\n",
    "}\n",
    "\n",
    "print(\"\\nOutlier counts per column:\")\n",
    "print(outlier_counts)\n",
    "\n",
    "print(\"\\nMissing values per column:\")\n",
    "print(df.isnull().sum())\n"
   ]
  },
  {
   "cell_type": "markdown",
   "metadata": {},
   "source": [
    "### Data Cleaning:"
   ]
  },
  {
   "cell_type": "code",
   "execution_count": null,
   "metadata": {},
   "outputs": [
    {
     "name": "stdout",
     "output_type": "stream",
     "text": [
      "\n",
      "Original shape: (1338, 7)\n",
      "Cleaned shape:  (1193, 7)\n",
      "Rows removed: 145 (10.84%)\n"
     ]
    }
   ],
   "source": [
    "# Data Cleaning\n",
    "bmi_low, bmi_high = bounds['bmi']\n",
    "charges_low, charges_high = bounds['charges']\n",
    "\n",
    "cleaned_df = df[\n",
    "    df['bmi'].between(bmi_low, bmi_high) &\n",
    "    df['charges'].between(charges_low, charges_high)\n",
    "].copy()\n",
    "\n",
    "print(f\"\\nOriginal shape: {df.shape}\")\n",
    "print(f\"Cleaned shape:  {cleaned_df.shape}\")\n",
    "\n",
    "removed = df.shape[0] - cleaned_df.shape[0]\n",
    "print(f\"Rows removed: {removed} ({removed/df.shape[0]*100:.2f}%)\")"
   ]
  },
  {
   "cell_type": "code",
   "execution_count": null,
   "metadata": {},
   "outputs": [
    {
     "name": "stdout",
     "output_type": "stream",
     "text": [
      "\n",
      "Descriptive statistics comparison:\n"
     ]
    },
    {
     "data": {
      "application/vnd.microsoft.datawrangler.viewer.v0+json": {
       "columns": [
        {
         "name": "index",
         "rawType": "object",
         "type": "string"
        },
        {
         "name": "bmi (Original)",
         "rawType": "float64",
         "type": "float"
        },
        {
         "name": "charges (Original)",
         "rawType": "float64",
         "type": "float"
        },
        {
         "name": "bmi (Cleaned)",
         "rawType": "float64",
         "type": "float"
        },
        {
         "name": "charges (Cleaned)",
         "rawType": "float64",
         "type": "float"
        }
       ],
       "ref": "c9c76a7f-452a-49e6-9cb8-e72ab87c5848",
       "rows": [
        [
         "count",
         "1338.0",
         "1338.0",
         "1193.0",
         "1193.0"
        ],
        [
         "mean",
         "30.66339686098655",
         "13270.422265141257",
         "29.998528918692376",
         "9942.269681600168"
        ],
        [
         "std",
         "6.098186911679014",
         "12110.011236694001",
         "5.86687291605427",
         "7251.326564412019"
        ],
        [
         "min",
         "15.96",
         "1121.8739",
         "15.96",
         "1121.8739"
        ],
        [
         "25%",
         "26.29625",
         "4740.28715",
         "25.8",
         "4415.1588"
        ],
        [
         "50%",
         "30.4",
         "9382.033",
         "29.735",
         "8410.04685"
        ],
        [
         "75%",
         "34.69375",
         "16639.912515",
         "33.77",
         "12979.358"
        ],
        [
         "max",
         "53.13",
         "63770.42801",
         "46.75",
         "34472.841"
        ]
       ],
       "shape": {
        "columns": 4,
        "rows": 8
       }
      },
      "text/html": [
       "<div>\n",
       "<style scoped>\n",
       "    .dataframe tbody tr th:only-of-type {\n",
       "        vertical-align: middle;\n",
       "    }\n",
       "\n",
       "    .dataframe tbody tr th {\n",
       "        vertical-align: top;\n",
       "    }\n",
       "\n",
       "    .dataframe thead th {\n",
       "        text-align: right;\n",
       "    }\n",
       "</style>\n",
       "<table border=\"1\" class=\"dataframe\">\n",
       "  <thead>\n",
       "    <tr style=\"text-align: right;\">\n",
       "      <th></th>\n",
       "      <th>bmi (Original)</th>\n",
       "      <th>charges (Original)</th>\n",
       "      <th>bmi (Cleaned)</th>\n",
       "      <th>charges (Cleaned)</th>\n",
       "    </tr>\n",
       "  </thead>\n",
       "  <tbody>\n",
       "    <tr>\n",
       "      <th>count</th>\n",
       "      <td>1338.000000</td>\n",
       "      <td>1338.000000</td>\n",
       "      <td>1193.000000</td>\n",
       "      <td>1193.000000</td>\n",
       "    </tr>\n",
       "    <tr>\n",
       "      <th>mean</th>\n",
       "      <td>30.663397</td>\n",
       "      <td>13270.422265</td>\n",
       "      <td>29.998529</td>\n",
       "      <td>9942.269682</td>\n",
       "    </tr>\n",
       "    <tr>\n",
       "      <th>std</th>\n",
       "      <td>6.098187</td>\n",
       "      <td>12110.011237</td>\n",
       "      <td>5.866873</td>\n",
       "      <td>7251.326564</td>\n",
       "    </tr>\n",
       "    <tr>\n",
       "      <th>min</th>\n",
       "      <td>15.960000</td>\n",
       "      <td>1121.873900</td>\n",
       "      <td>15.960000</td>\n",
       "      <td>1121.873900</td>\n",
       "    </tr>\n",
       "    <tr>\n",
       "      <th>25%</th>\n",
       "      <td>26.296250</td>\n",
       "      <td>4740.287150</td>\n",
       "      <td>25.800000</td>\n",
       "      <td>4415.158800</td>\n",
       "    </tr>\n",
       "    <tr>\n",
       "      <th>50%</th>\n",
       "      <td>30.400000</td>\n",
       "      <td>9382.033000</td>\n",
       "      <td>29.735000</td>\n",
       "      <td>8410.046850</td>\n",
       "    </tr>\n",
       "    <tr>\n",
       "      <th>75%</th>\n",
       "      <td>34.693750</td>\n",
       "      <td>16639.912515</td>\n",
       "      <td>33.770000</td>\n",
       "      <td>12979.358000</td>\n",
       "    </tr>\n",
       "    <tr>\n",
       "      <th>max</th>\n",
       "      <td>53.130000</td>\n",
       "      <td>63770.428010</td>\n",
       "      <td>46.750000</td>\n",
       "      <td>34472.841000</td>\n",
       "    </tr>\n",
       "  </tbody>\n",
       "</table>\n",
       "</div>"
      ],
      "text/plain": [
       "       bmi (Original)  charges (Original)  bmi (Cleaned)  charges (Cleaned)\n",
       "count     1338.000000         1338.000000    1193.000000        1193.000000\n",
       "mean        30.663397        13270.422265      29.998529        9942.269682\n",
       "std          6.098187        12110.011237       5.866873        7251.326564\n",
       "min         15.960000         1121.873900      15.960000        1121.873900\n",
       "25%         26.296250         4740.287150      25.800000        4415.158800\n",
       "50%         30.400000         9382.033000      29.735000        8410.046850\n",
       "75%         34.693750        16639.912515      33.770000       12979.358000\n",
       "max         53.130000        63770.428010      46.750000       34472.841000"
      ]
     },
     "metadata": {},
     "output_type": "display_data"
    }
   ],
   "source": [
    "# Compare descriptive statistics\n",
    "stats_comp = pd.concat([\n",
    "    df[['bmi', 'charges']].describe().add_suffix(\" (Original)\"),\n",
    "    cleaned_df[['bmi', 'charges']].describe().add_suffix(\" (Cleaned)\")\n",
    "], axis=1)\n",
    "\n",
    "print(\"\\nDescriptive statistics comparison:\")\n",
    "display(stats_comp)"
   ]
  },
  {
   "cell_type": "code",
   "execution_count": null,
   "metadata": {},
   "outputs": [
    {
     "data": {
      "image/png": "[encoded data removed]",
      "text/plain": [
       "<Figure size 1000x400 with 1 Axes>"
      ]
     },
     "metadata": {},
     "output_type": "display_data"
    },
    {
     "data": {
      "image/png": "[encoded data removed]",
      "text/plain": [
       "<Figure size 1000x400 with 1 Axes>"
      ]
     },
     "metadata": {},
     "output_type": "display_data"
    },
    {
     "data": {
      "image/png": "[encoded data removed]",
      "text/plain": [
       "<Figure size 600x500 with 1 Axes>"
      ]
     },
     "metadata": {},
     "output_type": "display_data"
    },
    {
     "data": {
      "image/png": "[encoded data removed]",
      "text/plain": [
       "<Figure size 600x500 with 1 Axes>"
      ]
     },
     "metadata": {},
     "output_type": "display_data"
    }
   ],
   "source": [
    "# Visualizations: distributions and boxplots\n",
    "\n",
    "# Histogram plots for original and cleaned data\n",
    "for col in ['bmi', 'charges']:\n",
    "    plt.figure(figsize=(10, 4))\n",
    "    sns.histplot(df[col], kde=True, stat='density', bins=30, label='Original', alpha=0.5)\n",
    "    sns.histplot(cleaned_df[col], kde=True, stat='density', bins=30, label='Cleaned', alpha=0.5)\n",
    "    plt.title(f'Distribution of {col}: Original vs Cleaned')\n",
    "    plt.legend()\n",
    "    plt.show()\n",
    "\n",
    "# Boxplot comparisons for original and cleaned data\n",
    "for col in ['bmi', 'charges']:\n",
    "    combined = pd.DataFrame({\n",
    "        col: pd.concat([df[col], cleaned_df[col]], ignore_index=True),\n",
    "        'Dataset': ['Original'] * len(df) + ['Cleaned'] * len(cleaned_df)\n",
    "    })\n",
    "    plt.figure(figsize=(6, 5))\n",
    "    ax = sns.boxplot(x='Dataset', y=col, data=combined, hue='Dataset', palette=['skyblue', 'salmon'], dodge=False)\n",
    "    plt.legend([], [], frameon=False)\n",
    "    plt.title(f'Boxplot Comparison for {col}')\n",
    "    plt.show()\n"
   ]
  },
  {
   "cell_type": "code",
   "execution_count": null,
   "metadata": {},
   "outputs": [
    {
     "data": {
      "image/png": "[encoded data removed]",
      "text/plain": [
       "<Figure size 1200x500 with 2 Axes>"
      ]
     },
     "metadata": {},
     "output_type": "display_data"
    }
   ],
   "source": [
    "# Boxplots for age and children\n",
    "fig, axes = plt.subplots(1, 2, figsize=(12, 5))\n",
    "sns.boxplot(y=df['age'],      ax=axes[0]).set(title='Boxplot for Age')\n",
    "sns.boxplot(y=df['children'], ax=axes[1]).set(title='Boxplot for Children')\n",
    "plt.tight_layout()\n",
    "plt.show()"
   ]
  },
  {
   "cell_type": "code",
   "execution_count": null,
   "metadata": {},
   "outputs": [
    {
     "name": "stdout",
     "output_type": "stream",
     "text": [
      "\n",
      "Skewness before cleaning:\n",
      "bmi        0.284047\n",
      "charges    1.515880\n",
      "dtype: float64\n",
      "\n",
      "Skewness after cleaning:\n",
      "bmi        0.262847\n",
      "charges    1.175850\n",
      "dtype: float64\n",
      "\n",
      "Shapiro-Wilk p-value (Original charges): 1.15e-36\n",
      "Shapiro-Wilk p-value (Cleaned charges):  7.81e-28\n"
     ]
    },
    {
     "data": {
      "image/png": "[encoded data removed]",
      "text/plain": [
       "<Figure size 600x500 with 1 Axes>"
      ]
     },
     "metadata": {},
     "output_type": "display_data"
    },
    {
     "data": {
      "image/png": "[encoded data removed]",
      "text/plain": [
       "<Figure size 600x500 with 1 Axes>"
      ]
     },
     "metadata": {},
     "output_type": "display_data"
    }
   ],
   "source": [
    "# Skewness and normality checks\n",
    "print(\"\\nSkewness before cleaning:\")\n",
    "print(df[['bmi','charges']].skew())\n",
    "\n",
    "print(\"\\nSkewness after cleaning:\")\n",
    "print(cleaned_df[['bmi','charges']].skew())\n",
    "\n",
    "stat_o, p_o = shapiro(df['charges'])\n",
    "stat_c, p_c = shapiro(cleaned_df['charges'])\n",
    "print(f\"\\nShapiro-Wilk p-value (Original charges): {p_o:.2e}\")\n",
    "print(f\"Shapiro-Wilk p-value (Cleaned charges):  {p_c:.2e}\")\n",
    "\n",
    "# Q–Q plots\n",
    "plt.figure(figsize=(6, 5))\n",
    "stats.probplot(df['charges'],   dist=\"norm\", plot=plt)\n",
    "plt.title(\"Q–Q Plot: Original charges\")\n",
    "plt.show()\n",
    "\n",
    "plt.figure(figsize=(6, 5))\n",
    "stats.probplot(cleaned_df['charges'], dist=\"norm\", plot=plt)\n",
    "plt.title(\"Q–Q Plot: Cleaned charges\")\n",
    "plt.show()"
   ]
  },
  {
   "cell_type": "markdown",
   "metadata": {},
   "source": [
    "## Conclusions on Handling Missing Values and Outliers\n",
    "\n",
    "### Missing Values\n",
    "In the dataset, 1,338 records and 7 columns (`age`, `sex`, `bmi`, `children`, `smoker`, `region`, `charges`) were found to contain no missing values. Imputation or record removal was therefore unnecessary.\n",
    "\n",
    "---\n",
    "\n",
    "### Outlier Detection (IQR Method)\n",
    "The Interquartile Range (IQR) method was applied to all numeric columns to compute lower and upper bounds and identify extreme values:\n",
    "- **`age` & `children`:** 0 outliers detected (confirmed by boxplots).  \n",
    "- **`bmi`:** 9 outliers (BMI > 45), indicating either genuine severe obesity cases or measurement errors.  \n",
    "- **`charges`:** 139 outliers, corresponding to very high medical costs (e.g., costly surgeries, intensive treatments) forming a long right-hand tail.\n",
    "\n",
    "---\n",
    "\n",
    "### Outlier Treatment Strategy\n",
    "Anomalous observations in `bmi` and `charges` were removed (145 records, ~10.8% of data) to:\n",
    "1. Eliminate noise that distorts central statistics (mean, standard deviation).  \n",
    "2. Improve robustness of analytical and predictive models sensitive to extreme values.\n",
    "\n",
    "---\n",
    "\n",
    "### Causes and Impact of Outliers\n",
    "- **High BMI values:** Reflect either severe obesity cases or data entry/measurement errors, which can skew average BMI and its correlations.  \n",
    "- **Extreme `charges`:** Represent isolated expensive treatments; without removal, these outliers inflate the mean (≈13 270 → ≈9 942), increase variance (σ ≈12 110 → ≈7 251), and create a pronounced right skew (skewness ≈1.52 → ≈1.18).\n",
    "\n",
    "---\n",
    "\n",
    "### Cleaning Outcomes\n",
    "- **Histograms:** Distributions of `bmi` and `charges` became more concentrated around central values after cleaning.  \n",
    "- **Boxplots:** Whiskers and extreme points were significantly shortened, especially for `charges`.  \n",
    "- **Central Tendency:** Mean and median for `charges` moved closer together, indicating reduced influence of extreme values.\n",
    "\n",
    "---\n",
    "\n",
    "### Normality Check\n",
    "- **Shapiro–Wilk test:** p-values remained ≪ 0.05 both before and after cleaning, confirming the `charges` distribution is still non-normal.  \n",
    "- **Q–Q plots:** Persistent right-tail deviations were observed, although slightly mitigated by outlier removal.\n",
    "\n",
    "---\n",
    "\n",
    "### Recommendations for Further Analysis\n",
    "- **Modeling approaches** robust to non-normality and outliers (e.g., tree-based algorithms) are advised.  \n",
    "- **Data transformations** (e.g., logarithmic, Box-Cox) of the `charges` variable may help approximate normality.  \n",
    "- **Separate examination** of extreme cases could provide valuable insights into high-cost medical events.\n",
    "\n",
    "> **Summary:**  \n",
    "> Complete data without missing values allowed a focused outlier analysis. IQR-based removal of extreme `bmi` and `charges` values improved data homogeneity and central statistics. However, the `charges` distribution remains right-skewed and non-normal, warranting the use of robust modeling techniques or appropriate transformations.  "
   ]
  },
  {
   "cell_type": "code",
   "execution_count": null,
   "metadata": {},
   "outputs": [],
   "source": []
  },
  {
   "cell_type": "code",
   "execution_count": null,
   "metadata": {},
   "outputs": [
    {
     "name": "stdout",
     "output_type": "stream",
     "text": [
      "First five rows:\n"
     ]
    },
    {
     "data": {
      "application/vnd.microsoft.datawrangler.viewer.v0+json": {
       "columns": [
        {
         "name": "index",
         "rawType": "int64",
         "type": "integer"
        },
        {
         "name": "Unnamed: 0",
         "rawType": "int64",
         "type": "integer"
        },
        {
         "name": "id",
         "rawType": "int64",
         "type": "integer"
        },
        {
         "name": "Gender",
         "rawType": "object",
         "type": "string"
        },
        {
         "name": "Customer Type",
         "rawType": "object",
         "type": "string"
        },
        {
         "name": "Age",
         "rawType": "int64",
         "type": "integer"
        },
        {
         "name": "Type of Travel",
         "rawType": "object",
         "type": "string"
        },
        {
         "name": "Class",
         "rawType": "object",
         "type": "string"
        },
        {
         "name": "Flight Distance",
         "rawType": "int64",
         "type": "integer"
        },
        {
         "name": "Inflight wifi service",
         "rawType": "int64",
         "type": "integer"
        },
        {
         "name": "Departure/Arrival time convenient",
         "rawType": "int64",
         "type": "integer"
        },
        {
         "name": "Ease of Online booking",
         "rawType": "int64",
         "type": "integer"
        },
        {
         "name": "Gate location",
         "rawType": "int64",
         "type": "integer"
        },
        {
         "name": "Food and drink",
         "rawType": "int64",
         "type": "integer"
        },
        {
         "name": "Online boarding",
         "rawType": "int64",
         "type": "integer"
        },
        {
         "name": "Seat comfort",
         "rawType": "int64",
         "type": "integer"
        },
        {
         "name": "Inflight entertainment",
         "rawType": "int64",
         "type": "integer"
        },
        {
         "name": "On-board service",
         "rawType": "int64",
         "type": "integer"
        },
        {
         "name": "Leg room service",
         "rawType": "int64",
         "type": "integer"
        },
        {
         "name": "Baggage handling",
         "rawType": "int64",
         "type": "integer"
        },
        {
         "name": "Checkin service",
         "rawType": "int64",
         "type": "integer"
        },
        {
         "name": "Inflight service",
         "rawType": "int64",
         "type": "integer"
        },
        {
         "name": "Cleanliness",
         "rawType": "int64",
         "type": "integer"
        },
        {
         "name": "Departure Delay in Minutes",
         "rawType": "int64",
         "type": "integer"
        },
        {
         "name": "Arrival Delay in Minutes",
         "rawType": "float64",
         "type": "float"
        },
        {
         "name": "satisfaction",
         "rawType": "object",
         "type": "string"
        }
       ],
       "ref": "7628f05d-b5cc-4790-83f6-a62e7d8628f9",
       "rows": [
        [
         "0",
         "0",
         "19556",
         "Female",
         "Loyal Customer",
         "52",
         "Business travel",
         "Eco",
         "160",
         "5",
         "4",
         "3",
         "4",
         "3",
         "4",
         "3",
         "5",
         "5",
         "5",
         "5",
         "2",
         "5",
         "5",
         "50",
         "44.0",
         "satisfied"
        ],
        [
         "1",
         "1",
         "90035",
         "Female",
         "Loyal Customer",
         "36",
         "Business travel",
         "Business",
         "2863",
         "1",
         "1",
         "3",
         "1",
         "5",
         "4",
         "5",
         "4",
         "4",
         "4",
         "4",
         "3",
         "4",
         "5",
         "0",
         "0.0",
         "satisfied"
        ],
        [
         "2",
         "2",
         "12360",
         "Male",
         "disloyal Customer",
         "20",
         "Business travel",
         "Eco",
         "192",
         "2",
         "0",
         "2",
         "4",
         "2",
         "2",
         "2",
         "2",
         "4",
         "1",
         "3",
         "2",
         "2",
         "2",
         "0",
         "0.0",
         "neutral or dissatisfied"
        ],
        [
         "3",
         "3",
         "77959",
         "Male",
         "Loyal Customer",
         "44",
         "Business travel",
         "Business",
         "3377",
         "0",
         "0",
         "0",
         "2",
         "3",
         "4",
         "4",
         "1",
         "1",
         "1",
         "1",
         "3",
         "1",
         "4",
         "0",
         "6.0",
         "satisfied"
        ],
        [
         "4",
         "4",
         "36875",
         "Female",
         "Loyal Customer",
         "49",
         "Business travel",
         "Eco",
         "1182",
         "2",
         "3",
         "4",
         "3",
         "4",
         "1",
         "2",
         "2",
         "2",
         "2",
         "2",
         "4",
         "2",
         "4",
         "0",
         "20.0",
         "satisfied"
        ]
       ],
       "shape": {
        "columns": 25,
        "rows": 5
       }
      },
      "text/html": [
       "<div>\n",
       "<style scoped>\n",
       "    .dataframe tbody tr th:only-of-type {\n",
       "        vertical-align: middle;\n",
       "    }\n",
       "\n",
       "    .dataframe tbody tr th {\n",
       "        vertical-align: top;\n",
       "    }\n",
       "\n",
       "    .dataframe thead th {\n",
       "        text-align: right;\n",
       "    }\n",
       "</style>\n",
       "<table border=\"1\" class=\"dataframe\">\n",
       "  <thead>\n",
       "    <tr style=\"text-align: right;\">\n",
       "      <th></th>\n",
       "      <th>Unnamed: 0</th>\n",
       "      <th>id</th>\n",
       "      <th>Gender</th>\n",
       "      <th>Customer Type</th>\n",
       "      <th>Age</th>\n",
       "      <th>Type of Travel</th>\n",
       "      <th>Class</th>\n",
       "      <th>Flight Distance</th>\n",
       "      <th>Inflight wifi service</th>\n",
       "      <th>Departure/Arrival time convenient</th>\n",
       "      <th>...</th>\n",
       "      <th>Inflight entertainment</th>\n",
       "      <th>On-board service</th>\n",
       "      <th>Leg room service</th>\n",
       "      <th>Baggage handling</th>\n",
       "      <th>Checkin service</th>\n",
       "      <th>Inflight service</th>\n",
       "      <th>Cleanliness</th>\n",
       "      <th>Departure Delay in Minutes</th>\n",
       "      <th>Arrival Delay in Minutes</th>\n",
       "      <th>satisfaction</th>\n",
       "    </tr>\n",
       "  </thead>\n",
       "  <tbody>\n",
       "    <tr>\n",
       "      <th>0</th>\n",
       "      <td>0</td>\n",
       "      <td>19556</td>\n",
       "      <td>Female</td>\n",
       "      <td>Loyal Customer</td>\n",
       "      <td>52</td>\n",
       "      <td>Business travel</td>\n",
       "      <td>Eco</td>\n",
       "      <td>160</td>\n",
       "      <td>5</td>\n",
       "      <td>4</td>\n",
       "      <td>...</td>\n",
       "      <td>5</td>\n",
       "      <td>5</td>\n",
       "      <td>5</td>\n",
       "      <td>5</td>\n",
       "      <td>2</td>\n",
       "      <td>5</td>\n",
       "      <td>5</td>\n",
       "      <td>50</td>\n",
       "      <td>44.0</td>\n",
       "      <td>satisfied</td>\n",
       "    </tr>\n",
       "    <tr>\n",
       "      <th>1</th>\n",
       "      <td>1</td>\n",
       "      <td>90035</td>\n",
       "      <td>Female</td>\n",
       "      <td>Loyal Customer</td>\n",
       "      <td>36</td>\n",
       "      <td>Business travel</td>\n",
       "      <td>Business</td>\n",
       "      <td>2863</td>\n",
       "      <td>1</td>\n",
       "      <td>1</td>\n",
       "      <td>...</td>\n",
       "      <td>4</td>\n",
       "      <td>4</td>\n",
       "      <td>4</td>\n",
       "      <td>4</td>\n",
       "      <td>3</td>\n",
       "      <td>4</td>\n",
       "      <td>5</td>\n",
       "      <td>0</td>\n",
       "      <td>0.0</td>\n",
       "      <td>satisfied</td>\n",
       "    </tr>\n",
       "    <tr>\n",
       "      <th>2</th>\n",
       "      <td>2</td>\n",
       "      <td>12360</td>\n",
       "      <td>Male</td>\n",
       "      <td>disloyal Customer</td>\n",
       "      <td>20</td>\n",
       "      <td>Business travel</td>\n",
       "      <td>Eco</td>\n",
       "      <td>192</td>\n",
       "      <td>2</td>\n",
       "      <td>0</td>\n",
       "      <td>...</td>\n",
       "      <td>2</td>\n",
       "      <td>4</td>\n",
       "      <td>1</td>\n",
       "      <td>3</td>\n",
       "      <td>2</td>\n",
       "      <td>2</td>\n",
       "      <td>2</td>\n",
       "      <td>0</td>\n",
       "      <td>0.0</td>\n",
       "      <td>neutral or dissatisfied</td>\n",
       "    </tr>\n",
       "    <tr>\n",
       "      <th>3</th>\n",
       "      <td>3</td>\n",
       "      <td>77959</td>\n",
       "      <td>Male</td>\n",
       "      <td>Loyal Customer</td>\n",
       "      <td>44</td>\n",
       "      <td>Business travel</td>\n",
       "      <td>Business</td>\n",
       "      <td>3377</td>\n",
       "      <td>0</td>\n",
       "      <td>0</td>\n",
       "      <td>...</td>\n",
       "      <td>1</td>\n",
       "      <td>1</td>\n",
       "      <td>1</td>\n",
       "      <td>1</td>\n",
       "      <td>3</td>\n",
       "      <td>1</td>\n",
       "      <td>4</td>\n",
       "      <td>0</td>\n",
       "      <td>6.0</td>\n",
       "      <td>satisfied</td>\n",
       "    </tr>\n",
       "    <tr>\n",
       "      <th>4</th>\n",
       "      <td>4</td>\n",
       "      <td>36875</td>\n",
       "      <td>Female</td>\n",
       "      <td>Loyal Customer</td>\n",
       "      <td>49</td>\n",
       "      <td>Business travel</td>\n",
       "      <td>Eco</td>\n",
       "      <td>1182</td>\n",
       "      <td>2</td>\n",
       "      <td>3</td>\n",
       "      <td>...</td>\n",
       "      <td>2</td>\n",
       "      <td>2</td>\n",
       "      <td>2</td>\n",
       "      <td>2</td>\n",
       "      <td>4</td>\n",
       "      <td>2</td>\n",
       "      <td>4</td>\n",
       "      <td>0</td>\n",
       "      <td>20.0</td>\n",
       "      <td>satisfied</td>\n",
       "    </tr>\n",
       "  </tbody>\n",
       "</table>\n",
       "<p>5 rows × 25 columns</p>\n",
       "</div>"
      ],
      "text/plain": [
       "   Unnamed: 0     id  Gender      Customer Type  Age   Type of Travel  \\\n",
       "0           0  19556  Female     Loyal Customer   52  Business travel   \n",
       "1           1  90035  Female     Loyal Customer   36  Business travel   \n",
       "2           2  12360    Male  disloyal Customer   20  Business travel   \n",
       "3           3  77959    Male     Loyal Customer   44  Business travel   \n",
       "4           4  36875  Female     Loyal Customer   49  Business travel   \n",
       "\n",
       "      Class  Flight Distance  Inflight wifi service  \\\n",
       "0       Eco              160                      5   \n",
       "1  Business             2863                      1   \n",
       "2       Eco              192                      2   \n",
       "3  Business             3377                      0   \n",
       "4       Eco             1182                      2   \n",
       "\n",
       "   Departure/Arrival time convenient  ...  Inflight entertainment  \\\n",
       "0                                  4  ...                       5   \n",
       "1                                  1  ...                       4   \n",
       "2                                  0  ...                       2   \n",
       "3                                  0  ...                       1   \n",
       "4                                  3  ...                       2   \n",
       "\n",
       "   On-board service  Leg room service  Baggage handling  Checkin service  \\\n",
       "0                 5                 5                 5                2   \n",
       "1                 4                 4                 4                3   \n",
       "2                 4                 1                 3                2   \n",
       "3                 1                 1                 1                3   \n",
       "4                 2                 2                 2                4   \n",
       "\n",
       "   Inflight service  Cleanliness  Departure Delay in Minutes  \\\n",
       "0                 5            5                          50   \n",
       "1                 4            5                           0   \n",
       "2                 2            2                           0   \n",
       "3                 1            4                           0   \n",
       "4                 2            4                           0   \n",
       "\n",
       "   Arrival Delay in Minutes             satisfaction  \n",
       "0                      44.0                satisfied  \n",
       "1                       0.0                satisfied  \n",
       "2                       0.0  neutral or dissatisfied  \n",
       "3                       6.0                satisfied  \n",
       "4                      20.0                satisfied  \n",
       "\n",
       "[5 rows x 25 columns]"
      ]
     },
     "metadata": {},
     "output_type": "display_data"
    },
    {
     "name": "stdout",
     "output_type": "stream",
     "text": [
      "\n",
      "Dataset info:\n",
      "<class 'pandas.core.frame.DataFrame'>\n",
      "RangeIndex: 25976 entries, 0 to 25975\n",
      "Data columns (total 25 columns):\n",
      " #   Column                             Non-Null Count  Dtype  \n",
      "---  ------                             --------------  -----  \n",
      " 0   Unnamed: 0                         25976 non-null  int64  \n",
      " 1   id                                 25976 non-null  int64  \n",
      " 2   Gender                             25976 non-null  object \n",
      " 3   Customer Type                      25976 non-null  object \n",
      " 4   Age                                25976 non-null  int64  \n",
      " 5   Type of Travel                     25976 non-null  object \n",
      " 6   Class                              25976 non-null  object \n",
      " 7   Flight Distance                    25976 non-null  int64  \n",
      " 8   Inflight wifi service              25976 non-null  int64  \n",
      " 9   Departure/Arrival time convenient  25976 non-null  int64  \n",
      " 10  Ease of Online booking             25976 non-null  int64  \n",
      " 11  Gate location                      25976 non-null  int64  \n",
      " 12  Food and drink                     25976 non-null  int64  \n",
      " 13  Online boarding                    25976 non-null  int64  \n",
      " 14  Seat comfort                       25976 non-null  int64  \n",
      " 15  Inflight entertainment             25976 non-null  int64  \n",
      " 16  On-board service                   25976 non-null  int64  \n",
      " 17  Leg room service                   25976 non-null  int64  \n",
      " 18  Baggage handling                   25976 non-null  int64  \n",
      " 19  Checkin service                    25976 non-null  int64  \n",
      " 20  Inflight service                   25976 non-null  int64  \n",
      " 21  Cleanliness                        25976 non-null  int64  \n",
      " 22  Departure Delay in Minutes         25976 non-null  int64  \n",
      " 23  Arrival Delay in Minutes           25893 non-null  float64\n",
      " 24  satisfaction                       25976 non-null  object \n",
      "dtypes: float64(1), int64(19), object(5)\n",
      "memory usage: 5.0+ MB\n"
     ]
    },
    {
     "data": {
      "text/plain": [
       "None"
      ]
     },
     "metadata": {},
     "output_type": "display_data"
    },
    {
     "name": "stdout",
     "output_type": "stream",
     "text": [
      "\n",
      "Descriptive statistics:\n"
     ]
    },
    {
     "data": {
      "application/vnd.microsoft.datawrangler.viewer.v0+json": {
       "columns": [
        {
         "name": "index",
         "rawType": "object",
         "type": "string"
        },
        {
         "name": "Unnamed: 0",
         "rawType": "float64",
         "type": "float"
        },
        {
         "name": "id",
         "rawType": "float64",
         "type": "float"
        },
        {
         "name": "Age",
         "rawType": "float64",
         "type": "float"
        },
        {
         "name": "Flight Distance",
         "rawType": "float64",
         "type": "float"
        },
        {
         "name": "Inflight wifi service",
         "rawType": "float64",
         "type": "float"
        },
        {
         "name": "Departure/Arrival time convenient",
         "rawType": "float64",
         "type": "float"
        },
        {
         "name": "Ease of Online booking",
         "rawType": "float64",
         "type": "float"
        },
        {
         "name": "Gate location",
         "rawType": "float64",
         "type": "float"
        },
        {
         "name": "Food and drink",
         "rawType": "float64",
         "type": "float"
        },
        {
         "name": "Online boarding",
         "rawType": "float64",
         "type": "float"
        },
        {
         "name": "Seat comfort",
         "rawType": "float64",
         "type": "float"
        },
        {
         "name": "Inflight entertainment",
         "rawType": "float64",
         "type": "float"
        },
        {
         "name": "On-board service",
         "rawType": "float64",
         "type": "float"
        },
        {
         "name": "Leg room service",
         "rawType": "float64",
         "type": "float"
        },
        {
         "name": "Baggage handling",
         "rawType": "float64",
         "type": "float"
        },
        {
         "name": "Checkin service",
         "rawType": "float64",
         "type": "float"
        },
        {
         "name": "Inflight service",
         "rawType": "float64",
         "type": "float"
        },
        {
         "name": "Cleanliness",
         "rawType": "float64",
         "type": "float"
        },
        {
         "name": "Departure Delay in Minutes",
         "rawType": "float64",
         "type": "float"
        },
        {
         "name": "Arrival Delay in Minutes",
         "rawType": "float64",
         "type": "float"
        }
       ],
       "ref": "e646781f-f2de-4915-88e3-5c922f94921c",
       "rows": [
        [
         "count",
         "25976.0",
         "25976.0",
         "25976.0",
         "25976.0",
         "25976.0",
         "25976.0",
         "25976.0",
         "25976.0",
         "25976.0",
         "25976.0",
         "25976.0",
         "25976.0",
         "25976.0",
         "25976.0",
         "25976.0",
         "25976.0",
         "25976.0",
         "25976.0",
         "25976.0",
         "25893.0"
        ],
        [
         "mean",
         "12987.5",
         "65005.65799199261",
         "39.62095780720665",
         "1193.788458577148",
         "2.7247459193101324",
         "3.0468124422543887",
         "2.756775485063135",
         "2.977094240837696",
         "3.2153526331998767",
         "3.261664613489375",
         "3.4492223591007085",
         "3.3577533107483832",
         "3.3856636895595935",
         "3.3501693871265785",
         "3.633238373883585",
         "3.3141746227286726",
         "3.649253156760086",
         "3.28622574684324",
         "14.306090237141976",
         "14.74085660217047"
        ],
        [
         "std",
         "7498.76963241304",
         "37611.52664665699",
         "15.135685259036865",
         "998.683998913301",
         "1.335384050017843",
         "1.5333705546136762",
         "1.4129513343116138",
         "1.2821326535958306",
         "1.3315063779960188",
         "1.355535695237514",
         "1.3200901811241672",
         "1.3382993601618567",
         "1.2820883643244598",
         "1.3188623331820117",
         "1.1765246613021436",
         "1.269332062407198",
         "1.1806809589810978",
         "1.3193300655397688",
         "37.42316004377711",
         "37.517538587655444"
        ],
        [
         "min",
         "0.0",
         "17.0",
         "7.0",
         "31.0",
         "0.0",
         "0.0",
         "0.0",
         "1.0",
         "0.0",
         "0.0",
         "1.0",
         "0.0",
         "0.0",
         "0.0",
         "1.0",
         "1.0",
         "0.0",
         "0.0",
         "0.0",
         "0.0"
        ],
        [
         "25%",
         "6493.75",
         "32170.5",
         "27.0",
         "414.0",
         "2.0",
         "2.0",
         "2.0",
         "2.0",
         "2.0",
         "2.0",
         "2.0",
         "2.0",
         "2.0",
         "2.0",
         "3.0",
         "3.0",
         "3.0",
         "2.0",
         "0.0",
         "0.0"
        ],
        [
         "50%",
         "12987.5",
         "65319.5",
         "40.0",
         "849.0",
         "3.0",
         "3.0",
         "3.0",
         "3.0",
         "3.0",
         "4.0",
         "4.0",
         "4.0",
         "4.0",
         "4.0",
         "4.0",
         "3.0",
         "4.0",
         "3.0",
         "0.0",
         "0.0"
        ],
        [
         "75%",
         "19481.25",
         "97584.25",
         "51.0",
         "1744.0",
         "4.0",
         "4.0",
         "4.0",
         "4.0",
         "4.0",
         "4.0",
         "5.0",
         "4.0",
         "4.0",
         "4.0",
         "5.0",
         "4.0",
         "5.0",
         "4.0",
         "12.0",
         "13.0"
        ],
        [
         "max",
         "25975.0",
         "129877.0",
         "85.0",
         "4983.0",
         "5.0",
         "5.0",
         "5.0",
         "5.0",
         "5.0",
         "5.0",
         "5.0",
         "5.0",
         "5.0",
         "5.0",
         "5.0",
         "5.0",
         "5.0",
         "5.0",
         "1128.0",
         "1115.0"
        ]
       ],
       "shape": {
        "columns": 20,
        "rows": 8
       }
      },
      "text/html": [
       "<div>\n",
       "<style scoped>\n",
       "    .dataframe tbody tr th:only-of-type {\n",
       "        vertical-align: middle;\n",
       "    }\n",
       "\n",
       "    .dataframe tbody tr th {\n",
       "        vertical-align: top;\n",
       "    }\n",
       "\n",
       "    .dataframe thead th {\n",
       "        text-align: right;\n",
       "    }\n",
       "</style>\n",
       "<table border=\"1\" class=\"dataframe\">\n",
       "  <thead>\n",
       "    <tr style=\"text-align: right;\">\n",
       "      <th></th>\n",
       "      <th>Unnamed: 0</th>\n",
       "      <th>id</th>\n",
       "      <th>Age</th>\n",
       "      <th>Flight Distance</th>\n",
       "      <th>Inflight wifi service</th>\n",
       "      <th>Departure/Arrival time convenient</th>\n",
       "      <th>Ease of Online booking</th>\n",
       "      <th>Gate location</th>\n",
       "      <th>Food and drink</th>\n",
       "      <th>Online boarding</th>\n",
       "      <th>Seat comfort</th>\n",
       "      <th>Inflight entertainment</th>\n",
       "      <th>On-board service</th>\n",
       "      <th>Leg room service</th>\n",
       "      <th>Baggage handling</th>\n",
       "      <th>Checkin service</th>\n",
       "      <th>Inflight service</th>\n",
       "      <th>Cleanliness</th>\n",
       "      <th>Departure Delay in Minutes</th>\n",
       "      <th>Arrival Delay in Minutes</th>\n",
       "    </tr>\n",
       "  </thead>\n",
       "  <tbody>\n",
       "    <tr>\n",
       "      <th>count</th>\n",
       "      <td>25976.000000</td>\n",
       "      <td>25976.000000</td>\n",
       "      <td>25976.000000</td>\n",
       "      <td>25976.000000</td>\n",
       "      <td>25976.000000</td>\n",
       "      <td>25976.000000</td>\n",
       "      <td>25976.000000</td>\n",
       "      <td>25976.000000</td>\n",
       "      <td>25976.000000</td>\n",
       "      <td>25976.000000</td>\n",
       "      <td>25976.000000</td>\n",
       "      <td>25976.000000</td>\n",
       "      <td>25976.000000</td>\n",
       "      <td>25976.000000</td>\n",
       "      <td>25976.000000</td>\n",
       "      <td>25976.000000</td>\n",
       "      <td>25976.000000</td>\n",
       "      <td>25976.000000</td>\n",
       "      <td>25976.00000</td>\n",
       "      <td>25893.000000</td>\n",
       "    </tr>\n",
       "    <tr>\n",
       "      <th>mean</th>\n",
       "      <td>12987.500000</td>\n",
       "      <td>65005.657992</td>\n",
       "      <td>39.620958</td>\n",
       "      <td>1193.788459</td>\n",
       "      <td>2.724746</td>\n",
       "      <td>3.046812</td>\n",
       "      <td>2.756775</td>\n",
       "      <td>2.977094</td>\n",
       "      <td>3.215353</td>\n",
       "      <td>3.261665</td>\n",
       "      <td>3.449222</td>\n",
       "      <td>3.357753</td>\n",
       "      <td>3.385664</td>\n",
       "      <td>3.350169</td>\n",
       "      <td>3.633238</td>\n",
       "      <td>3.314175</td>\n",
       "      <td>3.649253</td>\n",
       "      <td>3.286226</td>\n",
       "      <td>14.30609</td>\n",
       "      <td>14.740857</td>\n",
       "    </tr>\n",
       "    <tr>\n",
       "      <th>std</th>\n",
       "      <td>7498.769632</td>\n",
       "      <td>37611.526647</td>\n",
       "      <td>15.135685</td>\n",
       "      <td>998.683999</td>\n",
       "      <td>1.335384</td>\n",
       "      <td>1.533371</td>\n",
       "      <td>1.412951</td>\n",
       "      <td>1.282133</td>\n",
       "      <td>1.331506</td>\n",
       "      <td>1.355536</td>\n",
       "      <td>1.320090</td>\n",
       "      <td>1.338299</td>\n",
       "      <td>1.282088</td>\n",
       "      <td>1.318862</td>\n",
       "      <td>1.176525</td>\n",
       "      <td>1.269332</td>\n",
       "      <td>1.180681</td>\n",
       "      <td>1.319330</td>\n",
       "      <td>37.42316</td>\n",
       "      <td>37.517539</td>\n",
       "    </tr>\n",
       "    <tr>\n",
       "      <th>min</th>\n",
       "      <td>0.000000</td>\n",
       "      <td>17.000000</td>\n",
       "      <td>7.000000</td>\n",
       "      <td>31.000000</td>\n",
       "      <td>0.000000</td>\n",
       "      <td>0.000000</td>\n",
       "      <td>0.000000</td>\n",
       "      <td>1.000000</td>\n",
       "      <td>0.000000</td>\n",
       "      <td>0.000000</td>\n",
       "      <td>1.000000</td>\n",
       "      <td>0.000000</td>\n",
       "      <td>0.000000</td>\n",
       "      <td>0.000000</td>\n",
       "      <td>1.000000</td>\n",
       "      <td>1.000000</td>\n",
       "      <td>0.000000</td>\n",
       "      <td>0.000000</td>\n",
       "      <td>0.00000</td>\n",
       "      <td>0.000000</td>\n",
       "    </tr>\n",
       "    <tr>\n",
       "      <th>25%</th>\n",
       "      <td>6493.750000</td>\n",
       "      <td>32170.500000</td>\n",
       "      <td>27.000000</td>\n",
       "      <td>414.000000</td>\n",
       "      <td>2.000000</td>\n",
       "      <td>2.000000</td>\n",
       "      <td>2.000000</td>\n",
       "      <td>2.000000</td>\n",
       "      <td>2.000000</td>\n",
       "      <td>2.000000</td>\n",
       "      <td>2.000000</td>\n",
       "      <td>2.000000</td>\n",
       "      <td>2.000000</td>\n",
       "      <td>2.000000</td>\n",
       "      <td>3.000000</td>\n",
       "      <td>3.000000</td>\n",
       "      <td>3.000000</td>\n",
       "      <td>2.000000</td>\n",
       "      <td>0.00000</td>\n",
       "      <td>0.000000</td>\n",
       "    </tr>\n",
       "    <tr>\n",
       "      <th>50%</th>\n",
       "      <td>12987.500000</td>\n",
       "      <td>65319.500000</td>\n",
       "      <td>40.000000</td>\n",
       "      <td>849.000000</td>\n",
       "      <td>3.000000</td>\n",
       "      <td>3.000000</td>\n",
       "      <td>3.000000</td>\n",
       "      <td>3.000000</td>\n",
       "      <td>3.000000</td>\n",
       "      <td>4.000000</td>\n",
       "      <td>4.000000</td>\n",
       "      <td>4.000000</td>\n",
       "      <td>4.000000</td>\n",
       "      <td>4.000000</td>\n",
       "      <td>4.000000</td>\n",
       "      <td>3.000000</td>\n",
       "      <td>4.000000</td>\n",
       "      <td>3.000000</td>\n",
       "      <td>0.00000</td>\n",
       "      <td>0.000000</td>\n",
       "    </tr>\n",
       "    <tr>\n",
       "      <th>75%</th>\n",
       "      <td>19481.250000</td>\n",
       "      <td>97584.250000</td>\n",
       "      <td>51.000000</td>\n",
       "      <td>1744.000000</td>\n",
       "      <td>4.000000</td>\n",
       "      <td>4.000000</td>\n",
       "      <td>4.000000</td>\n",
       "      <td>4.000000</td>\n",
       "      <td>4.000000</td>\n",
       "      <td>4.000000</td>\n",
       "      <td>5.000000</td>\n",
       "      <td>4.000000</td>\n",
       "      <td>4.000000</td>\n",
       "      <td>4.000000</td>\n",
       "      <td>5.000000</td>\n",
       "      <td>4.000000</td>\n",
       "      <td>5.000000</td>\n",
       "      <td>4.000000</td>\n",
       "      <td>12.00000</td>\n",
       "      <td>13.000000</td>\n",
       "    </tr>\n",
       "    <tr>\n",
       "      <th>max</th>\n",
       "      <td>25975.000000</td>\n",
       "      <td>129877.000000</td>\n",
       "      <td>85.000000</td>\n",
       "      <td>4983.000000</td>\n",
       "      <td>5.000000</td>\n",
       "      <td>5.000000</td>\n",
       "      <td>5.000000</td>\n",
       "      <td>5.000000</td>\n",
       "      <td>5.000000</td>\n",
       "      <td>5.000000</td>\n",
       "      <td>5.000000</td>\n",
       "      <td>5.000000</td>\n",
       "      <td>5.000000</td>\n",
       "      <td>5.000000</td>\n",
       "      <td>5.000000</td>\n",
       "      <td>5.000000</td>\n",
       "      <td>5.000000</td>\n",
       "      <td>5.000000</td>\n",
       "      <td>1128.00000</td>\n",
       "      <td>1115.000000</td>\n",
       "    </tr>\n",
       "  </tbody>\n",
       "</table>\n",
       "</div>"
      ],
      "text/plain": [
       "         Unnamed: 0             id           Age  Flight Distance  \\\n",
       "count  25976.000000   25976.000000  25976.000000     25976.000000   \n",
       "mean   12987.500000   65005.657992     39.620958      1193.788459   \n",
       "std     7498.769632   37611.526647     15.135685       998.683999   \n",
       "min        0.000000      17.000000      7.000000        31.000000   \n",
       "25%     6493.750000   32170.500000     27.000000       414.000000   \n",
       "50%    12987.500000   65319.500000     40.000000       849.000000   \n",
       "75%    19481.250000   97584.250000     51.000000      1744.000000   \n",
       "max    25975.000000  129877.000000     85.000000      4983.000000   \n",
       "\n",
       "       Inflight wifi service  Departure/Arrival time convenient  \\\n",
       "count           25976.000000                       25976.000000   \n",
       "mean                2.724746                           3.046812   \n",
       "std                 1.335384                           1.533371   \n",
       "min                 0.000000                           0.000000   \n",
       "25%                 2.000000                           2.000000   \n",
       "50%                 3.000000                           3.000000   \n",
       "75%                 4.000000                           4.000000   \n",
       "max                 5.000000                           5.000000   \n",
       "\n",
       "       Ease of Online booking  Gate location  Food and drink  Online boarding  \\\n",
       "count            25976.000000   25976.000000    25976.000000     25976.000000   \n",
       "mean                 2.756775       2.977094        3.215353         3.261665   \n",
       "std                  1.412951       1.282133        1.331506         1.355536   \n",
       "min                  0.000000       1.000000        0.000000         0.000000   \n",
       "25%                  2.000000       2.000000        2.000000         2.000000   \n",
       "50%                  3.000000       3.000000        3.000000         4.000000   \n",
       "75%                  4.000000       4.000000        4.000000         4.000000   \n",
       "max                  5.000000       5.000000        5.000000         5.000000   \n",
       "\n",
       "       Seat comfort  Inflight entertainment  On-board service  \\\n",
       "count  25976.000000            25976.000000      25976.000000   \n",
       "mean       3.449222                3.357753          3.385664   \n",
       "std        1.320090                1.338299          1.282088   \n",
       "min        1.000000                0.000000          0.000000   \n",
       "25%        2.000000                2.000000          2.000000   \n",
       "50%        4.000000                4.000000          4.000000   \n",
       "75%        5.000000                4.000000          4.000000   \n",
       "max        5.000000                5.000000          5.000000   \n",
       "\n",
       "       Leg room service  Baggage handling  Checkin service  Inflight service  \\\n",
       "count      25976.000000      25976.000000     25976.000000      25976.000000   \n",
       "mean           3.350169          3.633238         3.314175          3.649253   \n",
       "std            1.318862          1.176525         1.269332          1.180681   \n",
       "min            0.000000          1.000000         1.000000          0.000000   \n",
       "25%            2.000000          3.000000         3.000000          3.000000   \n",
       "50%            4.000000          4.000000         3.000000          4.000000   \n",
       "75%            4.000000          5.000000         4.000000          5.000000   \n",
       "max            5.000000          5.000000         5.000000          5.000000   \n",
       "\n",
       "        Cleanliness  Departure Delay in Minutes  Arrival Delay in Minutes  \n",
       "count  25976.000000                 25976.00000              25893.000000  \n",
       "mean       3.286226                    14.30609                 14.740857  \n",
       "std        1.319330                    37.42316                 37.517539  \n",
       "min        0.000000                     0.00000                  0.000000  \n",
       "25%        2.000000                     0.00000                  0.000000  \n",
       "50%        3.000000                     0.00000                  0.000000  \n",
       "75%        4.000000                    12.00000                 13.000000  \n",
       "max        5.000000                  1128.00000               1115.000000  "
      ]
     },
     "metadata": {},
     "output_type": "display_data"
    },
    {
     "name": "stdout",
     "output_type": "stream",
     "text": [
      "Using the following survey items for factor analysis: ['Unnamed: 0', 'id', 'Age', 'Flight Distance', 'Inflight wifi service', 'Departure/Arrival time convenient', 'Ease of Online booking', 'Gate location', 'Food and drink', 'Online boarding', 'Seat comfort', 'Inflight entertainment', 'On-board service', 'Leg room service', 'Baggage handling', 'Checkin service', 'Inflight service', 'Cleanliness', 'Departure Delay in Minutes', 'Arrival Delay in Minutes']\n",
      "\n",
      "Shape after removing missing values: (25893, 20)\n",
      "\n",
      "Bartlett's test p-value: 0.0\n",
      "KMO Model: 0.732912480795833\n"
     ]
    },
    {
     "name": "stderr",
     "output_type": "stream",
     "text": [
      "/Library/Frameworks/Python.framework/Versions/3.13/lib/python3.13/site-packages/sklearn/utils/deprecation.py:151: FutureWarning: 'force_all_finite' was renamed to 'ensure_all_finite' in 1.6 and will be removed in 1.8.\n",
      "  warnings.warn(\n"
     ]
    },
    {
     "data": {
      "image/png": "[encoded data removed]",
      "text/plain": [
       "<Figure size 800x500 with 1 Axes>"
      ]
     },
     "metadata": {},
     "output_type": "display_data"
    },
    {
     "name": "stdout",
     "output_type": "stream",
     "text": [
      "\n",
      "Number of factors to extract (Kaiser criterion): 6\n",
      "\n",
      "Factor Loadings:\n"
     ]
    },
    {
     "name": "stderr",
     "output_type": "stream",
     "text": [
      "/Library/Frameworks/Python.framework/Versions/3.13/lib/python3.13/site-packages/sklearn/utils/deprecation.py:151: FutureWarning: 'force_all_finite' was renamed to 'ensure_all_finite' in 1.6 and will be removed in 1.8.\n",
      "  warnings.warn(\n"
     ]
    },
    {
     "data": {
      "application/vnd.microsoft.datawrangler.viewer.v0+json": {
       "columns": [
        {
         "name": "index",
         "rawType": "object",
         "type": "string"
        },
        {
         "name": "0",
         "rawType": "float64",
         "type": "float"
        },
        {
         "name": "1",
         "rawType": "float64",
         "type": "float"
        },
        {
         "name": "2",
         "rawType": "float64",
         "type": "float"
        },
        {
         "name": "3",
         "rawType": "float64",
         "type": "float"
        },
        {
         "name": "4",
         "rawType": "float64",
         "type": "float"
        },
        {
         "name": "5",
         "rawType": "float64",
         "type": "float"
        }
       ],
       "ref": "90b3d335-8a6e-444c-a303-b121f8f06708",
       "rows": [
        [
         "Unnamed: 0",
         "-0.011371279216766096",
         "-0.002701237551733061",
         "-0.004175060636864602",
         "-0.001855022632358646",
         "-0.002699824320628257",
         "0.003517359157335231"
        ],
        [
         "id",
         "-0.024008630309763208",
         "0.07693867854631442",
         "-0.015539374456830624",
         "-0.04338579602881525",
         "0.016780461534802275",
         "0.15764387282572354"
        ],
        [
         "Age",
         "0.040700907561141364",
         "-0.046745240673494406",
         "-0.0014294332445050487",
         "0.033889153808883674",
         "-0.0018976556013356152",
         "0.274348551779791"
        ],
        [
         "Flight Distance",
         "0.0664092743426956",
         "0.09468411286838388",
         "0.008719972447486141",
         "0.0457557807660933",
         "-0.01978819704157745",
         "0.279308545183864"
        ],
        [
         "Inflight wifi service",
         "0.13034852829667523",
         "0.12624175986719216",
         "-0.007870232276486228",
         "0.7435341156458418",
         "0.3670916987006161",
         "-0.011729692354072204"
        ],
        [
         "Departure/Arrival time convenient",
         "-0.02096888697513871",
         "0.052507212934800034",
         "0.00046044918272655555",
         "0.11829713120671306",
         "0.677493170802965",
         "0.06887912853624285"
        ],
        [
         "Ease of Online booking",
         "-0.0035197472908192894",
         "0.03362485086482993",
         "0.002401194447912671",
         "0.6944768580562872",
         "0.5327335753549358",
         "0.03722519565853458"
        ],
        [
         "Gate location",
         "0.02407089593457555",
         "-0.03185246679750547",
         "0.00600314938279736",
         "0.15076171048028028",
         "0.6638536078500579",
         "-0.069774914733906"
        ],
        [
         "Food and drink",
         "0.7774082624332272",
         "-0.01862063230051283",
         "-0.03853377551106699",
         "0.045967416902372576",
         "-0.023658011171358642",
         "0.044648491248001555"
        ],
        [
         "Online boarding",
         "0.22158395911722986",
         "0.047277298838800955",
         "-0.01318142456663814",
         "0.5931473080164046",
         "-0.04921801767786269",
         "0.6016818636921313"
        ],
        [
         "Seat comfort",
         "0.7285080743848485",
         "0.015776006661325382",
         "-0.0338572779145961",
         "0.02716431452741189",
         "-0.008589656326377579",
         "0.4018315317266057"
        ],
        [
         "Inflight entertainment",
         "0.806274178788273",
         "0.4481461227016209",
         "-0.028072462969013032",
         "0.09167050625653632",
         "-0.053326701093031385",
         "0.03838787966473207"
        ],
        [
         "On-board service",
         "0.07983780655154096",
         "0.6903849370639081",
         "-0.015169318569110211",
         "0.018763637576521247",
         "0.004319867862427809",
         "0.16123012734077535"
        ],
        [
         "Leg room service",
         "0.0688465513683904",
         "0.4860525601977087",
         "0.02316205121939681",
         "0.12164532977792186",
         "-0.016452260509188514",
         "0.08080865859559591"
        ],
        [
         "Baggage handling",
         "0.06231068020697398",
         "0.7665728301768862",
         "0.01100524335439905",
         "0.0025888942561510175",
         "0.03180201915942267",
         "0.039205863309124026"
        ],
        [
         "Checkin service",
         "0.06519145889749094",
         "0.27069882079367413",
         "-0.01586722489250519",
         "-0.028066840553391745",
         "0.026473290573918683",
         "0.305067025830506"
        ],
        [
         "Inflight service",
         "0.06622533325973012",
         "0.8004265788429673",
         "-0.04567302396045327",
         "-0.01093199579119271",
         "0.03409375124609391",
         "0.017523656905232478"
        ],
        [
         "Cleanliness",
         "0.8272983488615463",
         "0.051314487242929516",
         "-0.02607339368664607",
         "0.021723919953027755",
         "-0.01924407070915223",
         "0.19633874644589694"
        ],
        [
         "Departure Delay in Minutes",
         "0.012777382989660704",
         "-0.013660550925928114",
         "0.9664501035728714",
         "-0.006935731969474862",
         "0.003298138803304606",
         "-0.012125944873021792"
        ],
        [
         "Arrival Delay in Minutes",
         "0.014501016772435977",
         "-0.022453484616314853",
         "0.9969560281029589",
         "-0.004084526234223532",
         "8.207390686698344e-05",
         "-0.02388435444376973"
        ]
       ],
       "shape": {
        "columns": 6,
        "rows": 20
       }
      },
      "text/html": [
       "<div>\n",
       "<style scoped>\n",
       "    .dataframe tbody tr th:only-of-type {\n",
       "        vertical-align: middle;\n",
       "    }\n",
       "\n",
       "    .dataframe tbody tr th {\n",
       "        vertical-align: top;\n",
       "    }\n",
       "\n",
       "    .dataframe thead th {\n",
       "        text-align: right;\n",
       "    }\n",
       "</style>\n",
       "<table border=\"1\" class=\"dataframe\">\n",
       "  <thead>\n",
       "    <tr style=\"text-align: right;\">\n",
       "      <th></th>\n",
       "      <th>0</th>\n",
       "      <th>1</th>\n",
       "      <th>2</th>\n",
       "      <th>3</th>\n",
       "      <th>4</th>\n",
       "      <th>5</th>\n",
       "    </tr>\n",
       "  </thead>\n",
       "  <tbody>\n",
       "    <tr>\n",
       "      <th>Unnamed: 0</th>\n",
       "      <td>-0.011371</td>\n",
       "      <td>-0.002701</td>\n",
       "      <td>-0.004175</td>\n",
       "      <td>-0.001855</td>\n",
       "      <td>-0.002700</td>\n",
       "      <td>0.003517</td>\n",
       "    </tr>\n",
       "    <tr>\n",
       "      <th>id</th>\n",
       "      <td>-0.024009</td>\n",
       "      <td>0.076939</td>\n",
       "      <td>-0.015539</td>\n",
       "      <td>-0.043386</td>\n",
       "      <td>0.016780</td>\n",
       "      <td>0.157644</td>\n",
       "    </tr>\n",
       "    <tr>\n",
       "      <th>Age</th>\n",
       "      <td>0.040701</td>\n",
       "      <td>-0.046745</td>\n",
       "      <td>-0.001429</td>\n",
       "      <td>0.033889</td>\n",
       "      <td>-0.001898</td>\n",
       "      <td>0.274349</td>\n",
       "    </tr>\n",
       "    <tr>\n",
       "      <th>Flight Distance</th>\n",
       "      <td>0.066409</td>\n",
       "      <td>0.094684</td>\n",
       "      <td>0.008720</td>\n",
       "      <td>0.045756</td>\n",
       "      <td>-0.019788</td>\n",
       "      <td>0.279309</td>\n",
       "    </tr>\n",
       "    <tr>\n",
       "      <th>Inflight wifi service</th>\n",
       "      <td>0.130349</td>\n",
       "      <td>0.126242</td>\n",
       "      <td>-0.007870</td>\n",
       "      <td>0.743534</td>\n",
       "      <td>0.367092</td>\n",
       "      <td>-0.011730</td>\n",
       "    </tr>\n",
       "    <tr>\n",
       "      <th>Departure/Arrival time convenient</th>\n",
       "      <td>-0.020969</td>\n",
       "      <td>0.052507</td>\n",
       "      <td>0.000460</td>\n",
       "      <td>0.118297</td>\n",
       "      <td>0.677493</td>\n",
       "      <td>0.068879</td>\n",
       "    </tr>\n",
       "    <tr>\n",
       "      <th>Ease of Online booking</th>\n",
       "      <td>-0.003520</td>\n",
       "      <td>0.033625</td>\n",
       "      <td>0.002401</td>\n",
       "      <td>0.694477</td>\n",
       "      <td>0.532734</td>\n",
       "      <td>0.037225</td>\n",
       "    </tr>\n",
       "    <tr>\n",
       "      <th>Gate location</th>\n",
       "      <td>0.024071</td>\n",
       "      <td>-0.031852</td>\n",
       "      <td>0.006003</td>\n",
       "      <td>0.150762</td>\n",
       "      <td>0.663854</td>\n",
       "      <td>-0.069775</td>\n",
       "    </tr>\n",
       "    <tr>\n",
       "      <th>Food and drink</th>\n",
       "      <td>0.777408</td>\n",
       "      <td>-0.018621</td>\n",
       "      <td>-0.038534</td>\n",
       "      <td>0.045967</td>\n",
       "      <td>-0.023658</td>\n",
       "      <td>0.044648</td>\n",
       "    </tr>\n",
       "    <tr>\n",
       "      <th>Online boarding</th>\n",
       "      <td>0.221584</td>\n",
       "      <td>0.047277</td>\n",
       "      <td>-0.013181</td>\n",
       "      <td>0.593147</td>\n",
       "      <td>-0.049218</td>\n",
       "      <td>0.601682</td>\n",
       "    </tr>\n",
       "    <tr>\n",
       "      <th>Seat comfort</th>\n",
       "      <td>0.728508</td>\n",
       "      <td>0.015776</td>\n",
       "      <td>-0.033857</td>\n",
       "      <td>0.027164</td>\n",
       "      <td>-0.008590</td>\n",
       "      <td>0.401832</td>\n",
       "    </tr>\n",
       "    <tr>\n",
       "      <th>Inflight entertainment</th>\n",
       "      <td>0.806274</td>\n",
       "      <td>0.448146</td>\n",
       "      <td>-0.028072</td>\n",
       "      <td>0.091671</td>\n",
       "      <td>-0.053327</td>\n",
       "      <td>0.038388</td>\n",
       "    </tr>\n",
       "    <tr>\n",
       "      <th>On-board service</th>\n",
       "      <td>0.079838</td>\n",
       "      <td>0.690385</td>\n",
       "      <td>-0.015169</td>\n",
       "      <td>0.018764</td>\n",
       "      <td>0.004320</td>\n",
       "      <td>0.161230</td>\n",
       "    </tr>\n",
       "    <tr>\n",
       "      <th>Leg room service</th>\n",
       "      <td>0.068847</td>\n",
       "      <td>0.486053</td>\n",
       "      <td>0.023162</td>\n",
       "      <td>0.121645</td>\n",
       "      <td>-0.016452</td>\n",
       "      <td>0.080809</td>\n",
       "    </tr>\n",
       "    <tr>\n",
       "      <th>Baggage handling</th>\n",
       "      <td>0.062311</td>\n",
       "      <td>0.766573</td>\n",
       "      <td>0.011005</td>\n",
       "      <td>0.002589</td>\n",
       "      <td>0.031802</td>\n",
       "      <td>0.039206</td>\n",
       "    </tr>\n",
       "    <tr>\n",
       "      <th>Checkin service</th>\n",
       "      <td>0.065191</td>\n",
       "      <td>0.270699</td>\n",
       "      <td>-0.015867</td>\n",
       "      <td>-0.028067</td>\n",
       "      <td>0.026473</td>\n",
       "      <td>0.305067</td>\n",
       "    </tr>\n",
       "    <tr>\n",
       "      <th>Inflight service</th>\n",
       "      <td>0.066225</td>\n",
       "      <td>0.800427</td>\n",
       "      <td>-0.045673</td>\n",
       "      <td>-0.010932</td>\n",
       "      <td>0.034094</td>\n",
       "      <td>0.017524</td>\n",
       "    </tr>\n",
       "    <tr>\n",
       "      <th>Cleanliness</th>\n",
       "      <td>0.827298</td>\n",
       "      <td>0.051314</td>\n",
       "      <td>-0.026073</td>\n",
       "      <td>0.021724</td>\n",
       "      <td>-0.019244</td>\n",
       "      <td>0.196339</td>\n",
       "    </tr>\n",
       "    <tr>\n",
       "      <th>Departure Delay in Minutes</th>\n",
       "      <td>0.012777</td>\n",
       "      <td>-0.013661</td>\n",
       "      <td>0.966450</td>\n",
       "      <td>-0.006936</td>\n",
       "      <td>0.003298</td>\n",
       "      <td>-0.012126</td>\n",
       "    </tr>\n",
       "    <tr>\n",
       "      <th>Arrival Delay in Minutes</th>\n",
       "      <td>0.014501</td>\n",
       "      <td>-0.022453</td>\n",
       "      <td>0.996956</td>\n",
       "      <td>-0.004085</td>\n",
       "      <td>0.000082</td>\n",
       "      <td>-0.023884</td>\n",
       "    </tr>\n",
       "  </tbody>\n",
       "</table>\n",
       "</div>"
      ],
      "text/plain": [
       "                                          0         1         2         3  \\\n",
       "Unnamed: 0                        -0.011371 -0.002701 -0.004175 -0.001855   \n",
       "id                                -0.024009  0.076939 -0.015539 -0.043386   \n",
       "Age                                0.040701 -0.046745 -0.001429  0.033889   \n",
       "Flight Distance                    0.066409  0.094684  0.008720  0.045756   \n",
       "Inflight wifi service              0.130349  0.126242 -0.007870  0.743534   \n",
       "Departure/Arrival time convenient -0.020969  0.052507  0.000460  0.118297   \n",
       "Ease of Online booking            -0.003520  0.033625  0.002401  0.694477   \n",
       "Gate location                      0.024071 -0.031852  0.006003  0.150762   \n",
       "Food and drink                     0.777408 -0.018621 -0.038534  0.045967   \n",
       "Online boarding                    0.221584  0.047277 -0.013181  0.593147   \n",
       "Seat comfort                       0.728508  0.015776 -0.033857  0.027164   \n",
       "Inflight entertainment             0.806274  0.448146 -0.028072  0.091671   \n",
       "On-board service                   0.079838  0.690385 -0.015169  0.018764   \n",
       "Leg room service                   0.068847  0.486053  0.023162  0.121645   \n",
       "Baggage handling                   0.062311  0.766573  0.011005  0.002589   \n",
       "Checkin service                    0.065191  0.270699 -0.015867 -0.028067   \n",
       "Inflight service                   0.066225  0.800427 -0.045673 -0.010932   \n",
       "Cleanliness                        0.827298  0.051314 -0.026073  0.021724   \n",
       "Departure Delay in Minutes         0.012777 -0.013661  0.966450 -0.006936   \n",
       "Arrival Delay in Minutes           0.014501 -0.022453  0.996956 -0.004085   \n",
       "\n",
       "                                          4         5  \n",
       "Unnamed: 0                        -0.002700  0.003517  \n",
       "id                                 0.016780  0.157644  \n",
       "Age                               -0.001898  0.274349  \n",
       "Flight Distance                   -0.019788  0.279309  \n",
       "Inflight wifi service              0.367092 -0.011730  \n",
       "Departure/Arrival time convenient  0.677493  0.068879  \n",
       "Ease of Online booking             0.532734  0.037225  \n",
       "Gate location                      0.663854 -0.069775  \n",
       "Food and drink                    -0.023658  0.044648  \n",
       "Online boarding                   -0.049218  0.601682  \n",
       "Seat comfort                      -0.008590  0.401832  \n",
       "Inflight entertainment            -0.053327  0.038388  \n",
       "On-board service                   0.004320  0.161230  \n",
       "Leg room service                  -0.016452  0.080809  \n",
       "Baggage handling                   0.031802  0.039206  \n",
       "Checkin service                    0.026473  0.305067  \n",
       "Inflight service                   0.034094  0.017524  \n",
       "Cleanliness                       -0.019244  0.196339  \n",
       "Departure Delay in Minutes         0.003298 -0.012126  \n",
       "Arrival Delay in Minutes           0.000082 -0.023884  "
      ]
     },
     "metadata": {},
     "output_type": "display_data"
    },
    {
     "name": "stdout",
     "output_type": "stream",
     "text": [
      "Communalities:\n"
     ]
    },
    {
     "data": {
      "application/vnd.microsoft.datawrangler.viewer.v0+json": {
       "columns": [
        {
         "name": "index",
         "rawType": "object",
         "type": "string"
        },
        {
         "name": "Communality",
         "rawType": "float64",
         "type": "float"
        }
       ],
       "ref": "049ea4ac-8a96-4ca7-86cd-78d8fcbef0df",
       "rows": [
        [
         "Unnamed: 0",
         "0.00017713578242855424"
        ],
        [
         "id",
         "0.03375294857018142"
        ],
        [
         "Age",
         "0.08026292838765611"
        ],
        [
         "Flight Distance",
         "0.09394973849627888"
        ],
        [
         "Inflight wifi service",
         "0.7207265433864299"
        ],
        [
         "Departure/Arrival time convenient",
         "0.4809324557289125"
        ],
        [
         "Ease of Online booking",
         "0.7686376688294518"
        ],
        [
         "Gate location",
         "0.46992927020329367"
        ],
        [
         "Food and drink",
         "0.6108613789818412"
        ],
        [
         "Online boarding",
         "0.7677755512444477"
        ],
        [
         "Seat comfort",
         "0.694399474167184"
        ],
        [
         "Inflight entertainment",
         "0.8644219099222961"
        ],
        [
         "On-board service",
         "0.5096014342213233"
        ],
        [
         "Leg room service",
         "0.26312172196341876"
        ],
        [
         "Baggage handling",
         "0.594192810728446"
        ],
        [
         "Checkin service",
         "0.17233401961958955"
        ],
        [
         "Inflight service",
         "0.6487434989586529"
        ],
        [
         "Cleanliness",
         "0.7271267227999149"
        ],
        [
         "Departure Delay in Minutes",
         "0.9345816955002602"
        ],
        [
         "Arrival Delay in Minutes",
         "0.9952229129075573"
        ]
       ],
       "shape": {
        "columns": 1,
        "rows": 20
       }
      },
      "text/html": [
       "<div>\n",
       "<style scoped>\n",
       "    .dataframe tbody tr th:only-of-type {\n",
       "        vertical-align: middle;\n",
       "    }\n",
       "\n",
       "    .dataframe tbody tr th {\n",
       "        vertical-align: top;\n",
       "    }\n",
       "\n",
       "    .dataframe thead th {\n",
       "        text-align: right;\n",
       "    }\n",
       "</style>\n",
       "<table border=\"1\" class=\"dataframe\">\n",
       "  <thead>\n",
       "    <tr style=\"text-align: right;\">\n",
       "      <th></th>\n",
       "      <th>Communality</th>\n",
       "    </tr>\n",
       "  </thead>\n",
       "  <tbody>\n",
       "    <tr>\n",
       "      <th>Unnamed: 0</th>\n",
       "      <td>0.000177</td>\n",
       "    </tr>\n",
       "    <tr>\n",
       "      <th>id</th>\n",
       "      <td>0.033753</td>\n",
       "    </tr>\n",
       "    <tr>\n",
       "      <th>Age</th>\n",
       "      <td>0.080263</td>\n",
       "    </tr>\n",
       "    <tr>\n",
       "      <th>Flight Distance</th>\n",
       "      <td>0.093950</td>\n",
       "    </tr>\n",
       "    <tr>\n",
       "      <th>Inflight wifi service</th>\n",
       "      <td>0.720727</td>\n",
       "    </tr>\n",
       "    <tr>\n",
       "      <th>Departure/Arrival time convenient</th>\n",
       "      <td>0.480932</td>\n",
       "    </tr>\n",
       "    <tr>\n",
       "      <th>Ease of Online booking</th>\n",
       "      <td>0.768638</td>\n",
       "    </tr>\n",
       "    <tr>\n",
       "      <th>Gate location</th>\n",
       "      <td>0.469929</td>\n",
       "    </tr>\n",
       "    <tr>\n",
       "      <th>Food and drink</th>\n",
       "      <td>0.610861</td>\n",
       "    </tr>\n",
       "    <tr>\n",
       "      <th>Online boarding</th>\n",
       "      <td>0.767776</td>\n",
       "    </tr>\n",
       "    <tr>\n",
       "      <th>Seat comfort</th>\n",
       "      <td>0.694399</td>\n",
       "    </tr>\n",
       "    <tr>\n",
       "      <th>Inflight entertainment</th>\n",
       "      <td>0.864422</td>\n",
       "    </tr>\n",
       "    <tr>\n",
       "      <th>On-board service</th>\n",
       "      <td>0.509601</td>\n",
       "    </tr>\n",
       "    <tr>\n",
       "      <th>Leg room service</th>\n",
       "      <td>0.263122</td>\n",
       "    </tr>\n",
       "    <tr>\n",
       "      <th>Baggage handling</th>\n",
       "      <td>0.594193</td>\n",
       "    </tr>\n",
       "    <tr>\n",
       "      <th>Checkin service</th>\n",
       "      <td>0.172334</td>\n",
       "    </tr>\n",
       "    <tr>\n",
       "      <th>Inflight service</th>\n",
       "      <td>0.648743</td>\n",
       "    </tr>\n",
       "    <tr>\n",
       "      <th>Cleanliness</th>\n",
       "      <td>0.727127</td>\n",
       "    </tr>\n",
       "    <tr>\n",
       "      <th>Departure Delay in Minutes</th>\n",
       "      <td>0.934582</td>\n",
       "    </tr>\n",
       "    <tr>\n",
       "      <th>Arrival Delay in Minutes</th>\n",
       "      <td>0.995223</td>\n",
       "    </tr>\n",
       "  </tbody>\n",
       "</table>\n",
       "</div>"
      ],
      "text/plain": [
       "                                   Communality\n",
       "Unnamed: 0                            0.000177\n",
       "id                                    0.033753\n",
       "Age                                   0.080263\n",
       "Flight Distance                       0.093950\n",
       "Inflight wifi service                 0.720727\n",
       "Departure/Arrival time convenient     0.480932\n",
       "Ease of Online booking                0.768638\n",
       "Gate location                         0.469929\n",
       "Food and drink                        0.610861\n",
       "Online boarding                       0.767776\n",
       "Seat comfort                          0.694399\n",
       "Inflight entertainment                0.864422\n",
       "On-board service                      0.509601\n",
       "Leg room service                      0.263122\n",
       "Baggage handling                      0.594193\n",
       "Checkin service                       0.172334\n",
       "Inflight service                      0.648743\n",
       "Cleanliness                           0.727127\n",
       "Departure Delay in Minutes            0.934582\n",
       "Arrival Delay in Minutes              0.995223"
      ]
     },
     "metadata": {},
     "output_type": "display_data"
    },
    {
     "name": "stdout",
     "output_type": "stream",
     "text": [
      "\n",
      "Interpretation of Factors:\n",
      "Factor 1: ['Food and drink', 'Seat comfort', 'Inflight entertainment', 'Cleanliness']\n",
      "Factor 2: ['Inflight entertainment', 'On-board service', 'Leg room service', 'Baggage handling', 'Inflight service']\n",
      "Factor 3: ['Departure Delay in Minutes', 'Arrival Delay in Minutes']\n",
      "Factor 4: ['Inflight wifi service', 'Ease of Online booking', 'Online boarding']\n",
      "Factor 5: ['Departure/Arrival time convenient', 'Ease of Online booking', 'Gate location']\n",
      "Factor 6: ['Online boarding', 'Seat comfort']\n",
      "\n",
      "Summary of Factor Analysis Findings:\n",
      "- The Kaiser criterion suggested extracting 6 factors.\n",
      "- The scree plot shows a leveling off after these factors.\n",
      "- Factor loadings indicate that the survey items cluster into distinct factors.\n",
      "- These underlying factors can be used for further research, such as modeling passenger satisfaction, identifying key service drivers, or optimizing operational strategies.\n"
     ]
    }
   ],
   "source": [
    "# Task 3: Exploratory Factor Analysis on Airline Passenger Satisfaction Survey\n",
    "# Objective: Uncover underlying factors that explain the patterns observed in survey responses related to work pressures,\n",
    "# and identify what factors lead to customer satisfaction for an airline.\n",
    "\n",
    "# Data Preparation\n",
    "\n",
    "import pandas as pd\n",
    "import numpy as np\n",
    "import matplotlib.pyplot as plt\n",
    "import seaborn as sns\n",
    "\n",
    "# Load the dataset\n",
    "df = pd.read_csv(\"data/test.csv\")\n",
    "\n",
    "# Inspect the data\n",
    "print(\"First five rows:\")\n",
    "display(df.head())\n",
    "\n",
    "print(\"\\nDataset info:\")\n",
    "display(df.info())\n",
    "\n",
    "print(\"\\nDescriptive statistics:\")\n",
    "display(df.describe())\n",
    "\n",
    "# Focus on the survey items. For example, assume the survey items are:\n",
    "survey_items = ['Seat_comfort', 'Inflight_service', 'Food_quality', 'Cleanliness', 'Entertainment', 'Value_for_money']\n",
    "existing_items = [col for col in survey_items if col in df.columns]\n",
    "\n",
    "# Fallback: if none of the specified survey items exist, use all numeric columns except a general rating like \"Satisfaction\"\n",
    "if len(existing_items) < 2:\n",
    "    existing_items = df.select_dtypes(include=[\"float64\", \"int64\"]).columns.tolist()\n",
    "    if \"Satisfaction\" in existing_items:\n",
    "        existing_items.remove(\"Satisfaction\")\n",
    "\n",
    "print(\"Using the following survey items for factor analysis:\", existing_items)\n",
    "\n",
    "# Check for missing values and drop rows with missing values in the survey items\n",
    "df_factor = df[existing_items].dropna()\n",
    "print(\"\\nShape after removing missing values:\", df_factor.shape)\n",
    "\n",
    "# 2) Factor Analysis\n",
    "\n",
    "from factor_analyzer import FactorAnalyzer, calculate_bartlett_sphericity, calculate_kmo\n",
    "\n",
    "# Check that there are at least 2 variables to perform factor analysis\n",
    "if df_factor.shape[1] < 2:\n",
    "    raise ValueError(\"Not enough variables for factor analysis; at least 2 numeric variables are required.\")\n",
    "\n",
    "# Check the suitability of data for factor analysis using Bartlett's test and the KMO measure\n",
    "chi_square_value, p_value = calculate_bartlett_sphericity(df_factor)\n",
    "print(\"\\nBartlett's test p-value:\", p_value)\n",
    "\n",
    "kmo_all, kmo_model = calculate_kmo(df_factor)\n",
    "print(\"KMO Model:\", kmo_model)\n",
    "\n",
    "# Determine eigenvalues (no rotation)\n",
    "fa_no_rotation = FactorAnalyzer(rotation=None)\n",
    "fa_no_rotation.fit(df_factor)\n",
    "ev, v = fa_no_rotation.get_eigenvalues()\n",
    "\n",
    "# Plotting the scree plot to visualize eigenvalues\n",
    "plt.figure(figsize=(8, 5))\n",
    "plt.scatter(range(1, df_factor.shape[1] + 1), ev)\n",
    "plt.plot(range(1, df_factor.shape[1] + 1), ev, 'o-')\n",
    "plt.title('Scree Plot')\n",
    "plt.xlabel('Factor Number')\n",
    "plt.ylabel('Eigenvalue')\n",
    "plt.axhline(y=1, color='red', linestyle='--')  # Kaiser criterion cutoff\n",
    "plt.grid()\n",
    "plt.show()\n",
    "\n",
    "# Determine number of factors using the Kaiser criterion (eigenvalue > 1)\n",
    "num_factors = sum(ev > 1)\n",
    "print(\"\\nNumber of factors to extract (Kaiser criterion):\", num_factors)\n",
    "\n",
    "# Perform Exploratory Factor Analysis (EFA) using varimax rotation\n",
    "fa = FactorAnalyzer(n_factors=num_factors, rotation='varimax')\n",
    "fa.fit(df_factor)\n",
    "loadings = fa.loadings_\n",
    "factor_loadings = pd.DataFrame(loadings, index=df_factor.columns)\n",
    "print(\"\\nFactor Loadings:\")\n",
    "display(factor_loadings)\n",
    "\n",
    "# Calculate communalities\n",
    "communalities = fa.get_communalities()\n",
    "communalities_df = pd.DataFrame(communalities, index=df_factor.columns, columns=['Communality'])\n",
    "print(\"Communalities:\")\n",
    "display(communalities_df)\n",
    "\n",
    "# Interpret factors: list items with absolute loadings above 0.4 for each factor\n",
    "print(\"\\nInterpretation of Factors:\")\n",
    "for i in range(num_factors):\n",
    "    items = factor_loadings.index[factor_loadings.iloc[:, i].abs() > 0.4].tolist()\n",
    "    print(f\"Factor {i+1}: {items}\")\n",
    "    # You can manually assign meaningful names based on these items\n",
    "\n",
    "# 3) Reporting\n",
    "\n",
    "print(\"\\nSummary of Factor Analysis Findings:\")\n",
    "print(f\"- The Kaiser criterion suggested extracting {num_factors} factors.\")\n",
    "print(\"- The scree plot shows a leveling off after these factors.\")\n",
    "print(\"- Factor loadings indicate that the survey items cluster into distinct factors.\")\n",
    "print(\"- These underlying factors can be used for further research, such as modeling passenger satisfaction, identifying key service drivers, or optimizing operational strategies.\")\n"
   ]
  },
  {
   "cell_type": "code",
   "execution_count": null,
   "metadata": {},
   "outputs": [
    {
     "name": "stdout",
     "output_type": "stream",
     "text": [
      "Cronbach’s alpha for Factor 1 (['Food and drink', 'Seat comfort', 'Inflight entertainment', 'Cleanliness']): 0.879\n",
      "Cronbach’s alpha for Factor 2 (['Inflight entertainment', 'On-board service', 'Leg room service', 'Baggage handling', 'Inflight service']): 0.789\n",
      "Cronbach’s alpha for Factor 3 (['Departure Delay in Minutes', 'Arrival Delay in Minutes']): 0.982\n",
      "Cronbach’s alpha for Factor 4 (['Inflight wifi service', 'Ease of Online booking', 'Online boarding']): 0.769\n",
      "Cronbach’s alpha for Factor 5 (['Departure/Arrival time convenient', 'Ease of Online booking', 'Gate location']): 0.711\n",
      "Cronbach’s alpha for Factor 6 (['Online boarding', 'Seat comfort']): 0.587\n"
     ]
    }
   ],
   "source": [
    "import pingouin as pg\n",
    "\n",
    "for i in range(num_factors):\n",
    "    items = factor_loadings.index[factor_loadings.iloc[:, i].abs() > 0.4].tolist()\n",
    "    if len(items) > 1:\n",
    "        alpha, _ = pg.cronbach_alpha(df_factor[items])\n",
    "        print(f\"Cronbach’s alpha for Factor {i+1} ({items}): {alpha:.3f}\")"
   ]
  },
  {
   "cell_type": "code",
   "execution_count": 8,
   "metadata": {},
   "outputs": [
    {
     "data": {
      "image/png": "[encoded data removed]",
      "text/plain": [
       "<Figure size 1000x600 with 2 Axes>"
      ]
     },
     "metadata": {},
     "output_type": "display_data"
    }
   ],
   "source": [
    "plt.figure(figsize=(10, 6))\n",
    "sns.heatmap(factor_loadings, annot=True, cmap='coolwarm', center=0)\n",
    "plt.title(\"Factor Loadings Heatmap\")\n",
    "plt.show()"
   ]
  },
  {
   "cell_type": "code",
   "execution_count": 9,
   "metadata": {},
   "outputs": [
    {
     "name": "stdout",
     "output_type": "stream",
     "text": [
      "Suggested name for Factor 1: based on -> Food and drink, Seat comfort, Inflight entertainment, Cleanliness\n",
      "Suggested name for Factor 2: based on -> Inflight entertainment, On-board service, Leg room service, Baggage handling, Inflight service\n",
      "Suggested name for Factor 3: based on -> Departure Delay in Minutes, Arrival Delay in Minutes\n",
      "Suggested name for Factor 4: based on -> Inflight wifi service, Ease of Online booking, Online boarding\n",
      "Suggested name for Factor 5: based on -> Departure/Arrival time convenient, Ease of Online booking, Gate location\n",
      "Suggested name for Factor 6: based on -> Online boarding, Seat comfort\n"
     ]
    }
   ],
   "source": [
    "for i in range(num_factors):\n",
    "    items = factor_loadings.index[factor_loadings.iloc[:, i].abs() > 0.4].tolist()\n",
    "    name = \", \".join(items)\n",
    "    print(f\"Suggested name for Factor {i+1}: based on -> {name}\")"
   ]
  },
  {
   "cell_type": "code",
   "execution_count": null,
   "metadata": {},
   "outputs": [],
   "source": []
  }
 ],
 "metadata": {
  "kernelspec": {
   "display_name": "Python 3 (ipykernel)",
   "language": "python",
   "name": "python3"
  },
  "language_info": {
   "codemirror_mode": {
    "name": "ipython",
    "version": 3
   },
   "file_extension": ".py",
   "mimetype": "text/x-python",
   "name": "python",
   "nbconvert_exporter": "python",
   "pygments_lexer": "ipython3",
   "version": "3.13.2"
  }
 },
 "nbformat": 4,
 "nbformat_minor": 2
}
