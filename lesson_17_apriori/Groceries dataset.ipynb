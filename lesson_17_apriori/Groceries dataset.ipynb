{
 "cells": [
  {
   "cell_type": "code",
   "execution_count": 16,
   "metadata": {},
   "outputs": [],
   "source": [
    "import numpy as np\n",
    "import pandas as pd\n",
    "import matplotlib.pyplot as plt\n",
    "from apyori import apriori\n",
    "from IPython.display import display"
   ]
  },
  {
   "cell_type": "code",
   "execution_count": 17,
   "metadata": {},
   "outputs": [
    {
     "name": "stdout",
     "output_type": "stream",
     "text": [
      "Preview of the dataset:\n"
     ]
    },
    {
     "data": {
      "application/vnd.microsoft.datawrangler.viewer.v0+json": {
       "columns": [
        {
         "name": "index",
         "rawType": "int64",
         "type": "integer"
        },
        {
         "name": "Member_number",
         "rawType": "int64",
         "type": "integer"
        },
        {
         "name": "Date",
         "rawType": "object",
         "type": "string"
        },
        {
         "name": "itemDescription",
         "rawType": "object",
         "type": "string"
        }
       ],
       "ref": "1b9dd07a-7991-44bb-9df7-c9380288ebff",
       "rows": [
        [
         "0",
         "1808",
         "21-07-2015",
         "tropical fruit"
        ],
        [
         "1",
         "2552",
         "05-01-2015",
         "whole milk"
        ],
        [
         "2",
         "2300",
         "19-09-2015",
         "pip fruit"
        ],
        [
         "3",
         "1187",
         "12-12-2015",
         "other vegetables"
        ],
        [
         "4",
         "3037",
         "01-02-2015",
         "whole milk"
        ]
       ],
       "shape": {
        "columns": 3,
        "rows": 5
       }
      },
      "text/html": [
       "<div>\n",
       "<style scoped>\n",
       "    .dataframe tbody tr th:only-of-type {\n",
       "        vertical-align: middle;\n",
       "    }\n",
       "\n",
       "    .dataframe tbody tr th {\n",
       "        vertical-align: top;\n",
       "    }\n",
       "\n",
       "    .dataframe thead th {\n",
       "        text-align: right;\n",
       "    }\n",
       "</style>\n",
       "<table border=\"1\" class=\"dataframe\">\n",
       "  <thead>\n",
       "    <tr style=\"text-align: right;\">\n",
       "      <th></th>\n",
       "      <th>Member_number</th>\n",
       "      <th>Date</th>\n",
       "      <th>itemDescription</th>\n",
       "    </tr>\n",
       "  </thead>\n",
       "  <tbody>\n",
       "    <tr>\n",
       "      <th>0</th>\n",
       "      <td>1808</td>\n",
       "      <td>21-07-2015</td>\n",
       "      <td>tropical fruit</td>\n",
       "    </tr>\n",
       "    <tr>\n",
       "      <th>1</th>\n",
       "      <td>2552</td>\n",
       "      <td>05-01-2015</td>\n",
       "      <td>whole milk</td>\n",
       "    </tr>\n",
       "    <tr>\n",
       "      <th>2</th>\n",
       "      <td>2300</td>\n",
       "      <td>19-09-2015</td>\n",
       "      <td>pip fruit</td>\n",
       "    </tr>\n",
       "    <tr>\n",
       "      <th>3</th>\n",
       "      <td>1187</td>\n",
       "      <td>12-12-2015</td>\n",
       "      <td>other vegetables</td>\n",
       "    </tr>\n",
       "    <tr>\n",
       "      <th>4</th>\n",
       "      <td>3037</td>\n",
       "      <td>01-02-2015</td>\n",
       "      <td>whole milk</td>\n",
       "    </tr>\n",
       "  </tbody>\n",
       "</table>\n",
       "</div>"
      ],
      "text/plain": [
       "   Member_number        Date   itemDescription\n",
       "0           1808  21-07-2015    tropical fruit\n",
       "1           2552  05-01-2015        whole milk\n",
       "2           2300  19-09-2015         pip fruit\n",
       "3           1187  12-12-2015  other vegetables\n",
       "4           3037  01-02-2015        whole milk"
      ]
     },
     "metadata": {},
     "output_type": "display_data"
    },
    {
     "name": "stdout",
     "output_type": "stream",
     "text": [
      "\n",
      "Number of rows in the raw dataset:\n",
      "38765\n"
     ]
    }
   ],
   "source": [
    "# Load the dataset\n",
    "df = pd.read_csv('data/Groceries_dataset.csv')\n",
    "print(\"Preview of the dataset:\")\n",
    "display(df.head())\n",
    "\n",
    "print(\"\\nNumber of rows in the raw dataset:\")\n",
    "print(len(df))"
   ]
  },
  {
   "cell_type": "code",
   "execution_count": 18,
   "metadata": {},
   "outputs": [
    {
     "name": "stdout",
     "output_type": "stream",
     "text": [
      "\n",
      "Basket size distribution (number of items per transaction):\n"
     ]
    },
    {
     "data": {
      "image/png": "[encoded data removed]",
      "text/plain": [
       "<Figure size 640x480 with 1 Axes>"
      ]
     },
     "metadata": {},
     "output_type": "display_data"
    }
   ],
   "source": [
    "# Distribution of basket sizes\n",
    "dist = [len(g) for k, g in df.groupby(['Member_number', 'Date'])]\n",
    "print(\"\\nBasket size distribution (number of items per transaction):\")\n",
    "plt.hist(dist, bins=10, edgecolor='black')\n",
    "plt.title(\"Distribution of Basket Sizes\")\n",
    "plt.xlabel(\"Number of Items\")\n",
    "plt.ylabel(\"Number of Transactions\")\n",
    "plt.show()"
   ]
  },
  {
   "cell_type": "code",
   "execution_count": 19,
   "metadata": {},
   "outputs": [
    {
     "name": "stdout",
     "output_type": "stream",
     "text": [
      "\n",
      "Total number of grouped transactions: 14963\n",
      "List of transactions:\n"
     ]
    },
    {
     "data": {
      "application/vnd.microsoft.datawrangler.viewer.v0+json": {
       "columns": [
        {
         "name": "index",
         "rawType": "int64",
         "type": "integer"
        },
        {
         "name": "items",
         "rawType": "object",
         "type": "string"
        }
       ],
       "ref": "71d32c84-652b-4c7e-b25c-d3e2bfe1bbfa",
       "rows": [
        [
         "0",
         "sausage; whole milk; semi-finished bread; yogurt"
        ],
        [
         "1",
         "whole milk; pastry; salty snack"
        ],
        [
         "2",
         "canned beer; misc. beverages"
        ],
        [
         "3",
         "sausage; hygiene articles"
        ],
        [
         "4",
         "soda; pickled vegetables"
        ],
        [
         "5",
         "frankfurter; curd"
        ],
        [
         "6",
         "sausage; whole milk; rolls/buns"
        ],
        [
         "7",
         "whole milk; soda"
        ],
        [
         "8",
         "beef; white bread"
        ],
        [
         "9",
         "frankfurter; soda; whipped/sour cream"
        ],
        [
         "10",
         "frozen vegetables; other vegetables"
        ],
        [
         "11",
         "butter; whole milk"
        ],
        [
         "12",
         "tropical fruit; sugar"
        ],
        [
         "13",
         "butter milk; specialty chocolate"
        ],
        [
         "14",
         "sausage; rolls/buns"
        ],
        [
         "15",
         "root vegetables; detergent"
        ],
        [
         "16",
         "frozen meals; dental care"
        ],
        [
         "17",
         "rolls/buns; rolls/buns"
        ],
        [
         "18",
         "dish cleaner; cling film/bags"
        ],
        [
         "19",
         "canned beer; frozen fish"
        ],
        [
         "20",
         "other vegetables; hygiene articles"
        ],
        [
         "21",
         "pip fruit; whole milk; tropical fruit"
        ],
        [
         "22",
         "rolls/buns; red/blush wine; chocolate"
        ],
        [
         "23",
         "other vegetables; shopping bags"
        ],
        [
         "24",
         "whole milk; chocolate; packaged fruit/vegetables; rolls/buns"
        ],
        [
         "25",
         "root vegetables; whole milk; pastry"
        ],
        [
         "26",
         "rolls/buns; rolls/buns"
        ],
        [
         "27",
         "whipped/sour cream; margarine"
        ],
        [
         "28",
         "bottled water; softener; rolls/buns"
        ],
        [
         "29",
         "whole milk; rice"
        ],
        [
         "30",
         "shopping bags; skin care"
        ],
        [
         "31",
         "whole milk; frankfurter; chicken; frankfurter; flour; chocolate; bottled beer; rolls/buns"
        ],
        [
         "32",
         "hamburger meat; liquor (appetizer); liver loaf; dessert"
        ],
        [
         "33",
         "tropical fruit; soda; yogurt; root vegetables; yogurt; domestic eggs; white wine; photo/film"
        ],
        [
         "34",
         "herbs; yogurt; newspapers"
        ],
        [
         "35",
         "tropical fruit; yogurt"
        ],
        [
         "36",
         "pastry; ketchup"
        ],
        [
         "37",
         "canned fish; cocoa drinks"
        ],
        [
         "38",
         "pip fruit; coffee; UHT-milk"
        ],
        [
         "39",
         "kitchen towels; sliced cheese"
        ],
        [
         "40",
         "bottled water; specialty bar"
        ],
        [
         "41",
         "frankfurter; bottled water"
        ],
        [
         "42",
         "pip fruit; candles; rolls/buns"
        ],
        [
         "43",
         "curd cheese; pastry"
        ],
        [
         "44",
         "whole milk; frankfurter; candles; grapes; herbs; other vegetables; yogurt"
        ],
        [
         "45",
         "citrus fruit; candy; bottled water; rolls/buns"
        ],
        [
         "46",
         "frankfurter; yogurt"
        ],
        [
         "47",
         "tropical fruit; root vegetables; rolls/buns; onions; shopping bags"
        ],
        [
         "48",
         "frozen vegetables; brown bread"
        ],
        [
         "49",
         "processed cheese; whole milk"
        ]
       ],
       "shape": {
        "columns": 1,
        "rows": 14963
       }
      },
      "text/html": [
       "<div>\n",
       "<style scoped>\n",
       "    .dataframe tbody tr th:only-of-type {\n",
       "        vertical-align: middle;\n",
       "    }\n",
       "\n",
       "    .dataframe tbody tr th {\n",
       "        vertical-align: top;\n",
       "    }\n",
       "\n",
       "    .dataframe thead th {\n",
       "        text-align: right;\n",
       "    }\n",
       "</style>\n",
       "<table border=\"1\" class=\"dataframe\">\n",
       "  <thead>\n",
       "    <tr style=\"text-align: right;\">\n",
       "      <th></th>\n",
       "      <th>items</th>\n",
       "    </tr>\n",
       "  </thead>\n",
       "  <tbody>\n",
       "    <tr>\n",
       "      <th>0</th>\n",
       "      <td>sausage; whole milk; semi-finished bread; yogurt</td>\n",
       "    </tr>\n",
       "    <tr>\n",
       "      <th>1</th>\n",
       "      <td>whole milk; pastry; salty snack</td>\n",
       "    </tr>\n",
       "    <tr>\n",
       "      <th>2</th>\n",
       "      <td>canned beer; misc. beverages</td>\n",
       "    </tr>\n",
       "    <tr>\n",
       "      <th>3</th>\n",
       "      <td>sausage; hygiene articles</td>\n",
       "    </tr>\n",
       "    <tr>\n",
       "      <th>4</th>\n",
       "      <td>soda; pickled vegetables</td>\n",
       "    </tr>\n",
       "    <tr>\n",
       "      <th>...</th>\n",
       "      <td>...</td>\n",
       "    </tr>\n",
       "    <tr>\n",
       "      <th>14958</th>\n",
       "      <td>tropical fruit; berries; other vegetables; yog...</td>\n",
       "    </tr>\n",
       "    <tr>\n",
       "      <th>14959</th>\n",
       "      <td>bottled water; herbs</td>\n",
       "    </tr>\n",
       "    <tr>\n",
       "      <th>14960</th>\n",
       "      <td>fruit/vegetable juice; onions</td>\n",
       "    </tr>\n",
       "    <tr>\n",
       "      <th>14961</th>\n",
       "      <td>soda; root vegetables; semi-finished bread</td>\n",
       "    </tr>\n",
       "    <tr>\n",
       "      <th>14962</th>\n",
       "      <td>bottled beer; other vegetables</td>\n",
       "    </tr>\n",
       "  </tbody>\n",
       "</table>\n",
       "<p>14963 rows × 1 columns</p>\n",
       "</div>"
      ],
      "text/plain": [
       "                                                   items\n",
       "0       sausage; whole milk; semi-finished bread; yogurt\n",
       "1                        whole milk; pastry; salty snack\n",
       "2                           canned beer; misc. beverages\n",
       "3                              sausage; hygiene articles\n",
       "4                               soda; pickled vegetables\n",
       "...                                                  ...\n",
       "14958  tropical fruit; berries; other vegetables; yog...\n",
       "14959                               bottled water; herbs\n",
       "14960                      fruit/vegetable juice; onions\n",
       "14961         soda; root vegetables; semi-finished bread\n",
       "14962                     bottled beer; other vegetables\n",
       "\n",
       "[14963 rows x 1 columns]"
      ]
     },
     "metadata": {},
     "output_type": "display_data"
    }
   ],
   "source": [
    "# Group transactions\n",
    "df['itemDescription'] = df['itemDescription'].transform(lambda x: [x])\n",
    "df = df.groupby(['Member_number', 'Date'])['itemDescription'].sum().reset_index(drop=True)\n",
    "\n",
    "print(f\"\\nTotal number of grouped transactions: {len(df)}\")\n",
    "print(\"List of transactions:\")\n",
    "transactions = df.tolist()\n",
    "transactions_df = pd.DataFrame({'items': ['; '.join(t) for t in transactions]})\n",
    "display(transactions_df)"
   ]
  },
  {
   "cell_type": "code",
   "execution_count": 20,
   "metadata": {},
   "outputs": [
    {
     "name": "stdout",
     "output_type": "stream",
     "text": [
      "\n",
      "Number of unique itemsets generated by Apriori: 64\n"
     ]
    }
   ],
   "source": [
    "# Run Apriori algorithm\n",
    "rules = list(apriori(\n",
    "    transactions,\n",
    "    min_support=0.001,\n",
    "    min_confidence=0.001,\n",
    "    min_lift=1.1,\n",
    "    min_length=2\n",
    "))\n",
    "\n",
    "print(f\"\\nNumber of unique itemsets generated by Apriori: {len(rules)}\")"
   ]
  },
  {
   "cell_type": "code",
   "execution_count": 21,
   "metadata": {},
   "outputs": [
    {
     "name": "stdout",
     "output_type": "stream",
     "text": [
      "\n",
      "All extracted association rules:\n"
     ]
    },
    {
     "data": {
      "application/vnd.microsoft.datawrangler.viewer.v0+json": {
       "columns": [
        {
         "name": "index",
         "rawType": "int64",
         "type": "integer"
        },
        {
         "name": "first",
         "rawType": "object",
         "type": "unknown"
        },
        {
         "name": "second",
         "rawType": "object",
         "type": "unknown"
        },
        {
         "name": "support",
         "rawType": "float64",
         "type": "float"
        },
        {
         "name": "confidence",
         "rawType": "float64",
         "type": "float"
        },
        {
         "name": "lift",
         "rawType": "float64",
         "type": "float"
        }
       ],
       "ref": "dec2e5a2-11bc-422a-8316-ba20df992f7a",
       "rows": [
        [
         "0",
         "('beef',)",
         "('brown bread',)",
         "0.0015371249081066632",
         "0.045275590551181105",
         "1.2033013524286376"
        ],
        [
         "1",
         "('brown bread',)",
         "('beef',)",
         "0.0015371249081066632",
         "0.04085257548845471",
         "1.2033013524286376"
        ],
        [
         "2",
         "('beef',)",
         "('curd',)",
         "0.0012697988371315912",
         "0.03740157480314961",
         "1.110396356705412"
        ],
        [
         "3",
         "('curd',)",
         "('beef',)",
         "0.0012697988371315912",
         "0.037698412698412696",
         "1.1103963567054118"
        ],
        [
         "4",
         "('beef',)",
         "('frozen vegetables',)",
         "0.0012697988371315912",
         "0.03740157480314961",
         "1.3356557608103283"
        ],
        [
         "5",
         "('frozen vegetables',)",
         "('beef',)",
         "0.0012697988371315912",
         "0.045346062052505964",
         "1.3356557608103283"
        ],
        [
         "6",
         "('beef',)",
         "('margarine',)",
         "0.001403461872619127",
         "0.04133858267716536",
         "1.2832971215734963"
        ],
        [
         "7",
         "('margarine',)",
         "('beef',)",
         "0.001403461872619127",
         "0.043568464730290454",
         "1.2832971215734963"
        ],
        [
         "8",
         "('beef',)",
         "('newspapers',)",
         "0.001670787943594199",
         "0.04921259842519685",
         "1.2652373028113755"
        ],
        [
         "9",
         "('newspapers',)",
         "('beef',)",
         "0.001670787943594199",
         "0.0429553264604811",
         "1.2652373028113755"
        ],
        [
         "10",
         "('beverages',)",
         "('sausage',)",
         "0.0015371249081066632",
         "0.09274193548387098",
         "1.5367636551995143"
        ],
        [
         "11",
         "('sausage',)",
         "('beverages',)",
         "0.0015371249081066632",
         "0.02547065337763012",
         "1.536763655199514"
        ],
        [
         "12",
         "('beverages',)",
         "('soda',)",
         "0.001871282496825503",
         "0.11290322580645162",
         "1.1626778855760054"
        ],
        [
         "13",
         "('soda',)",
         "('beverages',)",
         "0.001871282496825503",
         "0.019270474879559536",
         "1.1626778855760054"
        ],
        [
         "14",
         "('bottled beer',)",
         "('frozen vegetables',)",
         "0.001403461872619127",
         "0.030973451327433624",
         "1.1060996472849387"
        ],
        [
         "15",
         "('frozen vegetables',)",
         "('bottled beer',)",
         "0.001403461872619127",
         "0.05011933174224343",
         "1.1060996472849387"
        ],
        [
         "16",
         "('bottled beer',)",
         "('sausage',)",
         "0.003341575887188398",
         "0.07374631268436578",
         "1.2220000849348451"
        ],
        [
         "17",
         "('sausage',)",
         "('bottled beer',)",
         "0.003341575887188398",
         "0.05537098560354374",
         "1.2220000849348451"
        ],
        [
         "18",
         "('bottled water',)",
         "('sugar',)",
         "0.0014702933903628951",
         "0.024229074889867842",
         "1.368074141800349"
        ],
        [
         "19",
         "('sugar',)",
         "('bottled water',)",
         "0.0014702933903628951",
         "0.0830188679245283",
         "1.368074141800349"
        ],
        [
         "20",
         "('brown bread',)",
         "('canned beer',)",
         "0.0024059346387756467",
         "0.06394316163410303",
         "1.3629366489046777"
        ],
        [
         "21",
         "('canned beer',)",
         "('brown bread',)",
         "0.0024059346387756467",
         "0.05128205128205129",
         "1.3629366489046775"
        ],
        [
         "22",
         "('brown bread',)",
         "('pork',)",
         "0.001670787943594199",
         "0.044404973357015994",
         "1.1971740834973519"
        ],
        [
         "23",
         "('pork',)",
         "('brown bread',)",
         "0.001670787943594199",
         "0.04504504504504505",
         "1.1971740834973519"
        ],
        [
         "24",
         "('brown bread',)",
         "('white bread',)",
         "0.0010024727661565194",
         "0.026642984014209593",
         "1.1104706679794378"
        ],
        [
         "25",
         "('white bread',)",
         "('brown bread',)",
         "0.0010024727661565194",
         "0.04178272980501393",
         "1.1104706679794378"
        ],
        [
         "26",
         "('butter',)",
         "('fruit/vegetable juice',)",
         "0.001403461872619127",
         "0.039848197343453504",
         "1.1714117423381039"
        ],
        [
         "27",
         "('fruit/vegetable juice',)",
         "('butter',)",
         "0.001403461872619127",
         "0.0412573673870334",
         "1.1714117423381039"
        ],
        [
         "28",
         "('butter',)",
         "('margarine',)",
         "0.001403461872619127",
         "0.039848197343453504",
         "1.2370302424275825"
        ],
        [
         "29",
         "('margarine',)",
         "('butter',)",
         "0.001403461872619127",
         "0.043568464730290454",
         "1.2370302424275825"
        ],
        [
         "30",
         "('butter milk',)",
         "('shopping bags',)",
         "0.0010024727661565194",
         "0.057034220532319393",
         "1.1985997778442348"
        ],
        [
         "31",
         "('shopping bags',)",
         "('butter milk',)",
         "0.0010024727661565194",
         "0.021067415730337078",
         "1.1985997778442345"
        ],
        [
         "32",
         "('candy',)",
         "('citrus fruit',)",
         "0.0010024727661565194",
         "0.06976744186046512",
         "1.3131197893813076"
        ],
        [
         "33",
         "('citrus fruit',)",
         "('candy',)",
         "0.0010024727661565194",
         "0.018867924528301886",
         "1.3131197893813076"
        ],
        [
         "34",
         "('canned beer',)",
         "('salty snack',)",
         "0.0010024727661565194",
         "0.021367521367521368",
         "1.137801502570186"
        ],
        [
         "35",
         "('salty snack',)",
         "('canned beer',)",
         "0.0010024727661565194",
         "0.053380782918149475",
         "1.137801502570186"
        ],
        [
         "36",
         "('canned beer',)",
         "('white bread',)",
         "0.0015371249081066632",
         "0.03276353276353276",
         "1.3655730939853503"
        ],
        [
         "37",
         "('white bread',)",
         "('canned beer',)",
         "0.0015371249081066632",
         "0.06406685236768803",
         "1.3655730939853503"
        ],
        [
         "38",
         "('cat food',)",
         "('tropical fruit',)",
         "0.0010024727661565194",
         "0.08474576271186442",
         "1.250543242068666"
        ],
        [
         "39",
         "('tropical fruit',)",
         "('cat food',)",
         "0.0010024727661565194",
         "0.014792899408284025",
         "1.250543242068666"
        ],
        [
         "40",
         "('chewing gum',)",
         "('yogurt',)",
         "0.001403461872619127",
         "0.11666666666666667",
         "1.358508430609598"
        ],
        [
         "41",
         "('yogurt',)",
         "('chewing gum',)",
         "0.001403461872619127",
         "0.016342412451361865",
         "1.3585084306095978"
        ],
        [
         "42",
         "('chicken',)",
         "('curd',)",
         "0.0011361358016440553",
         "0.0407673860911271",
         "1.2103222184157438"
        ],
        [
         "43",
         "('curd',)",
         "('chicken',)",
         "0.0011361358016440553",
         "0.033730158730158735",
         "1.2103222184157438"
        ],
        [
         "44",
         "('chicken',)",
         "('margarine',)",
         "0.0010024727661565194",
         "0.03597122302158274",
         "1.1166751246305862"
        ],
        [
         "45",
         "('margarine',)",
         "('chicken',)",
         "0.0010024727661565194",
         "0.03112033195020747",
         "1.1166751246305862"
        ],
        [
         "46",
         "('chocolate',)",
         "('pip fruit',)",
         "0.0013366303548753592",
         "0.056657223796033995",
         "1.1549891548502134"
        ],
        [
         "47",
         "('pip fruit',)",
         "('chocolate',)",
         "0.0013366303548753592",
         "0.027247956403269755",
         "1.1549891548502134"
        ],
        [
         "48",
         "('citrus fruit',)",
         "('napkins',)",
         "0.001403461872619127",
         "0.02641509433962264",
         "1.1941059111896482"
        ],
        [
         "49",
         "('napkins',)",
         "('citrus fruit',)",
         "0.001403461872619127",
         "0.0634441087613293",
         "1.1941059111896482"
        ]
       ],
       "shape": {
        "columns": 5,
        "rows": 142
       }
      },
      "text/html": [
       "<div>\n",
       "<style scoped>\n",
       "    .dataframe tbody tr th:only-of-type {\n",
       "        vertical-align: middle;\n",
       "    }\n",
       "\n",
       "    .dataframe tbody tr th {\n",
       "        vertical-align: top;\n",
       "    }\n",
       "\n",
       "    .dataframe thead th {\n",
       "        text-align: right;\n",
       "    }\n",
       "</style>\n",
       "<table border=\"1\" class=\"dataframe\">\n",
       "  <thead>\n",
       "    <tr style=\"text-align: right;\">\n",
       "      <th></th>\n",
       "      <th>first</th>\n",
       "      <th>second</th>\n",
       "      <th>support</th>\n",
       "      <th>confidence</th>\n",
       "      <th>lift</th>\n",
       "    </tr>\n",
       "  </thead>\n",
       "  <tbody>\n",
       "    <tr>\n",
       "      <th>0</th>\n",
       "      <td>(beef,)</td>\n",
       "      <td>(brown bread,)</td>\n",
       "      <td>0.001537</td>\n",
       "      <td>0.045276</td>\n",
       "      <td>1.203301</td>\n",
       "    </tr>\n",
       "    <tr>\n",
       "      <th>1</th>\n",
       "      <td>(brown bread,)</td>\n",
       "      <td>(beef,)</td>\n",
       "      <td>0.001537</td>\n",
       "      <td>0.040853</td>\n",
       "      <td>1.203301</td>\n",
       "    </tr>\n",
       "    <tr>\n",
       "      <th>2</th>\n",
       "      <td>(beef,)</td>\n",
       "      <td>(curd,)</td>\n",
       "      <td>0.001270</td>\n",
       "      <td>0.037402</td>\n",
       "      <td>1.110396</td>\n",
       "    </tr>\n",
       "    <tr>\n",
       "      <th>3</th>\n",
       "      <td>(curd,)</td>\n",
       "      <td>(beef,)</td>\n",
       "      <td>0.001270</td>\n",
       "      <td>0.037698</td>\n",
       "      <td>1.110396</td>\n",
       "    </tr>\n",
       "    <tr>\n",
       "      <th>4</th>\n",
       "      <td>(beef,)</td>\n",
       "      <td>(frozen vegetables,)</td>\n",
       "      <td>0.001270</td>\n",
       "      <td>0.037402</td>\n",
       "      <td>1.335656</td>\n",
       "    </tr>\n",
       "    <tr>\n",
       "      <th>...</th>\n",
       "      <td>...</td>\n",
       "      <td>...</td>\n",
       "      <td>...</td>\n",
       "      <td>...</td>\n",
       "      <td>...</td>\n",
       "    </tr>\n",
       "    <tr>\n",
       "      <th>137</th>\n",
       "      <td>(whole milk,)</td>\n",
       "      <td>(yogurt, sausage)</td>\n",
       "      <td>0.001470</td>\n",
       "      <td>0.009310</td>\n",
       "      <td>1.619866</td>\n",
       "    </tr>\n",
       "    <tr>\n",
       "      <th>138</th>\n",
       "      <td>(yogurt,)</td>\n",
       "      <td>(whole milk, sausage)</td>\n",
       "      <td>0.001470</td>\n",
       "      <td>0.017121</td>\n",
       "      <td>1.911760</td>\n",
       "    </tr>\n",
       "    <tr>\n",
       "      <th>139</th>\n",
       "      <td>(whole milk, sausage)</td>\n",
       "      <td>(yogurt,)</td>\n",
       "      <td>0.001470</td>\n",
       "      <td>0.164179</td>\n",
       "      <td>1.911760</td>\n",
       "    </tr>\n",
       "    <tr>\n",
       "      <th>140</th>\n",
       "      <td>(yogurt, sausage)</td>\n",
       "      <td>(whole milk,)</td>\n",
       "      <td>0.001470</td>\n",
       "      <td>0.255814</td>\n",
       "      <td>1.619866</td>\n",
       "    </tr>\n",
       "    <tr>\n",
       "      <th>141</th>\n",
       "      <td>(yogurt, whole milk)</td>\n",
       "      <td>(sausage,)</td>\n",
       "      <td>0.001470</td>\n",
       "      <td>0.131737</td>\n",
       "      <td>2.182917</td>\n",
       "    </tr>\n",
       "  </tbody>\n",
       "</table>\n",
       "<p>142 rows × 5 columns</p>\n",
       "</div>"
      ],
      "text/plain": [
       "                     first                 second   support  confidence  \\\n",
       "0                  (beef,)         (brown bread,)  0.001537    0.045276   \n",
       "1           (brown bread,)                (beef,)  0.001537    0.040853   \n",
       "2                  (beef,)                (curd,)  0.001270    0.037402   \n",
       "3                  (curd,)                (beef,)  0.001270    0.037698   \n",
       "4                  (beef,)   (frozen vegetables,)  0.001270    0.037402   \n",
       "..                     ...                    ...       ...         ...   \n",
       "137          (whole milk,)      (yogurt, sausage)  0.001470    0.009310   \n",
       "138              (yogurt,)  (whole milk, sausage)  0.001470    0.017121   \n",
       "139  (whole milk, sausage)              (yogurt,)  0.001470    0.164179   \n",
       "140      (yogurt, sausage)          (whole milk,)  0.001470    0.255814   \n",
       "141   (yogurt, whole milk)             (sausage,)  0.001470    0.131737   \n",
       "\n",
       "         lift  \n",
       "0    1.203301  \n",
       "1    1.203301  \n",
       "2    1.110396  \n",
       "3    1.110396  \n",
       "4    1.335656  \n",
       "..        ...  \n",
       "137  1.619866  \n",
       "138  1.911760  \n",
       "139  1.911760  \n",
       "140  1.619866  \n",
       "141  2.182917  \n",
       "\n",
       "[142 rows x 5 columns]"
      ]
     },
     "metadata": {},
     "output_type": "display_data"
    }
   ],
   "source": [
    "# Convert rules to DataFrame\n",
    "def rules_to_df(rules):\n",
    "    rules_df = pd.DataFrame(columns=['first', 'second', 'support', 'confidence', 'lift'])\n",
    "    for rule in rules:\n",
    "        for stat in rule.ordered_statistics:\n",
    "            if stat.items_base and stat.items_add:\n",
    "                rules_df.loc[len(rules_df)] = [\n",
    "                    tuple(stat.items_base),\n",
    "                    tuple(stat.items_add),\n",
    "                    rule.support,\n",
    "                    stat.confidence,\n",
    "                    stat.lift\n",
    "                ]\n",
    "    return rules_df\n",
    "\n",
    "rules_df = rules_to_df(rules)\n",
    "\n",
    "print(\"\\nAll extracted association rules:\")\n",
    "display(rules_df)\n"
   ]
  },
  {
   "cell_type": "code",
   "execution_count": 22,
   "metadata": {},
   "outputs": [
    {
     "name": "stdout",
     "output_type": "stream",
     "text": [
      "\n",
      "Top 10 association rules by confidence:\n"
     ]
    },
    {
     "data": {
      "application/vnd.microsoft.datawrangler.viewer.v0+json": {
       "columns": [
        {
         "name": "index",
         "rawType": "int64",
         "type": "integer"
        },
        {
         "name": "first",
         "rawType": "object",
         "type": "unknown"
        },
        {
         "name": "second",
         "rawType": "object",
         "type": "unknown"
        },
        {
         "name": "support",
         "rawType": "float64",
         "type": "float"
        },
        {
         "name": "confidence",
         "rawType": "float64",
         "type": "float"
        },
        {
         "name": "lift",
         "rawType": "float64",
         "type": "float"
        }
       ],
       "ref": "c802201e-37c0-4eda-b09e-15b39184bbc0",
       "rows": [
        [
         "1",
         "('yogurt', 'sausage')",
         "('whole milk',)",
         "0.0014702933903628951",
         "0.2558139534883721",
         "1.6198663504217148"
        ],
        [
         "2",
         "('rolls/buns', 'sausage')",
         "('whole milk',)",
         "0.0011361358016440553",
         "0.2125",
         "1.345593525179856"
        ],
        [
         "3",
         "('sausage', 'soda')",
         "('whole milk',)",
         "0.0010693042839002875",
         "0.17977528089887643",
         "1.138373901011379"
        ],
        [
         "4",
         "('semi-finished bread',)",
         "('whole milk',)",
         "0.001670787943594199",
         "0.176056338028169",
         "1.1148247930239072"
        ],
        [
         "5",
         "('whole milk', 'sausage')",
         "('yogurt',)",
         "0.0014702933903628951",
         "0.16417910447761194",
         "1.9117602648237413"
        ],
        [
         "6",
         "('processed cheese',)",
         "('rolls/buns',)",
         "0.0014702933903628951",
         "0.14473684210526316",
         "1.315733516659206"
        ],
        [
         "7",
         "('packaged fruit/vegetables',)",
         "('rolls/buns',)",
         "0.0012029673193878234",
         "0.14173228346456695",
         "1.2884205087972755"
        ],
        [
         "8",
         "('seasonal products',)",
         "('rolls/buns',)",
         "0.0010024727661565194",
         "0.14150943396226415",
         "1.2863946903872165"
        ],
        [
         "9",
         "('rolls/buns', 'soda')",
         "('other vegetables',)",
         "0.0011361358016440553",
         "0.14049586776859505",
         "1.150651160055549"
        ],
        [
         "10",
         "('frankfurter',)",
         "('other vegetables',)",
         "0.005146026866270133",
         "0.13628318584070798",
         "1.1161495948191098"
        ]
       ],
       "shape": {
        "columns": 5,
        "rows": 10
       }
      },
      "text/html": [
       "<div>\n",
       "<style scoped>\n",
       "    .dataframe tbody tr th:only-of-type {\n",
       "        vertical-align: middle;\n",
       "    }\n",
       "\n",
       "    .dataframe tbody tr th {\n",
       "        vertical-align: top;\n",
       "    }\n",
       "\n",
       "    .dataframe thead th {\n",
       "        text-align: right;\n",
       "    }\n",
       "</style>\n",
       "<table border=\"1\" class=\"dataframe\">\n",
       "  <thead>\n",
       "    <tr style=\"text-align: right;\">\n",
       "      <th></th>\n",
       "      <th>first</th>\n",
       "      <th>second</th>\n",
       "      <th>support</th>\n",
       "      <th>confidence</th>\n",
       "      <th>lift</th>\n",
       "    </tr>\n",
       "  </thead>\n",
       "  <tbody>\n",
       "    <tr>\n",
       "      <th>1</th>\n",
       "      <td>(yogurt, sausage)</td>\n",
       "      <td>(whole milk,)</td>\n",
       "      <td>0.001470</td>\n",
       "      <td>0.255814</td>\n",
       "      <td>1.619866</td>\n",
       "    </tr>\n",
       "    <tr>\n",
       "      <th>2</th>\n",
       "      <td>(rolls/buns, sausage)</td>\n",
       "      <td>(whole milk,)</td>\n",
       "      <td>0.001136</td>\n",
       "      <td>0.212500</td>\n",
       "      <td>1.345594</td>\n",
       "    </tr>\n",
       "    <tr>\n",
       "      <th>3</th>\n",
       "      <td>(sausage, soda)</td>\n",
       "      <td>(whole milk,)</td>\n",
       "      <td>0.001069</td>\n",
       "      <td>0.179775</td>\n",
       "      <td>1.138374</td>\n",
       "    </tr>\n",
       "    <tr>\n",
       "      <th>4</th>\n",
       "      <td>(semi-finished bread,)</td>\n",
       "      <td>(whole milk,)</td>\n",
       "      <td>0.001671</td>\n",
       "      <td>0.176056</td>\n",
       "      <td>1.114825</td>\n",
       "    </tr>\n",
       "    <tr>\n",
       "      <th>5</th>\n",
       "      <td>(whole milk, sausage)</td>\n",
       "      <td>(yogurt,)</td>\n",
       "      <td>0.001470</td>\n",
       "      <td>0.164179</td>\n",
       "      <td>1.911760</td>\n",
       "    </tr>\n",
       "    <tr>\n",
       "      <th>6</th>\n",
       "      <td>(processed cheese,)</td>\n",
       "      <td>(rolls/buns,)</td>\n",
       "      <td>0.001470</td>\n",
       "      <td>0.144737</td>\n",
       "      <td>1.315734</td>\n",
       "    </tr>\n",
       "    <tr>\n",
       "      <th>7</th>\n",
       "      <td>(packaged fruit/vegetables,)</td>\n",
       "      <td>(rolls/buns,)</td>\n",
       "      <td>0.001203</td>\n",
       "      <td>0.141732</td>\n",
       "      <td>1.288421</td>\n",
       "    </tr>\n",
       "    <tr>\n",
       "      <th>8</th>\n",
       "      <td>(seasonal products,)</td>\n",
       "      <td>(rolls/buns,)</td>\n",
       "      <td>0.001002</td>\n",
       "      <td>0.141509</td>\n",
       "      <td>1.286395</td>\n",
       "    </tr>\n",
       "    <tr>\n",
       "      <th>9</th>\n",
       "      <td>(rolls/buns, soda)</td>\n",
       "      <td>(other vegetables,)</td>\n",
       "      <td>0.001136</td>\n",
       "      <td>0.140496</td>\n",
       "      <td>1.150651</td>\n",
       "    </tr>\n",
       "    <tr>\n",
       "      <th>10</th>\n",
       "      <td>(frankfurter,)</td>\n",
       "      <td>(other vegetables,)</td>\n",
       "      <td>0.005146</td>\n",
       "      <td>0.136283</td>\n",
       "      <td>1.116150</td>\n",
       "    </tr>\n",
       "  </tbody>\n",
       "</table>\n",
       "</div>"
      ],
      "text/plain": [
       "                           first               second   support  confidence  \\\n",
       "1              (yogurt, sausage)        (whole milk,)  0.001470    0.255814   \n",
       "2          (rolls/buns, sausage)        (whole milk,)  0.001136    0.212500   \n",
       "3                (sausage, soda)        (whole milk,)  0.001069    0.179775   \n",
       "4         (semi-finished bread,)        (whole milk,)  0.001671    0.176056   \n",
       "5          (whole milk, sausage)            (yogurt,)  0.001470    0.164179   \n",
       "6            (processed cheese,)        (rolls/buns,)  0.001470    0.144737   \n",
       "7   (packaged fruit/vegetables,)        (rolls/buns,)  0.001203    0.141732   \n",
       "8           (seasonal products,)        (rolls/buns,)  0.001002    0.141509   \n",
       "9             (rolls/buns, soda)  (other vegetables,)  0.001136    0.140496   \n",
       "10                (frankfurter,)  (other vegetables,)  0.005146    0.136283   \n",
       "\n",
       "        lift  \n",
       "1   1.619866  \n",
       "2   1.345594  \n",
       "3   1.138374  \n",
       "4   1.114825  \n",
       "5   1.911760  \n",
       "6   1.315734  \n",
       "7   1.288421  \n",
       "8   1.286395  \n",
       "9   1.150651  \n",
       "10  1.116150  "
      ]
     },
     "metadata": {},
     "output_type": "display_data"
    }
   ],
   "source": [
    "# Top 10 rules by confidence\n",
    "Top10_conf = rules_df.nlargest(10, 'confidence').reset_index(drop=True)\n",
    "Top10_conf.index = np.arange(1, len(Top10_conf)+1)\n",
    "print(\"\\nTop 10 association rules by confidence:\")\n",
    "display(Top10_conf)"
   ]
  },
  {
   "cell_type": "code",
   "execution_count": 23,
   "metadata": {},
   "outputs": [
    {
     "name": "stdout",
     "output_type": "stream",
     "text": [
      "\n",
      "Top 10 association rules by lift:\n"
     ]
    },
    {
     "data": {
      "application/vnd.microsoft.datawrangler.viewer.v0+json": {
       "columns": [
        {
         "name": "index",
         "rawType": "int64",
         "type": "integer"
        },
        {
         "name": "first",
         "rawType": "object",
         "type": "unknown"
        },
        {
         "name": "second",
         "rawType": "object",
         "type": "unknown"
        },
        {
         "name": "support",
         "rawType": "float64",
         "type": "float"
        },
        {
         "name": "confidence",
         "rawType": "float64",
         "type": "float"
        },
        {
         "name": "lift",
         "rawType": "float64",
         "type": "float"
        }
       ],
       "ref": "7ef384bd-b506-4742-965d-d70498ee4e70",
       "rows": [
        [
         "1",
         "('sausage',)",
         "('yogurt', 'whole milk')",
         "0.0014702933903628951",
         "0.024363233665559245",
         "2.1829165589087607"
        ],
        [
         "2",
         "('yogurt', 'whole milk')",
         "('sausage',)",
         "0.0014702933903628951",
         "0.1317365269461078",
         "2.1829165589087607"
        ],
        [
         "3",
         "('whole milk', 'sausage')",
         "('yogurt',)",
         "0.0014702933903628951",
         "0.16417910447761194",
         "1.9117602648237413"
        ],
        [
         "4",
         "('yogurt',)",
         "('whole milk', 'sausage')",
         "0.0014702933903628951",
         "0.017120622568093383",
         "1.911760264823741"
        ],
        [
         "5",
         "('citrus fruit',)",
         "('specialty chocolate',)",
         "0.001403461872619127",
         "0.02641509433962264",
         "1.6537617431120233"
        ],
        [
         "6",
         "('specialty chocolate',)",
         "('citrus fruit',)",
         "0.001403461872619127",
         "0.08786610878661087",
         "1.6537617431120233"
        ],
        [
         "7",
         "('yogurt', 'sausage')",
         "('whole milk',)",
         "0.0014702933903628951",
         "0.2558139534883721",
         "1.6198663504217148"
        ],
        [
         "8",
         "('whole milk',)",
         "('yogurt', 'sausage')",
         "0.0014702933903628951",
         "0.009310198899703767",
         "1.6198663504217146"
        ],
        [
         "9",
         "('tropical fruit',)",
         "('flour',)",
         "0.0010693042839002875",
         "0.01577909270216963",
         "1.6171408500175628"
        ],
        [
         "10",
         "('flour',)",
         "('tropical fruit',)",
         "0.0010693042839002875",
         "0.10958904109589042",
         "1.6171408500175626"
        ]
       ],
       "shape": {
        "columns": 5,
        "rows": 10
       }
      },
      "text/html": [
       "<div>\n",
       "<style scoped>\n",
       "    .dataframe tbody tr th:only-of-type {\n",
       "        vertical-align: middle;\n",
       "    }\n",
       "\n",
       "    .dataframe tbody tr th {\n",
       "        vertical-align: top;\n",
       "    }\n",
       "\n",
       "    .dataframe thead th {\n",
       "        text-align: right;\n",
       "    }\n",
       "</style>\n",
       "<table border=\"1\" class=\"dataframe\">\n",
       "  <thead>\n",
       "    <tr style=\"text-align: right;\">\n",
       "      <th></th>\n",
       "      <th>first</th>\n",
       "      <th>second</th>\n",
       "      <th>support</th>\n",
       "      <th>confidence</th>\n",
       "      <th>lift</th>\n",
       "    </tr>\n",
       "  </thead>\n",
       "  <tbody>\n",
       "    <tr>\n",
       "      <th>1</th>\n",
       "      <td>(sausage,)</td>\n",
       "      <td>(yogurt, whole milk)</td>\n",
       "      <td>0.001470</td>\n",
       "      <td>0.024363</td>\n",
       "      <td>2.182917</td>\n",
       "    </tr>\n",
       "    <tr>\n",
       "      <th>2</th>\n",
       "      <td>(yogurt, whole milk)</td>\n",
       "      <td>(sausage,)</td>\n",
       "      <td>0.001470</td>\n",
       "      <td>0.131737</td>\n",
       "      <td>2.182917</td>\n",
       "    </tr>\n",
       "    <tr>\n",
       "      <th>3</th>\n",
       "      <td>(whole milk, sausage)</td>\n",
       "      <td>(yogurt,)</td>\n",
       "      <td>0.001470</td>\n",
       "      <td>0.164179</td>\n",
       "      <td>1.911760</td>\n",
       "    </tr>\n",
       "    <tr>\n",
       "      <th>4</th>\n",
       "      <td>(yogurt,)</td>\n",
       "      <td>(whole milk, sausage)</td>\n",
       "      <td>0.001470</td>\n",
       "      <td>0.017121</td>\n",
       "      <td>1.911760</td>\n",
       "    </tr>\n",
       "    <tr>\n",
       "      <th>5</th>\n",
       "      <td>(citrus fruit,)</td>\n",
       "      <td>(specialty chocolate,)</td>\n",
       "      <td>0.001403</td>\n",
       "      <td>0.026415</td>\n",
       "      <td>1.653762</td>\n",
       "    </tr>\n",
       "    <tr>\n",
       "      <th>6</th>\n",
       "      <td>(specialty chocolate,)</td>\n",
       "      <td>(citrus fruit,)</td>\n",
       "      <td>0.001403</td>\n",
       "      <td>0.087866</td>\n",
       "      <td>1.653762</td>\n",
       "    </tr>\n",
       "    <tr>\n",
       "      <th>7</th>\n",
       "      <td>(yogurt, sausage)</td>\n",
       "      <td>(whole milk,)</td>\n",
       "      <td>0.001470</td>\n",
       "      <td>0.255814</td>\n",
       "      <td>1.619866</td>\n",
       "    </tr>\n",
       "    <tr>\n",
       "      <th>8</th>\n",
       "      <td>(whole milk,)</td>\n",
       "      <td>(yogurt, sausage)</td>\n",
       "      <td>0.001470</td>\n",
       "      <td>0.009310</td>\n",
       "      <td>1.619866</td>\n",
       "    </tr>\n",
       "    <tr>\n",
       "      <th>9</th>\n",
       "      <td>(tropical fruit,)</td>\n",
       "      <td>(flour,)</td>\n",
       "      <td>0.001069</td>\n",
       "      <td>0.015779</td>\n",
       "      <td>1.617141</td>\n",
       "    </tr>\n",
       "    <tr>\n",
       "      <th>10</th>\n",
       "      <td>(flour,)</td>\n",
       "      <td>(tropical fruit,)</td>\n",
       "      <td>0.001069</td>\n",
       "      <td>0.109589</td>\n",
       "      <td>1.617141</td>\n",
       "    </tr>\n",
       "  </tbody>\n",
       "</table>\n",
       "</div>"
      ],
      "text/plain": [
       "                     first                  second   support  confidence  \\\n",
       "1               (sausage,)    (yogurt, whole milk)  0.001470    0.024363   \n",
       "2     (yogurt, whole milk)              (sausage,)  0.001470    0.131737   \n",
       "3    (whole milk, sausage)               (yogurt,)  0.001470    0.164179   \n",
       "4                (yogurt,)   (whole milk, sausage)  0.001470    0.017121   \n",
       "5          (citrus fruit,)  (specialty chocolate,)  0.001403    0.026415   \n",
       "6   (specialty chocolate,)         (citrus fruit,)  0.001403    0.087866   \n",
       "7        (yogurt, sausage)           (whole milk,)  0.001470    0.255814   \n",
       "8            (whole milk,)       (yogurt, sausage)  0.001470    0.009310   \n",
       "9        (tropical fruit,)                (flour,)  0.001069    0.015779   \n",
       "10                (flour,)       (tropical fruit,)  0.001069    0.109589   \n",
       "\n",
       "        lift  \n",
       "1   2.182917  \n",
       "2   2.182917  \n",
       "3   1.911760  \n",
       "4   1.911760  \n",
       "5   1.653762  \n",
       "6   1.653762  \n",
       "7   1.619866  \n",
       "8   1.619866  \n",
       "9   1.617141  \n",
       "10  1.617141  "
      ]
     },
     "metadata": {},
     "output_type": "display_data"
    }
   ],
   "source": [
    "# Top 10 rules by lift\n",
    "Top10_lift = rules_df.nlargest(10, 'lift').reset_index(drop=True)\n",
    "Top10_lift.index = np.arange(1, len(Top10_lift)+1)\n",
    "print(\"\\nTop 10 association rules by lift:\")\n",
    "display(Top10_lift)"
   ]
  }
 ],
 "metadata": {
  "kernelspec": {
   "display_name": "Python 3 (ipykernel)",
   "language": "python",
   "name": "python3"
  },
  "language_info": {
   "codemirror_mode": {
    "name": "ipython",
    "version": 3
   },
   "file_extension": ".py",
   "mimetype": "text/x-python",
   "name": "python",
   "nbconvert_exporter": "python",
   "pygments_lexer": "ipython3",
   "version": "3.13.2"
  }
 },
 "nbformat": 4,
 "nbformat_minor": 2
}
