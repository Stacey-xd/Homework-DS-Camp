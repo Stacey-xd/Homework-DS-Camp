{
 "cells": [
  {
   "cell_type": "code",
   "execution_count": null,
   "metadata": {},
   "outputs": [],
   "source": [
    "# Import libraries\n",
    "import numpy as np \n",
    "import pandas as pd \n",
    "import matplotlib.pyplot as plt\n",
    "\n",
    "%matplotlib inline\n",
    "\n",
    "from sklearn.datasets import load_diabetes\n",
    "from sklearn.model_selection import train_test_split\n",
    "from sklearn.preprocessing import StandardScaler, PolynomialFeatures\n",
    "from sklearn.linear_model import Ridge, Lasso, LinearRegression\n",
    "\n",
    "import warnings\n",
    "warnings.simplefilter(action='ignore', category=FutureWarning)"
   ]
  },
  {
   "cell_type": "code",
   "execution_count": 53,
   "metadata": {},
   "outputs": [],
   "source": [
    "# Feature scaling\n",
    "scaler = StandardScaler()\n",
    "X_train_scaled = scaler.fit_transform(X_train)\n",
    "X_test_scaled = scaler.transform(X_test)"
   ]
  },
  {
   "cell_type": "code",
   "execution_count": 54,
   "metadata": {},
   "outputs": [
    {
     "name": "stdout",
     "output_type": "stream",
     "text": [
      "Ridge Regression:\n",
      "\n",
      "R² Train Score = 0.7283077218031886\n",
      "R² Test Score = 0.7719666813787277\n",
      "Intercept (b): 22.19947229551455\n",
      "w = [-0.67131044  1.09044693  0.01220446  0.82499121 -2.19494643  2.44144196\n",
      "  0.24959582 -3.25189647  2.46251757 -2.01965279 -1.94447009  0.76915609\n",
      " -4.18656775]\n"
     ]
    }
   ],
   "source": [
    "# Ridge Regression\n",
    "ridge_reg = Ridge()\n",
    "ridge_reg.fit(X_train_scaled, y_train)\n",
    "\n",
    "print(\"Ridge Regression:\\n\")\n",
    "print(\"R² Train Score =\", ridge_reg.score(X_train_scaled, y_train))\n",
    "print(\"R² Test Score =\", ridge_reg.score(X_test_scaled, y_test))\n",
    "print(\"Intercept (b):\", ridge_reg.intercept_)\n",
    "print(\"w =\", ridge_reg.coef_)"
   ]
  },
  {
   "cell_type": "code",
   "execution_count": 55,
   "metadata": {},
   "outputs": [
    {
     "name": "stdout",
     "output_type": "stream",
     "text": [
      "Lasso Regression:\n",
      "\n",
      "R² Train Score = 0.6484632264428588\n",
      "R² Test Score = 0.6988965999719998\n",
      "Intercept (b): 22.19947229551455\n",
      "w = [-0.          0.         -0.          0.13477583 -0.          2.50516112\n",
      " -0.         -0.         -0.         -0.         -1.13242864  0.11140326\n",
      " -3.93116973]\n"
     ]
    }
   ],
   "source": [
    "# Lasso Regression\n",
    "lasso_reg = Lasso()\n",
    "lasso_reg.fit(X_train_scaled, y_train)\n",
    "\n",
    "print(\"Lasso Regression:\\n\")\n",
    "print(\"R² Train Score =\", lasso_reg.score(X_train_scaled, y_train))\n",
    "print(\"R² Test Score =\", lasso_reg.score(X_test_scaled, y_test))\n",
    "print(\"Intercept (b):\", lasso_reg.intercept_)\n",
    "print(\"w =\", lasso_reg.coef_)\n"
   ]
  },
  {
   "cell_type": "code",
   "execution_count": 56,
   "metadata": {},
   "outputs": [
    {
     "name": "stdout",
     "output_type": "stream",
     "text": [
      "Polynomial Regression:\n",
      "\n",
      "R² Train Score = 0.9340945463169705\n",
      "R² Test Score = 0.7289621058216513\n",
      "Intercept (b): 26.592210662783543\n",
      "w = [ 1.48756225e+01  1.51489883e+01  7.87910801e+00  1.31744572e-01\n",
      " -1.97224719e+00  3.30671734e+00 -1.93769156e+00 -2.64696064e+00\n",
      "  1.34243720e+00 -3.66672406e+00 -6.78772705e-01  2.16845317e+00\n",
      " -3.48792741e+00  3.58686912e-01  3.99581795e+01  1.86656480e+01\n",
      "  4.45501609e+00 -2.71151407e+00  1.79099288e+00 -2.56577581e+00\n",
      " -5.98193724e+00  1.07603221e+01 -2.43902321e+01  6.38605685e-01\n",
      " -1.62025105e-01  1.83656237e+00 -2.44345231e-01  1.64871144e-01\n",
      " -5.06735099e-01 -3.01143584e+00  4.23503450e-01 -2.21252881e-01\n",
      " -2.72915340e-03 -2.86663047e-01  1.80132199e+00 -6.16662499e-01\n",
      "  4.98123025e-01 -7.95342016e-01  2.32325430e+00 -3.20416454e-02\n",
      "  6.10933551e-01  1.05630768e+00  1.05778917e+00  2.95089318e+00\n",
      " -2.26214686e+00  8.08927751e-01 -6.47447689e-03  1.95149465e+00\n",
      " -5.57680989e-01  4.72433762e-01 -5.80047991e-01 -1.06406776e+00\n",
      "  1.75150208e-02  1.23442858e+00  5.35890524e-01 -3.57233509e-01\n",
      " -5.49669441e-01  4.30779441e-01 -6.29689986e-01 -6.09328763e-01\n",
      "  3.68544120e-03 -1.29912165e+00  4.07025744e+00 -3.19140272e+00\n",
      "  5.83121150e+00 -2.76501839e+00 -7.41481720e-01  1.10574184e+00\n",
      "  2.44698949e-01 -5.10540835e-01  4.70450343e-01 -1.60120294e+00\n",
      " -1.16488787e+00 -6.39627889e-01 -1.05866987e-01 -9.42220231e-01\n",
      "  2.47858847e-01 -1.25566008e-01  5.51266089e+00 -3.74231883e+00\n",
      "  5.64625371e-02 -1.92046388e+00 -1.16708134e+00  2.02039087e+00\n",
      " -2.30606456e+00 -1.28583261e+00 -5.94192181e-01  7.86249703e-02\n",
      "  1.85234203e+00 -1.24857560e+01  1.45367796e+01 -1.23901393e+00\n",
      "  9.62351498e-01 -2.50326877e+00 -2.42591154e+00  1.83010746e+00\n",
      " -2.57539762e+00 -8.04654592e-01  1.71550718e-01 -9.30120846e-02\n",
      "  3.75010982e-01 -4.54748757e-01 -3.14077130e-01  9.19279686e-01]\n"
     ]
    }
   ],
   "source": [
    "# Polynomial Regression (without regularization)\n",
    "poly = PolynomialFeatures(degree=2, include_bias=False)\n",
    "X_train_poly = poly.fit_transform(X_train_scaled)\n",
    "X_test_poly = poly.transform(X_test_scaled)\n",
    "\n",
    "poly_linreg = LinearRegression()\n",
    "poly_linreg.fit(X_train_poly, y_train)\n",
    "\n",
    "print(\"Polynomial Regression:\\n\")\n",
    "print(\"R² Train Score =\", poly_linreg.score(X_train_poly, y_train))\n",
    "print(\"R² Test Score =\", poly_linreg.score(X_test_poly, y_test))\n",
    "print(\"Intercept (b):\", poly_linreg.intercept_)\n",
    "print(\"w =\", poly_linreg.coef_)"
   ]
  },
  {
   "cell_type": "code",
   "execution_count": 57,
   "metadata": {},
   "outputs": [
    {
     "name": "stdout",
     "output_type": "stream",
     "text": [
      "Polynomial + Ridge:\n",
      "\n",
      "R² Train Score = 0.9304903236794289\n",
      "R² Test Score = 0.7839520771931483\n",
      "Intercept (b): 20.219220432859533\n",
      "w = [ 0.54486371  0.08658952  2.03604771  0.13458743 -1.74030254  3.17269947\n",
      " -1.42444717 -2.94631175  0.79813388 -0.83833618 -0.94511439  1.45295814\n",
      " -3.72533863  0.31925279 -0.14945979  0.9871653   3.72350551 -2.24310657\n",
      "  1.67062805 -1.54717058 -2.70255447 -1.86399227  0.04183893 -1.39012615\n",
      " -0.04740354  1.62187013  0.07132323  0.42658099 -0.25510016 -0.46858231\n",
      "  0.29835955 -0.35504559 -0.16095747  0.50079283  1.58059797 -0.37058867\n",
      " -0.46390081 -0.79387076  1.25723928 -0.18692229  2.23984417  1.2473779\n",
      "  0.91194778  2.55720761  0.21679737  0.40731214 -0.27306598  0.92932352\n",
      " -0.4467496   0.48262821 -0.4796666  -1.07556446  0.06433198  1.08625322\n",
      " -0.01836155  0.27319005 -0.2974776   0.20506917 -0.69538534 -0.60656778\n",
      " -0.2367358  -1.25605691  2.0284028  -0.60979689  1.12380788 -1.5917828\n",
      " -0.50186624  0.90560759  0.22444934 -0.6629493   0.39754569 -1.14704641\n",
      " -1.45502232 -0.83804407 -0.06935704 -0.90755599  0.38084246  0.15159618\n",
      "  3.47155253 -2.0202549  -0.18751495 -1.85725997 -1.11176912  1.88767674\n",
      " -1.49424543 -1.54272181 -0.48549224  0.08513573  1.49932343 -3.83360203\n",
      "  2.97985518 -0.24508574  0.05371037 -1.84720117 -0.56122424  1.94852199\n",
      " -1.00117318 -1.47197567  0.1295915  -0.21438122  0.16550587 -0.44631292\n",
      " -0.28569116  1.00242885]\n"
     ]
    }
   ],
   "source": [
    "# Polynomial + Ridge Regression\n",
    "poly_ridge = Ridge()\n",
    "poly_ridge.fit(X_train_poly, y_train)\n",
    "\n",
    "print(\"Polynomial + Ridge:\\n\")\n",
    "print(\"R² Train Score =\", poly_ridge.score(X_train_poly, y_train))\n",
    "print(\"R² Test Score =\", poly_ridge.score(X_test_poly, y_test))\n",
    "print(\"Intercept (b):\", poly_ridge.intercept_)\n",
    "print(\"w =\", poly_ridge.coef_)"
   ]
  },
  {
   "cell_type": "code",
   "execution_count": 58,
   "metadata": {},
   "outputs": [
    {
     "name": "stdout",
     "output_type": "stream",
     "text": [
      "Polynomial + Lasso:\n",
      "\n",
      "R² Train Score = 0.7472495405425619\n",
      "R² Test Score = 0.832251911606818\n",
      "Intercept (b): 21.03365580117334\n",
      "w = [-0.          0.         -0.          0.         -0.          1.60122002\n",
      " -0.         -0.         -0.         -0.         -0.50321988  0.\n",
      " -4.25158321 -0.10407391  0.         -0.          0.         -0.\n",
      " -0.         -0.          0.         -0.         -0.         -0.\n",
      " -0.         -0.          0.02355674 -0.         -0.         -0.\n",
      "  0.         -0.         -0.          0.         -0.         -0.\n",
      "  0.         -0.          0.          0.         -0.         -0.15301952\n",
      "  0.          0.         -0.         -0.          0.          0.\n",
      " -0.          0.24267076 -0.         -0.          0.         -0.\n",
      "  0.          0.          0.          0.         -0.         -0.\n",
      " -0.         -0.          0.         -0.         -0.         -0.\n",
      "  0.         -0.          0.90234117 -0.          0.         -0.\n",
      " -0.         -0.7173084   0.         -0.05212677  0.          0.\n",
      " -0.         -0.         -0.         -0.         -0.         -0.\n",
      "  0.          0.          0.         -0.          0.         -0.\n",
      " -0.          0.          0.         -0.         -0.          0.\n",
      "  0.         -0.          0.         -0.          0.         -0.22067959\n",
      " -0.          0.        ]\n"
     ]
    }
   ],
   "source": [
    "# Polynomial + Lasso Regression\n",
    "poly_lasso = Lasso()\n",
    "poly_lasso.fit(X_train_poly, y_train)\n",
    "\n",
    "print(\"Polynomial + Lasso:\\n\")\n",
    "print(\"R² Train Score =\", poly_lasso.score(X_train_poly, y_train))\n",
    "print(\"R² Test Score =\", poly_lasso.score(X_test_poly, y_test))\n",
    "print(\"Intercept (b):\", poly_lasso.intercept_)\n",
    "print(\"w =\", poly_lasso.coef_)"
   ]
  },
  {
   "cell_type": "code",
   "execution_count": 59,
   "metadata": {},
   "outputs": [
    {
     "name": "stdout",
     "output_type": "stream",
     "text": [
      "Summary of Regression Models:\n",
      "\n"
     ]
    },
    {
     "data": {
      "application/vnd.microsoft.datawrangler.viewer.v0+json": {
       "columns": [
        {
         "name": "index",
         "rawType": "int64",
         "type": "integer"
        },
        {
         "name": "Model",
         "rawType": "object",
         "type": "string"
        },
        {
         "name": "R² Train Score",
         "rawType": "float64",
         "type": "float"
        },
        {
         "name": "R² Test Score",
         "rawType": "float64",
         "type": "float"
        },
        {
         "name": "Comment",
         "rawType": "object",
         "type": "string"
        }
       ],
       "conversionMethod": "pd.DataFrame",
       "ref": "0b11aadf-0ac9-4e81-a15c-895dc25c4d2c",
       "rows": [
        [
         "0",
         "Ridge Regression",
         "0.7283",
         "0.772",
         "Baseline model with regularization, decent bias-variance tradeoff."
        ],
        [
         "1",
         "Lasso Regression",
         "0.6485",
         "0.6989",
         "Similar to Ridge but zeroes out some coefficients — sign of sparsity."
        ],
        [
         "2",
         "Polynomial Regression",
         "0.9341",
         "0.729",
         "Overfitting: high R² on train, poor on test."
        ],
        [
         "3",
         "Polynomial + Ridge",
         "0.9305",
         "0.784",
         "Slightly reduced overfitting, but not better than the baseline."
        ],
        [
         "4",
         "Polynomial + Lasso",
         "0.7472",
         "0.8323",
         "Best generalization among polynomial models."
        ]
       ],
       "shape": {
        "columns": 4,
        "rows": 5
       }
      },
      "text/html": [
       "<div>\n",
       "<style scoped>\n",
       "    .dataframe tbody tr th:only-of-type {\n",
       "        vertical-align: middle;\n",
       "    }\n",
       "\n",
       "    .dataframe tbody tr th {\n",
       "        vertical-align: top;\n",
       "    }\n",
       "\n",
       "    .dataframe thead th {\n",
       "        text-align: right;\n",
       "    }\n",
       "</style>\n",
       "<table border=\"1\" class=\"dataframe\">\n",
       "  <thead>\n",
       "    <tr style=\"text-align: right;\">\n",
       "      <th></th>\n",
       "      <th>Model</th>\n",
       "      <th>R² Train Score</th>\n",
       "      <th>R² Test Score</th>\n",
       "      <th>Comment</th>\n",
       "    </tr>\n",
       "  </thead>\n",
       "  <tbody>\n",
       "    <tr>\n",
       "      <th>0</th>\n",
       "      <td>Ridge Regression</td>\n",
       "      <td>0.7283</td>\n",
       "      <td>0.7720</td>\n",
       "      <td>Baseline model with regularization, decent bia...</td>\n",
       "    </tr>\n",
       "    <tr>\n",
       "      <th>1</th>\n",
       "      <td>Lasso Regression</td>\n",
       "      <td>0.6485</td>\n",
       "      <td>0.6989</td>\n",
       "      <td>Similar to Ridge but zeroes out some coefficie...</td>\n",
       "    </tr>\n",
       "    <tr>\n",
       "      <th>2</th>\n",
       "      <td>Polynomial Regression</td>\n",
       "      <td>0.9341</td>\n",
       "      <td>0.7290</td>\n",
       "      <td>Overfitting: high R² on train, poor on test.</td>\n",
       "    </tr>\n",
       "    <tr>\n",
       "      <th>3</th>\n",
       "      <td>Polynomial + Ridge</td>\n",
       "      <td>0.9305</td>\n",
       "      <td>0.7840</td>\n",
       "      <td>Slightly reduced overfitting, but not better t...</td>\n",
       "    </tr>\n",
       "    <tr>\n",
       "      <th>4</th>\n",
       "      <td>Polynomial + Lasso</td>\n",
       "      <td>0.7472</td>\n",
       "      <td>0.8323</td>\n",
       "      <td>Best generalization among polynomial models.</td>\n",
       "    </tr>\n",
       "  </tbody>\n",
       "</table>\n",
       "</div>"
      ],
      "text/plain": [
       "                   Model  R² Train Score  R² Test Score  \\\n",
       "0       Ridge Regression          0.7283         0.7720   \n",
       "1       Lasso Regression          0.6485         0.6989   \n",
       "2  Polynomial Regression          0.9341         0.7290   \n",
       "3     Polynomial + Ridge          0.9305         0.7840   \n",
       "4     Polynomial + Lasso          0.7472         0.8323   \n",
       "\n",
       "                                             Comment  \n",
       "0  Baseline model with regularization, decent bia...  \n",
       "1  Similar to Ridge but zeroes out some coefficie...  \n",
       "2       Overfitting: high R² on train, poor on test.  \n",
       "3  Slightly reduced overfitting, but not better t...  \n",
       "4       Best generalization among polynomial models.  "
      ]
     },
     "metadata": {},
     "output_type": "display_data"
    }
   ],
   "source": [
    "# Create the summary DataFrame\n",
    "summary_df = pd.DataFrame({\n",
    "    \"Model\": [\n",
    "        \"Ridge Regression\",\n",
    "        \"Lasso Regression\",\n",
    "        \"Polynomial Regression\",\n",
    "        \"Polynomial + Ridge\",\n",
    "        \"Polynomial + Lasso\"\n",
    "    ],\n",
    "    \"R² Train Score\": [\n",
    "        ridge_reg.score(X_train_scaled, y_train),\n",
    "        lasso_reg.score(X_train_scaled, y_train),\n",
    "        poly_linreg.score(X_train_poly, y_train),\n",
    "        poly_ridge.score(X_train_poly, y_train),\n",
    "        poly_lasso.score(X_train_poly, y_train),\n",
    "    ],\n",
    "    \"R² Test Score\": [\n",
    "        ridge_reg.score(X_test_scaled, y_test),\n",
    "        lasso_reg.score(X_test_scaled, y_test),\n",
    "        poly_linreg.score(X_test_poly, y_test),\n",
    "        poly_ridge.score(X_test_poly, y_test),\n",
    "        poly_lasso.score(X_test_poly, y_test),\n",
    "    ],\n",
    "    \"Comment\": [\n",
    "        \"Baseline model with regularization, decent bias-variance tradeoff.\",\n",
    "        \"Similar to Ridge but zeroes out some coefficients — sign of sparsity.\",\n",
    "        \"Overfitting: high R² on train, poor on test.\",\n",
    "        \"Slightly reduced overfitting, but not better than the baseline.\",\n",
    "        \"Best generalization among polynomial models.\"\n",
    "    ]\n",
    "})\n",
    "\n",
    "# Display the summary\n",
    "print(\"Summary of Regression Models:\\n\")\n",
    "display(summary_df.round(4))"
   ]
  },
  {
   "cell_type": "code",
   "execution_count": 60,
   "metadata": {},
   "outputs": [
    {
     "data": {
      "image/png": "[encoded data removed]",
      "text/plain": [
       "<Figure size 1000x500 with 1 Axes>"
      ]
     },
     "metadata": {},
     "output_type": "display_data"
    }
   ],
   "source": [
    "summary_df.plot(x=\"Model\", y=[\"R² Train Score\", \"R² Test Score\"], kind=\"bar\", figsize=(10,5), title=\"Model Comparison\")\n",
    "plt.ylabel(\"R² Score\")\n",
    "plt.grid(True)\n",
    "plt.xticks(rotation=15)\n",
    "plt.tight_layout()\n",
    "plt.show()"
   ]
  },
  {
   "cell_type": "code",
   "execution_count": null,
   "metadata": {},
   "outputs": [],
   "source": []
  }
 ],
 "metadata": {
  "kernelspec": {
   "display_name": "Python 3 (ipykernel)",
   "language": "python",
   "name": "python3"
  },
  "language_info": {
   "codemirror_mode": {
    "name": "ipython",
    "version": 3
   },
   "file_extension": ".py",
   "mimetype": "text/x-python",
   "name": "python",
   "nbconvert_exporter": "python",
   "pygments_lexer": "ipython3",
   "version": "3.13.2"
  }
 },
 "nbformat": 4,
 "nbformat_minor": 2
}
