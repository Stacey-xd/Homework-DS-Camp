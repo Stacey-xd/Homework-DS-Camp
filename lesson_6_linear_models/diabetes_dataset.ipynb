{
 "cells": [
  {
   "cell_type": "code",
   "execution_count": 2,
   "metadata": {},
   "outputs": [],
   "source": [
    "# Import libraries\n",
    "import numpy as np \n",
    "import pandas as pd \n",
    "import matplotlib.pyplot as plt\n",
    "\n",
    "%matplotlib inline\n",
    "\n",
    "from sklearn.datasets import load_diabetes\n",
    "from sklearn.model_selection import train_test_split\n",
    "from sklearn.preprocessing import StandardScaler, PolynomialFeatures\n",
    "from sklearn.linear_model import Ridge, Lasso, LinearRegression\n",
    "\n",
    "import warnings\n",
    "warnings.simplefilter(action='ignore', category=FutureWarning)"
   ]
  },
  {
   "cell_type": "code",
   "execution_count": 3,
   "metadata": {},
   "outputs": [
    {
     "name": "stdout",
     "output_type": "stream",
     "text": [
      "X_train.shape=  (331, 10)\n",
      "y_train.shape=  (331,)\n"
     ]
    }
   ],
   "source": [
    "#Importing data\n",
    "X, y = load_diabetes(return_X_y = True)\n",
    "\n",
    "X_train, X_test, y_train, y_test = train_test_split(X, y, random_state=2018)\n",
    "print ('X_train.shape= ',X_train.shape)\n",
    "print ('y_train.shape= ',y_train.shape)\n",
    "\n",
    "# Feature scaling\n",
    "scaler = StandardScaler()\n",
    "X_train_scaled = scaler.fit_transform(X_train)\n",
    "X_test_scaled = scaler.transform(X_test)"
   ]
  },
  {
   "cell_type": "code",
   "execution_count": 4,
   "metadata": {},
   "outputs": [
    {
     "name": "stdout",
     "output_type": "stream",
     "text": [
      "Ridge Regression:\n",
      "\n",
      "R² Train Score = 0.5389012620330784\n",
      "R² Test Score = 0.42512030341854057\n",
      "Intercept (b): 149.619335347432\n",
      "w = [  0.24211311 -10.29780123  25.46062003  13.49834302 -26.33676167\n",
      "  13.93572477   3.86882969   9.60743482  33.47150149   2.97862494]\n"
     ]
    }
   ],
   "source": [
    "# Ridge Regression\n",
    "ridge_reg = Ridge()\n",
    "ridge_reg.fit(X_train_scaled, y_train)\n",
    "\n",
    "print(\"Ridge Regression:\\n\")\n",
    "print(\"R² Train Score =\", ridge_reg.score(X_train_scaled, y_train))\n",
    "print(\"R² Test Score =\", ridge_reg.score(X_test_scaled, y_test))\n",
    "print(\"Intercept (b):\", ridge_reg.intercept_)\n",
    "print(\"w =\", ridge_reg.coef_)"
   ]
  },
  {
   "cell_type": "code",
   "execution_count": 5,
   "metadata": {},
   "outputs": [
    {
     "name": "stdout",
     "output_type": "stream",
     "text": [
      "Lasso Regression:\n",
      "\n",
      "R² Train Score = 0.5347772991751583\n",
      "R² Test Score = 0.41305696325496966\n",
      "Intercept (b): 149.619335347432\n",
      "w = [ 0.         -8.34824185 25.78820464 12.16576643 -3.02776066 -0.\n",
      " -8.30545786  0.96191687 25.79375225  2.03642487]\n"
     ]
    }
   ],
   "source": [
    "# Lasso Regression\n",
    "lasso_reg = Lasso()\n",
    "lasso_reg.fit(X_train_scaled, y_train)\n",
    "\n",
    "print(\"Lasso Regression:\\n\")\n",
    "print(\"R² Train Score =\", lasso_reg.score(X_train_scaled, y_train))\n",
    "print(\"R² Test Score =\", lasso_reg.score(X_test_scaled, y_test))\n",
    "print(\"Intercept (b):\", lasso_reg.intercept_)\n",
    "print(\"w =\", lasso_reg.coef_)\n"
   ]
  },
  {
   "cell_type": "code",
   "execution_count": 6,
   "metadata": {},
   "outputs": [
    {
     "name": "stdout",
     "output_type": "stream",
     "text": [
      "Polynomial Regression:\n",
      "\n",
      "R² Train Score = 0.6235477121925127\n",
      "R² Test Score = 0.32424917682316023\n",
      "Intercept (b): 53.090133142770526\n",
      "w = [ 2.44811190e+00 -1.01093225e+01  2.05624738e+01  1.42175788e+01\n",
      " -8.55458622e+02  7.50347429e+02  3.13057331e+02  3.07907919e+00\n",
      "  3.22167984e+02  1.94892189e+00  9.43375498e-01  9.40569618e+00\n",
      "  3.35827100e+00 -5.83826917e+00  5.46738879e-03 -8.87831221e+00\n",
      "  1.03206629e+01  1.33288847e+01  1.36154374e+00  6.09750465e+00\n",
      "  6.10837983e-02  1.34067101e-01  9.88154848e+00  2.04561405e+01\n",
      " -2.03395218e+01 -1.17108189e+01 -3.30086644e+00 -1.07450961e+01\n",
      " -2.28507754e+00  3.68608317e+00  4.75973679e+00 -4.32198787e+01\n",
      "  3.73034169e+01  1.91733750e+01  3.57325450e+00  1.77516491e+01\n",
      " -4.71839084e+00  2.56691344e+00  2.65673286e+01 -2.05568894e+01\n",
      " -1.12515027e+01 -8.43076615e+00 -4.90762223e+00 -3.55499671e+00\n",
      "  1.03291632e+02 -1.10778441e+02 -1.32620155e+02 -6.60393731e+01\n",
      "  2.83025660e+01 -1.36410308e+01  2.91146388e+01  7.63411441e+01\n",
      "  2.93701571e+01 -3.95523562e+01  3.13758653e+00  3.15713976e+01\n",
      "  2.53329254e+01  4.33772834e-01  1.45601516e+01  1.35378854e+01\n",
      "  2.94072675e+00  1.16289468e+01  5.27014552e+01  9.38107064e+00\n",
      "  3.95301181e+00]\n"
     ]
    }
   ],
   "source": [
    "# Polynomial Regression (without regularization)\n",
    "poly = PolynomialFeatures(degree=2, include_bias=False)\n",
    "X_train_poly = poly.fit_transform(X_train_scaled)\n",
    "X_test_poly = poly.transform(X_test_scaled)\n",
    "\n",
    "poly_linreg = LinearRegression()\n",
    "poly_linreg.fit(X_train_poly, y_train)\n",
    "\n",
    "print(\"Polynomial Regression:\\n\")\n",
    "print(\"R² Train Score =\", poly_linreg.score(X_train_poly, y_train))\n",
    "print(\"R² Test Score =\", poly_linreg.score(X_test_poly, y_test))\n",
    "print(\"Intercept (b):\", poly_linreg.intercept_)\n",
    "print(\"w =\", poly_linreg.coef_)"
   ]
  },
  {
   "cell_type": "code",
   "execution_count": 7,
   "metadata": {},
   "outputs": [
    {
     "name": "stdout",
     "output_type": "stream",
     "text": [
      "Polynomial + Ridge:\n",
      "\n",
      "R² Train Score = 0.6211038024034929\n",
      "R² Test Score = 0.3271300251661279\n",
      "Intercept (b): 134.63639858089948\n",
      "w = [  2.28711658  -9.58760979  20.51633069  13.81956955  -1.48095897\n",
      "  -2.57866201  -7.59435771   3.91893502  31.18686649   2.08723546\n",
      "   1.24075927  10.39733549   2.96303561  -5.16373276  -1.63465354\n",
      "  -7.2925297   11.40423088  13.50710805   0.93519537   5.78644833\n",
      "   0.05793144   0.80064547   9.59868282  11.69544223 -13.46743852\n",
      "  -7.31931873  -1.77255084  -8.87490564  -2.68319414   4.16936512\n",
      "   5.11956187 -29.66962614  25.50273631  12.333462     2.70252326\n",
      "   9.73369517  -4.02668304   2.33638076   7.9451893   -5.37548177\n",
      "  -2.55162465  -6.63237731   1.92887561  -3.85983908   7.22582857\n",
      "  11.10626264  -8.40837362 -12.05694565 -19.23885428  -8.35865103\n",
      "  -7.53972702  -8.85416783  -7.96356698  19.60121496   0.36913302\n",
      "  -4.27041488  -4.57872789   2.11685404  11.31056248   5.88802975\n",
      " -14.35986856   9.79505233   8.90379072   7.06635832   3.90085589]\n"
     ]
    }
   ],
   "source": [
    "# Polynomial + Ridge Regression\n",
    "poly_ridge = Ridge()\n",
    "poly_ridge.fit(X_train_poly, y_train)\n",
    "\n",
    "print(\"Polynomial + Ridge:\\n\")\n",
    "print(\"R² Train Score =\", poly_ridge.score(X_train_poly, y_train))\n",
    "print(\"R² Test Score =\", poly_ridge.score(X_test_poly, y_test))\n",
    "print(\"Intercept (b):\", poly_ridge.intercept_)\n",
    "print(\"w =\", poly_ridge.coef_)"
   ]
  },
  {
   "cell_type": "code",
   "execution_count": 8,
   "metadata": {},
   "outputs": [
    {
     "name": "stdout",
     "output_type": "stream",
     "text": [
      "Polynomial + Lasso:\n",
      "\n",
      "R² Train Score = 0.59544511303787\n",
      "R² Test Score = 0.38098189825658824\n",
      "Intercept (b): 136.75067682160685\n",
      "w = [ 1.90792036e+00 -7.24543742e+00  2.21492466e+01  1.19916399e+01\n",
      " -0.00000000e+00 -0.00000000e+00 -8.80516572e+00  0.00000000e+00\n",
      "  2.71565957e+01  2.23185561e+00  2.66186802e-01  9.14655413e+00\n",
      "  0.00000000e+00 -0.00000000e+00  0.00000000e+00 -0.00000000e+00\n",
      "  0.00000000e+00  0.00000000e+00  1.39826854e+00  2.96568392e+00\n",
      "  0.00000000e+00  0.00000000e+00  5.98262070e+00 -0.00000000e+00\n",
      " -4.31498629e+00  0.00000000e+00 -0.00000000e+00 -1.13067792e+00\n",
      " -2.66084339e+00  4.12512918e+00  4.84406898e+00 -4.81056717e-04\n",
      " -0.00000000e+00  0.00000000e+00  0.00000000e+00 -0.00000000e+00\n",
      " -2.94354081e-01  2.23074730e-01 -0.00000000e+00 -0.00000000e+00\n",
      "  1.21842406e+00 -2.63049992e+00  2.78721822e+00 -3.61974706e-01\n",
      " -0.00000000e+00 -0.00000000e+00 -0.00000000e+00 -2.98957867e+00\n",
      "  0.00000000e+00 -0.00000000e+00 -0.00000000e+00 -5.75306654e-01\n",
      "  0.00000000e+00  5.91596424e+00 -0.00000000e+00 -0.00000000e+00\n",
      " -8.02533380e-02  0.00000000e+00  4.92684480e-01  2.76103678e+00\n",
      " -4.18635941e+00 -0.00000000e+00  0.00000000e+00  0.00000000e+00\n",
      "  2.84152169e+00]\n"
     ]
    }
   ],
   "source": [
    "# Polynomial + Lasso Regression\n",
    "poly_lasso = Lasso()\n",
    "poly_lasso.fit(X_train_poly, y_train)\n",
    "\n",
    "print(\"Polynomial + Lasso:\\n\")\n",
    "print(\"R² Train Score =\", poly_lasso.score(X_train_poly, y_train))\n",
    "print(\"R² Test Score =\", poly_lasso.score(X_test_poly, y_test))\n",
    "print(\"Intercept (b):\", poly_lasso.intercept_)\n",
    "print(\"w =\", poly_lasso.coef_)"
   ]
  },
  {
   "cell_type": "code",
   "execution_count": 9,
   "metadata": {},
   "outputs": [
    {
     "name": "stdout",
     "output_type": "stream",
     "text": [
      "Summary of Regression Models:\n",
      "\n"
     ]
    },
    {
     "data": {
      "text/html": [
       "<div>\n",
       "<style scoped>\n",
       "    .dataframe tbody tr th:only-of-type {\n",
       "        vertical-align: middle;\n",
       "    }\n",
       "\n",
       "    .dataframe tbody tr th {\n",
       "        vertical-align: top;\n",
       "    }\n",
       "\n",
       "    .dataframe thead th {\n",
       "        text-align: right;\n",
       "    }\n",
       "</style>\n",
       "<table border=\"1\" class=\"dataframe\">\n",
       "  <thead>\n",
       "    <tr style=\"text-align: right;\">\n",
       "      <th></th>\n",
       "      <th>Model</th>\n",
       "      <th>R² Train Score</th>\n",
       "      <th>R² Test Score</th>\n",
       "      <th>Comment</th>\n",
       "    </tr>\n",
       "  </thead>\n",
       "  <tbody>\n",
       "    <tr>\n",
       "      <th>0</th>\n",
       "      <td>Ridge Regression</td>\n",
       "      <td>0.5389</td>\n",
       "      <td>0.4251</td>\n",
       "      <td>Baseline model with regularization, decent bia...</td>\n",
       "    </tr>\n",
       "    <tr>\n",
       "      <th>1</th>\n",
       "      <td>Lasso Regression</td>\n",
       "      <td>0.5348</td>\n",
       "      <td>0.4131</td>\n",
       "      <td>Similar to Ridge but zeroes out some coefficie...</td>\n",
       "    </tr>\n",
       "    <tr>\n",
       "      <th>2</th>\n",
       "      <td>Polynomial Regression</td>\n",
       "      <td>0.6235</td>\n",
       "      <td>0.3242</td>\n",
       "      <td>Overfitting: high R² on train, poor on test.</td>\n",
       "    </tr>\n",
       "    <tr>\n",
       "      <th>3</th>\n",
       "      <td>Polynomial + Ridge</td>\n",
       "      <td>0.6211</td>\n",
       "      <td>0.3271</td>\n",
       "      <td>Slightly reduced overfitting, but not better t...</td>\n",
       "    </tr>\n",
       "    <tr>\n",
       "      <th>4</th>\n",
       "      <td>Polynomial + Lasso</td>\n",
       "      <td>0.5954</td>\n",
       "      <td>0.3810</td>\n",
       "      <td>Best generalization among polynomial models.</td>\n",
       "    </tr>\n",
       "  </tbody>\n",
       "</table>\n",
       "</div>"
      ],
      "text/plain": [
       "                   Model  R² Train Score  R² Test Score  \\\n",
       "0       Ridge Regression          0.5389         0.4251   \n",
       "1       Lasso Regression          0.5348         0.4131   \n",
       "2  Polynomial Regression          0.6235         0.3242   \n",
       "3     Polynomial + Ridge          0.6211         0.3271   \n",
       "4     Polynomial + Lasso          0.5954         0.3810   \n",
       "\n",
       "                                             Comment  \n",
       "0  Baseline model with regularization, decent bia...  \n",
       "1  Similar to Ridge but zeroes out some coefficie...  \n",
       "2       Overfitting: high R² on train, poor on test.  \n",
       "3  Slightly reduced overfitting, but not better t...  \n",
       "4       Best generalization among polynomial models.  "
      ]
     },
     "metadata": {},
     "output_type": "display_data"
    }
   ],
   "source": [
    "# Create the summary DataFrame\n",
    "summary_df = pd.DataFrame({\n",
    "    \"Model\": [\n",
    "        \"Ridge Regression\",\n",
    "        \"Lasso Regression\",\n",
    "        \"Polynomial Regression\",\n",
    "        \"Polynomial + Ridge\",\n",
    "        \"Polynomial + Lasso\"\n",
    "    ],\n",
    "    \"R² Train Score\": [\n",
    "        ridge_reg.score(X_train_scaled, y_train),\n",
    "        lasso_reg.score(X_train_scaled, y_train),\n",
    "        poly_linreg.score(X_train_poly, y_train),\n",
    "        poly_ridge.score(X_train_poly, y_train),\n",
    "        poly_lasso.score(X_train_poly, y_train),\n",
    "    ],\n",
    "    \"R² Test Score\": [\n",
    "        ridge_reg.score(X_test_scaled, y_test),\n",
    "        lasso_reg.score(X_test_scaled, y_test),\n",
    "        poly_linreg.score(X_test_poly, y_test),\n",
    "        poly_ridge.score(X_test_poly, y_test),\n",
    "        poly_lasso.score(X_test_poly, y_test),\n",
    "    ],\n",
    "    \"Comment\": [\n",
    "        \"Baseline model with regularization, decent bias-variance tradeoff.\",\n",
    "        \"Similar to Ridge but zeroes out some coefficients — sign of sparsity.\",\n",
    "        \"Overfitting: high R² on train, poor on test.\",\n",
    "        \"Slightly reduced overfitting, but not better than the baseline.\",\n",
    "        \"Best generalization among polynomial models.\"\n",
    "    ]\n",
    "})\n",
    "\n",
    "# Display the summary\n",
    "print(\"Summary of Regression Models:\\n\")\n",
    "display(summary_df.round(4))"
   ]
  },
  {
   "cell_type": "code",
   "execution_count": 10,
   "metadata": {},
   "outputs": [
    {
     "data": {
      "image/png": "[encoded data removed]",
      "text/plain": [
       "<Figure size 1000x500 with 1 Axes>"
      ]
     },
     "metadata": {},
     "output_type": "display_data"
    }
   ],
   "source": [
    "summary_df.plot(x=\"Model\", y=[\"R² Train Score\", \"R² Test Score\"], kind=\"bar\", figsize=(10,5), title=\"Model Comparison\")\n",
    "plt.ylabel(\"R² Score\")\n",
    "plt.grid(True)\n",
    "plt.xticks(rotation=15)\n",
    "plt.tight_layout()\n",
    "plt.show()"
   ]
  },
  {
   "cell_type": "code",
   "execution_count": null,
   "metadata": {},
   "outputs": [],
   "source": []
  }
 ],
 "metadata": {
  "kernelspec": {
   "display_name": "Python 3",
   "language": "python",
   "name": "python3"
  },
  "language_info": {
   "codemirror_mode": {
    "name": "ipython",
    "version": 3
   },
   "file_extension": ".py",
   "mimetype": "text/x-python",
   "name": "python",
   "nbconvert_exporter": "python",
   "pygments_lexer": "ipython3",
   "version": "3.12.1"
  }
 },
 "nbformat": 4,
 "nbformat_minor": 2
}
